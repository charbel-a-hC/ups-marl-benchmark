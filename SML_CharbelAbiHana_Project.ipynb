{
 "cells": [
  {
   "cell_type": "markdown",
   "id": "b3e971ef",
   "metadata": {},
   "source": [
    "# Road Vehicles Platooning using Multi-Agent Reinforcement Learning\n",
    "**Statistical Machine Learning Project**\\\n",
    " **Prepared by: Charbel ABI HANA**"
   ]
  },
  {
   "cell_type": "markdown",
   "id": "0970c7d3",
   "metadata": {},
   "source": [
    "# Table of Contents\n"
   ]
  },
  {
   "cell_type": "markdown",
   "id": "044304a4",
   "metadata": {},
   "source": [
    "## Intro "
   ]
  },
  {
   "cell_type": "markdown",
   "id": "e0ae626e",
   "metadata": {},
   "source": [
    "## Reinforcement Learning"
   ]
  },
  {
   "cell_type": "markdown",
   "id": "ae3efaf2",
   "metadata": {},
   "source": [
    "## Multi-Agent Reinforcement Learning"
   ]
  },
  {
   "cell_type": "markdown",
   "id": "4bcf7fb6",
   "metadata": {},
   "source": [
    "## OpenAI GYM"
   ]
  },
  {
   "cell_type": "markdown",
   "id": "d633a30d",
   "metadata": {},
   "source": [
    "## Highway Environment"
   ]
  },
  {
   "cell_type": "markdown",
   "id": "caf17517",
   "metadata": {},
   "source": [
    "### Envrionment Overview\n",
    "\n",
    "![highway-env](data/highway-env.gif)\n",
    "<div class=\"alert alert-block alert-success\">\n",
    "<b>Highway-v0-environment:</b> Multilane highway environment where ego/agent vehicles navigate at high speeds while avoiding collisions with neighbouring vehicles.\n",
    "</div>"
   ]
  },
  {
   "cell_type": "markdown",
   "id": "480c59bb",
   "metadata": {},
   "source": [
    "![highway-env](data/merge-env.gif)\n",
    "<div class=\"alert alert-block alert-success\">\n",
    "<b>Merge-v0-environment:</b> ego/agent vehicles approach a merging lane as they are travelling on a highway. Merging lanes have other vehicles coming out to merge on highway and agents should avoid those cars. \n",
    "</div>"
   ]
  },
  {
   "cell_type": "markdown",
   "id": "c85198de",
   "metadata": {},
   "source": [
    "### Action Space"
   ]
  },
  {
   "cell_type": "markdown",
   "id": "bcdc50f2",
   "metadata": {},
   "source": [
    "<div class=\"alert alert-block alert-info\">\n",
    "<b>DiscreteMetaAction:</b> <br>\n",
    "    &emsp;<em>ACTIONS_ALL</em> = <br> \n",
    "    &emsp;{ <br>\n",
    "        &emsp;&emsp;0: 'LANE_LEFT',<br>\n",
    "        &emsp;&emsp;1: 'IDLE',<br>\n",
    "        &emsp;&emsp;2: 'LANE_RIGHT',<br>\n",
    "        &emsp;&emsp;3: 'FASTER',<br>\n",
    "        &emsp;&emsp;4: 'SLOWER'<br>\n",
    "    &emsp;}<br>\n",
    "</div>\n"
   ]
  },
  {
   "cell_type": "markdown",
   "id": "3ce5c03c",
   "metadata": {},
   "source": [
    "### Observation Space"
   ]
  },
  {
   "cell_type": "markdown",
   "id": "23c8723c",
   "metadata": {},
   "source": [
    "### Reward Function"
   ]
  },
  {
   "cell_type": "markdown",
   "id": "6eea540c",
   "metadata": {},
   "source": [
    "### Multi-Agent Layout"
   ]
  },
  {
   "cell_type": "markdown",
   "id": "e4083b4f",
   "metadata": {},
   "source": [
    "### IDQN - Independant Agents - Development"
   ]
  },
  {
   "cell_type": "code",
   "execution_count": 18,
   "id": "11deb561",
   "metadata": {},
   "outputs": [
    {
     "data": {
      "text/plain": [
       "['.git',\n",
       " '.github',\n",
       " '.gitignore',\n",
       " 'CITATION.cff',\n",
       " 'codecov.yml',\n",
       " 'docs',\n",
       " 'highway_env',\n",
       " 'LICENSE',\n",
       " 'pyproject.toml',\n",
       " 'README.md',\n",
       " 'scripts',\n",
       " 'setup.cfg',\n",
       " 'setup.py',\n",
       " 'tests']"
      ]
     },
     "execution_count": 18,
     "metadata": {},
     "output_type": "execute_result"
    }
   ],
   "source": [
    "import os\n",
    "\n",
    "os.listdir(\"highway-env\")"
   ]
  },
  {
   "cell_type": "code",
   "execution_count": 364,
   "id": "d4786e06",
   "metadata": {},
   "outputs": [],
   "source": [
    "# Environment\n",
    "import gym\n",
    "from gym import wrappers\n",
    "\n",
    "import highway_env\n",
    "\n",
    "# Agent\n",
    "from stable_baselines3 import DQN\n",
    "\n",
    "# Visualization utils\n",
    "import tensorboard\n",
    "import sys\n",
    "from tqdm.notebook import trange"
   ]
  },
  {
   "cell_type": "code",
   "execution_count": 3,
   "id": "e9d05ec4",
   "metadata": {},
   "outputs": [],
   "source": [
    "%load_ext tensorboard"
   ]
  },
  {
   "cell_type": "code",
   "execution_count": 4,
   "id": "000b3f81",
   "metadata": {},
   "outputs": [
    {
     "data": {
      "text/plain": [
       "Reusing TensorBoard on port 6006 (pid 6620), started 5:11:17 ago. (Use '!kill 6620' to kill it.)"
      ]
     },
     "metadata": {},
     "output_type": "display_data"
    },
    {
     "data": {
      "text/html": [
       "\n",
       "        <iframe\n",
       "            width=\"100%\"\n",
       "            height=\"800\"\n",
       "            src=\"http://localhost:6006\"\n",
       "            frameborder=\"0\"\n",
       "            allowfullscreen\n",
       "            \n",
       "        ></iframe>\n",
       "        "
      ],
      "text/plain": [
       "<IPython.lib.display.IFrame at 0x26f1028e908>"
      ]
     },
     "metadata": {},
     "output_type": "display_data"
    }
   ],
   "source": [
    "%tensorboard --logdir \"highway_dqn\""
   ]
  },
  {
   "cell_type": "code",
   "execution_count": 514,
   "id": "cdc98ba3",
   "metadata": {},
   "outputs": [],
   "source": [
    "import gym\n",
    "import highway_env\n",
    "import pfrl\n",
    "import numpy as np\n",
    "import torch\n",
    "import torch.nn as nn\n",
    "\n",
    "from typing import Tuple\n",
    "\n",
    "from pfrl import explorers, replay_buffers\n",
    "from pfrl.explorer import Explorer\n",
    "from pfrl.agents import DQN\n",
    "from pfrl.q_functions import DiscreteActionValueHead\n",
    "from pfrl.utils.contexts import evaluating"
   ]
  },
  {
   "cell_type": "code",
   "execution_count": 366,
   "id": "b099a6dc",
   "metadata": {},
   "outputs": [
    {
     "data": {
      "text/plain": [
       "[0]"
      ]
     },
     "execution_count": 366,
     "metadata": {},
     "output_type": "execute_result"
    }
   ],
   "source": [
    "env = gym.make('highway-v0')\n",
    "env.seed(0)"
   ]
  },
  {
   "cell_type": "code",
   "execution_count": 367,
   "id": "482c8cf3",
   "metadata": {},
   "outputs": [
    {
     "data": {
      "image/png": "[encoded data removed]",
      "text/plain": [
       "<Figure size 432x288 with 1 Axes>"
      ]
     },
     "metadata": {
      "needs_background": "light"
     },
     "output_type": "display_data"
    },
    {
     "data": {
      "image/png": "[encoded data removed]",
      "text/plain": [
       "<Figure size 432x288 with 2 Axes>"
      ]
     },
     "metadata": {
      "needs_background": "light"
     },
     "output_type": "display_data"
    }
   ],
   "source": [
    "env.configure({\"controlled_vehicles\": 2})  # Two controlled vehicles\n",
    "env.configure({\"vehicles_count\": 1})  # A single other vehicle, for the sake of visualisation\n",
    "env.reset()\n",
    "\n",
    "from matplotlib import pyplot as plt\n",
    "%matplotlib inline\n",
    "plt.imshow(env.render(mode=\"rgb_array\"))\n",
    "plt.title(\"Controlled vehicles are in green\")\n",
    "plt.show()\n",
    "\n",
    "env.configure({\n",
    "  \"action\": {\n",
    "    \"type\": \"MultiAgentAction\",\n",
    "    \"action_config\": {\n",
    "      \"type\": \"DiscreteMetaAction\",\n",
    "    }\n",
    "  }\n",
    "})\n",
    "env.reset()\n",
    "\n",
    "_, (ax1, ax2) = plt.subplots(nrows=2)\n",
    "ax1.imshow(env.render(mode=\"rgb_array\"))\n",
    "ax1.set_title(\"Initial state\")\n",
    "\n",
    "# Make the first vehicle change to the left lane, and the second one to the right\n",
    "action_1, action_2 = 0, 2  # See highway_env.envs.common.action.DiscreteMetaAction.ACTIONS_ALL\n",
    "env.step((action_1,action_2))\n",
    "\n",
    "ax2.imshow(env.render(mode=\"rgb_array\"))\n",
    "ax2.set_title(\"After sending actions to each vehicle\")\n",
    "plt.show()"
   ]
  },
  {
   "cell_type": "code",
   "execution_count": 507,
   "id": "61a675a6",
   "metadata": {},
   "outputs": [],
   "source": [
    "class Agent(object):\n",
    "    def __init__(self):\n",
    "        if torch.cuda.is_available():\n",
    "            device = \"cuda:0\"\n",
    "        else:\n",
    "            device = \"cpu\"\n",
    "        self.device = torch.device(device)\n",
    "\n",
    "    def act(self, observation):\n",
    "        raise NotImplementedError\n",
    "\n",
    "    def observe(self, observation, reward, done, info):\n",
    "        raise NotImplementedError\n",
    "\n",
    "\n",
    "class IndependentAgent(Agent):\n",
    "    def __init__(self, config, obs_act):\n",
    "        super().__init__()\n",
    "        self.config = config\n",
    "        self.agents = dict()\n",
    "\n",
    "    def act(self, observation):\n",
    "        acts = dict()\n",
    "        for agent_id in observation.keys():\n",
    "            acts[agent_id] = self.agents[agent_id].act(observation[agent_id])\n",
    "        return acts\n",
    "\n",
    "    def observe(self, observation, reward, done, info):\n",
    "        for agent_id in observation.keys():\n",
    "            self.agents[agent_id].observe(observation[agent_id], reward[agent_id], done, info)\n",
    "            if done:\n",
    "                if info['eps'] % 100 == 0:\n",
    "                    self.agents[agent_id].save(self.config['log_dir']+'agent_'+agent_id)"
   ]
  },
  {
   "cell_type": "code",
   "execution_count": 515,
   "id": "c0378a57",
   "metadata": {},
   "outputs": [],
   "source": [
    "class DQNAgent(Agent):\n",
    "    def __init__(self, config, act_space, model):\n",
    "        super().__init__()\n",
    "\n",
    "        self.model = model\n",
    "        self.optimizer = torch.optim.Adam(self.model.parameters())\n",
    "        replay_buffer = replay_buffers.ReplayBuffer(10000)\n",
    "\n",
    "\n",
    "        explorer = explorers.LinearDecayEpsilonGreedy(\n",
    "            config['EPS_START'],\n",
    "            config['EPS_END'],\n",
    "            config['steps'],\n",
    "            lambda: np.random.randint(act_space),\n",
    "        )\n",
    "\n",
    "        self.agent = DQN(self.model, self.optimizer, replay_buffer, config['GAMMA'], explorer,\n",
    "                         gpu=self.device.index,\n",
    "                         minibatch_size=config['BATCH_SIZE'], replay_start_size=config['BATCH_SIZE'],\n",
    "                         phi=lambda x: np.asarray(x, dtype=np.float32),\n",
    "                         target_update_interval=config['TARGET_UPDATE'])\n",
    "\n",
    "    def act(self, observation):\n",
    "        return self.agent.act(observation)\n",
    "\n",
    "    def observe(self, observation, reward, done, info):\n",
    "        self.agent.observe(observation, reward, done, False)\n",
    "\n",
    "    def save(self, path):\n",
    "        torch.save({\n",
    "            'model_state_dict': self.model.state_dict(),\n",
    "            'optimizer_state_dict': self.optimizer.state_dict(),\n",
    "        }, path+'.pt')"
   ]
  },
  {
   "cell_type": "code",
   "execution_count": 516,
   "id": "5166fc1f",
   "metadata": {},
   "outputs": [],
   "source": [
    "class IDQN(IndependentAgent):\n",
    "    def __init__(self, config, obs_act):\n",
    "        super().__init__(config, obs_act)\n",
    "        for key in obs_act:\n",
    "            obs_space = obs_act[key][0]\n",
    "            act_space = obs_act[key][1]\n",
    "\n",
    "            def conv2d_size_out(size, kernel_size=2, stride=1):\n",
    "                return (size - (kernel_size - 1) - 1) // stride + 1\n",
    "\n",
    "            h = conv2d_size_out(obs_space[1])\n",
    "            w = conv2d_size_out(obs_space[2])\n",
    "\n",
    "            model = nn.Sequential(\n",
    "                nn.Conv2d(obs_space[0], 64, kernel_size=(2, 2)),\n",
    "                nn.ReLU(),\n",
    "                nn.Flatten(),\n",
    "                nn.Linear(h * w * 64, 64),\n",
    "                nn.ReLU(),\n",
    "                nn.Linear(64, 64),\n",
    "                nn.ReLU(),\n",
    "                nn.Linear(64, act_space),\n",
    "                DiscreteActionValueHead()\n",
    "            )\n",
    "\n",
    "            self.agents[key] = DQNAgent(config, act_space, model)"
   ]
  },
  {
   "cell_type": "code",
   "execution_count": 517,
   "id": "7addd52b",
   "metadata": {},
   "outputs": [],
   "source": [
    "def develop_observations(env_obs: Tuple[np.ndarray]):\n",
    "    return {f\"vehicle_{i}\":obs[np.newaxis] for i, obs in enumerate(env_obs)}"
   ]
  },
  {
   "cell_type": "code",
   "execution_count": 518,
   "id": "d3fa8844",
   "metadata": {},
   "outputs": [],
   "source": [
    "config = {'BATCH_SIZE': 32,\n",
    "'GAMMA': 0.99,\n",
    "'EPS_START': 1.0,\n",
    "'EPS_END': 0.0,\n",
    "'TARGET_UPDATE': 500,\n",
    "'steps': 1.0,\n",
    "'log_dir': 'idqn_logs/'}"
   ]
  },
  {
   "cell_type": "code",
   "execution_count": 519,
   "id": "8db68840",
   "metadata": {},
   "outputs": [
    {
     "data": {
      "text/plain": [
       "{'vehicle_0': ((1, 5, 5), 5),\n",
       " 'vehicle_1': ((1, 5, 5), 5),\n",
       " 'vehicle_2': ((1, 5, 5), 5)}"
      ]
     },
     "execution_count": 519,
     "metadata": {},
     "output_type": "execute_result"
    }
   ],
   "source": [
    "controlled_vehicles = 3\n",
    "actions = 5\n",
    "observation_space_batched = (1, 5, 5)\n",
    "obs_act = {f\"vehicle_{i}\":(observation_space_batched, actions) for i in range(controlled_vehicles)}\n",
    "obs_act"
   ]
  },
  {
   "cell_type": "code",
   "execution_count": 520,
   "id": "8b794122",
   "metadata": {},
   "outputs": [],
   "source": [
    "alg = IDQN(config= config, obs_act= obs_act)"
   ]
  },
  {
   "cell_type": "code",
   "execution_count": 521,
   "id": "14255025",
   "metadata": {},
   "outputs": [],
   "source": [
    "# Multi-agent environment configuration\n",
    "env.configure({\n",
    "  \"controlled_vehicles\": controlled_vehicles,\n",
    "  \"observation\": {\n",
    "    \"type\": \"MultiAgentObservation\",\n",
    "    \"observation_config\": {\n",
    "      \"type\": \"Kinematics\",\n",
    "    }\n",
    "  },\n",
    "  \"action\": {\n",
    "    \"type\": \"MultiAgentAction\",\n",
    "    \"action_config\": {\n",
    "      \"type\": \"DiscreteMetaAction\",\n",
    "    }\n",
    "  }\n",
    "})"
   ]
  },
  {
   "cell_type": "code",
   "execution_count": 537,
   "id": "64404ac7",
   "metadata": {},
   "outputs": [],
   "source": [
    "# 100 training episodes\n",
    "for i in range(100):\n",
    "    obs = env.reset()\n",
    "    developed_obs = develop_observations(obs)\n",
    "    done = False\n",
    "    while not done:\n",
    "        # Dispatch the observations to the model to get the tuple of actions\n",
    "        action = alg.act(developed_obs)\n",
    "        full_action = (action_disc for _, action_disc in action.items())\n",
    "        # Execute the actions\n",
    "        next_obs_full = []\n",
    "        rewards = {}\n",
    "\n",
    "        infos = {\"speed\": [], \"crashed\": [], \"action\": [], \"cost\": [], \"eps\": 0}\n",
    "        for i, action in enumerate(full_action):\n",
    "            action_list = [1 for _ in range(controlled_vehicles)]\n",
    "            action_list[i] = action\n",
    "            next_obs, reward, done, info = env.step(tuple(action_list))\n",
    "            rewards[f\"vehicle_{i}\"] = reward\n",
    "            infos[\"speed\"].append(info[\"speed\"])\n",
    "            infos[\"crashed\"].append(info[\"crashed\"])\n",
    "            infos[\"action\"].append(info[\"action\"][0])\n",
    "            infos[\"cost\"].append(info[\"cost\"])\n",
    "        infos[\"eps\"] += 1\n",
    "        next_obs_full.append(next_obs[i])\n",
    "        next_obs_full = develop_observations(tuple(next_obs_full))\n",
    "        # Update the model with the transitions observed by each agent\n",
    "        alg.observe(next_obs_full, rewards, done, infos)"
   ]
  },
  {
   "cell_type": "code",
   "execution_count": 522,
   "id": "3f4cf01e",
   "metadata": {},
   "outputs": [
    {
     "name": "stdout",
     "output_type": "stream",
     "text": [
      "[[1. 1. 1.]]\n",
      "[[1. 1. 1.]]\n",
      "[[1. 1. 1.]]\n"
     ]
    }
   ],
   "source": []
  },
  {
   "cell_type": "code",
   "execution_count": 500,
   "id": "f88362ac",
   "metadata": {},
   "outputs": [],
   "source": [
    "b = list(a)\n",
    "b.insert(0, 0)"
   ]
  },
  {
   "cell_type": "code",
   "execution_count": 533,
   "id": "8f299381",
   "metadata": {},
   "outputs": [],
   "source": [
    "b = {}"
   ]
  },
  {
   "cell_type": "code",
   "execution_count": 534,
   "id": "685d9873",
   "metadata": {},
   "outputs": [
    {
     "ename": "KeyError",
     "evalue": "'A'",
     "output_type": "error",
     "traceback": [
      "\u001b[1;31m---------------------------------------------------------------------------\u001b[0m",
      "\u001b[1;31mKeyError\u001b[0m                                  Traceback (most recent call last)",
      "\u001b[1;32m~\\AppData\\Local\\Temp\\ipykernel_26356\\1595566269.py\u001b[0m in \u001b[0;36m<module>\u001b[1;34m\u001b[0m\n\u001b[1;32m----> 1\u001b[1;33m \u001b[0mb\u001b[0m\u001b[1;33m[\u001b[0m\u001b[1;34m\"A\"\u001b[0m\u001b[1;33m]\u001b[0m \u001b[1;33m=\u001b[0m \u001b[0mb\u001b[0m\u001b[1;33m[\u001b[0m\u001b[1;34m\"A\"\u001b[0m\u001b[1;33m]\u001b[0m \u001b[1;33m+\u001b[0m \u001b[1;36m1\u001b[0m\u001b[1;33m\u001b[0m\u001b[1;33m\u001b[0m\u001b[0m\n\u001b[0m",
      "\u001b[1;31mKeyError\u001b[0m: 'A'"
     ]
    }
   ],
   "source": [
    "b[\"A\"] = b[\"A\"] + 1"
   ]
  },
  {
   "cell_type": "code",
   "execution_count": null,
   "id": "6ad89a4f",
   "metadata": {},
   "outputs": [],
   "source": []
  }
 ],
 "metadata": {
  "kernelspec": {
   "display_name": "marl",
   "language": "python",
   "name": "marl"
  },
  "language_info": {
   "codemirror_mode": {
    "name": "ipython",
    "version": 3
   },
   "file_extension": ".py",
   "mimetype": "text/x-python",
   "name": "python",
   "nbconvert_exporter": "python",
   "pygments_lexer": "ipython3",
   "version": "3.7.13"
  },
  "toc": {
   "base_numbering": 1,
   "nav_menu": {
    "height": "111px",
    "width": "215px"
   },
   "number_sections": true,
   "sideBar": true,
   "skip_h1_title": true,
   "title_cell": "Table of Contents",
   "title_sidebar": "Contents",
   "toc_cell": false,
   "toc_position": {
    "height": "calc(100% - 180px)",
    "left": "10px",
    "top": "150px",
    "width": "384px"
   },
   "toc_section_display": true,
   "toc_window_display": true
  }
 },
 "nbformat": 4,
 "nbformat_minor": 5
}
