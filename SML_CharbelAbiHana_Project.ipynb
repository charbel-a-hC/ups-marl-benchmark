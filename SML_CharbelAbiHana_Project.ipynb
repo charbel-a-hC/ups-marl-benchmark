{
 "cells": [
  {
   "cell_type": "markdown",
   "id": "b3e971ef",
   "metadata": {},
   "source": [
    "# Road Vehicles Platooning using Multi-Agent Reinforcement Learning\n",
    "**Statistical Machine Learning Project**\\\n",
    " **Prepared by: Charbel ABI HANA**"
   ]
  },
  {
   "cell_type": "markdown",
   "id": "0970c7d3",
   "metadata": {},
   "source": [
    "# Table of Contents\n"
   ]
  },
  {
   "cell_type": "markdown",
   "id": "044304a4",
   "metadata": {},
   "source": [
    "## Intro "
   ]
  },
  {
   "cell_type": "markdown",
   "id": "e0ae626e",
   "metadata": {},
   "source": [
    "## Reinforcement Learning"
   ]
  },
  {
   "cell_type": "markdown",
   "id": "ae3efaf2",
   "metadata": {},
   "source": [
    "## Multi-Agent Reinforcement Learning"
   ]
  },
  {
   "cell_type": "markdown",
   "id": "4bcf7fb6",
   "metadata": {},
   "source": [
    "## OpenAI GYM"
   ]
  },
  {
   "cell_type": "markdown",
   "id": "d633a30d",
   "metadata": {},
   "source": [
    "## Highway Environment"
   ]
  },
  {
   "cell_type": "markdown",
   "id": "caf17517",
   "metadata": {},
   "source": [
    "### Envrionment Overview\n",
    "\n",
    "![highway-env](data/highway-env.gif)\n",
    "<div class=\"alert alert-block alert-success\">\n",
    "<b>Highway-v0-environment:</b> Multilane highway environment where ego/agent vehicles navigate at high speeds while avoiding collisions with neighbouring vehicles.\n",
    "</div>"
   ]
  },
  {
   "cell_type": "markdown",
   "id": "480c59bb",
   "metadata": {},
   "source": [
    "![highway-env](data/merge-env.gif)\n",
    "<div class=\"alert alert-block alert-success\">\n",
    "<b>Merge-v0-environment:</b> ego/agent vehicles approach a merging lane as they are travelling on a highway. Merging lanes have other vehicles coming out to merge on highway and agents should avoid those cars. \n",
    "</div>"
   ]
  },
  {
   "cell_type": "markdown",
   "id": "c85198de",
   "metadata": {},
   "source": [
    "### Action Space"
   ]
  },
  {
   "cell_type": "markdown",
   "id": "3ce5c03c",
   "metadata": {},
   "source": [
    "### Observation Space"
   ]
  },
  {
   "cell_type": "markdown",
   "id": "23c8723c",
   "metadata": {},
   "source": [
    "### Reward Function"
   ]
  },
  {
   "cell_type": "markdown",
   "id": "6eea540c",
   "metadata": {},
   "source": [
    "### Multi-Agent Layout"
   ]
  },
  {
   "cell_type": "markdown",
   "id": "e4083b4f",
   "metadata": {},
   "source": [
    "### IDQN - Independant Agents - Development"
   ]
  },
  {
   "cell_type": "code",
   "execution_count": 18,
   "id": "11deb561",
   "metadata": {},
   "outputs": [
    {
     "data": {
      "text/plain": [
       "['.git',\n",
       " '.github',\n",
       " '.gitignore',\n",
       " 'CITATION.cff',\n",
       " 'codecov.yml',\n",
       " 'docs',\n",
       " 'highway_env',\n",
       " 'LICENSE',\n",
       " 'pyproject.toml',\n",
       " 'README.md',\n",
       " 'scripts',\n",
       " 'setup.cfg',\n",
       " 'setup.py',\n",
       " 'tests']"
      ]
     },
     "execution_count": 18,
     "metadata": {},
     "output_type": "execute_result"
    }
   ],
   "source": [
    "import os\n",
    "\n",
    "os.listdir(\"highway-env\")"
   ]
  },
  {
   "cell_type": "code",
   "execution_count": 1,
   "id": "d4786e06",
   "metadata": {},
   "outputs": [
    {
     "name": "stdout",
     "output_type": "stream",
     "text": [
      "['C:\\\\Users\\\\Charb\\\\Desktop\\\\Data\\\\Paris-Saclay\\\\ups-sml-marl', 'C:\\\\Users\\\\Charb\\\\Desktop\\\\SidewalkDetection-main', 'C:\\\\Users\\\\Charb\\\\anaconda3\\\\envs\\\\marl\\\\python37.zip', 'C:\\\\Users\\\\Charb\\\\anaconda3\\\\envs\\\\marl\\\\DLLs', 'C:\\\\Users\\\\Charb\\\\anaconda3\\\\envs\\\\marl\\\\lib', 'C:\\\\Users\\\\Charb\\\\anaconda3\\\\envs\\\\marl', '', 'C:\\\\Users\\\\Charb\\\\anaconda3\\\\envs\\\\marl\\\\lib\\\\site-packages', 'C:\\\\Users\\\\Charb\\\\anaconda3\\\\envs\\\\marl\\\\lib\\\\site-packages\\\\win32', 'C:\\\\Users\\\\Charb\\\\anaconda3\\\\envs\\\\marl\\\\lib\\\\site-packages\\\\win32\\\\lib', 'C:\\\\Users\\\\Charb\\\\anaconda3\\\\envs\\\\marl\\\\lib\\\\site-packages\\\\Pythonwin', 'C:\\\\Users\\\\Charb\\\\anaconda3\\\\envs\\\\marl\\\\lib\\\\site-packages\\\\IPython\\\\extensions', 'C:\\\\Users\\\\Charb\\\\.ipython']\n"
     ]
    }
   ],
   "source": [
    "# Environment\n",
    "import gym\n",
    "from gym import wrappers\n",
    "\n",
    "import highway_env\n",
    "\n",
    "# Agent\n",
    "from stable_baselines3 import DQN\n",
    "\n",
    "# Visualization utils\n",
    "import tensorboard\n",
    "import sys\n",
    "from tqdm.notebook import trange\n",
    "\n",
    "print(sys.path)\n",
    "#sys.path.insert(0, \"highway-env\")\n",
    "#from scripts.utils import record_videos, show_videos"
   ]
  },
  {
   "cell_type": "code",
   "execution_count": 2,
   "id": "d6793250",
   "metadata": {},
   "outputs": [],
   "source": [
    "%load_ext tensorboard"
   ]
  },
  {
   "cell_type": "code",
   "execution_count": 3,
   "id": "7aaf3fbb",
   "metadata": {},
   "outputs": [
    {
     "data": {
      "text/plain": [
       "Reusing TensorBoard on port 6006 (pid 6620), started 1:18:11 ago. (Use '!kill 6620' to kill it.)"
      ]
     },
     "metadata": {},
     "output_type": "display_data"
    },
    {
     "data": {
      "text/html": [
       "\n",
       "        <iframe\n",
       "            width=\"100%\"\n",
       "            height=\"800\"\n",
       "            src=\"http://localhost:6006\"\n",
       "            frameborder=\"0\"\n",
       "            allowfullscreen\n",
       "            \n",
       "        ></iframe>\n",
       "        "
      ],
      "text/plain": [
       "<IPython.lib.display.IFrame at 0x257d7b43b48>"
      ]
     },
     "metadata": {},
     "output_type": "display_data"
    }
   ],
   "source": [
    "%tensorboard --logdir \"highway_dqn\""
   ]
  },
  {
   "cell_type": "code",
   "execution_count": 4,
   "id": "eac9666b",
   "metadata": {},
   "outputs": [
    {
     "name": "stdout",
     "output_type": "stream",
     "text": [
      "Using cpu device\n",
      "Creating environment from the given name 'highway-fast-v0'\n",
      "Wrapping the env with a `Monitor` wrapper\n",
      "Wrapping the env in a DummyVecEnv.\n"
     ]
    },
    {
     "ename": "ImportError",
     "evalue": "Trying to log data to tensorboard but tensorboard is not installed.",
     "output_type": "error",
     "traceback": [
      "\u001b[1;31m---------------------------------------------------------------------------\u001b[0m",
      "\u001b[1;31mImportError\u001b[0m                               Traceback (most recent call last)",
      "\u001b[1;32m~\\AppData\\Local\\Temp\\ipykernel_34084\\2188803449.py\u001b[0m in \u001b[0;36m<module>\u001b[1;34m\u001b[0m\n\u001b[0;32m     12\u001b[0m                 \u001b[0mverbose\u001b[0m\u001b[1;33m=\u001b[0m\u001b[1;36m1\u001b[0m\u001b[1;33m,\u001b[0m\u001b[1;33m\u001b[0m\u001b[1;33m\u001b[0m\u001b[0m\n\u001b[0;32m     13\u001b[0m                 tensorboard_log=\"highway_dqn/\")\n\u001b[1;32m---> 14\u001b[1;33m \u001b[0mmodel\u001b[0m\u001b[1;33m.\u001b[0m\u001b[0mlearn\u001b[0m\u001b[1;33m(\u001b[0m\u001b[0mint\u001b[0m\u001b[1;33m(\u001b[0m\u001b[1;36m2e4\u001b[0m\u001b[1;33m)\u001b[0m\u001b[1;33m)\u001b[0m\u001b[1;33m\u001b[0m\u001b[1;33m\u001b[0m\u001b[0m\n\u001b[0m",
      "\u001b[1;32m~\\anaconda3\\envs\\marl\\lib\\site-packages\\stable_baselines3\\dqn\\dqn.py\u001b[0m in \u001b[0;36mlearn\u001b[1;34m(self, total_timesteps, callback, log_interval, eval_env, eval_freq, n_eval_episodes, tb_log_name, eval_log_path, reset_num_timesteps)\u001b[0m\n\u001b[0;32m    271\u001b[0m             \u001b[0mtb_log_name\u001b[0m\u001b[1;33m=\u001b[0m\u001b[0mtb_log_name\u001b[0m\u001b[1;33m,\u001b[0m\u001b[1;33m\u001b[0m\u001b[1;33m\u001b[0m\u001b[0m\n\u001b[0;32m    272\u001b[0m             \u001b[0meval_log_path\u001b[0m\u001b[1;33m=\u001b[0m\u001b[0meval_log_path\u001b[0m\u001b[1;33m,\u001b[0m\u001b[1;33m\u001b[0m\u001b[1;33m\u001b[0m\u001b[0m\n\u001b[1;32m--> 273\u001b[1;33m             \u001b[0mreset_num_timesteps\u001b[0m\u001b[1;33m=\u001b[0m\u001b[0mreset_num_timesteps\u001b[0m\u001b[1;33m,\u001b[0m\u001b[1;33m\u001b[0m\u001b[1;33m\u001b[0m\u001b[0m\n\u001b[0m\u001b[0;32m    274\u001b[0m         )\n\u001b[0;32m    275\u001b[0m \u001b[1;33m\u001b[0m\u001b[0m\n",
      "\u001b[1;32m~\\anaconda3\\envs\\marl\\lib\\site-packages\\stable_baselines3\\common\\off_policy_algorithm.py\u001b[0m in \u001b[0;36mlearn\u001b[1;34m(self, total_timesteps, callback, log_interval, eval_env, eval_freq, n_eval_episodes, tb_log_name, eval_log_path, reset_num_timesteps)\u001b[0m\n\u001b[0;32m    336\u001b[0m             \u001b[0meval_log_path\u001b[0m\u001b[1;33m,\u001b[0m\u001b[1;33m\u001b[0m\u001b[1;33m\u001b[0m\u001b[0m\n\u001b[0;32m    337\u001b[0m             \u001b[0mreset_num_timesteps\u001b[0m\u001b[1;33m,\u001b[0m\u001b[1;33m\u001b[0m\u001b[1;33m\u001b[0m\u001b[0m\n\u001b[1;32m--> 338\u001b[1;33m             \u001b[0mtb_log_name\u001b[0m\u001b[1;33m,\u001b[0m\u001b[1;33m\u001b[0m\u001b[1;33m\u001b[0m\u001b[0m\n\u001b[0m\u001b[0;32m    339\u001b[0m         )\n\u001b[0;32m    340\u001b[0m \u001b[1;33m\u001b[0m\u001b[0m\n",
      "\u001b[1;32m~\\anaconda3\\envs\\marl\\lib\\site-packages\\stable_baselines3\\common\\off_policy_algorithm.py\u001b[0m in \u001b[0;36m_setup_learn\u001b[1;34m(self, total_timesteps, eval_env, callback, eval_freq, n_eval_episodes, log_path, reset_num_timesteps, tb_log_name)\u001b[0m\n\u001b[0;32m    312\u001b[0m             \u001b[0mlog_path\u001b[0m\u001b[1;33m,\u001b[0m\u001b[1;33m\u001b[0m\u001b[1;33m\u001b[0m\u001b[0m\n\u001b[0;32m    313\u001b[0m             \u001b[0mreset_num_timesteps\u001b[0m\u001b[1;33m,\u001b[0m\u001b[1;33m\u001b[0m\u001b[1;33m\u001b[0m\u001b[0m\n\u001b[1;32m--> 314\u001b[1;33m             \u001b[0mtb_log_name\u001b[0m\u001b[1;33m,\u001b[0m\u001b[1;33m\u001b[0m\u001b[1;33m\u001b[0m\u001b[0m\n\u001b[0m\u001b[0;32m    315\u001b[0m         )\n\u001b[0;32m    316\u001b[0m \u001b[1;33m\u001b[0m\u001b[0m\n",
      "\u001b[1;32m~\\anaconda3\\envs\\marl\\lib\\site-packages\\stable_baselines3\\common\\base_class.py\u001b[0m in \u001b[0;36m_setup_learn\u001b[1;34m(self, total_timesteps, eval_env, callback, eval_freq, n_eval_episodes, log_path, reset_num_timesteps, tb_log_name)\u001b[0m\n\u001b[0;32m    452\u001b[0m         \u001b[1;31m# Configure logger's outputs if no logger was passed\u001b[0m\u001b[1;33m\u001b[0m\u001b[1;33m\u001b[0m\u001b[1;33m\u001b[0m\u001b[0m\n\u001b[0;32m    453\u001b[0m         \u001b[1;32mif\u001b[0m \u001b[1;32mnot\u001b[0m \u001b[0mself\u001b[0m\u001b[1;33m.\u001b[0m\u001b[0m_custom_logger\u001b[0m\u001b[1;33m:\u001b[0m\u001b[1;33m\u001b[0m\u001b[1;33m\u001b[0m\u001b[0m\n\u001b[1;32m--> 454\u001b[1;33m             \u001b[0mself\u001b[0m\u001b[1;33m.\u001b[0m\u001b[0m_logger\u001b[0m \u001b[1;33m=\u001b[0m \u001b[0mutils\u001b[0m\u001b[1;33m.\u001b[0m\u001b[0mconfigure_logger\u001b[0m\u001b[1;33m(\u001b[0m\u001b[0mself\u001b[0m\u001b[1;33m.\u001b[0m\u001b[0mverbose\u001b[0m\u001b[1;33m,\u001b[0m \u001b[0mself\u001b[0m\u001b[1;33m.\u001b[0m\u001b[0mtensorboard_log\u001b[0m\u001b[1;33m,\u001b[0m \u001b[0mtb_log_name\u001b[0m\u001b[1;33m,\u001b[0m \u001b[0mreset_num_timesteps\u001b[0m\u001b[1;33m)\u001b[0m\u001b[1;33m\u001b[0m\u001b[1;33m\u001b[0m\u001b[0m\n\u001b[0m\u001b[0;32m    455\u001b[0m \u001b[1;33m\u001b[0m\u001b[0m\n\u001b[0;32m    456\u001b[0m         \u001b[1;31m# Create eval callback if needed\u001b[0m\u001b[1;33m\u001b[0m\u001b[1;33m\u001b[0m\u001b[1;33m\u001b[0m\u001b[0m\n",
      "\u001b[1;32m~\\anaconda3\\envs\\marl\\lib\\site-packages\\stable_baselines3\\common\\utils.py\u001b[0m in \u001b[0;36mconfigure_logger\u001b[1;34m(verbose, tensorboard_log, tb_log_name, reset_num_timesteps)\u001b[0m\n\u001b[0;32m    194\u001b[0m \u001b[1;33m\u001b[0m\u001b[0m\n\u001b[0;32m    195\u001b[0m     \u001b[1;32mif\u001b[0m \u001b[0mtensorboard_log\u001b[0m \u001b[1;32mis\u001b[0m \u001b[1;32mnot\u001b[0m \u001b[1;32mNone\u001b[0m \u001b[1;32mand\u001b[0m \u001b[0mSummaryWriter\u001b[0m \u001b[1;32mis\u001b[0m \u001b[1;32mNone\u001b[0m\u001b[1;33m:\u001b[0m\u001b[1;33m\u001b[0m\u001b[1;33m\u001b[0m\u001b[0m\n\u001b[1;32m--> 196\u001b[1;33m         \u001b[1;32mraise\u001b[0m \u001b[0mImportError\u001b[0m\u001b[1;33m(\u001b[0m\u001b[1;34m\"Trying to log data to tensorboard but tensorboard is not installed.\"\u001b[0m\u001b[1;33m)\u001b[0m\u001b[1;33m\u001b[0m\u001b[1;33m\u001b[0m\u001b[0m\n\u001b[0m\u001b[0;32m    197\u001b[0m \u001b[1;33m\u001b[0m\u001b[0m\n\u001b[0;32m    198\u001b[0m     \u001b[1;32mif\u001b[0m \u001b[0mtensorboard_log\u001b[0m \u001b[1;32mis\u001b[0m \u001b[1;32mnot\u001b[0m \u001b[1;32mNone\u001b[0m \u001b[1;32mand\u001b[0m \u001b[0mSummaryWriter\u001b[0m \u001b[1;32mis\u001b[0m \u001b[1;32mnot\u001b[0m \u001b[1;32mNone\u001b[0m\u001b[1;33m:\u001b[0m\u001b[1;33m\u001b[0m\u001b[1;33m\u001b[0m\u001b[0m\n",
      "\u001b[1;31mImportError\u001b[0m: Trying to log data to tensorboard but tensorboard is not installed."
     ]
    }
   ],
   "source": [
    "model = DQN('MlpPolicy', \"highway-fast-v0\",\n",
    "                policy_kwargs=dict(net_arch=[256, 256]),\n",
    "                learning_rate=5e-4,\n",
    "                buffer_size=15000,\n",
    "                learning_starts=200,\n",
    "                batch_size=32,\n",
    "                gamma=0.8,\n",
    "                train_freq=1,\n",
    "                gradient_steps=1,\n",
    "                target_update_interval=50,\n",
    "                exploration_fraction=0.7,\n",
    "                verbose=1,\n",
    "                tensorboard_log=\"highway_dqn/\")\n",
    "model.learn(int(2e4))"
   ]
  },
  {
   "cell_type": "code",
   "execution_count": 9,
   "id": "f79dae26",
   "metadata": {},
   "outputs": [
    {
     "data": {
      "application/vnd.jupyter.widget-view+json": {
       "model_id": "4d34ed02ecd44399b3cd7cb52831dc46",
       "version_major": 2,
       "version_minor": 0
      },
      "text/plain": [
       "Test episodes:   0%|          | 0/3 [00:00<?, ?it/s]"
      ]
     },
     "metadata": {},
     "output_type": "display_data"
    }
   ],
   "source": [
    "env = gym.make(\"highway-fast-v0\")\n",
    "env = wrappers.Monitor(env, \"./gym-results\", force=True)\n",
    "for episode in trange(3, desc=\"Test episodes\"):\n",
    "    obs, done = env.reset(), False\n",
    "    while not done:\n",
    "        action, _ = model.predict(obs, deterministic=True)\n",
    "        obs, reward, done, info = env.step(action)\n",
    "env.close()"
   ]
  },
  {
   "cell_type": "code",
   "execution_count": null,
   "id": "dee99261",
   "metadata": {},
   "outputs": [],
   "source": []
  },
  {
   "cell_type": "code",
   "execution_count": null,
   "id": "cf4c8bd9",
   "metadata": {},
   "outputs": [],
   "source": []
  },
  {
   "cell_type": "code",
   "execution_count": 10,
   "id": "e1c8d8c6",
   "metadata": {},
   "outputs": [
    {
     "data": {
      "image/png": "[encoded data removed]",
      "text/plain": [
       "<Figure size 432x288 with 1 Axes>"
      ]
     },
     "metadata": {
      "needs_background": "light"
     },
     "output_type": "display_data"
    }
   ],
   "source": [
    "import gym\n",
    "import highway_env\n",
    "\n",
    "env = gym.make('highway-v0')\n",
    "env.seed(0)\n",
    "\n",
    "env.configure({\"controlled_vehicles\": 2})  # Two controlled vehicles\n",
    "env.configure({\"vehicles_count\": 1})  # A single other vehicle, for the sake of visualisation\n",
    "env.reset()\n",
    "\n",
    "from matplotlib import pyplot as plt\n",
    "%matplotlib inline\n",
    "plt.imshow(env.render(mode=\"rgb_array\"))\n",
    "plt.title(\"Controlled vehicles are in green\")\n",
    "plt.show()"
   ]
  },
  {
   "cell_type": "code",
   "execution_count": null,
   "id": "be2e815d",
   "metadata": {},
   "outputs": [],
   "source": [
    "# Multi-agent environment configuration\n",
    "env.configure({\n",
    "  \"controlled_vehicles\": 2,\n",
    "  \"observation\": {\n",
    "    \"type\": \"MultiAgentObservation\",\n",
    "    \"observation_config\": {\n",
    "      \"type\": \"Kinematics\",\n",
    "    }\n",
    "  },\n",
    "  \"action\": {\n",
    "    \"type\": \"MultiAgentAction\",\n",
    "    \"action_config\": {\n",
    "      \"type\": \"DiscreteMetaAction\",\n",
    "    }\n",
    "  }\n",
    "})"
   ]
  },
  {
   "cell_type": "code",
   "execution_count": null,
   "id": "6a09a677",
   "metadata": {},
   "outputs": [],
   "source": [
    "# Dummy RL algorithm\n",
    "class Model:\n",
    "    \n",
    "    def predict(self, obs):\n",
    "        return 0\n",
    "\n",
    "    def update(self, obs, action, next_obs, reward, info, done):\n",
    "        pass\n",
    "    \n",
    "model = Model()"
   ]
  },
  {
   "cell_type": "code",
   "execution_count": null,
   "id": "b0e41d50",
   "metadata": {},
   "outputs": [],
   "source": [
    "# A training episode\n",
    "obs = env.reset()\n",
    "done = False\n",
    "while not done:\n",
    "    # Dispatch the observations to the model to get the tuple of actions\n",
    "    action = tuple(model.predict(obs_i) for obs_i in obs)\n",
    "    # Execute the actions\n",
    "    next_obs, reward, info, done = env.step(action)\n",
    "    # Update the model with the transitions observed by each agent\n",
    "    for obs_i, action_i, next_obs_i in zip(obs, action, next_obs):\n",
    "        model.update(obs_i, action_i, next_obs_i, reward, info, done)\n",
    "    obs = next_obs"
   ]
  },
  {
   "cell_type": "code",
   "execution_count": null,
   "id": "c0878432",
   "metadata": {},
   "outputs": [],
   "source": []
  }
 ],
 "metadata": {
  "kernelspec": {
   "display_name": "marl",
   "language": "python",
   "name": "marl"
  },
  "language_info": {
   "codemirror_mode": {
    "name": "ipython",
    "version": 3
   },
   "file_extension": ".py",
   "mimetype": "text/x-python",
   "name": "python",
   "nbconvert_exporter": "python",
   "pygments_lexer": "ipython3",
   "version": "3.7.13"
  },
  "toc": {
   "base_numbering": 1,
   "nav_menu": {
    "height": "111px",
    "width": "215px"
   },
   "number_sections": true,
   "sideBar": true,
   "skip_h1_title": true,
   "title_cell": "Table of Contents",
   "title_sidebar": "Contents",
   "toc_cell": false,
   "toc_position": {
    "height": "calc(100% - 180px)",
    "left": "10px",
    "top": "150px",
    "width": "384px"
   },
   "toc_section_display": true,
   "toc_window_display": true
  }
 },
 "nbformat": 4,
 "nbformat_minor": 5
}
