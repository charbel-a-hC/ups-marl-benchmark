{
 "cells": [
  {
   "cell_type": "markdown",
   "id": "b3e971ef",
   "metadata": {},
   "source": [
    "# Road Vehicles Platooning using Multi-Agent Reinforcement Learning\n",
    "**Statistical Machine Learning Project**\\\n",
    " **Prepared by: Charbel ABI HANA**"
   ]
  },
  {
   "cell_type": "markdown",
   "id": "0970c7d3",
   "metadata": {},
   "source": [
    "# Table of Contents\n"
   ]
  },
  {
   "cell_type": "markdown",
   "id": "351154a3",
   "metadata": {},
   "source": [
    "## Intro "
   ]
  },
  {
   "cell_type": "markdown",
   "id": "3c0e38e7",
   "metadata": {},
   "source": [
    "## Reinforcement Learning"
   ]
  },
  {
   "cell_type": "markdown",
   "id": "446cd286",
   "metadata": {},
   "source": [
    "## Multi-Agent Reinforcement Learning"
   ]
  },
  {
   "cell_type": "markdown",
   "id": "f397ff7a",
   "metadata": {},
   "source": [
    "## OpenAI GYM"
   ]
  },
  {
   "cell_type": "markdown",
   "id": "ec53de4a",
   "metadata": {},
   "source": [
    "## Highway Environment"
   ]
  },
  {
   "cell_type": "markdown",
   "id": "1c8868ba",
   "metadata": {},
   "source": [
    "### Envrionment Overview"
   ]
  },
  {
   "cell_type": "markdown",
   "id": "20348ffb",
   "metadata": {},
   "source": [
    "### Action Space"
   ]
  },
  {
   "cell_type": "markdown",
   "id": "d8eb4da8",
   "metadata": {},
   "source": [
    "### Observation Space"
   ]
  },
  {
   "cell_type": "markdown",
   "id": "43d34346",
   "metadata": {},
   "source": [
    "### Reward Function"
   ]
  },
  {
   "cell_type": "markdown",
   "id": "3e2113c8",
   "metadata": {},
   "source": [
    "### Multi-Agent Layout"
   ]
  },
  {
   "cell_type": "markdown",
   "id": "b613a5c7",
   "metadata": {},
   "source": [
    "### IDQN - Independant Agents - Development"
   ]
  },
  {
   "cell_type": "code",
   "execution_count": null,
   "id": "cb188ba3",
   "metadata": {},
   "outputs": [],
   "source": []
  }
 ],
 "metadata": {
  "kernelspec": {
   "display_name": "marl",
   "language": "python",
   "name": "marl"
  },
  "language_info": {
   "codemirror_mode": {
    "name": "ipython",
    "version": 3
   },
   "file_extension": ".py",
   "mimetype": "text/x-python",
   "name": "python",
   "nbconvert_exporter": "python",
   "pygments_lexer": "ipython3",
   "version": "3.7.13"
  },
  "toc": {
   "base_numbering": 1,
   "nav_menu": {
    "height": "111px",
    "width": "215px"
   },
   "number_sections": true,
   "sideBar": true,
   "skip_h1_title": true,
   "title_cell": "Table of Contents",
   "title_sidebar": "Contents",
   "toc_cell": false,
   "toc_position": {
    "height": "calc(100% - 180px)",
    "left": "10px",
    "top": "150px",
    "width": "384px"
   },
   "toc_section_display": true,
   "toc_window_display": true
  }
 },
 "nbformat": 4,
 "nbformat_minor": 5
}
