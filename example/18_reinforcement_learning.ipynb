{
 "cells": [
  {
   "cell_type": "markdown",
   "metadata": {},
   "source": [
    "**Chapter 18 – Reinforcement Learning**"
   ]
  },
  {
   "cell_type": "markdown",
   "metadata": {},
   "source": [
    "_This notebook contains all the sample code in chapter 18_."
   ]
  },
  {
   "cell_type": "markdown",
   "metadata": {},
   "source": [
    "<table align=\"left\">\n",
    "  <td>\n",
    "    <a target=\"_blank\" href=\"https://colab.research.google.com/github/ageron/handson-ml2/blob/master/18_reinforcement_learning.ipynb\"><img src=\"https://www.tensorflow.org/images/colab_logo_32px.png\" />Run in Google Colab</a>\n",
    "  </td>\n",
    "</table>"
   ]
  },
  {
   "cell_type": "markdown",
   "metadata": {},
   "source": [
    "# Setup"
   ]
  },
  {
   "cell_type": "markdown",
   "metadata": {},
   "source": [
    "First, let's import a few common modules, ensure MatplotLib plots figures inline and prepare a function to save the figures. We also check that Python 3.5 or later is installed (although Python 2.x may work, it is deprecated so we strongly recommend you use Python 3 instead), as well as Scikit-Learn ≥0.20 and TensorFlow ≥2.0."
   ]
  },
  {
   "cell_type": "code",
   "execution_count": 19,
   "metadata": {},
   "outputs": [],
   "source": [
    "# Python ≥3.5 is required\n",
    "import sys\n",
    "assert sys.version_info >= (3, 5)\n",
    "\n",
    "# Common imports\n",
    "import numpy as np\n",
    "import os\n",
    "\n",
    "\n",
    "# To plot pretty figures\n",
    "%matplotlib inline\n",
    "import matplotlib as mpl\n",
    "import matplotlib.pyplot as plt\n",
    "mpl.rc('axes', labelsize=14)\n",
    "mpl.rc('xtick', labelsize=12)\n",
    "mpl.rc('ytick', labelsize=12)\n",
    "\n",
    "# To get smooth animations\n",
    "import matplotlib.animation as animation\n",
    "mpl.rc('animation', html='jshtml')\n",
    "\n",
    "# Where to save the figures\n",
    "PROJECT_ROOT_DIR = \".\"\n",
    "CHAPTER_ID = \"rl\"\n",
    "IMAGES_PATH = os.path.join(PROJECT_ROOT_DIR, \"images\", CHAPTER_ID)\n",
    "os.makedirs(IMAGES_PATH, exist_ok=True)\n",
    "\n",
    "def save_fig(fig_id, tight_layout=True, fig_extension=\"png\", resolution=300):\n",
    "    path = os.path.join(IMAGES_PATH, fig_id + \".\" + fig_extension)\n",
    "    print(\"Saving figure\", fig_id)\n",
    "    if tight_layout:\n",
    "        plt.tight_layout()\n",
    "    plt.savefig(path, format=fig_extension, dpi=resolution)"
   ]
  },
  {
   "cell_type": "markdown",
   "metadata": {},
   "source": [
    "# Introduction to OpenAI gym"
   ]
  },
  {
   "cell_type": "markdown",
   "metadata": {},
   "source": [
    "In this notebook we will be using [OpenAI gym](https://gym.openai.com/), a great toolkit for developing and comparing Reinforcement Learning algorithms. It provides many environments for your learning *agents* to interact with. Let's start by importing `gym`:"
   ]
  },
  {
   "cell_type": "code",
   "execution_count": 1,
   "metadata": {},
   "outputs": [
    {
     "name": "stderr",
     "output_type": "stream",
     "text": [
      "\n"
     ]
    }
   ],
   "source": [
    "import gym"
   ]
  },
  {
   "cell_type": "markdown",
   "metadata": {},
   "source": [
    "Let's list all the available environments:"
   ]
  },
  {
   "cell_type": "code",
   "execution_count": 2,
   "metadata": {},
   "outputs": [
    {
     "data": {
      "text/plain": [
       "ValuesView(├──CartPole: [ v0, v1 ]\n",
       "├──MountainCar: [ v0 ]\n",
       "├──MountainCarContinuous: [ v0 ]\n",
       "├──Pendulum: [ v1 ]\n",
       "├──Acrobot: [ v1 ]\n",
       "├──LunarLander: [ v2 ]\n",
       "├──LunarLanderContinuous: [ v2 ]\n",
       "├──BipedalWalker: [ v3 ]\n",
       "├──BipedalWalkerHardcore: [ v3 ]\n",
       "├──CarRacing: [ v1 ]\n",
       "├──Blackjack: [ v1 ]\n",
       "├──FrozenLake: [ v1 ]\n",
       "├──FrozenLake8x8: [ v1 ]\n",
       "├──CliffWalking: [ v0 ]\n",
       "├──Taxi: [ v3 ]\n",
       "├──Reacher: [ v2 ]\n",
       "├──Pusher: [ v2 ]\n",
       "├──Thrower: [ v2 ]\n",
       "├──Striker: [ v2 ]\n",
       "├──InvertedPendulum: [ v2 ]\n",
       "├──InvertedDoublePendulum: [ v2 ]\n",
       "├──HalfCheetah: [ v2, v3 ]\n",
       "├──Hopper: [ v2, v3 ]\n",
       "├──Swimmer: [ v2, v3 ]\n",
       "├──Walker2d: [ v2, v3 ]\n",
       "├──Ant: [ v2, v3 ]\n",
       "├──Humanoid: [ v2, v3 ]\n",
       "└──HumanoidStandup: [ v2 ]\n",
       ")"
      ]
     },
     "execution_count": 2,
     "metadata": {},
     "output_type": "execute_result"
    }
   ],
   "source": [
    "gym.envs.registry.all()"
   ]
  },
  {
   "cell_type": "markdown",
   "metadata": {},
   "source": [
    "The Cart-Pole is a very simple environment composed of a cart that can move left or right, and pole placed vertically on top of it. The agent must move the cart left or right to keep the pole upright."
   ]
  },
  {
   "cell_type": "code",
   "execution_count": 3,
   "metadata": {},
   "outputs": [],
   "source": [
    "env = gym.make('CartPole-v1')"
   ]
  },
  {
   "cell_type": "markdown",
   "metadata": {},
   "source": [
    "Let's initialize the environment by calling is `reset()` method. This returns an observation:"
   ]
  },
  {
   "cell_type": "code",
   "execution_count": 4,
   "metadata": {},
   "outputs": [],
   "source": [
    "env.seed(42)\n",
    "obs = env.reset()"
   ]
  },
  {
   "cell_type": "markdown",
   "metadata": {},
   "source": [
    "Observations vary depending on the environment. In this case it is a 1D NumPy array composed of 4 floats: they represent the cart's horizontal position, its velocity, the angle of the pole (0 = vertical), and the angular velocity."
   ]
  },
  {
   "cell_type": "code",
   "execution_count": 5,
   "metadata": {},
   "outputs": [
    {
     "data": {
      "text/plain": [
       "array([ 0.0273956 , -0.00611216,  0.03585979,  0.0197368 ], dtype=float32)"
      ]
     },
     "execution_count": 5,
     "metadata": {},
     "output_type": "execute_result"
    }
   ],
   "source": [
    "obs"
   ]
  },
  {
   "cell_type": "markdown",
   "metadata": {},
   "source": [
    "An environment can be visualized by calling its `render()` method, and you can pick the rendering mode (the rendering options depend on the environment)."
   ]
  },
  {
   "cell_type": "markdown",
   "metadata": {},
   "source": [
    "**Warning**: some environments (including the Cart-Pole) require access to your display, which opens up a separate window, even if you specify `mode=\"rgb_array\"`. In general you can safely ignore that window. However, if Jupyter is running on a headless server (ie. without a screen) it will raise an exception. One way to avoid this is to install a fake X server like [Xvfb](http://en.wikipedia.org/wiki/Xvfb). On Debian or Ubuntu:\n",
    "\n",
    "```bash\n",
    "$ apt update\n",
    "$ apt install -y xvfb\n",
    "```\n",
    "\n",
    "You can then start Jupyter using the `xvfb-run` command:\n",
    "\n",
    "```bash\n",
    "$ xvfb-run -s \"-screen 0 1400x900x24\" jupyter notebook\n",
    "```\n",
    "\n",
    "Alternatively, you can install the [pyvirtualdisplay](https://github.com/ponty/pyvirtualdisplay) Python library which wraps Xvfb:\n",
    "\n",
    "```bash\n",
    "python3 -m pip install -U pyvirtualdisplay\n",
    "```\n",
    "\n",
    "And run the following code:"
   ]
  },
  {
   "cell_type": "code",
   "execution_count": 6,
   "metadata": {},
   "outputs": [],
   "source": [
    "try:\n",
    "    import pyvirtualdisplay\n",
    "    display = pyvirtualdisplay.Display(visible=0, size=(1400, 900)).start()\n",
    "except ImportError:\n",
    "    pass"
   ]
  },
  {
   "cell_type": "code",
   "execution_count": 7,
   "metadata": {},
   "outputs": [
    {
     "data": {
      "text/plain": [
       "True"
      ]
     },
     "execution_count": 7,
     "metadata": {},
     "output_type": "execute_result"
    }
   ],
   "source": [
    "env.render()"
   ]
  },
  {
   "cell_type": "markdown",
   "metadata": {},
   "source": [
    "In this example we will set `mode=\"rgb_array\"` to get an image of the environment as a NumPy array:"
   ]
  },
  {
   "cell_type": "code",
   "execution_count": 8,
   "metadata": {},
   "outputs": [
    {
     "data": {
      "text/plain": [
       "(400, 600, 3)"
      ]
     },
     "execution_count": 8,
     "metadata": {},
     "output_type": "execute_result"
    }
   ],
   "source": [
    "img = env.render(mode=\"rgb_array\")\n",
    "img.shape"
   ]
  },
  {
   "cell_type": "code",
   "execution_count": 11,
   "metadata": {},
   "outputs": [],
   "source": [
    "import matplotlib.pyplot as plt\n",
    "def plot_environment(env, figsize=(5,4)):\n",
    "    plt.figure(figsize=figsize)\n",
    "    img = env.render(mode=\"rgb_array\")\n",
    "    plt.imshow(img)\n",
    "    plt.axis(\"off\")\n",
    "    return img"
   ]
  },
  {
   "cell_type": "code",
   "execution_count": 12,
   "metadata": {},
   "outputs": [
    {
     "data": {
      "image/png": "[encoded data removed]",
      "text/plain": [
       "<Figure size 360x288 with 1 Axes>"
      ]
     },
     "metadata": {
      "needs_background": "light"
     },
     "output_type": "display_data"
    }
   ],
   "source": [
    "plot_environment(env)\n",
    "plt.show()"
   ]
  },
  {
   "cell_type": "markdown",
   "metadata": {},
   "source": [
    "Let's see how to interact with an environment. Your agent will need to select an action from an \"action space\" (the set of possible actions). Let's see what this environment's action space looks like:"
   ]
  },
  {
   "cell_type": "code",
   "execution_count": 13,
   "metadata": {},
   "outputs": [
    {
     "data": {
      "text/plain": [
       "Discrete(2)"
      ]
     },
     "execution_count": 13,
     "metadata": {},
     "output_type": "execute_result"
    }
   ],
   "source": [
    "env.action_space"
   ]
  },
  {
   "cell_type": "markdown",
   "metadata": {},
   "source": [
    "Yep, just two possible actions: accelerate towards the left or towards the right."
   ]
  },
  {
   "cell_type": "markdown",
   "metadata": {},
   "source": [
    "Since the pole is leaning toward the right (`obs[2] > 0`), let's accelerate the cart toward the right:"
   ]
  },
  {
   "cell_type": "code",
   "execution_count": 14,
   "metadata": {},
   "outputs": [
    {
     "data": {
      "text/plain": [
       "array([ 0.02727336,  0.18847767,  0.03625453, -0.26141977], dtype=float32)"
      ]
     },
     "execution_count": 14,
     "metadata": {},
     "output_type": "execute_result"
    }
   ],
   "source": [
    "action = 1  # accelerate right\n",
    "obs, reward, done, info = env.step(action)\n",
    "obs"
   ]
  },
  {
   "cell_type": "markdown",
   "metadata": {},
   "source": [
    "Notice that the cart is now moving toward the right (`obs[1] > 0`). The pole is still tilted toward the right (`obs[2] > 0`), but its angular velocity is now negative (`obs[3] < 0`), so it will likely be tilted toward the left after the next step."
   ]
  },
  {
   "cell_type": "code",
   "execution_count": 15,
   "metadata": {},
   "outputs": [
    {
     "ename": "NameError",
     "evalue": "name 'save_fig' is not defined",
     "output_type": "error",
     "traceback": [
      "\u001b[0;31m---------------------------------------------------------------------------\u001b[0m",
      "\u001b[0;31mNameError\u001b[0m                                 Traceback (most recent call last)",
      "\u001b[0;32m/tmp/ipykernel_143/3925418713.py\u001b[0m in \u001b[0;36m<module>\u001b[0;34m\u001b[0m\n\u001b[1;32m      1\u001b[0m \u001b[0mplot_environment\u001b[0m\u001b[0;34m(\u001b[0m\u001b[0menv\u001b[0m\u001b[0;34m)\u001b[0m\u001b[0;34m\u001b[0m\u001b[0;34m\u001b[0m\u001b[0m\n\u001b[0;32m----> 2\u001b[0;31m \u001b[0msave_fig\u001b[0m\u001b[0;34m(\u001b[0m\u001b[0;34m\"cart_pole_plot\"\u001b[0m\u001b[0;34m)\u001b[0m\u001b[0;34m\u001b[0m\u001b[0;34m\u001b[0m\u001b[0m\n\u001b[0m",
      "\u001b[0;31mNameError\u001b[0m: name 'save_fig' is not defined"
     ]
    },
    {
     "data": {
      "image/png": "[encoded data removed]",
      "text/plain": [
       "<Figure size 360x288 with 1 Axes>"
      ]
     },
     "metadata": {
      "needs_background": "light"
     },
     "output_type": "display_data"
    }
   ],
   "source": [
    "plot_environment(env)\n",
    "save_fig(\"cart_pole_plot\")"
   ]
  },
  {
   "cell_type": "markdown",
   "metadata": {},
   "source": [
    "Looks like it's doing what we're telling it to do!"
   ]
  },
  {
   "cell_type": "markdown",
   "metadata": {},
   "source": [
    "The environment also tells the agent how much reward it got during the last step:"
   ]
  },
  {
   "cell_type": "code",
   "execution_count": 15,
   "metadata": {},
   "outputs": [
    {
     "data": {
      "text/plain": [
       "1.0"
      ]
     },
     "execution_count": 15,
     "metadata": {},
     "output_type": "execute_result"
    }
   ],
   "source": [
    "reward"
   ]
  },
  {
   "cell_type": "markdown",
   "metadata": {},
   "source": [
    "When the game is over, the environment returns `done=True`:"
   ]
  },
  {
   "cell_type": "code",
   "execution_count": 16,
   "metadata": {},
   "outputs": [
    {
     "data": {
      "text/plain": [
       "False"
      ]
     },
     "execution_count": 16,
     "metadata": {},
     "output_type": "execute_result"
    }
   ],
   "source": [
    "done"
   ]
  },
  {
   "cell_type": "markdown",
   "metadata": {},
   "source": [
    "Finally, `info` is an environment-specific dictionary that can provide some extra information that you may find useful for debugging or for training. For example, in some games it may indicate how many lives the agent has."
   ]
  },
  {
   "cell_type": "code",
   "execution_count": 17,
   "metadata": {},
   "outputs": [
    {
     "data": {
      "text/plain": [
       "{}"
      ]
     },
     "execution_count": 17,
     "metadata": {},
     "output_type": "execute_result"
    }
   ],
   "source": [
    "info"
   ]
  },
  {
   "cell_type": "markdown",
   "metadata": {},
   "source": [
    "The sequence of steps between the moment the environment is reset until it is done is called an \"episode\". At the end of an episode (i.e., when `step()` returns `done=True`), you should reset the environment before you continue to use it."
   ]
  },
  {
   "cell_type": "code",
   "execution_count": 18,
   "metadata": {},
   "outputs": [],
   "source": [
    "if done:\n",
    "    obs = env.reset()"
   ]
  },
  {
   "cell_type": "markdown",
   "metadata": {},
   "source": [
    "Now how can we make the poll remain upright? We will need to define a _policy_ for that. This is the strategy that the agent will use to select an action at each step. It can use all the past actions and observations to decide what to do."
   ]
  },
  {
   "cell_type": "markdown",
   "metadata": {},
   "source": [
    "# A simple hard-coded policy"
   ]
  },
  {
   "cell_type": "markdown",
   "metadata": {},
   "source": [
    "Let's hard code a simple strategy: if the pole is tilting to the left, then push the cart to the left, and _vice versa_. Let's see if that works:"
   ]
  },
  {
   "cell_type": "code",
   "execution_count": 22,
   "metadata": {},
   "outputs": [],
   "source": [
    "env.seed(42)\n",
    "\n",
    "def basic_policy(obs):\n",
    "    angle = obs[2]\n",
    "    return 0 if angle < 0 else 1\n",
    "\n",
    "totals = []\n",
    "for episode in range(500):\n",
    "    episode_rewards = 0\n",
    "    obs = env.reset()\n",
    "    for step in range(200):\n",
    "        action = basic_policy(obs)\n",
    "        obs, reward, done, info = env.step(action)\n",
    "        episode_rewards += reward\n",
    "        if done:\n",
    "            break\n",
    "    totals.append(episode_rewards)"
   ]
  },
  {
   "cell_type": "code",
   "execution_count": 23,
   "metadata": {},
   "outputs": [
    {
     "data": {
      "text/plain": [
       "(42.212, 9.032998173364147, 24.0, 72.0)"
      ]
     },
     "execution_count": 23,
     "metadata": {},
     "output_type": "execute_result"
    }
   ],
   "source": [
    "np.mean(totals), np.std(totals), np.min(totals), np.max(totals)"
   ]
  },
  {
   "cell_type": "markdown",
   "metadata": {},
   "source": [
    "Well, as expected, this strategy is a bit too basic: the best it did was to keep the poll up for only 68 steps. This environment is considered solved when the agent keeps the poll up for 200 steps."
   ]
  },
  {
   "cell_type": "markdown",
   "metadata": {},
   "source": [
    "Let's visualize one episode:"
   ]
  },
  {
   "cell_type": "code",
   "execution_count": 27,
   "metadata": {},
   "outputs": [],
   "source": [
    "env.seed(42)\n",
    "\n",
    "frames = []\n",
    "\n",
    "obs = env.reset()\n",
    "for step in range(200):\n",
    "    img = env.render(mode=\"rgb_array\")\n",
    "    frames.append(img)\n",
    "    action = basic_policy(obs)\n",
    "\n",
    "    obs, reward, done, info = env.step(action)\n",
    "    if done:\n",
    "        break"
   ]
  },
  {
   "cell_type": "code",
   "execution_count": 28,
   "metadata": {},
   "outputs": [
    {
     "data": {
      "text/plain": [
       "55"
      ]
     },
     "execution_count": 28,
     "metadata": {},
     "output_type": "execute_result"
    }
   ],
   "source": [
    "len(frames)"
   ]
  },
  {
   "cell_type": "markdown",
   "metadata": {},
   "source": [
    "Now show the animation:"
   ]
  },
  {
   "cell_type": "code",
   "execution_count": 25,
   "metadata": {},
   "outputs": [],
   "source": [
    "def update_scene(num, frames, patch):\n",
    "    patch.set_data(frames[num])\n",
    "    return patch,\n",
    "\n",
    "def plot_animation(frames, repeat=False, interval=40):\n",
    "    fig = plt.figure()\n",
    "    patch = plt.imshow(frames[0])\n",
    "    plt.axis('off')\n",
    "    anim = animation.FuncAnimation(\n",
    "        fig, update_scene, fargs=(frames, patch),\n",
    "        frames=len(frames), repeat=repeat, interval=interval)\n",
    "    plt.close()\n",
    "    return anim"
   ]
  },
  {
   "cell_type": "code",
   "execution_count": 26,
   "metadata": {},
   "outputs": [
    {
     "data": {
      "text/html": [
       "\n",
       "<link rel=\"stylesheet\"\n",
       "href=\"https://maxcdn.bootstrapcdn.com/font-awesome/4.4.0/css/font-awesome.min.css\">\n",
       "<script language=\"javascript\">\n",
       "  function isInternetExplorer() {\n",
       "    ua = navigator.userAgent;\n",
       "    /* MSIE used to detect old browsers and Trident used to newer ones*/\n",
       "    return ua.indexOf(\"MSIE \") > -1 || ua.indexOf(\"Trident/\") > -1;\n",
       "  }\n",
       "\n",
       "  /* Define the Animation class */\n",
       "  function Animation(frames, img_id, slider_id, interval, loop_select_id){\n",
       "    this.img_id = img_id;\n",
       "    this.slider_id = slider_id;\n",
       "    this.loop_select_id = loop_select_id;\n",
       "    this.interval = interval;\n",
       "    this.current_frame = 0;\n",
       "    this.direction = 0;\n",
       "    this.timer = null;\n",
       "    this.frames = new Array(frames.length);\n",
       "\n",
       "    for (var i=0; i<frames.length; i++)\n",
       "    {\n",
       "     this.frames[i] = new Image();\n",
       "     this.frames[i].src = frames[i];\n",
       "    }\n",
       "    var slider = document.getElementById(this.slider_id);\n",
       "    slider.max = this.frames.length - 1;\n",
       "    if (isInternetExplorer()) {\n",
       "        // switch from oninput to onchange because IE <= 11 does not conform\n",
       "        // with W3C specification. It ignores oninput and onchange behaves\n",
       "        // like oninput. In contrast, Microsoft Edge behaves correctly.\n",
       "        slider.setAttribute('onchange', slider.getAttribute('oninput'));\n",
       "        slider.setAttribute('oninput', null);\n",
       "    }\n",
       "    this.set_frame(this.current_frame);\n",
       "  }\n",
       "\n",
       "  Animation.prototype.get_loop_state = function(){\n",
       "    var button_group = document[this.loop_select_id].state;\n",
       "    for (var i = 0; i < button_group.length; i++) {\n",
       "        var button = button_group[i];\n",
       "        if (button.checked) {\n",
       "            return button.value;\n",
       "        }\n",
       "    }\n",
       "    return undefined;\n",
       "  }\n",
       "\n",
       "  Animation.prototype.set_frame = function(frame){\n",
       "    this.current_frame = frame;\n",
       "    document.getElementById(this.img_id).src =\n",
       "            this.frames[this.current_frame].src;\n",
       "    document.getElementById(this.slider_id).value = this.current_frame;\n",
       "  }\n",
       "\n",
       "  Animation.prototype.next_frame = function()\n",
       "  {\n",
       "    this.set_frame(Math.min(this.frames.length - 1, this.current_frame + 1));\n",
       "  }\n",
       "\n",
       "  Animation.prototype.previous_frame = function()\n",
       "  {\n",
       "    this.set_frame(Math.max(0, this.current_frame - 1));\n",
       "  }\n",
       "\n",
       "  Animation.prototype.first_frame = function()\n",
       "  {\n",
       "    this.set_frame(0);\n",
       "  }\n",
       "\n",
       "  Animation.prototype.last_frame = function()\n",
       "  {\n",
       "    this.set_frame(this.frames.length - 1);\n",
       "  }\n",
       "\n",
       "  Animation.prototype.slower = function()\n",
       "  {\n",
       "    this.interval /= 0.7;\n",
       "    if(this.direction > 0){this.play_animation();}\n",
       "    else if(this.direction < 0){this.reverse_animation();}\n",
       "  }\n",
       "\n",
       "  Animation.prototype.faster = function()\n",
       "  {\n",
       "    this.interval *= 0.7;\n",
       "    if(this.direction > 0){this.play_animation();}\n",
       "    else if(this.direction < 0){this.reverse_animation();}\n",
       "  }\n",
       "\n",
       "  Animation.prototype.anim_step_forward = function()\n",
       "  {\n",
       "    this.current_frame += 1;\n",
       "    if(this.current_frame < this.frames.length){\n",
       "      this.set_frame(this.current_frame);\n",
       "    }else{\n",
       "      var loop_state = this.get_loop_state();\n",
       "      if(loop_state == \"loop\"){\n",
       "        this.first_frame();\n",
       "      }else if(loop_state == \"reflect\"){\n",
       "        this.last_frame();\n",
       "        this.reverse_animation();\n",
       "      }else{\n",
       "        this.pause_animation();\n",
       "        this.last_frame();\n",
       "      }\n",
       "    }\n",
       "  }\n",
       "\n",
       "  Animation.prototype.anim_step_reverse = function()\n",
       "  {\n",
       "    this.current_frame -= 1;\n",
       "    if(this.current_frame >= 0){\n",
       "      this.set_frame(this.current_frame);\n",
       "    }else{\n",
       "      var loop_state = this.get_loop_state();\n",
       "      if(loop_state == \"loop\"){\n",
       "        this.last_frame();\n",
       "      }else if(loop_state == \"reflect\"){\n",
       "        this.first_frame();\n",
       "        this.play_animation();\n",
       "      }else{\n",
       "        this.pause_animation();\n",
       "        this.first_frame();\n",
       "      }\n",
       "    }\n",
       "  }\n",
       "\n",
       "  Animation.prototype.pause_animation = function()\n",
       "  {\n",
       "    this.direction = 0;\n",
       "    if (this.timer){\n",
       "      clearInterval(this.timer);\n",
       "      this.timer = null;\n",
       "    }\n",
       "  }\n",
       "\n",
       "  Animation.prototype.play_animation = function()\n",
       "  {\n",
       "    this.pause_animation();\n",
       "    this.direction = 1;\n",
       "    var t = this;\n",
       "    if (!this.timer) this.timer = setInterval(function() {\n",
       "        t.anim_step_forward();\n",
       "    }, this.interval);\n",
       "  }\n",
       "\n",
       "  Animation.prototype.reverse_animation = function()\n",
       "  {\n",
       "    this.pause_animation();\n",
       "    this.direction = -1;\n",
       "    var t = this;\n",
       "    if (!this.timer) this.timer = setInterval(function() {\n",
       "        t.anim_step_reverse();\n",
       "    }, this.interval);\n",
       "  }\n",
       "</script>\n",
       "\n",
       "<style>\n",
       ".animation {\n",
       "    display: inline-block;\n",
       "    text-align: center;\n",
       "}\n",
       "input[type=range].anim-slider {\n",
       "    width: 374px;\n",
       "    margin-left: auto;\n",
       "    margin-right: auto;\n",
       "}\n",
       ".anim-buttons {\n",
       "    margin: 8px 0px;\n",
       "}\n",
       ".anim-buttons button {\n",
       "    padding: 0;\n",
       "    width: 36px;\n",
       "}\n",
       ".anim-state label {\n",
       "    margin-right: 8px;\n",
       "}\n",
       ".anim-state input {\n",
       "    margin: 0;\n",
       "    vertical-align: middle;\n",
       "}\n",
       "</style>\n",
       "\n",
       "<div class=\"animation\">\n",
       "  <img id=\"_anim_imgc12441273a984c9583de2ba39ecaf166\">\n",
       "  <div class=\"anim-controls\">\n",
       "    <input id=\"_anim_sliderc12441273a984c9583de2ba39ecaf166\" type=\"range\" class=\"anim-slider\"\n",
       "           name=\"points\" min=\"0\" max=\"1\" step=\"1\" value=\"0\"\n",
       "           oninput=\"animc12441273a984c9583de2ba39ecaf166.set_frame(parseInt(this.value));\">\n",
       "    <div class=\"anim-buttons\">\n",
       "      <button title=\"Decrease speed\" aria-label=\"Decrease speed\" onclick=\"animc12441273a984c9583de2ba39ecaf166.slower()\">\n",
       "          <i class=\"fa fa-minus\"></i></button>\n",
       "      <button title=\"First frame\" aria-label=\"First frame\" onclick=\"animc12441273a984c9583de2ba39ecaf166.first_frame()\">\n",
       "        <i class=\"fa fa-fast-backward\"></i></button>\n",
       "      <button title=\"Previous frame\" aria-label=\"Previous frame\" onclick=\"animc12441273a984c9583de2ba39ecaf166.previous_frame()\">\n",
       "          <i class=\"fa fa-step-backward\"></i></button>\n",
       "      <button title=\"Play backwards\" aria-label=\"Play backwards\" onclick=\"animc12441273a984c9583de2ba39ecaf166.reverse_animation()\">\n",
       "          <i class=\"fa fa-play fa-flip-horizontal\"></i></button>\n",
       "      <button title=\"Pause\" aria-label=\"Pause\" onclick=\"animc12441273a984c9583de2ba39ecaf166.pause_animation()\">\n",
       "          <i class=\"fa fa-pause\"></i></button>\n",
       "      <button title=\"Play\" aria-label=\"Play\" onclick=\"animc12441273a984c9583de2ba39ecaf166.play_animation()\">\n",
       "          <i class=\"fa fa-play\"></i></button>\n",
       "      <button title=\"Next frame\" aria-label=\"Next frame\" onclick=\"animc12441273a984c9583de2ba39ecaf166.next_frame()\">\n",
       "          <i class=\"fa fa-step-forward\"></i></button>\n",
       "      <button title=\"Last frame\" aria-label=\"Last frame\" onclick=\"animc12441273a984c9583de2ba39ecaf166.last_frame()\">\n",
       "          <i class=\"fa fa-fast-forward\"></i></button>\n",
       "      <button title=\"Increase speed\" aria-label=\"Increase speed\" onclick=\"animc12441273a984c9583de2ba39ecaf166.faster()\">\n",
       "          <i class=\"fa fa-plus\"></i></button>\n",
       "    </div>\n",
       "    <form title=\"Repetition mode\" aria-label=\"Repetition mode\" action=\"#n\" name=\"_anim_loop_selectc12441273a984c9583de2ba39ecaf166\"\n",
       "          class=\"anim-state\">\n",
       "      <input type=\"radio\" name=\"state\" value=\"once\" id=\"_anim_radio1_c12441273a984c9583de2ba39ecaf166\"\n",
       "             checked>\n",
       "      <label for=\"_anim_radio1_c12441273a984c9583de2ba39ecaf166\">Once</label>\n",
       "      <input type=\"radio\" name=\"state\" value=\"loop\" id=\"_anim_radio2_c12441273a984c9583de2ba39ecaf166\"\n",
       "             >\n",
       "      <label for=\"_anim_radio2_c12441273a984c9583de2ba39ecaf166\">Loop</label>\n",
       "      <input type=\"radio\" name=\"state\" value=\"reflect\" id=\"_anim_radio3_c12441273a984c9583de2ba39ecaf166\"\n",
       "             >\n",
       "      <label for=\"_anim_radio3_c12441273a984c9583de2ba39ecaf166\">Reflect</label>\n",
       "    </form>\n",
       "  </div>\n",
       "</div>\n",
       "\n",
       "\n",
       "<script language=\"javascript\">\n",
       "  /* Instantiate the Animation class. */\n",
       "  /* The IDs given should match those used in the template above. */\n",
       "  (function() {\n",
       "    var img_id = \"_anim_imgc12441273a984c9583de2ba39ecaf166\";\n",
       "    var slider_id = \"_anim_sliderc12441273a984c9583de2ba39ecaf166\";\n",
       "    var loop_select_id = \"_anim_loop_selectc12441273a984c9583de2ba39ecaf166\";\n",
       "    var frames = new Array(55);\n",
       "    \n",
       "  frames[0] = \"data:image/png;base64,iVBORw0KGgoAAAANSUhEUgAAAbAAAAEgCAYAAADVKCZpAAAAOXRFWHRTb2Z0d2FyZQBNYXRwbG90\\\n",
       "bGliIHZlcnNpb24zLjUuMiwgaHR0cHM6Ly9tYXRwbG90bGliLm9yZy8qNh9FAAAACXBIWXMAAAsT\\\n",
       "AAALEwEAmpwYAAAIVklEQVR4nO3dv29dZx3H8e9zbSspKSQZ0hgJVFhQLDZm6MLaoXSFf6MDU6Wu\\\n",
       "iL+iA0Ji60SWCAkhWlS1GahAlF+1qpofbYLq1Kl9fQ6DO8VuuTe+POd+4tdrPL7K/Ubx1TvPuec8\\\n",
       "p43jWACQZjb1AADwOAQMgEgCBkAkAQMgkoABEEnAAIgkYABEEjAAIgkYAJEEDIBIAgZAJAEDIJKA\\\n",
       "ARBJwACIJGAARBIwACIJGACRBAyASAIGQCQBAyCSgAEQScAAiCRgAEQSMAAiCRgAkQQMgEgCBkAk\\\n",
       "AQMgkoABEEnAAIgkYABEEjAAIgkYAJEEDIBIm1MP0NE49QAAa6hNPcDjsgIDIJKAARBJwACIJGAA\\\n",
       "RBIwACIJGACRBAyASAIGQCQBAyCSgAEQScAAiCRgAEQSMAAiCRgAkQQMgEgCBkAkAQMgkoABEEnA\\\n",
       "AIgkYABEEjAAIgkYAJEEDIBIAgZAJAEDIJKAARBJwACIJGAARBIwACIJGACRBAyASAIGQCQBAyCS\\\n",
       "gAEQScAAiCRgAEQSMAAiCRgAkQQMgEgCBkAkAQMgkoABEEnAAIgkYABEEjAAIgkYAJEEDIBIAgZA\\\n",
       "JAEDIJKAARBJwACIJGAARBIwACIJGACRBAyASAIGQCQBAyCSgAEQScAAiCRgAEQSMAAiCRgAkQQM\\\n",
       "gEgCBkAkAQMgkoABEEnAAIgkYABEEjAAIgkYAJEEDIBIAgZAJAEDIJKAARBJwACIJGAARBIwACIJ\\\n",
       "GACRBAyASAIGQCQBAyCSgAEQScAAiCRgAEQSMAAiCRgAkQQMgEgCBkAkAQMgkoABEEnAAIi0OfUA\\\n",
       "cBEdPrhfD+/vnTq+deVaPXVte4KJII+AQWfjONa9v71V7/36Z6d+dmPnufrGcz+aYCrI4xQiTGA8\\\n",
       "nk89AsQTMJjAMD+aegSIJ2DQ3WgFBisgYNDbWDUMVmBwXgIG3VmBwSoIGEzAd2BwfgIGnY1VNViB\\\n",
       "wbkJGPQ2HNfD+x+cPt5mdenqM/3ngVACBp2N41iffvzhqeOtzeryV25MMBFkEjBYI21ja+oRIIaA\\\n",
       "wbpoVbNNAYNFCRisjVZtZntSWJSAwRqZOYUICxMwWBOttZptWIHBogQM1oiLOGBxAgZrZLZpBQaL\\\n",
       "EjDobByHOtmP41GtWtvoPQ7EEjDobDyen90vYCkCBp2d7ESvYHBeAgadDcO8xlHA4LwEDDqzAoPV\\\n",
       "EDDobDieV1mBwbkJGHQ2Hh8JGKyAgEFn4zB3AhFWQMCgs08+er+G+eGp45evbVezlRQsTMCgs/nB\\\n",
       "ftU4nDq+deVqtZkbmWFRAgZrYraxVa21qceAGAIGa+LkWWACBosSMFgTs43NKiswWJiAwZpoAgZL\\\n",
       "ETBYE7ONTScQYQkCBmvCCgyWI2DQ0ckmvmffxtxmW+UiDlicgEFnn7cTfZv5OMIyfGKgq/Gz3ejP\\\n",
       "5j4wWJyAQU/jeLIbPXBuAgYdjVU1DkdTjwFPBAGDnsYvPoUILE7AoCenEGFlBAy6sgKDVREw6Ggc\\\n",
       "xxoGAYNVEDDoaByHmj98cPoHrdXG1uX+A0EwAYOOhvlhHXy4e+r4bPNSXbnx7AQTQS4BgzXQWvvs\\\n",
       "eWDAogQM1kI72cwXWJiAwTpo7eSBlsDCBAzWQKuyAoMlCRisAyswWJqAwTpwEQcsTcBgLbiIA5Yl\\\n",
       "YNDTMJx5uLVWrfk4wjJ8YqCj4dijVGBVBAw6Go/nNY7j1GPAE0HAoCMrMFgdAYOOTp4FZgUGqyBg\\\n",
       "0NFoBQYrI2DQ0XA8twCDFREw6OhkBaZgsAoCBh0dPrh/5lWIm5efrtbaBBNBLrf+wznt7u7W7u7p\\\n",
       "h1SeZeP9N2s2nr6ZeX94qn77xu/qZFvfL7azs1PXr19fdkx44rQLdE/KhfmL0tcrr7xSL7/88kKv\\\n",
       "/fEPv1s/+N7OqeO/+NU79dOf/6aOh//9a/raa6/V888/v/Sc8Dlil/5WYNDZ0bBV73/6rfrk+Gpd\\\n",
       "3fxHbV/6ax0eHdfF+b8krIaAQUdH46W6+/H3699HX6uxWrXaqf/Mn6mHR29PPRrEcREHdPTnT75T\\\n",
       "/zr6eo01q6pWY23Uew+/Xe89eLZGZ7lhKQIGHc3HrXr0K4exZnVw1HxLC0sSMOjoqdl+PVqqWc2r\\\n",
       "He/rFyxJwKCjb37pbj17+fe10Q6raqyt9rBuXXm9rrW/TD0axLkwF3Hs7e1NPQJPqP39/YVf+8vX\\\n",
       "/1h/+PtP6qOjr9bB8HR9eeNevbH5z3rrTx8s/Gfcu3fP7zMrs729PfUIj+3CBOzVV1+degSeUHfv\\\n",
       "3l34tW+/u1dvv7tXVe889vvduXNHwFiZl156aeoRHtuFCVjyPxLr7eDgoG7fvt3t/V588UU3MkP5\\\n",
       "DgyAUAIGQCQBAyCSgAEQScAAiCRgAES6MJfRw//LrVu36oUXXuj2fjdv3uz2XrDOPNAS4GKLfaCl\\\n",
       "U4gARBIwACIJGACRBAyASAIGQCQBAyCSgAEQScAAiCRgAEQSMAAiCRgAkQQMgEgCBkAkAQMgkoAB\\\n",
       "EEnAAIgkYABEEjAAIgkYAJEEDIBIAgZAJAEDIJKAARBJwACIJGAARBIwACIJGACRBAyASAIGQCQB\\\n",
       "AyCSgAEQScAAiCRgAEQSMAAiCRgAkQQMgEgCBkAkAQMgkoABEEnAAIgkYABEEjAAIgkYAJEEDIBI\\\n",
       "AgZApM2pB+ioTT0AAKtjBQZAJAEDIJKAARBJwACIJGAARBIwACIJGACRBAyASAIGQCQBAyCSgAEQ\\\n",
       "ScAAiCRgAEQSMAAiCRgAkQQMgEgCBkAkAQMgkoABEEnAAIgkYABEEjAAIgkYAJEEDIBIAgZAJAED\\\n",
       "IJKAARBJwACIJGAARBIwACIJGACRBAyASAIGQCQBAyCSgAEQ6b+jRU/YJHzQWAAAAABJRU5ErkJg\\\n",
       "gg==\\\n",
       "\"\n",
       "  frames[1] = \"data:image/png;base64,iVBORw0KGgoAAAANSUhEUgAAAbAAAAEgCAYAAADVKCZpAAAAOXRFWHRTb2Z0d2FyZQBNYXRwbG90\\\n",
       "bGliIHZlcnNpb24zLjUuMiwgaHR0cHM6Ly9tYXRwbG90bGliLm9yZy8qNh9FAAAACXBIWXMAAAsT\\\n",
       "AAALEwEAmpwYAAAIVklEQVR4nO3dv29dZx3H8e9zbSspKSQZ0hgJVFhQLDZm6MLaoXSFf6MDU6Wu\\\n",
       "iL+iA0Ji60SWCAkhWlS1GahAlF+1qpofbYLq1Kl9fQ6DO8VuuTe+POd+4tdrPL7K/Ubx1TvPuec8\\\n",
       "p43jWACQZjb1AADwOAQMgEgCBkAkAQMgkoABEEnAAIgkYABEEjAAIgkYAJEEDIBIAgZAJAEDIJKA\\\n",
       "ARBJwACIJGAARBIwACIJGACRBAyASAIGQCQBAyCSgAEQScAAiCRgAEQSMAAiCRgAkQQMgEgCBkAk\\\n",
       "AQMgkoABEEnAAIgkYABEEjAAIgkYAJEEDIBIm1MP0NE49QAAa6hNPcDjsgIDIJKAARBJwACIJGAA\\\n",
       "RBIwACIJGACRBAyASAIGQCQBAyCSgAEQScAAiCRgAEQSMAAiCRgAkQQMgEgCBkAkAQMgkoABEEnA\\\n",
       "AIgkYABEEjAAIgkYAJEEDIBIAgZAJAEDIJKAARBJwACIJGAARBIwACIJGACRBAyASAIGQCQBAyCS\\\n",
       "gAEQScAAiCRgAEQSMAAiCRgAkQQMgEgCBkAkAQMgkoABEEnAAIgkYABEEjAAIgkYAJEEDIBIAgZA\\\n",
       "JAEDIJKAARBJwACIJGAARBIwACIJGACRBAyASAIGQCQBAyCSgAEQScAAiCRgAEQSMAAiCRgAkQQM\\\n",
       "gEgCBkAkAQMgkoABEEnAAIgkYABEEjAAIgkYAJEEDIBIAgZAJAEDIJKAARBJwACIJGAARBIwACIJ\\\n",
       "GACRBAyASAIGQCQBAyCSgAEQScAAiCRgAEQSMAAiCRgAkQQMgEgCBkAkAQMgkoABEEnAAIi0OfUA\\\n",
       "cBEdPrhfD+/vnTq+deVaPXVte4KJII+AQWfjONa9v71V7/36Z6d+dmPnufrGcz+aYCrI4xQiTGA8\\\n",
       "nk89AsQTMJjAMD+aegSIJ2DQ3WgFBisgYNDbWDUMVmBwXgIG3VmBwSoIGEzAd2BwfgIGnY1VNViB\\\n",
       "wbkJGPQ2HNfD+x+cPt5mdenqM/3ngVACBp2N41iffvzhqeOtzeryV25MMBFkEjBYI21ja+oRIIaA\\\n",
       "wbpoVbNNAYNFCRisjVZtZntSWJSAwRqZOYUICxMwWBOttZptWIHBogQM1oiLOGBxAgZrZLZpBQaL\\\n",
       "EjDobByHOtmP41GtWtvoPQ7EEjDobDyen90vYCkCBp2d7ESvYHBeAgadDcO8xlHA4LwEDDqzAoPV\\\n",
       "EDDobDieV1mBwbkJGHQ2Hh8JGKyAgEFn4zB3AhFWQMCgs08+er+G+eGp45evbVezlRQsTMCgs/nB\\\n",
       "ftU4nDq+deVqtZkbmWFRAgZrYraxVa21qceAGAIGa+LkWWACBosSMFgTs43NKiswWJiAwZpoAgZL\\\n",
       "ETBYE7ONTScQYQkCBmvCCgyWI2DQ0ckmvmffxtxmW+UiDlicgEFnn7cTfZv5OMIyfGKgq/Gz3ejP\\\n",
       "5j4wWJyAQU/jeLIbPXBuAgYdjVU1DkdTjwFPBAGDnsYvPoUILE7AoCenEGFlBAy6sgKDVREw6Ggc\\\n",
       "xxoGAYNVEDDoaByHmj98cPoHrdXG1uX+A0EwAYOOhvlhHXy4e+r4bPNSXbnx7AQTQS4BgzXQWvvs\\\n",
       "eWDAogQM1kI72cwXWJiAwTpo7eSBlsDCBAzWQKuyAoMlCRisAyswWJqAwTpwEQcsTcBgLbiIA5Yl\\\n",
       "YNDTMJx5uLVWrfk4wjJ8YqCj4dijVGBVBAw6Go/nNY7j1GPAE0HAoCMrMFgdAYOOTp4FZgUGqyBg\\\n",
       "0NFoBQYrI2DQ0XA8twCDFREw6OhkBaZgsAoCBh0dPrh/5lWIm5efrtbaBBNBLrf+wznt7u7W7u7p\\\n",
       "h1SeZeP9N2s2nr6ZeX94qn77xu/qZFvfL7azs1PXr19fdkx44rQLdE/KhfmL0tcrr7xSL7/88kKv\\\n",
       "/fEPv1s/+N7OqeO/+NU79dOf/6aOh//9a/raa6/V888/v/Sc8Dlil/5WYNDZ0bBV73/6rfrk+Gpd\\\n",
       "3fxHbV/6ax0eHdfF+b8krIaAQUdH46W6+/H3699HX6uxWrXaqf/Mn6mHR29PPRrEcREHdPTnT75T\\\n",
       "/zr6eo01q6pWY23Uew+/Xe89eLZGZ7lhKQIGHc3HrXr0K4exZnVw1HxLC0sSMOjoqdl+PVqqWc2r\\\n",
       "He/rFyxJwKCjb37pbj17+fe10Q6raqyt9rBuXXm9rrW/TD0axLkwF3Hs7e1NPQJPqP39/YVf+8vX\\\n",
       "/1h/+PtP6qOjr9bB8HR9eeNevbH5z3rrTx8s/Gfcu3fP7zMrs729PfUIj+3CBOzVV1+degSeUHfv\\\n",
       "3l34tW+/u1dvv7tXVe889vvduXNHwFiZl156aeoRHtuFCVjyPxLr7eDgoG7fvt3t/V588UU3MkP5\\\n",
       "DgyAUAIGQCQBAyCSgAEQScAAiCRgAES6MJfRw//LrVu36oUXXuj2fjdv3uz2XrDOPNAS4GKLfaCl\\\n",
       "U4gARBIwACIJGACRBAyASAIGQCQBAyCSgAEQScAAiCRgAEQSMAAiCRgAkQQMgEgCBkAkAQMgkoAB\\\n",
       "EEnAAIgkYABEEjAAIgkYAJEEDIBIAgZAJAEDIJKAARBJwACIJGAARBIwACIJGACRBAyASAIGQCQB\\\n",
       "AyCSgAEQScAAiCRgAEQSMAAiCRgAkQQMgEgCBkAkAQMgkoABEEnAAIgkYABEEjAAIgkYAJEEDIBI\\\n",
       "AgZApM2pB+ioTT0AAKtjBQZAJAEDIJKAARBJwACIJGAARBIwACIJGACRBAyASAIGQCQBAyCSgAEQ\\\n",
       "ScAAiCRgAEQSMAAiCRgAkQQMgEgCBkAkAQMgkoABEEnAAIgkYABEEjAAIgkYAJEEDIBIAgZAJAED\\\n",
       "IJKAARBJwACIJGAARBIwACIJGACRBAyASAIGQCQBAyCSgAEQ6b+jRU/YJHzQWAAAAABJRU5ErkJg\\\n",
       "gg==\\\n",
       "\"\n",
       "  frames[2] = \"data:image/png;base64,iVBORw0KGgoAAAANSUhEUgAAAbAAAAEgCAYAAADVKCZpAAAAOXRFWHRTb2Z0d2FyZQBNYXRwbG90\\\n",
       "bGliIHZlcnNpb24zLjUuMiwgaHR0cHM6Ly9tYXRwbG90bGliLm9yZy8qNh9FAAAACXBIWXMAAAsT\\\n",
       "AAALEwEAmpwYAAAIVklEQVR4nO3dv29dZx3H8e9zbSspKSQZ0hgJVFhQLDZm6MLaoXSFf6MDU6Wu\\\n",
       "iL+iA0Ji60SWCAkhWlS1GahAlF+1qpofbYLq1Kl9fQ6DO8VuuTe+POd+4tdrPL7K/Ubx1TvPuec8\\\n",
       "p43jWACQZjb1AADwOAQMgEgCBkAkAQMgkoABEEnAAIgkYABEEjAAIgkYAJEEDIBIAgZAJAEDIJKA\\\n",
       "ARBJwACIJGAARBIwACIJGACRBAyASAIGQCQBAyCSgAEQScAAiCRgAEQSMAAiCRgAkQQMgEgCBkAk\\\n",
       "AQMgkoABEEnAAIgkYABEEjAAIgkYAJEEDIBIm1MP0NE49QAAa6hNPcDjsgIDIJKAARBJwACIJGAA\\\n",
       "RBIwACIJGACRBAyASAIGQCQBAyCSgAEQScAAiCRgAEQSMAAiCRgAkQQMgEgCBkAkAQMgkoABEEnA\\\n",
       "AIgkYABEEjAAIgkYAJEEDIBIAgZAJAEDIJKAARBJwACIJGAARBIwACIJGACRBAyASAIGQCQBAyCS\\\n",
       "gAEQScAAiCRgAEQSMAAiCRgAkQQMgEgCBkAkAQMgkoABEEnAAIgkYABEEjAAIgkYAJEEDIBIAgZA\\\n",
       "JAEDIJKAARBJwACIJGAARBIwACIJGACRBAyASAIGQCQBAyCSgAEQScAAiCRgAEQSMAAiCRgAkQQM\\\n",
       "gEgCBkAkAQMgkoABEEnAAIgkYABEEjAAIgkYAJEEDIBIAgZAJAEDIJKAARBJwACIJGAARBIwACIJ\\\n",
       "GACRBAyASAIGQCQBAyCSgAEQScAAiCRgAEQSMAAiCRgAkQQMgEgCBkAkAQMgkoABEEnAAIi0OfUA\\\n",
       "cBEdPrhfD+/vnTq+deVaPXVte4KJII+AQWfjONa9v71V7/36Z6d+dmPnufrGcz+aYCrI4xQiTGA8\\\n",
       "nk89AsQTMJjAMD+aegSIJ2DQ3WgFBisgYNDbWDUMVmBwXgIG3VmBwSoIGEzAd2BwfgIGnY1VNViB\\\n",
       "wbkJGPQ2HNfD+x+cPt5mdenqM/3ngVACBp2N41iffvzhqeOtzeryV25MMBFkEjBYI21ja+oRIIaA\\\n",
       "wbpoVbNNAYNFCRisjVZtZntSWJSAwRqZOYUICxMwWBOttZptWIHBogQM1oiLOGBxAgZrZLZpBQaL\\\n",
       "EjDobByHOtmP41GtWtvoPQ7EEjDobDyen90vYCkCBp2d7ESvYHBeAgadDcO8xlHA4LwEDDqzAoPV\\\n",
       "EDDobDieV1mBwbkJGHQ2Hh8JGKyAgEFn4zB3AhFWQMCgs08+er+G+eGp45evbVezlRQsTMCgs/nB\\\n",
       "ftU4nDq+deVqtZkbmWFRAgZrYraxVa21qceAGAIGa+LkWWACBosSMFgTs43NKiswWJiAwZpoAgZL\\\n",
       "ETBYE7ONTScQYQkCBmvCCgyWI2DQ0ckmvmffxtxmW+UiDlicgEFnn7cTfZv5OMIyfGKgq/Gz3ejP\\\n",
       "5j4wWJyAQU/jeLIbPXBuAgYdjVU1DkdTjwFPBAGDnsYvPoUILE7AoCenEGFlBAy6sgKDVREw6Ggc\\\n",
       "xxoGAYNVEDDoaByHmj98cPoHrdXG1uX+A0EwAYOOhvlhHXy4e+r4bPNSXbnx7AQTQS4BgzXQWvvs\\\n",
       "eWDAogQM1kI72cwXWJiAwTpo7eSBlsDCBAzWQKuyAoMlCRisAyswWJqAwTpwEQcsTcBgLbiIA5Yl\\\n",
       "YNDTMJx5uLVWrfk4wjJ8YqCj4dijVGBVBAw6Go/nNY7j1GPAE0HAoCMrMFgdAYOOTp4FZgUGqyBg\\\n",
       "0NFoBQYrI2DQ0XA8twCDFREw6OhkBaZgsAoCBh0dPrh/5lWIm5efrtbaBBNBLrf+wznt7u7W7u7p\\\n",
       "h1SeZeP9N2s2nr6ZeX94qn77xu/qZFvfL7azs1PXr19fdkx44rQLdE/KhfmL0tcrr7xSL7/88kKv\\\n",
       "/fEPv1s/+N7OqeO/+NU79dOf/6aOh//9a/raa6/V888/v/Sc8Dlil/5WYNDZ0bBV73/6rfrk+Gpd\\\n",
       "3fxHbV/6ax0eHdfF+b8krIaAQUdH46W6+/H3699HX6uxWrXaqf/Mn6mHR29PPRrEcREHdPTnT75T\\\n",
       "/zr6eo01q6pWY23Uew+/Xe89eLZGZ7lhKQIGHc3HrXr0K4exZnVw1HxLC0sSMOjoqdl+PVqqWc2r\\\n",
       "He/rFyxJwKCjb37pbj17+fe10Q6raqyt9rBuXXm9rrW/TD0axLkwF3Hs7e1NPQJPqP39/YVf+8vX\\\n",
       "/1h/+PtP6qOjr9bB8HR9eeNevbH5z3rrTx8s/Gfcu3fP7zMrs729PfUIj+3CBOzVV1+degSeUHfv\\\n",
       "3l34tW+/u1dvv7tXVe889vvduXNHwFiZl156aeoRHtuFCVjyPxLr7eDgoG7fvt3t/V588UU3MkP5\\\n",
       "DgyAUAIGQCQBAyCSgAEQScAAiCRgAES6MJfRw//LrVu36oUXXuj2fjdv3uz2XrDOPNAS4GKLfaCl\\\n",
       "U4gARBIwACIJGACRBAyASAIGQCQBAyCSgAEQScAAiCRgAEQSMAAiCRgAkQQMgEgCBkAkAQMgkoAB\\\n",
       "EEnAAIgkYABEEjAAIgkYAJEEDIBIAgZAJAEDIJKAARBJwACIJGAARBIwACIJGACRBAyASAIGQCQB\\\n",
       "AyCSgAEQScAAiCRgAEQSMAAiCRgAkQQMgEgCBkAkAQMgkoABEEnAAIgkYABEEjAAIgkYAJEEDIBI\\\n",
       "AgZApM2pB+ioTT0AAKtjBQZAJAEDIJKAARBJwACIJGAARBIwACIJGACRBAyASAIGQCQBAyCSgAEQ\\\n",
       "ScAAiCRgAEQSMAAiCRgAkQQMgEgCBkAkAQMgkoABEEnAAIgkYABEEjAAIgkYAJEEDIBIAgZAJAED\\\n",
       "IJKAARBJwACIJGAARBIwACIJGACRBAyASAIGQCQBAyCSgAEQ6b+jRU/YJHzQWAAAAABJRU5ErkJg\\\n",
       "gg==\\\n",
       "\"\n",
       "  frames[3] = \"data:image/png;base64,iVBORw0KGgoAAAANSUhEUgAAAbAAAAEgCAYAAADVKCZpAAAAOXRFWHRTb2Z0d2FyZQBNYXRwbG90\\\n",
       "bGliIHZlcnNpb24zLjUuMiwgaHR0cHM6Ly9tYXRwbG90bGliLm9yZy8qNh9FAAAACXBIWXMAAAsT\\\n",
       "AAALEwEAmpwYAAAILklEQVR4nO3dzY4cVxnH4bd6ZjL+AiKRRAZhySAZCW8sbiDKCslXwIY1d+Ar\\\n",
       "YMsNsLbFDjbJDrFAQmwdxayiCAISeMDC2IrHHz3ddVjMCs0Ed3uaU/3PPM+yejT9zqL1m1N9qmpo\\\n",
       "rRUApJlNPQAAvAkBAyCSgAEQScAAiCRgAEQSMAAiCRgAkQQMgEgCBkAkAQMgkoABEEnAAIgkYABE\\\n",
       "EjAAIgkYAJEEDIBIAgZAJAEDIJKAARBJwACIJGAARBIwACIJGACRBAyASAIGQCQBAyCSgAEQScAA\\\n",
       "iCRgAEQSMAAiCRgAkQQMgEgCBkAkAQMg0u7UA3TUph4AYAsNUw/wpqzAAIgkYABEEjAAIgkYAJEE\\\n",
       "DIBIAgZAJAEDIJKAARBJwACIJGAARBIwACIJGACRBAyASAIGQCQBAyCSgAEQScAAiCRgAEQSMAAi\\\n",
       "CRgAkQQMgEgCBkAkAQMgkoABEEnAAIgkYABEEjAAIgkYAJEEDIBIAgZAJAEDIJKAARBJwACIJGAA\\\n",
       "RBIwACIJGACRBAyASAIGQCQBAyCSgAEQScAAiCRgAEQSMAAiCRgAkQQMgEgCBkAkAQMgkoABEEnA\\\n",
       "AIgkYABEEjAAIgkYAJEEDIBIAgZAJAEDIJKAARBJwACIJGAARBIwACIJGACRBAyASAIGQCQBAyCS\\\n",
       "gAEQScAAiCRgAEQSMAAiCRgAkQQMgEgCBkAkAQMgkoABEEnAAIgkYABEEjAAIgkYAJEEDIBIAgZA\\\n",
       "JAEDIJKAARBJwACIJGAARBIwACIJGACRBAyASAIGQCQBAyCSgAEQScAAiCRgAEQSMAAi7U49AJxH\\\n",
       "88Mn9fLJwYnje5ffrotvX51gIsgjYNBZa63+/fnH9dff//LEa+/+4P26/v5PJpgK8jiFCBNo43Lq\\\n",
       "ESCegMEE2nIx9QgQT8Cgu2YFBhsgYDABAYOzEzDorVW10SlEOCsBgwmMSyswOCsBg+6aFRhsgIDB\\\n",
       "BHwHBmcnYDABAYOzEzDorLXmOjDYAAGDzlob69k//nTi+DDM6vJ71/sPBKEEDHprrZZHL08eH4ba\\\n",
       "3b/cfx4IJWCwNYYaZjtTDwExBAy2xVA17HhABKxKwGCLWIHB6gQMtoZTiLAOAYMtMsycQoRVCRhs\\\n",
       "iaGqZjtWYLAqAYNtMQxWYLAGAYMt4jswWJ2AwRaxAoPVCRhsjaEG34HBygQMOmvjWFXt1NeGGvoO\\\n",
       "A8EEDDpr4/LL+gWsQcCgs+OnMSsYnJWAQWfHKzABg7MSMOisjUvrL9gAAYPO2rgspxDh7AQMOrOJ\\\n",
       "AzZDwKAzKzDYDAGDztq4rGYTB5yZgEFnxysw4KwEDDobl4vTt9EP7sIB6xAw6Ozw0ec1Ll6dOH75\\\n",
       "3es1231rgokgk4BBZ225OPX4zt6+VRisQcBgSwyznRoEDFYmYLAljh9mKWCwKgGDLTHs7OgXrEHA\\\n",
       "YEscP41ZwWBVAgZbYpj5OMI6fGJgSwyzXZs4YA0CBlvCJg5Yj4DBlhhmNnHAOgQMtoQVGKxHwKCj\\\n",
       "47vQn34n+uOAAasSMOjsf92N3iYOWJ2AQVfN41RgQwQMemqeBwabImDQVau2FDDYBAGDjlprNTYB\\\n",
       "g00QMOjMCgw2Q8Cgp2YTB2yKgEFXAgabImDQUSu7EGFTBAx6cgoRNkbAoKfWaly8OvWlmVtJwVoE\\\n",
       "DDoaF6/q8NFfThyf7e3X5feu9x8IggkYdNSqqtp4yitDDTt7naeBbAIGW2AYBnejhzXtTj0ApFsu\\\n",
       "l3X//v2az+ev/dlh8aJ2luOJp34tFsv65MEfqy4+fO3vuHTpUt26dcud6zn3huPnE50L5+YPpa/D\\\n",
       "w8O6ceNGPXz4+vh88+sX69c/+3Fd3P/v04VPD1/WT3/+Yf354ZPX/o6bN2/WgwcPajZzAoWNiP1P\\\n",
       "yAoMuhvqydE7dTD/Xg011rf3P6vWDmqxPO27MeDLCBh01GqoR/Pv1KfzH9VR26+qqr+/+n59d/hI\\\n",
       "wGBNzkFAR/PxQn3y7IM6ahfq+MzNUC/HK/XxFx/UfOHjCOvwiYGuhlq2k9vlF+NeHVmBwVoEDDoa\\\n",
       "hrEuzA5PHL8w+6KWHrMCaxEw6Oit4WX98Gu/qSs7j2uosYZa1jd2/1m3rvy2xvFo6vEgyrnZxHFw\\\n",
       "cDD1CHxFvXjxosZxtdN/z17M6xe/+qgW9bv619G3ahhavbP3txqPntX8aLUV2GKxqIODA9vo2Yir\\\n",
       "V69OPcIbOzcBu3v37tQj8BU1n8/r+fPnK/3sq6NlffiHT8/0fk+fPq179+65kJmNuHPnztQjvDEX\\\n",
       "MsMZrXMh8ya4kJkNi/1PyCcAgEgCBkAkAQMgkoABEEnAAIgkYABEOjfXgcH/y+7ubt2+fbseP37c\\\n",
       "5f2uXbvW5X1g27kODOB8cx0YAPQkYABEEjAAIgkYAJEEDIBIAgZAJAEDIJKAARBJwACIJGAARBIw\\\n",
       "ACIJGACRBAyASAIGQCQBAyCSgAEQScAAiCRgAEQSMAAiCRgAkQQMgEgCBkAkAQMgkoABEEnAAIgk\\\n",
       "YABEEjAAIgkYAJEEDIBIAgZAJAEDIJKAARBJwACIJGAARBIwACIJGACRBAyASAIGQCQBAyCSgAEQ\\\n",
       "ScAAiCRgAEQSMAAiCRgAkQQMgEi7Uw/Q0TD1AABsjhUYAJEEDIBIAgZAJAEDIJKAARBJwACIJGAA\\\n",
       "RBIwACIJGACRBAyASAIGQCQBAyCSgAEQScAAiCRgAEQSMAAiCRgAkQQMgEgCBkAkAQMgkoABEEnA\\\n",
       "AIgkYABEEjAAIgkYAJEEDIBIAgZAJAEDIJKAARBJwACIJGAARBIwACIJGACRBAyASAIGQKT/AN42\\\n",
       "ZFXAuLv0AAAAAElFTkSuQmCC\\\n",
       "\"\n",
       "  frames[4] = \"data:image/png;base64,iVBORw0KGgoAAAANSUhEUgAAAbAAAAEgCAYAAADVKCZpAAAAOXRFWHRTb2Z0d2FyZQBNYXRwbG90\\\n",
       "bGliIHZlcnNpb24zLjUuMiwgaHR0cHM6Ly9tYXRwbG90bGliLm9yZy8qNh9FAAAACXBIWXMAAAsT\\\n",
       "AAALEwEAmpwYAAAGoklEQVR4nO3dMY8cZx3A4Xfu9i72JSSKU8SYDiRcGeFvAJIbWhrEB3FJhfgO\\\n",
       "FHQuLCrokCIXlCC5wGlcOEoRoWBHIlix47NztzsUoXFcnHOYHX6+5+n21Wj2f8Xqt7Mzr26a53kA\\\n",
       "QM3O0gMAwGkIGABJAgZAkoABkCRgACQJGABJAgZAkoABkCRgACQJGABJAgZAkoABkCRgACQJGABJ\\\n",
       "AgZAkoABkCRgACQJGABJAgZAkoABkCRgACQJGABJAgZAkoABkCRgACQJGABJAgZAkoABkCRgACQJ\\\n",
       "GABJAgZAkoABkCRgACQJGABJq6UH2KJ56QEA/g9NSw9wWq7AAEgSMACSBAyAJAEDIEnAAEgSMACS\\\n",
       "BAyAJAEDIEnAAEgSMACSBAyAJAEDIEnAAEgSMACSBAyAJAEDIEnAAEgSMACSBAyAJAEDIEnAAEgS\\\n",
       "MACSBAyAJAEDIEnAAEgSMACSBAyAJAEDIEnAAEgSMACSBAyAJAEDIEnAAEgSMACSBAyAJAEDIEnA\\\n",
       "AEgSMACSBAyAJAEDIEnAAEgSMACSBAyAJAEDIEnAAEgSMACSBAyAJAEDIEnAAEgSMACSBAyAJAED\\\n",
       "IEnAAEgSMACSBAyAJAEDIEnAAEgSMACSBAyAJAEDIEnAAEgSMACSBAyAJAEDIEnAAEgSMACSBAyA\\\n",
       "JAEDIEnAAEgSMACSBAyAJAEDIEnAAEgSMACSBAyAJAEDIEnAAEgSMACSBAyAJAEDIEnAAEgSMACS\\\n",
       "BAyAJAEDIEnAAEgSMACSBAyAJAEDIEnAAEgSMACSBAyApNXSA8BZM2824/FnH495ffzc+jTtjDff\\\n",
       "//7Y2fWxhJfhkwJbtlkfjY8++O04PvziufWd1RvjR7/8zdg5eHuhyaDFT4gAJAkYAEkCBkCSgAGQ\\\n",
       "JGAAJAkYAEkCBkCSgAGQJGAAJAkYAEkCBkCSgAGQJGAAJAkYAEkCBkCSgAGQJGAAJAkYAEkCBkCS\\\n",
       "gAGQJGAAJAkYAEkCBkCSgAGQJGAAJAkYAEkCBkCSgAGQJGAAJAkYAEkCBkCSgAGQJGAAJAkYAEkC\\\n",
       "BkCSgAGQJGAAJAkYAEkCBkCSgAGQJGAAJAkYAEkCBkCSgAGQJGAAJAkYAEkCBkCSgAGQJGAAJAkY\\\n",
       "AEkCBkCSgAGQJGAAJAkYAEkCBkCSgAGQJGAAJAkYAEkCBkDSaukB4HUwz/O4c+fOePLkyYnHTpvj\\\n",
       "sXt0NKZvrK8363H79u0xr86deI79/f1x9erVsbu7e8qJoW+a53npGbblzPyhbN96vR5XrlwZd+/e\\\n",
       "PfHYc/ur8Ydf/2K8987Bc+tPnh6Nn//q9+PzR4cnnuPSpUvj3r174+Dg4MRj4QTf/C6V4QoMFvLo\\\n",
       "+N3x6bMfjHnsjO/ufzz2xj+WHglSBAwW8K/j98cnX/xsPNu8OcYY4+9PL48f7n+w8FTQ4iEO2LL1\\\n",
       "vBofPvrpeLZ5a3z96800jubz48NHPxlfzSff/wK+JmCwgPW898La8bw35jl7OwK2TsBgy6Yxj3O7\\\n",
       "j19YP7fz5diZNgtMBE0CBlu2M63Hj79za7yz+mxMYz2msRlv7X4+rr59a+xNz5YeDzLOzEMc9+/f\\\n",
       "X3oEXmObzWas1+uXOvboeD1+98dbY1r9Zfzz6Htjnqfx3t6n48/j8fjy6VcvdY71ej0ePHgwzp8/\\\n",
       "/9+MDePixYtLj3BqZyZgN27cWHoEXmPzPI+HDx++1LHrzTz+9NeP/vPqb6d6v8PDw3Hz5s2xt/fi\\\n",
       "vTT4Nq5fv770CKdmIzO8At9mI/OrYCMzr1D2ySH3wABIEjAAkgQMgCQBAyBJwABIEjAAks7MPjD4\\\n",
       "X5qmaVy7dm1cvnx5K+934cIF/8ySM88+MICzzT4wANgmAQMgScAASBIwAJIEDIAkAQMgScAASBIw\\\n",
       "AJIEDIAkAQMgScAASBIwAJIEDIAkAQMgScAASBIwAJIEDIAkAQMgScAASBIwAJIEDIAkAQMgScAA\\\n",
       "SBIwAJIEDIAkAQMgScAASBIwAJIEDIAkAQMgScAASBIwAJIEDIAkAQMgScAASBIwAJIEDIAkAQMg\\\n",
       "ScAASBIwAJIEDIAkAQMgScAASBIwAJIEDICk1dIDbNG09AAAvDquwABIEjAAkgQMgCQBAyBJwABI\\\n",
       "EjAAkgQMgCQBAyBJwABIEjAAkgQMgCQBAyBJwABIEjAAkgQMgCQBAyBJwABIEjAAkgQMgCQBAyBJ\\\n",
       "wABIEjAAkgQMgCQBAyBJwABIEjAAkgQMgCQBAyBJwABIEjAAkgQMgCQBAyBJwABIEjAAkgQMgKR/\\\n",
       "A8HNtJon/P04AAAAAElFTkSuQmCC\\\n",
       "\"\n",
       "  frames[5] = \"data:image/png;base64,iVBORw0KGgoAAAANSUhEUgAAAbAAAAEgCAYAAADVKCZpAAAAOXRFWHRTb2Z0d2FyZQBNYXRwbG90\\\n",
       "bGliIHZlcnNpb24zLjUuMiwgaHR0cHM6Ly9tYXRwbG90bGliLm9yZy8qNh9FAAAACXBIWXMAAAsT\\\n",
       "AAALEwEAmpwYAAAIOElEQVR4nO3dMY8dVxnH4Xfu3fXaziZRjOVYASpEkYICp156JFLzRfAH4HPQ\\\n",
       "IKWz6BBdJCQIoooSRaEAYaSAAsa2Inmd2LF3Zw7FpkG7xrO7VzPzZ5+nssZXu6+Lq5/PuWfmdq21\\\n",
       "AoA0q7kHAICzEDAAIgkYAJEEDIBIAgZAJAEDIJKAARBJwACIJGAARBIwACIJGACRBAyASAIGQCQB\\\n",
       "AyCSgAEQScAAiCRgAEQSMAAiCRgAkQQMgEgCBkAkAQMgkoABEEnAAIgkYABEEjAAIgkYAJEEDIBI\\\n",
       "AgZAJAEDIJKAARBJwACIJGAARBIwACJtzT3AhNrcAwAsUDf3AGdlBQZAJAEDIJKAARBJwACIJGAA\\\n",
       "RBIwACIJGACRBAyASAIGQCQBAyCSgAEQScAAiCRgAEQSMAAiCRgAkQQMgEgCBkAkAQMgkoABEEnA\\\n",
       "AIgkYABEEjAAIgkYAJEEDIBIAgZAJAEDIJKAARBJwACIJGAARBIwACIJGACRBAyASAIGQCQBAyCS\\\n",
       "gAEQScAAiCRgAEQSMAAiCRgAkQQMgEgCBkAkAQMgkoABEEnAAIgkYABEEjAAIgkYAJEEDIBIAgZA\\\n",
       "JAEDIJKAARBJwACIJGAARBIwACIJGACRBAyASAIGQCQBAyCSgAEQScAAiCRgAEQSMAAiCRgAkQQM\\\n",
       "gEgCBkAkAQMgkoABEEnAAIgkYABEEjAAIgkYAJEEDIBIAgZAJAEDIJKAARBJwACIJGAARBIwACIJ\\\n",
       "GACRBAyASAIGQCQBAyCSgAEQScAAiCRgAEQSMAAiCRgAkQQMgEgCBkAkAQMgkoABEGlr7gHgonm2\\\n",
       "/7CePX547PrOa9dr59XrM0wEmQQMJvbwL3+sf37462PX33rnJ/XWO+9W13UzTAV5bCHCQrShn3sE\\\n",
       "iCJgsBBt6Ktam3sMiCFgsBBHKzABg7EEDBbCFiKcjoDBQgx9X80WIowmYLAQVmBwOgIGC9GGQ4c4\\\n",
       "4BQEDBbCIQ44HQGDhWhDL19wCgIGC+E+MDgdAYOJXb3+3Vqtt49d/+rBZzUcPp9hIsgkYDCx9aWr\\\n",
       "Vavjb73h4JkVGJyCgMHEutW6qjywF85LwGBi3WrtifOwAQIGE1ut1nOPAP8XBAymZgsRNkLAYGLd\\\n",
       "al1lCxHOTcBgYrYQYTMEDCbWrR3igE0QMJhYZwUGGyFgMLGu8xkYbIKAwcS69f86hehJHDCWgMHk\\\n",
       "XhyvNgyTTgLJBAwWxLcyw3gCBgsyDIdzjwAxBAyWorVqvRUYjCVgsBCtqpoVGIwmYLAgPgOD8QQM\\\n",
       "FsQKDMYTMFiMVoPPwGA0AYOlaLYQ4TQEDBbEFiKMJ2Awg5OfRt+q9QIGYwkYTKxbrWv3ze8du96G\\\n",
       "vr6899cZJoJMAgYT67qu1tuXT/y7wQoMRhMwmMHRE+mB8xAwmEG32pp7BIgnYDC5zrcywwYIGMyg\\\n",
       "W1uBwXkJGEytKysw2AABgxmsfAYG5yZgMLnOKUTYAAGDGdhChPMTMJiBY/RwfgIGM3jxCqxVa23S\\\n",
       "WSCVgMHETn6Q75E2DFUlYDCGgMGCtDZUWYHBKAIGC9KG3hYijCRgsCBH38gsYDCGgMGCtMEWIowl\\\n",
       "YLAgthBhPAGDBWnNFiKMJWCwIG3obSHCSAIGSzIMthBhJAGDBXEKEcYTMJjB0aOkjj+RY+gPvnka\\\n",
       "B/AyAgYzuPqtb9fW5VeOXX/6xefVP3syw0SQR8BgBt1qu+qEZyK2NlSzhQijCBjMoFutqjthCxEY\\\n",
       "z5cSwQZ9+umntb+///IXPtuvrYODYwlrrerjjz6utvPaS3/Eer2uW7du1fb29tmGhXDdBTqye2H+\\\n",
       "ocxnb2+vPvjgg5e+7ua13frFz96tN6/t/tf1fhjqpz//Vf39349e+jN2d3fr7t27dePGjTPPC3XS\\\n",
       "aaIQVmAwg74fqrWqr/rX6vOvv199bdWblz6r19f/mns0iCFgMIPDYahHh2/Unx/9uJ4MR9uF//j6\\\n",
       "7Xr76u8q+D/EMCmHOGAGh32rTx7/qJ4Mr9dRsLrq26X605d79aR/de7xIIKAwQwO+1YH/fHDF33b\\\n",
       "quZtCaN4p8AM+mGondXjY9cvrZ7Wug5nmAjyCBjMoO/7+sErv61r259XV311NdSV1X798NX36/L6\\\n",
       "y7nHgwgX5hDHvXv35h6BC+D58+ejXtcPrX75m9/X5csf1cOD79TQ1vXG9r36w+pxfbH/dNTPaK3V\\\n",
       "gwcPavDsRM7h5s2bc49wZhcmYO+9997cI3AB3L9/f/Rr3//wb9/86ZMz/a6Dg4O6c+dO7e7uvvzF\\\n",
       "8AK3b9+ee4QzcyMzbNDYG5k3wY3MbEjsfRs+AwMgkoABEEnAAIgkYABEEjAAIgkYAJEuzH1gMIW9\\\n",
       "vb26fv36JL/rypUrtbOzM8nvgiVyHxjAxeY+MACYkoABEEnAAIgkYABEEjAAIgkYAJEEDIBIAgZA\\\n",
       "JAEDIJKAARBJwACIJGAARBIwACIJGACRBAyASAIGQCQBAyCSgAEQScAAiCRgAEQSMAAiCRgAkQQM\\\n",
       "gEgCBkAkAQMgkoABEEnAAIgkYABEEjAAIgkYAJEEDIBIAgZAJAEDIJKAARBJwACIJGAARBIwACIJ\\\n",
       "GACRBAyASAIGQCQBAyCSgAEQScAAiCRgAEQSMAAibc09wIS6uQcAYHOswACIJGAARBIwACIJGACR\\\n",
       "BAyASAIGQCQBAyCSgAEQScAAiCRgAEQSMAAiCRgAkQQMgEgCBkAkAQMgkoABEEnAAIgkYABEEjAA\\\n",
       "IgkYAJEEDIBIAgZAJAEDIJKAARBJwACIJGAARBIwACIJGACRBAyASAIGQCQBAyCSgAEQScAAiCRg\\\n",
       "AEQSMAAi/QfhZ1kGFwpazAAAAABJRU5ErkJggg==\\\n",
       "\"\n",
       "  frames[6] = \"data:image/png;base64,iVBORw0KGgoAAAANSUhEUgAAAbAAAAEgCAYAAADVKCZpAAAAOXRFWHRTb2Z0d2FyZQBNYXRwbG90\\\n",
       "bGliIHZlcnNpb24zLjUuMiwgaHR0cHM6Ly9tYXRwbG90bGliLm9yZy8qNh9FAAAACXBIWXMAAAsT\\\n",
       "AAALEwEAmpwYAAAIj0lEQVR4nO3dQYtdZx3H8f+5985MYjrWmrGWqiBCrLiQIkLAV6AIQt+ES3d9\\\n",
       "GW58CwXXDd25EhG0VRfqIkE3pmlLMTHYpNNm5t57jot0UyaZuZkZznN+nc9nFc695P6zePjyPDnn\\\n",
       "3m4YhgKANLPWAwDAaQgYAJEEDIBIAgZAJAEDIJKAARBJwACIJGAARBIwACIJGACRBAyASAIGQCQB\\\n",
       "AyCSgAEQScAAiCRgAEQSMAAiCRgAkQQMgEgCBkAkAQMgkoABEEnAAIgkYABEEjAAIgkYAJEEDIBI\\\n",
       "AgZAJAEDIJKAARBJwACIJGAARBIwACIJGACRFq0HGNHQegCACepaD3BadmAARBIwACIJGACRBAyA\\\n",
       "SAIGQCQBAyCSgAEQScAAiCRgAEQSMAAiCRgAkQQMgEgCBkAkAQMgkoABEEnAAIgkYABEEjAAIgkY\\\n",
       "AJEEDIBIAgZAJAEDIJKAARBJwACIJGAARBIwACIJGACRBAyASAIGQCQBAyCSgAEQScAAiCRgAEQS\\\n",
       "MAAiCRgAkQQMgEgCBkAkAQMgkoABEEnAAIgkYABEEjAAIgkYAJEEDIBIAgZAJAEDIJKAARBJwACI\\\n",
       "JGAARBIwACIJGACRBAyASAIGQCQBAyCSgAEQScAAiCRgAEQSMAAiCRgAkQQMgEgCBkAkAQMgkoAB\\\n",
       "EEnAAIgkYABEEjAAIgkYAJEEDIBIAgZAJAEDIJKAARBJwACIJGAARBIwACIJGACRBAyASAIGQCQB\\\n",
       "AyCSgAEQScAAiCRgAEQSMAAiCRgAkQQMgEgCBkAkAQMgkoABEEnAAIgkYABEEjAAIgkYAJEWrQeA\\\n",
       "i+bgwb06eHjvyPWdL+/Vzu5eg4kgk4DByO7984/1wV/fOnL95R/+rF7+0c+r67oGU0EeR4gwEf16\\\n",
       "WTUMrceAGAIGE9GvllUlYLApAYOJ6NfLGuzAYGMCBhPRrxwhwrMQMJiIYX1YjhBhcwIGI5ttbVfV\\\n",
       "0TsNV4/2a+j78QeCUAIGI7vytW9/FrHP2797u/rVYYOJIJOAwchm8+3qnrADA56NgMHIZoutKg8r\\\n",
       "w5kJGIysmwsYnAcBg5HNFlvVdZYenJVVBCObzbfqSXchAs9GwGBks2OPED0HBpsSMBjbMfHq16tR\\\n",
       "R4FkAgYT4jkw2JyAwUQMwyBg8AwEDCbk8U+qAJsQMJiMofq1HRhsSsBgKgb/BwbPQsBgZF03q0vP\\\n",
       "f/3I9WFY16f3P2gwEWQSMBhZN5vVpedfPPrCMNThx/fHHwhCCRg0MFsc/TkV4NkIGIyue/yN9MCZ\\\n",
       "CBiMrbMDg/MgYDC6TsDgHAgYNDCbCxiclYBBA9188eQXhqGGwTfSwyYEDEbWHfNrzH2/qhr6EaeB\\\n",
       "XAIGE9KvlnZgsCEBgwkZ1ks7MNiQgMGE9P2qBgGDjQgYTMiwXtXQO0KETQgYNPC0Gzn6lSNE2JSA\\\n",
       "QQOXv/rNmu9cOXL9k//eqdXBxw0mgjwCBg3Mt3dqNpsfuT70K3chwoYEDBroZltVneUHZ2EFQQOz\\\n",
       "+aK6meUHZ2EFQQPdfFF1zDdyACcTMGhgNt+qzhEinIkVBA1084WAwRlZQdBA182qnnKCOKxX4w4D\\\n",
       "oQQMJqZfHbYeASIIGEzJIGCwKQGDiREw2IyAwcQIGGxGwGBi+tWy9QgQQcCgha5qcWn3CS8Mdbh/\\\n",
       "f/RxIJGAQRNdPffid574yv7d2yPPApkEDBqZLbZbjwDRBAwamS22Wo8A0QQMGrEDg7MRMGikW+y0\\\n",
       "HgGiCRg0MneECGciYNDIcUeIwzCMOAlkEjBooDvmxyyHfl019CNOA5kEDCZmWK9q6AUMTiJgMDF9\\\n",
       "v3q8CwOOJWAwMcN6XcMgYHASAYOJGXpHiLCJResB4Ivm1q1bdf/+yV/IO3vwbs2fcH3/44f1lz+/\\\n",
       "U8Pi8ol/R9d19eqrr9blyye/F75ougt0u+6F+YfS1muvvVZvvvnmie975VtX69e//Gm9sPv5+Ox/\\\n",
       "eli/+NVb9a/3To7gfD6vmzdv1rVr1047Ljz9ltiJswODRh58clD7j5Z16Ut79f7Bd2vZ79Te9nt1\\\n",
       "9dL7dWnL0oSTWCXQyHLV18Plc/XvBz+ph+sXqqqrdx99v7535e0a6kbr8WDy3MQBjazWff39ox/X\\\n",
       "w/XVerwUu+prUbf2r9eD1V7r8WDyBAwaWa7WdbA+egiyHubVW5pwIqsEGlmu+9qqj45c354d1KJb\\\n",
       "NpgIsggYNLJa9fXK5T/Ui9u3a1arquprZ7ZfP9j9Xe3OT74DES66C3MTx4cffth6BC6IR48ebfS+\\\n",
       "fhjqN799u57fvVn3Dr9Rq2G7vrL4T/1p/r96/97DjT/v7t27tbu7e9pxueBeeuml1iOc2oUJ2Btv\\\n",
       "vNF6BC6IO3fubPze3//t9md/+sepPmsYhrpx40bt7bnpg9N5/fXXW49wah5khnO26YPM58GDzJyD\\\n",
       "2AeZ/R8YAJEEDIBIAgZAJAEDIJKAARBJwACIdGGeA4OxXL9+fbTPms/ndeXKldE+D6bEc2AAF5vn\\\n",
       "wABgTAIGQCQBAyCSgAEQScAAiCRgAEQSMAAiCRgAkQQMgEgCBkAkAQMgkoABEEnAAIgkYABEEjAA\\\n",
       "IgkYAJEEDIBIAgZAJAEDIJKAARBJwACIJGAARBIwACIJGACRBAyASAIGQCQBAyCSgAEQScAAiCRg\\\n",
       "AEQSMAAiCRgAkQQMgEgCBkAkAQMgkoABEEnAAIgkYABEEjAAIgkYAJEEDIBIAgZAJAEDIJKAARBJ\\\n",
       "wACItGg9wIi61gMAcH7swACIJGAARBIwACIJGACRBAyASAIGQCQBAyCSgAEQScAAiCRgAEQSMAAi\\\n",
       "CRgAkQQMgEgCBkAkAQMgkoABEEnAAIgkYABEEjAAIgkYAJEEDIBIAgZAJAEDIJKAARBJwACIJGAA\\\n",
       "RBIwACIJGACRBAyASAIGQCQBAyCSgAEQScAAiCRgAEQSMAAi/R/5nFqTzKZoUwAAAABJRU5ErkJg\\\n",
       "gg==\\\n",
       "\"\n",
       "  frames[7] = \"data:image/png;base64,iVBORw0KGgoAAAANSUhEUgAAAbAAAAEgCAYAAADVKCZpAAAAOXRFWHRTb2Z0d2FyZQBNYXRwbG90\\\n",
       "bGliIHZlcnNpb24zLjUuMiwgaHR0cHM6Ly9tYXRwbG90bGliLm9yZy8qNh9FAAAACXBIWXMAAAsT\\\n",
       "AAALEwEAmpwYAAAJA0lEQVR4nO3dvW8kdx3H8e/srr22j0vikFweEIoQEuIpIl0qSlqUir8h/AFX\\\n",
       "8x/QR0g0aSmRolRpELlU0AQJcjqhkBAr4HAPvrO9T0MRmsTeeG1fZvaDX6/G0uye9mvJo7fnPL/5\\\n",
       "NW3bFgCkGfQ9AABchIABEEnAAIgkYABEEjAAIgkYAJEEDIBIAgZAJAEDIJKAARBJwACIJGAARBIw\\\n",
       "ACIJGACRBAyASAIGQCQBAyCSgAEQScAAiCRgAEQSMAAiCRgAkQQMgEgCBkAkAQMgkoABEEnAAIgk\\\n",
       "YABEEjAAIgkYAJEEDIBIAgZAJAEDIJKAARBp1PcAHWr7HgBgDTV9D3BRrsAAiCRgAEQSMAAiCRgA\\\n",
       "kQQMgEgCBkAkAQMgkoABEEnAAIgkYABEEjAAIgkYAJEEDIBIAgZAJAEDIJKAARBJwACIJGAARBIw\\\n",
       "ACIJGACRBAyASAIGQCQBAyCSgAEQScAAiCRgAEQSMAAiCRgAkQQMgEgCBkAkAQMgkoABEEnAAIgk\\\n",
       "YABEEjAAIgkYAJEEDIBIAgZAJAEDIJKAARBJwACIJGAARBIwACIJGACRBAyASAIGQCQBAyCSgAEQ\\\n",
       "ScAAiCRgAEQSMAAiCRgAkQQMgEgCBkAkAQMgkoABEEnAAIgkYABEEjAAIgkYAJEEDIBIAgZAJAED\\\n",
       "IJKAARBJwACIJGAARBIwACIJGACRBAyASAIGQCQBAyCSgAEQScAAiCRgAEQSMAAiCRgAkQQMgEgC\\\n",
       "BkAkAQMgkoABEEnAAIgkYABEEjAAIgkYAJEEDIBIAgZAJAEDIJKAARBJwACIJGAARBIwACKN+h4A\\\n",
       "rpp2Ma/59LgWs+PPv06Pql3M69qz36lm4HdKWJWAQYdmRw/rzju/rdnRQc0nRzWfHtVielSD0bh+\\\n",
       "/Itf1Wh8re8RIYaAQYcWi1k9+OdfazGbfOF4MxjWfHIkYHAO/r8C1kDbLmo+Pep7DIgiYLAG2sWi\\\n",
       "5hMBg/MQMOhQ0wxqtHX9xPHF9LgO9m73MBHkEjDo0GC0WTvPfPuUV9pazKedzwPJBAw61AwGNdzY\\\n",
       "6nsM+L8gYNChphnUcFPA4HEQMOhSM6jBsiuwtq22bbudB4IJGHRsMDx9+eVielwlYLAyAYMONU1T\\\n",
       "Vc2pr82nR9W2i24HgmACBmtiPjl0BQbnIGCwJqaH96tdzPseA2IIGHRse/eFaoYbJ44//PTvJ56R\\\n",
       "CCwnYNCx8RPPLr2RA1idgEHHhhtbVY1TDy7LWQQdG2xu/e9uROAyBAw6NhyNl1yBeR4inIeAQdeW\\\n",
       "XX217ee30gMrETBYE22VgME5CBisC1dgcC4CBh1rmqbG33j6xPG2XdTh3b0eJoJMAgYdawbD2v7m\\\n",
       "KZtatos6vvdp9wNBKAGDzjU13NzuewiIJ2DQtaZqNBYwuCwBg8591RWYTS1hVQIGPWgGSza1nE2q\\\n",
       "7AkGKxEw6NhXPUZqPj22pQqsSMBgjSwEDFYmYLBGpo/u2RMMViRg0IPt3RdquLlz4vjh3U9q5mkc\\\n",
       "sBIBgx5s7DxZg9Fm32NANAGDHgw2xtUMnH5wGc4g6MFwNK5mMOx7DIgmYNCDwWijmlM3taxq57OO\\\n",
       "p4FMAga9aKqWLAebHz/qdhQIJWCwTtpyFyKsSMBgzcwnrsBgFQIGfWiqtp564ZQX2nr4rw87HwcS\\\n",
       "CRj0oqnt3RdPfWVysN/xLJBJwKAnNrWEyxEw6MlofPJRUsDqBAx68lVXYDa1hLMJGPSgaZqlT+JY\\\n",
       "zKe2VIEVCBismcVs4mkcsAIBgzWzmE1rsRAwOIuAQW9Of5bU9NG9mh8/7HgWyCNg0JOtp27UxrWn\\\n",
       "ThyfPvxPzQ4Puh8IwggY9GS4uVPD0bjvMSCWgEFPBqPNaoajvseAWAIGPRmMNgQMLkHAoCfNYLR8\\\n",
       "LZi7EOFMAgY9aZpm2Z6WNT+2JxicRcBgDc3sCQZnEjBYQ/NjAYOzCBj0aOeZl049frB3u+NJII+A\\\n",
       "QY/GT9449fj08H7Hk0AeAYMejWxqCRcmYNCj4aZNLeGiBAx6NBzb1BIuymMA4Gtw586d2tvbO/N9\\\n",
       "zaNPTz0JH9y/V++9+8daLF0p9kUvv/xyXb9+/ZxTQrbmCv2Wd2W+Ufr3+uuv1xtvvHHm+37y3efq\\\n",
       "Nzd/fuL43/6xX7/89e/rweFkpc+7detWvfrqq+eeE2rZvj4BXIHBGjhebNXHR9+ro8W1enrjkxqN\\\n",
       "7tV4c1gPPJADlhIw6FHbVh3OtuvPBz+ru7MbVdXUh0c/rJ3pRo03364qBYNl3MQBPdr77KDevvP9\\\n",
       "ujt7rj4/HZtqa1gHWz+tnd0f9D0erDUBgx4dTWZ1/7Dqy3+GaAajapqNXmaCFAIGPZrM5tXM79aX\\\n",
       "7zEaNpPaGBz3MhOkEDDo0XQ2r5c23q0Xx7drUNOqamuzOawfXftD7Y7Ovg0frrIrcxPHKmty4HF5\\\n",
       "9Gi1p8nPF2397p0/1Y2n79T+5Fs1abfridG/673hft3++LOVP29/f9/POBfy/PPP9z3ChV2ZgL35\\\n",
       "5pt9j8AV8sEHH6z83lt/+aiqPqqq9y/8eW+99Va9//7F/z1X182bN/se4cIsZIavwaoLmR8XC5m5\\\n",
       "hNiFzP4GBkAkAQMgkoABEEnAAIgkYABEEjAAIl2ZdWDQpVdeeaVee+21zj5vd3e3s8+CdWEdGMDV\\\n",
       "Zh0YAHRJwACIJGAARBIwACIJGACRBAyASAIGQCQBAyCSgAEQScAAiCRgAEQSMAAiCRgAkQQMgEgC\\\n",
       "BkAkAQMgkoABEEnAAIgkYABEEjAAIgkYAJEEDIBIAgZAJAEDIJKAARBJwACIJGAARBIwACIJGACR\\\n",
       "BAyASAIGQCQBAyCSgAEQScAAiCRgAEQSMAAiCRgAkQQMgEgCBkAkAQMgkoABEEnAAIgkYABEEjAA\\\n",
       "IgkYAJFGfQ/QoabvAQB4fFyBARBJwACIJGAARBIwACIJGACRBAyASAIGQCQBAyCSgAEQScAAiCRg\\\n",
       "AEQSMAAiCRgAkQQMgEgCBkAkAQMgkoABEEnAAIgkYABEEjAAIgkYAJEEDIBIAgZAJAEDIJKAARBJ\\\n",
       "wACIJGAARBIwACIJGACRBAyASAIGQCQBAyCSgAEQScAAiCRgAET6LyVLhfwoYVxTAAAAAElFTkSu\\\n",
       "QmCC\\\n",
       "\"\n",
       "  frames[8] = \"data:image/png;base64,iVBORw0KGgoAAAANSUhEUgAAAbAAAAEgCAYAAADVKCZpAAAAOXRFWHRTb2Z0d2FyZQBNYXRwbG90\\\n",
       "bGliIHZlcnNpb24zLjUuMiwgaHR0cHM6Ly9tYXRwbG90bGliLm9yZy8qNh9FAAAACXBIWXMAAAsT\\\n",
       "AAALEwEAmpwYAAAJqElEQVR4nO3dS49kZR3H8f+pS3fP9LTcREFRXHgZjBtXLNy5ZkHYufU9kLhk\\\n",
       "73sgJrwDiSsiKxOJJioGcAFRZLgMwjAD9HRXd12OC+JCupqpafU8/bM/n+VTNel/Z7ryTVU95zld\\\n",
       "3/cFAGlGrQcAgLMQMAAiCRgAkQQMgEgCBkAkAQMgkoABEEnAAIgkYABEEjAAIgkYAJEEDIBIAgZA\\\n",
       "JAEDIJKAARBJwACIJGAARBIwACIJGACRBAyASAIGQCQBAyCSgAEQScAAiCRgAEQSMAAiCRgAkQQM\\\n",
       "gEgCBkAkAQMgkoABEEnAAIgkYABEEjAAIk1aDzCgvvUAAOdQ13qAs/IODIBIAgZAJAEDIJKAARBJ\\\n",
       "wACIJGAARBIwACIJGACRBAyASAIGQCQBAyCSgAEQScAAiCRgAEQSMAAiCRgAkQQMgEgCBkAkAQMg\\\n",
       "koABEEnAAIgkYABEEjAAIgkYAJEEDIBIAgZAJAEDIJKAARBJwACIJGAARBIwACIJGACRBAyASAIG\\\n",
       "QCQBAyCSgAEQScAAiCRgAEQSMAAiCRgAkQQMgEgCBkAkAQMgkoABEEnAAIgkYABEEjAAIgkYAJEE\\\n",
       "DIBIAgZAJAEDIJKAARBJwACIJGAARBIwACIJGACRBAyASAIGQCQBAyCSgAEQScAAiCRgAEQSMAAi\\\n",
       "CRgAkQQMgEgCBkAkAQMgkoABEEnAAIgkYABEEjAAIgkYAJEEDIBIAgZAJAEDIJKAARBJwACIJGAA\\\n",
       "RBIwACIJGACRBAyASAIGQCQBAyCSgAEQScAAiCRgAEQSMAAiCRgAkQQMgEgCBkAkAQMg0qT1AHCR\\\n",
       "9H1fq+W8VvNZLedHtZof1XJ+VNt7D9TW7r2tx4MoAgYDev+VX9fNv/6hlvPZZ/E6Pqzl/Kgeefyp\\\n",
       "+uoPflxd17UeEWIIGAxo9tF7tX/9jRPri8NPq6qvKgGDTfkODM6B+eHHVX3fegyIImAwoK29+6vW\\\n",
       "fEz4ydt/qX61bDAR5BIwGNDug9+qrhufWO9Xy+q9A4O7ImAwoMnO3tp3YMDdEzAY0OTSlbU7Dfu+\\\n",
       "9xEi3CUBgwF1o5MfH1ZV1WpZi6Pbww4D4QQMzoG+X9ViJmBwNwQMBjQajWu65sSN1WJes1vXhx8I\\\n",
       "ggkYDGg02arL9z9yYr1fLero0w8bTAS5BAyG1I1qsrPbegr4vyBgMKBuNK7x9vqAuRYM7o6AwcBG\\\n",
       "4/VHkC6PDqr61cDTQC4BgwF9dg3Y+guZF0e3q18JGGxKwGBop5zEcXjz3Vot5wMPA7kEDAa299C3\\\n",
       "azTdPrF+9PEH1S8XDSaCTAIGA5vu3nv6iRzAxgQMBjbZ3l17In3VZydyAJsRMBjYaLJ1yvdgfS2P\\\n",
       "DwafB1IJGJwTfb+q+eF+6zEghoBBA2tvqbJa1cGNtxpMA5kEDAbWjca197XvnXygX9XspgN9YVMC\\\n",
       "BgPrulFt7d7fegyIJ2AwtK6r6aUrpzzYOw8RNiRg0MBourN2fTU/dh4ibEjAYGDrNnD8y+L4oFZO\\\n",
       "44CNCBg0cFrElkcHjpOCDQkYNHDpgW/UZM19wW5/+FYtjlwLBpsQMGhgeulKdZOtE+v9amETB2xI\\\n",
       "wKCB8fblU29sCWxGwKCB8WS7um79y281Pxp4GsgkYNBEt/7GzH3V/PDTwaeBRAIGzax/+c0PPxl4\\\n",
       "DsgkYNBC19Xe17675oG+Prn26uDjQCIBg0a2du9bu75azgeeBDIJGDQyvfSl1iNANAGDRsbbl9eu\\\n",
       "96tl9avlwNNAHgGDBrquO/U4qdX8yMeIsAEBg3NmeXz42an0wBcSMGhkvL1bo8n2ifXDm+/W0f6N\\\n",
       "BhNBFgGDRnbuebCmu/eeWO9Xy6qVe4LBnQgYNDKe7tRoMm09BsQSMGhkNN2u0fjkifRVZRcibEDA\\\n",
       "oJGuG9VpN2eez9wTDO5EwOAcWswc6At3ImDQ0HT3/rXrBzfeGXgSyCNg0NDew99eu3740dsDTwJ5\\\n",
       "BAwach4inJ2AQUOTnSvrH+j76vt+2GEgjIBBQ91osnZ9tVzUauE4KfgiAgbn0GpxXMv5rPUYcK4J\\\n",
       "GDQ0nm7XeOvSifXF7NOa3741/EAQRMCgoenle2pr74ET64vZvoDBHQgYNDSabNV4utN6DIgkYNDQ\\\n",
       "aDI9NWB92YkIX0TAoKVuVN1o/ctweXw48DCQRcCgoe6003yranHoPET4IgIGza2P2MGNawPPAVkE\\\n",
       "DBr70iPfX7t++4O3qsp3YHCa9ccAAP+xa9eu1bVrd34X1d96v6Z18n3Y4eFBvfTblzZO2GOPPVb3\\\n",
       "3Xff3Y4JsQQM/keeffbZeuaZZ+74vKvf/HL94mdPVjf694T97c036yc//VFtuhHx+eefryeeeOIM\\\n",
       "k0ImAYPGZseLqqqar7bqnaPv1MHynrpn8n513Z9qezqu2fGy8YRwPgkYnAPzfrv+vP/jujF/pPrq\\\n",
       "qqvHauv4Ul25/KuaHduNCOvYxAHnwBsHP6wP59+ovkZV1VVf4zrceby+/uiPWo8G55aAQWO39mf1\\\n",
       "2luf1Oe3cYxG4xpPttoMBQEEDBqbHS/q9v4H9fkt86Na1NbILVXgNAIGjc0Xy3qwfl+P7rxa4+64\\\n",
       "qvqadrO6uvtSfWXr763Hg3PrwmziuH79eusRuGD29/c3et5y1dcvf/NKffP1n9dH84frcHWl9sY3\\\n",
       "63eTf9TLb2z+d3vr1i1/59y1hx56qPUIZ3ZhAvbcc8+1HoEL5uWXX974uX98/Xr98fXrVfXamX/e\\\n",
       "iy++WO+9996Z/z0X09NPP916hDO7MAFL/k8i08HBQb3wwguD/bynnnrKhcxcKL4DAyCSgAEQScAA\\\n",
       "iCRgAEQSMAAiCRgAkS7MNnoY2tWrV+vJJ58c7OclX5AKZ9H1m94tL9+F+UUB7sLnbwYew0eIAEQS\\\n",
       "MAAiCRgAkQQMgEgCBkAkAQMgkoABEEnAAIgkYABEEjAAIgkYAJEEDIBIAgZAJAEDIJKAARBJwACI\\\n",
       "JGAARBIwACIJGACRBAyASAIGQCQBAyCSgAEQScAAiCRgAEQSMAAiCRgAkQQMgEgCBkAkAQMgkoAB\\\n",
       "EEnAAIgkYABEEjAAIgkYAJEEDIBIAgZAJAEDIJKAARBJwACIJGAARBIwACIJGACRBAyASAIGQKRJ\\\n",
       "6wEG1LUeAID/Hu/AAIgkYABEEjAAIgkYAJEEDIBIAgZAJAEDIJKAARBJwACIJGAARBIwACIJGACR\\\n",
       "BAyASAIGQCQBAyCSgAEQScAAiCRgAEQSMAAiCRgAkQQMgEgCBkAkAQMgkoABEEnAAIgkYABEEjAA\\\n",
       "IgkYAJEEDIBIAgZAJAEDIJKAARBJwACIJGAARBIwACL9E2EgtAp9USbCAAAAAElFTkSuQmCC\\\n",
       "\"\n",
       "  frames[9] = \"data:image/png;base64,iVBORw0KGgoAAAANSUhEUgAAAbAAAAEgCAYAAADVKCZpAAAAOXRFWHRTb2Z0d2FyZQBNYXRwbG90\\\n",
       "bGliIHZlcnNpb24zLjUuMiwgaHR0cHM6Ly9tYXRwbG90bGliLm9yZy8qNh9FAAAACXBIWXMAAAsT\\\n",
       "AAALEwEAmpwYAAAJuklEQVR4nO3dvY8c9R3H8e/s7j3YZxssnsxTFIVEAaE0SEkf0lIg/oT8D/Qo\\\n",
       "DUX+BxrqFIQmEgldmhRJQCjCBiVCDrJ5Nufz3e7tw6SAFOHm7LWTzNxH93qVMyvv17JHb+3Ob3/T\\\n",
       "tG1bAJBmNPQAAHAvBAyASAIGQCQBAyCSgAEQScAAiCRgAEQSMAAiCRgAkQQMgEgCBkAkAQMgkoAB\\\n",
       "EEnAAIgkYABEEjAAIgkYAJEEDIBIAgZAJAEDIJKAARBJwACIJGAARBIwACIJGACRBAyASAIGQCQB\\\n",
       "AyCSgAEQScAAiCRgAEQSMAAiCRgAkQQMgEiToQfoUTv0AAAnUDP0APfKJzAAIgkYAJEEDIBIAgZA\\\n",
       "JAEDIJKAARBJwACIJGAARBIwACIJGACRBAyASAIGQCQBAyCSgAEQScAAiCRgAEQSMAAiCRgAkQQM\\\n",
       "gEgCBkAkAQMgkoABEEnAAIgkYABEEjAAIgkYAJEEDIBIAgZAJAEDIJKAARBJwACIJGAARBIwACIJ\\\n",
       "GACRBAyASAIGQCQBAyCSgAEQScAAiCRgAEQSMAAiCRgAkQQMgEgCBkAkAQMgkoABEEnAAIgkYABE\\\n",
       "EjAAIgkYAJEEDIBIAgZAJAEDIJKAARBJwACIJGAARBIwACIJGACRBAyASAIGQCQBAyCSgAEQScAA\\\n",
       "iCRgAEQSMAAiCRgAkQQMgEgCBkAkAQMgkoABEEnAAIgkYABEEjAAIgkYAJEEDIBIAgZAJAEDIJKA\\\n",
       "ARBJwACIJGAARBIwACIJGACRBAyASAIGQCQBAyCSgAEQScAAiCRgAEQSMAAiCRgAkQQMgEiToQeA\\\n",
       "06Rt21ot57WaT2s5n9VqPqvlfFZb5x+ozZ37hx4PoggY9OiT9/5QX/39z7WcT7+J1+FBLeezeuJn\\\n",
       "L9UjP3m+mqYZekSIIWDQo+mX12rv+odHjs8PdqvatkrAYG3ugcEJML91o6raoceAKAIGPdq88GDn\\\n",
       "p6yb1y7XarUcYCLIJWDQo3OPPFXNaHzkeLtafvMVIrA2AYMebZy5UFUd97natnyFCHdHwKBH483t\\\n",
       "zpWGbbuq5exggIkgl4BBn45ZZdiuVjWf7vU8DGQTMOhRU9V5D2y1mNXBF1f7HwiCCRj0aLSxXecu\\\n",
       "/fDI8Xa1rNnelwNMBLkEDHrUjMa1cfa+Y8+3ViLC2gQMetSMxjXZPtd5rl0tep4GsgkY9KhpmhqN\\\n",
       "NzrPLaa3ql2tep4IcgkYnBCHe1/5FAZ3QcCgZ1sXHqxmdHQf7ZvXrtRqPhtgIsgkYNCzMxcfq9Gk\\\n",
       "42tECzjgrggY9Gyyfa6axqUH/y1XEfRssrVT1fFj5qq2lvNp7/NAKgGDvh23nVTb1nx/t+dhIJeA\\\n",
       "wUnRrurQbhywNgGDnjWjUZ25+NiR4+1qWTevfzDARJBJwKBnTTOunYe+133SSkRYm4BB35qmJmcu\\\n",
       "dJ5q25X9EGFNAgYDGG9sdR5fHk7txgFrEjDo2TdPZO5eibic3ap2KWCwDgGDAYzGk87l9Ptf/LMW\\\n",
       "s1sDTAR5BAwGsPPQ92uyff7I8cVsr1Y+gcFaBAwGMN7e+eZTGHDPBAwGMNk8W80xAVst5j1PA5kE\\\n",
       "DAbQjMbfLub4jrZqcWA7KViHgMGJ0tb060+GHgIiCBgMoak6+0D3bhy7H7/f8zCQScBgEE1td+yH\\\n",
       "CKxPwGAgm2e7t5OqKttJwRoEDAYy2T7XeXy1OLSdFKxBwGAAnSsQv7U8nNZqcdjjNJBJwOCEWUxv\\\n",
       "1nJ2MPQYcOIJGAxk6/yDnY9Vme1+VvP9rweYCLIIGAxkY+f+mmzvDD0GxBIwGMh4c7tGk83Oc227\\\n",
       "7HkayCNgMJBmNKlmNO48Nz+42fM0kEfAYCBN0xzzWMuq+b79EOFOBAwGNN4823l89+O/9TwJ5BEw\\\n",
       "GNCFJ5/tPL6Yeioz3ImAwYA2OpbR/5vtpOD2BAwGtHHmfOfxdrWsdmUlItyOgMGAmtFxT2U+rOV8\\\n",
       "2vM0kEXA4ARaTPfsxgF3IGAwoI2zF2rz3ANHjs/3v67D3c8HmAhyCBgMaLK1c+x9MOD2BAwGNJps\\\n",
       "1njzTOe5tlorEeE2BAwG1IwnNZpsdJ5bzvZ7ngayCBgM6HYPtjy0iANuS8DghJp+dW3oEeBEEzAY\\\n",
       "2PlHf9x5/NZnH1WVe2BwHAGDgW1fvFR17L70wHEEDAZ2/H6Ire2k4DYEDAZ23CrE1XJRy9lBz9NA\\\n",
       "DgGDwXV/fdgu57U4tJQejiNgMLBmPKnx1tEHW84Pbtb+Zx8NMBFk6N4KG/ivXb16ta5evXrnFy4P\\\n",
       "qxnt1KS+8xDLdlUfXHm/Ln+23n2wZ555pi5evHgPk0ImAYP/k9dee61eeeWVO75uYzKqX/3y5/WL\\\n",
       "535w5Nyrr75av/3j5bXe780336wXXnjhbseEWAIGA5svVnXrYF7z1WZ9PPtR7S/vq/smn9SjW/+o\\\n",
       "M1suUTiOqwNOgNlys/568/n6Yv5EtdVUU8/U7uLhunj+LzVqqlZ+zwxHWMQBJ8CHB8/V5/Mnq61R\\\n",
       "VTXV1rg+mj5bFx7+aY1GLlPo4sqAE2DZbtR3l9O3NaqnHn+kxiO7dEAXAYMT4Nbep9W2q/84NqpF\\\n",
       "bY78kBmOI2BwAlx+9zf1yOjdatpZte2q5rObdd/09zXffa880xK6nZpFHNevXx96BE6Zvb29tV/7\\\n",
       "+Y3deuONX9eN5eM1r/N1a/dqfXr9/drdn9ViubrzH1BVN27c8P+cu3bp0qWhR7hnpyZgr7/++tAj\\\n",
       "cMq88847a792erio3/3pSlVduef3e/vtt+vaNc8Q4+68/PLLQ49wz05NwJL/kci0v79fb731Vm/v\\\n",
       "99JLL/khM6eKe2AARBIwACIJGACRBAyASAIGQCQBAyDSqVlGD317+umn68UXX+zt/ZJ/kAr3omlP\\\n",
       "zz41p+YvCnAXYneL9hUiAJEEDIBIAgZAJAEDIJKAARBJwACIJGAARBIwACIJGACRBAyASAIGQCQB\\\n",
       "AyCSgAEQScAAiCRgAEQSMAAiCRgAkQQMgEgCBkAkAQMgkoABEEnAAIgkYABEEjAAIgkYAJEEDIBI\\\n",
       "AgZAJAEDIJKAARBJwACIJGAARBIwACIJGACRBAyASAIGQCQBAyCSgAEQScAAiCRgAEQSMAAiCRgA\\\n",
       "kQQMgEgCBkAkAQMgkoABEGky9AA9aoYeAID/HZ/AAIgkYABEEjAAIgkYAJEEDIBIAgZAJAEDIJKA\\\n",
       "ARBJwACIJGAARBIwACIJGACRBAyASAIGQCQBAyCSgAEQScAAiCRgAEQSMAAiCRgAkQQMgEgCBkAk\\\n",
       "AQMgkoABEEnAAIgkYABEEjAAIgkYAJEEDIBIAgZAJAEDIJKAARBJwACIJGAARBIwACL9C7jQwVjc\\\n",
       "eZQaAAAAAElFTkSuQmCC\\\n",
       "\"\n",
       "  frames[10] = \"data:image/png;base64,iVBORw0KGgoAAAANSUhEUgAAAbAAAAEgCAYAAADVKCZpAAAAOXRFWHRTb2Z0d2FyZQBNYXRwbG90\\\n",
       "bGliIHZlcnNpb24zLjUuMiwgaHR0cHM6Ly9tYXRwbG90bGliLm9yZy8qNh9FAAAACXBIWXMAAAsT\\\n",
       "AAALEwEAmpwYAAAJx0lEQVR4nO3dy44cZxmA4a+6e85jEyuOYiJioWBgYUEkFqwJrLLlDuAecgOI\\\n",
       "a+AGnA07YINAYoPEhgVGJgo5WKCIBE9wEo89pz5VFQuHTaZ63J4k9ffHPM/OVSP3Z8mtd7r6r7+q\\\n",
       "tm0DALIZlB4AAM5DwABIScAASEnAAEhJwABIScAASEnAAEhJwABIScAASEnAAEhJwABIScAASEnA\\\n",
       "AEhJwABIScAASEnAAEhJwABIScAASEnAAEhJwABIScAASEnAAEhJwABIScAASEnAAEhJwABIScAA\\\n",
       "SEnAAEhJwABIScAASEnAAEhJwABIScAASEnAAEhpVHqAHrWlBwBYQVXpAc7LJzAAUhIwAFISMABS\\\n",
       "EjAAUhIwAFISMABSEjAAUhIwAFISMABSEjAAUhIwAFISMABSEjAAUhIwAFISMABSEjAAUhIwAFIS\\\n",
       "MABSEjAAUhIwAFISMABSEjAAUhIwAFISMABSEjAAUhIwAFISMABSEjAAUhIwAFISMABSEjAAUhIw\\\n",
       "AFISMABSEjAAUhIwAFISMABSEjAAUhIwAFISMABSEjAAUhIwAFISMABSEjAAUhIwAFISMABSEjAA\\\n",
       "UhIwAFISMABSEjAAUhIwAFISMABSEjAAUhIwAFISMABSEjAAUhIwAFISMABSEjAAUhIwAFISMABS\\\n",
       "EjAAUhIwAFISMABSEjAAUhIwAFISMABSEjAAUhIwAFISMABSEjAAUhIwAFISMABSEjAAUhIwAFIS\\\n",
       "MABSEjAAUhIwAFISMABSEjAAUhIwAFISMABSEjAAUhIwAFISMABSEjAAUhIwAFISMABSEjAAUhIw\\\n",
       "AFISMABSEjAAUhqVHgAukrZto6ln0czGUc8m0cwmUc8msXHp2Vjfeab0eJCKgEGPPnzjD/HgH3+J\\\n",
       "ejZ+HK/pSdSzSXzt+z+O57/zw6iqqvSIkIaAQY/Gn9yLw727p47PTh5FtG2EgMHSfAcGK2B2tB8R\\\n",
       "bekxIBUBgx6tX77a+Snr4N7b0TR1gYkgLwGDHu0+/42oBsNTx9umfnwJEViagEGP1rYuR0TH91xt\\\n",
       "Gy4hwtMRMOjRcH2zc6Vh2zZRT04KTAR5CRj0acEqw7ZpYjY+7HkYyE3AoEdVROd3YM18Eicf/6v/\\\n",
       "gSAxAYMeDdY2Y/fajVPH26aOyeEnBSaCvAQMelQNhrG2/ZWF51srEWFpAgY9qgbDGG3udp5rm3nP\\\n",
       "00BuAgY9qqoqBsO1znPz8VG0TdPzRJCXgMGKmB4+8CkMnoKAQc82Ll+NanB6H+2De+9EM5sUmAhy\\\n",
       "EjDo2daVF2Iw6riMaAEHPBUBg56NNnejqrz14PPyLoKejTZ2IjpuZo5oo56Ne58HshIw6Nui7aTa\\\n",
       "NmbHj3oeBvISMFgVbRNTu3HA0gQMelYNBrF15YVTx9umjoO9dwtMBDkJGPSsqoax89z17pNWIsLS\\\n",
       "BAz6VlUx2rrceaptG/shwpIEDAoYrm10Hq+nY7txwJIEDHr2+InM3SsR68lRtLWAwTIEDAoYDEed\\\n",
       "y+mPP34/5pOjAhNBPgIGBew89/UYbV46dXw+OYzGJzBYioBBAcPNncefwoBzEzAoYLS+HdWCgDXz\\\n",
       "Wc/TQE4CBgVUg+Gnizk+o42Yn9hOCpYhYLBS2hg//LD0EJCCgEEJVcT2s927cTz64K2eh4GcBAyK\\\n",
       "qGKzYz9EYHkCBoWsb3dvJxURtpOCJQgYFDLa3O083syntpOCJQgYFNC5AvFT9XQczXza4zSQk4DB\\\n",
       "ipmPD6KenJQeA1aegEEhG5eudj5WZfLofsyOHxaYCHIRMChkbeeZGG3ulB4D0hIwKGS4vhmD0Xrn\\\n",
       "ubate54G8hEwKKQajKIaDDvPzU4Oep4G8hEwKKSqqgWPtYyYHdsPEZ5EwKCg4fp25/FHH7zZ8ySQ\\\n",
       "j4BBQZdfvNl5fD72VGZ4EgGDgtY6ltH/j+2k4GwCBgWtbV3qPN42dbSNlYhwFgGDgqrBoqcyT6Oe\\\n",
       "jXueBnIRMFhB8/Gh3TjgCQQMClrbvhzru8+eOj47fhjTRx8VmAjyEDAoaLSxs/B7MOBsAgYFDUbr\\\n",
       "MVzf6jzXRmslIpxBwKCgajiKwWit81w9Oe55GshFwKCgsx5sObWIA84kYLCixg/ulR4BVpqAQWGX\\\n",
       "vvrtzuNH99+LCN+BwSICBoVtXrkWsXBfemARAYPCFu+H2NpOCs4gYFDYolWITT2PenLS8zSQh4BB\\\n",
       "cd2XD9t6FvOppfSwiIBBYdVwFMON0w+2nJ0cxPH99wpMBDl0b4UNfG51Xcft27djOp0+4QenUQ12\\\n",
       "YhSfeYhl28S777wVb99f7nuw7e3tePnll8+8twz+n1QXaKuaC/MPZTUcHR3FjRs3Ym9v78yfWxsN\\\n",
       "4mc/fSV+9L2XTp37+a0/xm/+9PZSr3fz5s24c+dODAYurPBU0v7G4xMYFDabN3F0Mou2jXg4vxp7\\\n",
       "05eiiiZe2LgbWxveorCIdwesgKZt4/7sxbhz8ErM2o2IiPj35FuxtvP3GFRvRnNxrpTA0lxrgBUw\\\n",
       "abbibwc/iFm7GY+v6FQxbnbj6jd/EoNh9zJ7uOgEDFbAX+9+GJP58NTx0WgrEn9FAV8qAYMVsPfx\\\n",
       "fqxVh6eObw4Po6pcPoQuAgYr4OBgP7678/tYbz+Ktq2jaWYxPfxnPDf+VVSt7aSgy4VZxPGkpczw\\\n",
       "RTs+Po6maZb62f/sH8UvfvnrOJj+Lk6G12M+r+Pe+7fjk/2PYl4v93fM5/PY29uzjJ6ncu3atdIj\\\n",
       "nNuFCditW7dKj8AFM51O4+Rkub0Mx9N5/PbPdz/90xvner39/f14/fXX3cjMU3nttddKj3BubmSG\\\n",
       "L8myNzJ/UdzIzDml/Y3H/3QAUhIwAFISMABSEjAAUhIwAFISMABSujD3gUHfhsNhvPrqq/HgwYNe\\\n",
       "Xu/69eu9vA6sCveBAVxs7gMDgD4JGAApCRgAKQkYACkJGAApCRgAKQkYACkJGAApCRgAKQkYACkJ\\\n",
       "GAApCRgAKQkYACkJGAApCRgAKQkYACkJGAApCRgAKQkYACkJGAApCRgAKQkYACkJGAApCRgAKQkY\\\n",
       "ACkJGAApCRgAKQkYACkJGAApCRgAKQkYACkJGAApCRgAKQkYACkJGAApCRgAKQkYACkJGAApCRgA\\\n",
       "KQkYACkJGAApCRgAKQkYACkJGAApCRgAKY1KD9CjqvQAAHxxfAIDICUBAyAlAQMgJQEDICUBAyAl\\\n",
       "AQMgJQEDICUBAyAlAQMgJQEDICUBAyAlAQMgJQEDICUBAyAlAQMgJQEDICUBAyAlAQMgJQEDICUB\\\n",
       "AyAlAQMgJQEDICUBAyAlAQMgJQEDICUBAyAlAQMgJQEDICUBAyAlAQMgJQEDICUBAyAlAQMgJQED\\\n",
       "ICUBAyCl/wJpTd0Q7DMy5QAAAABJRU5ErkJggg==\\\n",
       "\"\n",
       "  frames[11] = \"data:image/png;base64,iVBORw0KGgoAAAANSUhEUgAAAbAAAAEgCAYAAADVKCZpAAAAOXRFWHRTb2Z0d2FyZQBNYXRwbG90\\\n",
       "bGliIHZlcnNpb24zLjUuMiwgaHR0cHM6Ly9tYXRwbG90bGliLm9yZy8qNh9FAAAACXBIWXMAAAsT\\\n",
       "AAALEwEAmpwYAAAJ0UlEQVR4nO3dy44cZxnH4be6ew6ecRysJMJEikEhAimWiMQVELHKlktA3EJW\\\n",
       "7BDXwA0kG3bABoHEBokNEgSFIAWUwAJIJsHE48y5D1UsnCAl3TOeMUnV/JnnkWbhryzPa8nWb7rr\\\n",
       "q6+brusKANKMhh4AAB6FgAEQScAAiCRgAEQSMAAiCRgAkQQMgEgCBkAkAQMgkoABEEnAAIgkYABE\\\n",
       "EjAAIgkYAJEEDIBIAgZAJAEDIJKAARBJwACIJGAARBIwACIJGACRBAyASAIGQCQBAyCSgAEQScAA\\\n",
       "iCRgAEQSMAAiCRgAkQQMgEgCBkAkAQMgkoABEGky9AA96oYeAOASaoYe4FF5BQZAJAEDIJKAARBJ\\\n",
       "wACIJGAARBIwACIJGACRBAyASAIGQCQBAyCSgAEQScAAiCRgAEQSMAAiCRgAkQQMgEgCBkAkAQMg\\\n",
       "koABEEnAAIgkYABEEjAAIgkYAJEEDIBIAgZAJAEDIJKAARBJwACIJGAARBIwACIJGACRBAyASAIG\\\n",
       "QCQBAyCSgAEQScAAiCRgAEQSMAAiCRgAkQQMgEgCBkAkAQMgkoABEEnAAIgkYABEEjAAIgkYAJEE\\\n",
       "DIBIAgZAJAEDIJKAARBJwACIJGAARBIwACIJGACRBAyASAIGQCQBAyCSgAEQScAAiCRgAEQSMAAi\\\n",
       "CRgAkQQMgEgCBkAkAQMgkoABEEnAAIgkYABEEjAAIgkYAJEEDIBIAgZAJAEDIJKAARBJwACIJGAA\\\n",
       "RBIwACIJGACRBAyASAIGQCQBAyCSgAEQScAAiCRgAEQSMAAiCRgAkQQMgEgCBkAkAQMgkoABEGky\\\n",
       "9ABwlXRdV+18WovZcbXT41rMjqu6rrae+nI1TTP0eBBFwKBH773xq7r319/XYnr036+1rcfr+e98\\\n",
       "v8ZrG0OPB1EEDHp0/MG7tb/z1ifWxmubNT/eFzC4IPfAYGDzk4M6uvfO0GNAHAGDHq3feLLqU/e6\\\n",
       "2vm0Zge7wwwEwQQMenT9i1+tZjReea3rup6ngWwCBj1au3ajqpZ3G7aLWf/DQDgBgx6N1zdXbpef\\\n",
       "HX5Y5RUYXIiAQZ9OedbrZO+utxDhggQMetRUrbwHtvfOX6rrFv0PBMEEDHo0Wtus67eeW3Gl8xYi\\\n",
       "XJCAQY+a0bjWth5fvtB1VV3b/0AQTMCgR81oXJPN60vrXbuo2fH+ABNBLgGDHjVNU6Px2tJ6285r\\\n",
       "und3gIkgl4DBJdDOTmp/5+2hx4AoAgY927jxZDWj5XO0beGAixEw6Nm1m0/XaLL8NmJ1rWfB4AIE\\\n",
       "DHo22bxeTbP8X29+cmgnIlyAgEHPJhvbVSseZp4dfVhd62FmOC8Bg76dcpzU/s7btZhPex4GcgkY\\\n",
       "XBKLk8Oq1luIcF4CBj1rRqO6dvPpU67axAHnJWDQs6YZ1/ZTt1dc6Wp+ctT7PJBKwKBvTVOTazeW\\\n",
       "lruurdnhbv/zQCgBgwGM1zaW1rrFvO7//Y0BpoFMAgY9e/CJzKt3Ii6mx/0OA8EEDAYwGk9O3U7v\\\n",
       "NA44HwGDAWw/9ZWabD62tN7Op07jgHMSMBjAeHP7wauwT5mfHFS7mA8wEeQRMBjAZH2rmhUBO7n/\\\n",
       "vvtgcE4CBgNoRuOPNnN80vGH79di5lkwOA8BAyCSgMEQmqqtJ1adxlHVzWc9DwOZBAwG0dTmqvMQ\\\n",
       "u6rp4f3+x4FAAgYDWd9aPk6qqqvpwb3eZ4FEAgYDmWxeX7m+9883e54EMgkYDGDVDsSPtQv3wOA8\\\n",
       "BAwuma5rq3MaBzyUgMFANh57cuXHqrTT4wdHSgFnEjAYyNr2F2qyub20Pj85cBoHnIOAwUDG65s1\\\n",
       "mqwvrR/de6em+x8MMBFkETAYSDOaVDMaL1/ougdfwJkEDAbSNM0pH2tZNnHAOQgYDGi8vrVyfXa8\\\n",
       "3/MkkEfAYEA3nrmzcn12sNvvIBBIwGBAayu20VdV7b/3ds+TQB4BgwGtXXts5bpdiPBwAgYDakbL\\\n",
       "n8r8sc5ORDiTgMEl1C5mTuOAhxAwGNDa1o1av/7E0no7O6nF9GiAiSCHgMGAJhvbK++DTfc/qOP7\\\n",
       "7w8wEeQQMBjQaLJe4/VrS+vtfFqtV2BwJgGDATXjSY0mayuvdWUjB5xFwGBAZ36w5cyJ9HAWAYNL\\\n",
       "anp4f+gR4FITMBjYY1/6+sr1492dnieBLAIGA9u8eatqxbn0+ztv14M7YcAqAgYDO+08ROBsAgYD\\\n",
       "O20XYnVtdYtFv8NAEAGDwa3eidgu5jU/Oeh5FsghYDCwZjyp8cbyB1suZkd1snd3gIkgw+lHYQP/\\\n",
       "k8ViUa+99lpNpw85lHcxrWa0XZP65Kutxclh/el3v6n25vmOlNra2qoXXnjhzGfL4P9Jc4We9L8y\\\n",
       "f1Euh4ODg3ruuedqZ+fs7fBrk1H94Lsv1re/+ezStR++8uv62W/+fK7vd+fOnXr99ddrNPLGChcS\\\n",
       "+xOPV2AwsNm8rYOjWXVd1f35k7UzfbaaauvpjbdqIkZwKgGDS6DtuvrX7Jl6fe/FmnUbVVX1zsnX\\\n",
       "arL9RjXNm85EhBX8eAeXwEl7rf64962adZv14B2dpo7b6/X089+r8fiUbfZwxQkYXAJ/eOu9OpmP\\\n",
       "l9Ynk2sVfIsCPlcCBpfAzr93a63ZX1rfHO9X03j7EFYRMLgE9vZ26xvbv6z17m513aLadlbT/b/V\\\n",
       "U8c/qaZzGgescmU2cTxsKzN81g4PD6tt23P93vd3D+pHP/5p7U1/UUfj2zWfL+rdf7xWH+zerfni\\\n",
       "fH/GfD6vnZ0d2+i5kFu3bg09wiO7MgF75ZVXhh6BK2Y6ndbR0dG5fu/xdF4//+1bH/3qjUf6fru7\\\n",
       "u/Xqq696kJkLefnll4ce4ZF5kBk+J+d9kPmz4kFmHlHsTzz+pQMQScAAiCRgAEQSMAAiCRgAkQQM\\\n",
       "gEhX5jkw6Nt4PK6XXnqp7t2718v3u337di/fBy4Lz4EBXG2eAwOAPgkYAJEEDIBIAgZAJAEDIJKA\\\n",
       "ARBJwACIJGAARBIwACIJGACRBAyASAIGQCQBAyCSgAEQScAAiCRgAEQSMAAiCRgAkQQMgEgCBkAk\\\n",
       "AQMgkoABEEnAAIgkYABEEjAAIgkYAJEEDIBIAgZAJAEDIJKAARBJwACIJGAARBIwACIJGACRBAyA\\\n",
       "SAIGQCQBAyCSgAEQScAAiCRgAEQSMAAiCRgAkQQMgEgCBkAkAQMg0mToAXrUDD0AAJ8dr8AAiCRg\\\n",
       "AEQSMAAiCRgAkQQMgEgCBkAkAQMgkoABEEnAAIgkYABEEjAAIgkYAJEEDIBIAgZAJAEDIJKAARBJ\\\n",
       "wACIJGAARBIwACIJGACRBAyASAIGQCQBAyCSgAEQScAAiCRgAEQSMAAiCRgAkQQMgEgCBkAkAQMg\\\n",
       "koABEEnAAIgkYABEEjAAIv0H/lzhxy4ih60AAAAASUVORK5CYII=\\\n",
       "\"\n",
       "  frames[12] = \"data:image/png;base64,iVBORw0KGgoAAAANSUhEUgAAAbAAAAEgCAYAAADVKCZpAAAAOXRFWHRTb2Z0d2FyZQBNYXRwbG90\\\n",
       "bGliIHZlcnNpb24zLjUuMiwgaHR0cHM6Ly9tYXRwbG90bGliLm9yZy8qNh9FAAAACXBIWXMAAAsT\\\n",
       "AAALEwEAmpwYAAAJyklEQVR4nO3dzY9ddR3H8e+59850+kwDSEFR40NsxRX+BeqWBeFP8H9g5Ya4\\\n",
       "YeH/wIa1C2RjgrJjY9QIwQQIaEwDlKbCdDpP9/G4qJiUe2c6U/Wc+WRer2Q2vzvt/Tbt5N17z+/8\\\n",
       "btO2bQFAmkHfAwDAwxAwACIJGACRBAyASAIGQCQBAyCSgAEQScAAiCRgAEQSMAAiCRgAkQQMgEgC\\\n",
       "BkAkAQMgkoABEEnAAIgkYABEEjAAIgkYAJEEDIBIAgZAJAEDIJKAARBJwACIJGAARBIwACIJGACR\\\n",
       "BAyASAIGQCQBAyCSgAEQScAAiCRgAEQSMAAijfoeoENt3wMAnEBN3wM8LK/AAIgkYABEEjAAIgkY\\\n",
       "AJEEDIBIAgZAJAEDIJKAARBJwACIJGAARBIwACIJGACRBAyASAIGQCQBAyCSgAEQScAAiCRgAEQS\\\n",
       "MAAiCRgAkQQMgEgCBkAkAQMgkoABEEnAAIgkYABEEjAAIgkYAJEEDIBIAgZAJAEDIJKAARBJwACI\\\n",
       "JGAARBIwACIJGACRBAyASAIGQCQBAyCSgAEQScAAiCRgAEQSMAAiCRgAkQQMgEgCBkAkAQMgkoAB\\\n",
       "EEnAAIgkYABEEjAAIgkYAJEEDIBIAgZAJAEDIJKAARBJwACIJGAARBIwACIJGACRBAyASAIGQCQB\\\n",
       "AyCSgAEQScAAiCRgAEQSMAAiCRgAkQQMgEgCBkAkAQMgkoABEEnAAIgkYABEEjAAIgkYAJEEDIBI\\\n",
       "AgZAJAEDIJKAARBJwACIJGAARBIwACIJGACRBAyASAIGQCQBAyCSgAEQScAAiCRgAEQSMAAijfoe\\\n",
       "AE6Ttm1rMZvUfLpfi8l+zaf7VW1b5x7/VjVN0/d4EEXAoEOfvfv7+uJvf675ZO8/X2vnLtcPX/hF\\\n",
       "DdfO9D0eRBEw6ND+55/W9s0P71sbrm3UbH9bwOCYXAODns3GO7X3xSd9jwFxBAw6tH7psaqvXOta\\\n",
       "zCY13dnsZyAIJmDQoQtPfLeawXDlY23bdjwNZBMw6NDa2UtVtbzbcDGfdj8MhBMw6NBwfWPldvnp\\\n",
       "7laVV2BwLAIGXTrgXq/x3dveQoRjEjDoUFO18hrY3U8+qLaddz8QBBMw6NBgbaMuXP3eikdabyHC\\\n",
       "MQkYdKgZDGvt3OXlB9q2ql10PxAEEzDoUDMY1mjjwtJ6u5jXdH+7h4kgl4BBh5qmqcFwbWl9sZjV\\\n",
       "5O7tHiaCXAIGJ8BiOq7tmx/1PQZEETDo2JlLj1UzWD5H2xYOOB4Bg46dvfJUDUbLbyNWu3AvGByD\\\n",
       "gEHHRhsXqmmWf/Rm4107EeEYBAw6NjpzvmrFzczTva1qF25mhqMSMOjaAcdJbd/8qOazScfDQC4B\\\n",
       "gxNiPt6tWngLEY5KwKBjzWBQZ688dcCjNnHAUQkYdKxphnX+8W+ueKSt2Xiv83kglYBB15qmRmcv\\\n",
       "LS237aKmu5vdzwOhBAx6MFw7s7TWzmd158a7PUwDmQQMOnbvE5lX70ScT/a7HQaCCRj0YDAcHbid\\\n",
       "3mkccDQCBj04//i3a7RxcWl9MZs4jQOOSMCgB8ON8/dehX3FbLxTi/msh4kgj4BBD0br56pZEbDx\\\n",
       "nVuug8ERCRj0oBkM/72Z4377W7dqPnUvGByFgAEQScCgD03VuUdXncZR1c6mHQ8DmQQMetHUxqrz\\\n",
       "ENuqye6d7seBQAIGPVk/t3ycVFVbk50vOp8FEgkY9GS0cWHl+t2P3+t4EsgkYNCDVTsQv7SYuwYG\\\n",
       "RyFgcMK07aJap3HAAwkY9OTMxcdWfqzKYrJ/70gp4FACBj1ZO/9IjTbOL63PxjtO44AjEDDoyXB9\\\n",
       "owaj9aX1vS8+qcn25z1MBFkEDHrSDEbVDIbLD7TtvS/gUAIGPWma5oCPtSybOOAIBAx6NFw/t3J9\\\n",
       "ur/d8SSQR8CgR5eefmbl+nRns9tBIJCAQY/WVmyjr6ra/uyjjieBPAIGPVo7e3Hlul2I8GACBj1q\\\n",
       "Bsufyvyl1k5EOJSAwQm0mE+dxgEPIGDQo7Vzl2r9wqNL64vpuOaTvR4mghwCBj0anTm/8jrYZPvz\\\n",
       "2r9zq4eJIIeAQY8Go/Uarp9dWl/MJrXwCgwOJWDQo2Y4qsFobeVjbdnIAYcRMOjRoR9sOXUiPRxG\\\n",
       "wOCEmuze6XsEONEEDHp28ckfrFzf37zZ8SSQRcCgZxtXrlatOJd+++ZHde9KGLCKgEHPDjoPETic\\\n",
       "gEHPDtqFWO2i2vm822EgiIBB71bvRFzMZzUb73Q8C+QQMOhZMxzV8MzyB1vOp3s1vnu7h4kgw8FH\\\n",
       "YQP/lRs3btSNGzce/I3zSTWD8zWq+19tzce79dc/vVWLK0c7Uur69et15cqVhxkVIgkY/J+88sor\\\n",
       "9dJLLz3w+9ZGg/rlz39SP3v2O0uPvfzyy/Wbt94/0vO9/vrr9dxzzx13TIglYNCz6WxRO3vTmi7W\\\n",
       "6+Px92t3frkujz6rJ8/8vUYD7/LDQQQMToDxfL3+cven9c/pN6qtppq6Xluzr9UjF/9YTVPlSERY\\\n",
       "5r93cAJ8uPds3Z4+XW0Nqqqptob1j/1narrxoxoccl4inGYCBifAvF2rr26nb2tQP772rRoO/ZjC\\\n",
       "Kn4y4ATY2b5Vbbu4b21Qs7q8MT3gLjFAwOAEeP+dX9cTg3eqacfVtouaju/W5f3f1XTrXde/4ACn\\\n",
       "ZhPHzZtO9qZb29vbR/7e25tb9dprv6rN+ddrWhdrZ+tG3br5Xm3tjms2Xzz4N6iqzc1N/845tqtX\\\n",
       "r/Y9wkM7NQF79dVX+x6BU+btt98+8vfuT2b12z98UFUfPPTzvfnmm/Xpp58+9K/ndHrxxRf7HuGh\\\n",
       "nZqAJf8lkWl3d7feeOONzp7vhRdecCMzp4prYABEEjAAIgkYAJEEDIBIAgZAJAEDINKp2UYPXbt2\\\n",
       "7Vo9//zznT1f8g2p8DCa9vScU3Nq/qAAxxB73Ka3EAGIJGAARBIwACIJGACRBAyASAIGQCQBAyCS\\\n",
       "gAEQScAAiCRgAEQSMAAiCRgAkQQMgEgCBkAkAQMgkoABEEnAAIgkYABEEjAAIgkYAJEEDIBIAgZA\\\n",
       "JAEDIJKAARBJwACIJGAARBIwACIJGACRBAyASAIGQCQBAyCSgAEQScAAiCRgAEQSMAAiCRgAkQQM\\\n",
       "gEgCBkAkAQMgkoABEEnAAIgkYABEEjAAIgkYAJEEDIBIo74H6FDT9wAA/O94BQZAJAEDIJKAARBJ\\\n",
       "wACIJGAARBIwACIJGACRBAyASAIGQCQBAyCSgAEQScAAiCRgAEQSMAAiCRgAkQQMgEgCBkAkAQMg\\\n",
       "koABEEnAAIgkYABEEjAAIgkYAJEEDIBIAgZAJAEDIJKAARBJwACIJGAARBIwACIJGACRBAyASAIG\\\n",
       "QCQBAyCSgAEQ6V8FzccNCerbSgAAAABJRU5ErkJggg==\\\n",
       "\"\n",
       "  frames[13] = \"data:image/png;base64,iVBORw0KGgoAAAANSUhEUgAAAbAAAAEgCAYAAADVKCZpAAAAOXRFWHRTb2Z0d2FyZQBNYXRwbG90\\\n",
       "bGliIHZlcnNpb24zLjUuMiwgaHR0cHM6Ly9tYXRwbG90bGliLm9yZy8qNh9FAAAACXBIWXMAAAsT\\\n",
       "AAALEwEAmpwYAAAJl0lEQVR4nO3dTW9cZxmA4eecmfHYsd2EpKVp1QISEUUUsWVFJNhXQuz4IZVY\\\n",
       "80tA2SJ+AQhlRVdESFQV9GPRj9QhTZ3GsWfGM+ccFgEkNON44rbn9YOva/mOpTyRZnTrfL2n6rou\\\n",
       "ACCbuvQAAHAWAgZASgIGQEoCBkBKAgZASgIGQEoCBkBKAgZASgIGQEoCBkBKAgZASgIGQEoCBkBK\\\n",
       "AgZASgIGQEoCBkBKAgZASgIGQEoCBkBKAgZASgIGQEoCBkBKAgZASgIGQEoCBkBKAgZASgIGQEoC\\\n",
       "BkBKAgZASgIGQEoCBkBKAgZASgIGQEoCBkBKw9ID9KgrPQDAOVSVHuCsHIEBkJKAAZCSgAGQkoAB\\\n",
       "kJKAAZCSgAGQkoABkJKAAZCSgAGQkoABkJKAAZCSgAGQkoABkJKAAZCSgAGQkoABkJKAAZCSgAGQ\\\n",
       "koABkJKAAZCSgAGQkoABkJKAAZCSgAGQkoABkJKAAZCSgAGQkoABkJKAAZCSgAGQkoABkJKAAZCS\\\n",
       "gAGQkoABkJKAAZCSgAGQkoABkJKAAZCSgAGQkoABkJKAAZCSgAGQkoABkJKAAZCSgAGQkoABkJKA\\\n",
       "AZCSgAGQkoABkJKAAZCSgAGQkoABkJKAAZCSgAGQkoABkJKAAZCSgAGQkoABkJKAAZCSgAGQkoAB\\\n",
       "kJKAAZCSgAGQkoABkJKAAZCSgAGQkoABkJKAAZCSgAGQkoABkJKAAZCSgAGQkoABkJKAAZCSgAGQ\\\n",
       "koABkJKAAZCSgAGQkoABkJKAAZCSgAGQkoABkJKAAZCSgAGQkoABkJKAAZCSgAGQkoABkJKAAZCS\\\n",
       "gAGQkoABkNKw9ABwkXRdF20zj3Y+jWY+i3Y+i2Y+i/HutdjYvlJ6PEhFwKBH9/72x9j/4C/RzKdP\\\n",
       "4nU8iWY+i1d+/It48Yc/i6qqSo8IaQgY9Gj6+afxeO+9pfXF5CAiuogQMFiXa2BwDswnX0R0Xekx\\\n",
       "IBUBgx5t7F6NWHGa8NHH70TXNgUmgrwEDHq0/cJ3oqoGS+td20TnCAyeiYBBj4abuyuPwIBnJ2DQ\\\n",
       "o+HWzso7DbuucwoRnpGAQY+qevn0YUREtE0sZof9DgPJCRicA13XxmIqYPAsBAx6VNeDGK3YcaNd\\\n",
       "zGP6cK//gSAxAYMe1cONuHT1laX1rl3E7OCzAhNBXgIGfarqGG5ul54C/i8IGPSoqgcxGK8OmGfB\\\n",
       "4NkIGPSsHqzegrSZHUV0bc/TQF4CBj168gzY6geZF7PD6FoBg3UJGPTthJ04Jvt3o23mPQ8DeQkY\\\n",
       "9Gz3+o2oR+Ol9dkX96NrFgUmgpwEDHo22r5y8o4cwNoEDHo2HG+v3JE+4smOHMB6BAx6Vg83TrgO\\\n",
       "1kVzfNT7PJCVgME50XVtzCePS48BaQgYFLDylSptG0cPPiwwDeQkYNCzqh7E7suvLX/QtTHdt6Ev\\\n",
       "rEvAoGdVVcfG9tXSY0B6AgZ9q6oYbe2c8GFnP0RYk4BBAfVoc+V6Oz+2HyKsScCgZ6tu4PiPxfFR\\\n",
       "tHbjgLUIGBRwUsSa2ZHtpGBNAgYFbF17NYYr3gt2+NmHsZh5FgzWIWBQwGhrJ6rhxtJ61y7cxAFr\\\n",
       "EjAoYDC+dOKLLYH1CBgUMBiOo6pW//za+aznaSAnAYMiqtUvZu4i5pOD3qeBjAQMiln985tPHvU8\\\n",
       "B+QkYFBCVcXuy99b8UEXjz56u/dxICMBg0I2tr+xcr1t5j1PAjkJGBQy2nqu9AiQmoBBIYPxpZXr\\\n",
       "XdtE1zY9TwP5CBgUUFXVidtJtfOZ04iwBgGDc6Y5njzZlR54KgGDQgbj7aiH46X1yf7dmD1+UGAi\\\n",
       "yEXAoJDNyy/EaPvK0nrXNhGtd4LBaQQMChmMNqMejkqPAWkJGBRSj8ZRD5Z3pI8IdyHCGgQMCqmq\\\n",
       "Ok56OfN86p1gcBoBg3NoMbWhL5xGwKCg0fbVletHDz7peRLIR8CgoN2Xbqxcn3z+cc+TQD4CBgXZ\\\n",
       "DxHOTsCgoOHmzuoPui66rut3GEhGwKCgqh6uXG+bRbQL20nB0wgYnEPt4jia+bT0GHCuCRgUNBiN\\\n",
       "Y7CxtbS+mB7E/PBh/wNBIgIGBY0uXY6N3WtL64vpYwGDUwgYFFQPN2Iw2iw9BqQkYFBQPRydGLAu\\\n",
       "3IkITyNgUFJVR1Wv/hk2x5Oeh4FcBAwKqk7azTciFhP7IcLTCBgUtzpiRw8+6nkOyEXAoLDnXvnB\\\n",
       "yvXD+x9GhGtgcJLV2wAAX8rx8XHcuXMnmub0F1N2D+/FKJaPwyaTo3jrz2+tlbDLly/H66+/fpZR\\\n",
       "Ia3qAt3ldGH+o5S3t7cXN27ciMPDw1P/9vvfej5+86ufR13/b8I++HQ/fvnr38U6P9GbN2/G7du3\\\n",
       "zzouF9vJF2LPOUdgUNj0eBFdRDyYX49/zr4dw2oRL2/+Iwb1wxiPBjE9Pv0oDi4iAYNz4O7sRrxz\\\n",
       "eDOaf/8k786+Gy/F72NnaxzT46PC08H55CYOKOyouRxvP/5JNP+9ElbFUXsl/j79aexsjUuPB+eW\\\n",
       "gEFhbVTRdMsnQ3Z3novXXl3eJxF4QsCgsGYxi+lkf2l9e3gY49GgwESQg4BBYY++2IvZx7+NrfpR\\\n",
       "RLRRRxPXRp/Ej3ZvJ74/DL5+F+Ymjr29vdIjcIHcv39/7Y14m7aL22/9Kb75/vuxP38x6moRz48+\\\n",
       "iT9Ux/HX99b73s7nc99xzuT69eulRzizCxOwW7dulR6BC+Tg4CAWi8Xaf3/n3b2Id88eoHv37vmO\\\n",
       "cyZvvvlm6RHOzIPM8DV4lgeZvwoeZOZLSHui2jUwAFISMABSEjAAUhIwAFISMABSEjAAUrowz4FB\\\n",
       "nzY3N+ONN96I6XTay7/nZZZcRJ4DA7jYPAcGAH0SMABSEjAAUhIwAFISMABSEjAAUhIwAFISMABS\\\n",
       "EjAAUhIwAFISMABSEjAAUhIwAFISMABSEjAAUhIwAFISMABSEjAAUhIwAFISMABSEjAAUhIwAFIS\\\n",
       "MABSEjAAUhIwAFISMABSEjAAUhIwAFISMABSEjAAUhIwAFISMABSEjAAUhIwAFISMABSEjAAUhIw\\\n",
       "AFISMABSEjAAUhIwAFISMABSEjAAUhIwAFISMABSEjAAUhqWHqBHVekBAPjqOAIDICUBAyAlAQMg\\\n",
       "JQEDICUBAyAlAQMgJQEDICUBAyAlAQMgJQEDICUBAyAlAQMgJQEDICUBAyAlAQMgJQEDICUBAyAl\\\n",
       "AQMgJQEDICUBAyAlAQMgJQEDICUBAyAlAQMgJQEDICUBAyAlAQMgJQEDICUBAyAlAQMgJQEDICUB\\\n",
       "AyAlAQMgJQEDICUBAyClfwERcMaAJibWTAAAAABJRU5ErkJggg==\\\n",
       "\"\n",
       "  frames[14] = \"data:image/png;base64,iVBORw0KGgoAAAANSUhEUgAAAbAAAAEgCAYAAADVKCZpAAAAOXRFWHRTb2Z0d2FyZQBNYXRwbG90\\\n",
       "bGliIHZlcnNpb24zLjUuMiwgaHR0cHM6Ly9tYXRwbG90bGliLm9yZy8qNh9FAAAACXBIWXMAAAsT\\\n",
       "AAALEwEAmpwYAAAJQElEQVR4nO3dy44cZxnH4bf6MAefgh0lMQQQEhESRBHehR1CYo0icRO+AV8G\\\n",
       "FxCxzJItUtjAChEjJLLBCMnBJFGsmDhO7Ngz7p4+FAsrm0xP3B6bqv5nnmdZ3VG/ljL6qbq/r76m\\\n",
       "bdsCgDSDvgcAgOMQMAAiCRgAkQQMgEgCBkAkAQMgkoABEEnAAIgkYABEEjAAIgkYAJEEDIBIAgZA\\\n",
       "JAEDIJKAARBJwACIJGAARBIwACIJGACRBAyASAIGQCQBAyCSgAEQScAAiCRgAEQSMAAiCRgAkQQM\\\n",
       "gEgCBkAkAQMgkoABEEnAAIgkYABEEjAAIo36HqBDbd8DAGygpu8BjssdGACRBAyASAIGQCQBAyCS\\\n",
       "gAEQScAAiCRgAEQSMAAiCRgAkQQMgEgCBkAkAQMgkoABEEnAAIgkYABEEjAAIgkYAJEEDIBIAgZA\\\n",
       "JAEDIJKAARBJwACIJGAARBIwACIJGACRBAyASAIGQCQBAyCSgAEQScAAiCRgAEQSMAAiCRgAkQQM\\\n",
       "gEgCBkAkAQMgkoABEEnAAIgkYABEEjAAIgkYAJEEDIBIAgZAJAEDIJKAARBJwACIJGAARBIwACIJ\\\n",
       "GACRBAyASAIGQCQBAyCSgAEQScAAiCRgAEQSMAAiCRgAkQQMgEgCBkAkAQMgkoABEEnAAIgkYABE\\\n",
       "EjAAIgkYAJEEDIBIAgZAJAEDIJKAARBJwACIJGAARBIwACIJGACRBAyASAIGQCQBAyCSgAEQScAA\\\n",
       "iCRgAEQSMAAiCRgAkQQMgEgCBkAkAQMgkoABEEnAAIgkYABEEjAAIgkYAJEEDIBIAgZApFHfA8BJ\\\n",
       "0rZtLRezWs4mtZhNazmb1mI2re2zz9fW6W/1PR5EETDo0H//8cf6/MbfazGbPIrXwcNazKb1vZ/9\\\n",
       "ul589RfVNE3fI0IMAYMOTT77uB7ceu/Q9fl0v6raqhIwWJffwGADLKZ7j/oFrE3AoEtH3GDtf3az\\\n",
       "2nbR7SwQTsCgQ2cuvlLNYHjo+uTzj6tdLnuYCHIJGHRofOq58jsXPBsCBh0abZ+ustIQngkBgw4N\\\n",
       "t0+tXirfWsEBT0rAoEOD0dbK623b1nI26XgayCZgsAHadlnzg4d9jwFRBAw2QbushYDBExEw6FDT\\\n",
       "DGq4ferQ9cVsUg9u/buHiSCXgEGHBuPtOv3CDw6/0La18BsYPBEBgw41zaCGW7t9jwHfCAIGHWqa\\\n",
       "pkZbh79C/FJrOT2sTcCgS82gBls7K19qF56FCE9CwKBDTdNU06z+s1sc7Fe1nocI6xIw2BCLg4fV\\\n",
       "ChisTcBgQxzs3a126WtEWJeAQcd2z3+7muH40PW9T/5Ty9lBDxNBJgGDjm2fe6EGw1HfY0A8AYOO\\\n",
       "Dbd2q45YyAGsz18RdGy4derIlYht2QcG6xIw6NhgND7iUMu2lrNp5/NAKgGDDdG2bc2ne32PATEE\\\n",
       "DDZGW4vpft9DQAwBgx40g+Gha+1yUXufftjDNJBJwKBjzXBU517+8eEX2rYO7t/pfiAIJWDQsaaa\\\n",
       "Gu+e6XsMiCdg0LWmqeH26b6ngHgCBj0YHXGoZdsunQkGaxIw6FjTNEc+iWMxm3igL6xJwGCDLA8E\\\n",
       "DNYlYNCDZuWTOL68A5t3PA1kEjDowe6Fl1cu5Ni7/UHNJw96mAjyCBj0YLRzeuWRKu1ybhEHrEnA\\\n",
       "oAfD8c7Kp3EA6xMw6MFgvFPN4IhDLd2AwVoEDHowGI6rGaxeyLGcO1IF1iFgsEnacqQKrEnAYMPM\\\n",
       "HakCaxEw6ENTNdo5u+KFtqb3Pul8HEgkYNCLps5cfGXlK3u33+92FAglYNCTkSfSw1MRMOiJgMHT\\\n",
       "ETDoyXB79ZEq1baexgFrEDDoQdM01RxxpMpyflDtwgN94XEEDDbMcn5Qy8Ws7zFg4wkYbJiFOzBY\\\n",
       "i4BBT7bOXFi5F2z6xe2a7d/rYSLIImDQk/HuuZULOZazSS3nBz1MBFkEDHoyGG/VYDjuewyIJWDQ\\\n",
       "k8FoqxoBg2MTMOhJMxhVMzhiKb1ViPBYAgY9aZqmVp8IVjWfOFIFHkfAYAM5EwweT8CgR81wtPL6\\\n",
       "7OEXHU8CeQQMevTcd19def3+zX91PAnkETDo0Wh31aGWVW277HgSyCNg0CNHqsDxrf4CHngqN27c\\\n",
       "qFu3bj3+jQ9u1aqdYPfv36933nln7WNVXnvttTp7dvXdHHxTNSfo3KET8w+lf5cvX64333zzse/7\\\n",
       "6Q9fqt9e+dWh69fe/6Qu/+b3NZ0t1vq8q1ev1uuvv/7Ec0LVkbs5Np47MNgA0+VO3Zz8qCbL03Vh\\\n",
       "/HGNR3drZ2u0dsDgJBIw6Nlkcarevf/Lujt/saqa+nDyk9qeD2tn+w91b2/a93iwsSzigB7tTWb1\\\n",
       "t9uX6u78pXr059hUW8PaP/XzOvf86iX2wCMCBj369N5efXB7Ul/9GWIwGFUz8KBf+DoCBj2azhbV\\\n",
       "zO/WV9cYDZuDGg98fQhfR8CgRwezRX1//Jf6zvZ7NahZVbW11TysV0//uc6P1liGDyfYiVnEsdae\\\n",
       "HHhG9vf313rfYtnW7/70br144UbdOXi5DtrdOjf6tP46vFPv3fxs7c+7c+eO/8c5losXL/Y9wrGd\\\n",
       "mIC99dZbfY/ACXL9+vW133v1nx9V1UdVde3Yn/f222/XtWvH/+85ua5cudL3CMdmIzP8H6y7kflZ\\\n",
       "sZGZpxC7kdlvYABEEjAAIgkYAJEEDIBIAgZAJAEDINKJ2QcGXbp06VK98cYbnX3e+fPnO/ss2BT2\\\n",
       "gQGcbPaBAUCXBAyASAIGQCQBAyCSgAEQScAAiCRgAEQSMAAiCRgAkQQMgEgCBkAkAQMgkoABEEnA\\\n",
       "AIgkYABEEjAAIgkYAJEEDIBIAgZAJAEDIJKAARBJwACIJGAARBIwACIJGACRBAyASAIGQCQBAyCS\\\n",
       "gAEQScAAiCRgAEQSMAAiCRgAkQQMgEgCBkAkAQMgkoABEEnAAIgkYABEEjAAIgkYAJEEDIBIAgZA\\\n",
       "JAEDIJKAARBp1PcAHWr6HgCAZ8cdGACRBAyASAIGQCQBAyCSgAEQScAAiCRgAEQSMAAiCRgAkQQM\\\n",
       "gEgCBkAkAQMgkoABEEnAAIgkYABEEjAAIgkYAJEEDIBIAgZAJAEDIJKAARBJwACIJGAARBIwACIJ\\\n",
       "GACRBAyASAIGQCQBAyCSgAEQScAAiCRgAEQSMAAiCRgAkQQMgEgCBkCk/wHtEpmuJ3IQGgAAAABJ\\\n",
       "RU5ErkJggg==\\\n",
       "\"\n",
       "  frames[15] = \"data:image/png;base64,iVBORw0KGgoAAAANSUhEUgAAAbAAAAEgCAYAAADVKCZpAAAAOXRFWHRTb2Z0d2FyZQBNYXRwbG90\\\n",
       "bGliIHZlcnNpb24zLjUuMiwgaHR0cHM6Ly9tYXRwbG90bGliLm9yZy8qNh9FAAAACXBIWXMAAAsT\\\n",
       "AAALEwEAmpwYAAAJBElEQVR4nO3dMY8c5R3H8f/M7t6dcQ4c4RAnSNDEKRIpQUpBkSJUUVrKvIR0\\\n",
       "aXgVafMOUHroEkWKIqIIKBGFLSFFAQOyMRiHk+273dudFChFdHd473yaZ3/c51POrLV/F6OvZm/m\\\n",
       "ebphGAoA0vStBwCAsxAwACIJGACRBAyASAIGQCQBAyCSgAEQScAAiCRgAEQSMAAiCRgAkQQMgEgC\\\n",
       "BkAkAQMgkoABEEnAAIgkYABEEjAAIgkYAJEEDIBIAgZAJAEDIJKAARBJwACIJGAARBIwACIJGACR\\\n",
       "BAyASAIGQCQBAyCSgAEQScAAiCRgAEQSMAAiTVsPMKKh9QAAG6hrPcBZuQMDIJKAARBJwACIJGAA\\\n",
       "RBIwACIJGACRBAyASAIGQCQBAyCSgAEQScAAiCRgAEQSMAAiCRgAkQQMgEgCBkAkAQMgkoABEEnA\\\n",
       "AIgkYABEEjAAIgkYAJEEDIBIAgZAJAEDIJKAARBJwACIJGAARBIwACIJGACRBAyASAIGQCQBAyCS\\\n",
       "gAEQScAAiCRgAEQSMAAiCRgAkQQMgEgCBkAkAQMgkoABEEnAAIgkYABEEjAAIgkYAJEEDIBIAgZA\\\n",
       "JAEDIJKAARBJwACIJGAARBIwACIJGACRBAyASAIGQCQBAyCSgAEQScAAiCRgAEQSMAAiCRgAkQQM\\\n",
       "gEgCBkAkAQMgkoABEEnAAIgkYABEEjAAIgkYAJEEDIBIAgZAJAEDIJKAARBJwACIJGAARBIwACIJ\\\n",
       "GACRBAyASAIGQCQBAyCSgAEQScAAiCRgAEQSMAAiCRgAkQQMgEgCBkAkAQMgkoABEEnAAIg0bT0A\\\n",
       "XCSP7t+uxYP7R47vXLlWW5evjD4PJBMwGNGd9/5ad2/+48jxF37523rup69U13UNpoJMfkKEDbBc\\\n",
       "7LceAeIIGGyA1WK/ahhajwFRBAw2wHK+X1UCBqchYDCi6aXdqjr6d66Dr+7W4A4MTkXAYESXv/di\\\n",
       "df3Ry+7hF7dqWC0bTAS5BAxG1M926rg7MOD0BAxGNNnaqfKoPJwLAYMRTWY7rUeAbw0BgxH1sx0v\\\n",
       "K8M5ETAY0XEPcFRVDcOqVsvFyNNANgGDTTAMtVoctJ4CoggYbIBhWAkYnJKAwSYYhloKGJyKgMGI\\\n",
       "+n5a27tXjxxfHc7r0ZefNpgIcgkYjKibzGr7meeOHB9Wy5o/+LLBRJBLwGBEXdfVZLbdegz4VhAw\\\n",
       "GFPfVy9gcC4EDEbUdV1NplbjgPMgYDCqrvrp1vGnhsGWKnAKAgYj6rruxMV8V4fzsqklrE/AYEMs\\\n",
       "F/vuwOAUBAw2xGpxUDWsWo8BMQQMNsRyceAODE5BwGBkl559vrrJ7MjxB3f/XavFvMFEkEnAYGRb\\\n",
       "T12pvp8cOb48eOgnRDgFAYOR9bOdqs6lB0/KVQQjm8y27coM50DAYGT9bNsdGJwDVxGMrJ9MT3iZ\\\n",
       "eahhtRx9HkglYDC6k38+tKklrE/AYEMMw1DLxaPWY0AMAYONMXy9GgewFgGDBo59CnEYajl/OP4w\\\n",
       "EErAYGRdP6ndH1w/cnxYLWvv0w8aTASZBAxG1nVdTXe+c+y51XIx8jSQS8BgdF1NZnZlhiclYDC2\\\n",
       "rqt+61LrKSCegEEDk9n2iedsqQLrETBooOunxx4fVodVJWCwDgGDkX3TQr6rw3kNK1uqwDoEDDbI\\\n",
       "8nBuPURYk4DBBlkt5jXY1BLWImDQwEkr0i/nD2tYHjaYCPIIGDTw1NUXjn2Z+eEXH9fhwYMGE0Ee\\\n",
       "AYMG+ulWdd3kmDOeQIR1CRg00E+3qutdfvAkXEHQQD/brq4/7g4MWJeAQQP9ZFZdd8LlZyUOWIuA\\\n",
       "QQNd11ed8D7z6nA+7jAQSsBgkwxVy8V+6ykggoDBhlnOH7UeASIIGGyY5dwdGKxDwKCFrmq68/Qx\\\n",
       "J4aa730x+jiQSMCgia52r/3o2DMPPv9w5Fkgk4BBI/3WTusRIJqAQSOTrUutR4BoAgaNTGbuwOBJ\\\n",
       "CBg00s+2jz8xDDVYjQMeS8Cgga7rTlqIo1bLQ7sywxqmrQeAb5ubN2/WvXv3Hvu5/quP6rjlfP9z\\\n",
       "/169+87bNRy73cr/67quXnrppbp0yd/TuHi6C/RTxYX5j9LWq6++Wm+88cZjP/ern79Yf/jdr48c\\\n",
       "f/9fd+r3f/xz7T18/JqIk8mkbty4UdevXz/LqFB14qqcm88dGDT2aHm5Pjn4cS1W23V16+Pamt2r\\\n",
       "2cRWK/A4AgaN3Nt7VHf2tuuDw9/U3vK7VdXVR/s/qe/vbNXTl/9W9/asiQjfxEMc0MhnXz6of97+\\\n",
       "Re0tn62vL8WuVjWtO90rtZr9sPF0sPkEDBo5WCzr0eHRnwqXw6RWLk14LFcJNDJfLGs2fHXk+FZ/\\\n",
       "UNNu0WAiyCJg0MjB4rCu77xVz219WH0dVtWqtvsH9bPdv9fu5PGP4cNFd2Ee4rh9+3brEbgg9vfX\\\n",
       "289ruRrqT395t57ZvVGfz5+vw2Grrkw/q3cm9+uTz/fW/r67d+/W7u7uWcflgrt27VrrEc7swgTs\\\n",
       "9ddfbz0CF8StW7fW/uxb7/1v65T3z/RdwzDUm2++WVevXj3Tv4fXXnut9Qhn5kVmOGfrvsh8HrzI\\\n",
       "zDmIfZHZ38AAiCRgAEQSMAAiCRgAkQQMgEgCBkCkC/MeGIzl5ZdfHu27JpNJXb58ebTvg03iPTCA\\\n",
       "i817YAAwJgEDIJKAARBJwACIJGAARBIwACIJGACRBAyASAIGQCQBAyCSgAEQScAAiCRgAEQSMAAi\\\n",
       "CRgAkQQMgEgCBkAkAQMgkoABEEnAAIgkYABEEjAAIgkYAJEEDIBIAgZAJAEDIJKAARBJwACIJGAA\\\n",
       "RBIwACIJGACRBAyASAIGQCQBAyCSgAEQScAAiCRgAEQSMAAiCRgAkQQMgEgCBkAkAQMgkoABEEnA\\\n",
       "AIgkYABEmrYeYERd6wEAOD/uwACIJGAARBIwACIJGACRBAyASAIGQCQBAyCSgAEQScAAiCRgAEQS\\\n",
       "MAAiCRgAkQQMgEgCBkAkAQMgkoABEEnAAIgkYABEEjAAIgkYAJEEDIBIAgZAJAEDIJKAARBJwACI\\\n",
       "JGAARBIwACIJGACRBAyASAIGQCQBAyCSgAEQScAAiCRgAEQSMAAi/Rf0QWeJnMDwlQAAAABJRU5E\\\n",
       "rkJggg==\\\n",
       "\"\n",
       "  frames[16] = \"data:image/png;base64,iVBORw0KGgoAAAANSUhEUgAAAbAAAAEgCAYAAADVKCZpAAAAOXRFWHRTb2Z0d2FyZQBNYXRwbG90\\\n",
       "bGliIHZlcnNpb24zLjUuMiwgaHR0cHM6Ly9tYXRwbG90bGliLm9yZy8qNh9FAAAACXBIWXMAAAsT\\\n",
       "AAALEwEAmpwYAAAIc0lEQVR4nO3dT4skdx3H8W919+zshNn80WWzBw8S8BDQg7mPd/EB6NPwsA9A\\\n",
       "fAYePAu5BY+Cl4CgEUEIQojkIAn+IbjZlcj+jztd9fMwelhmzNbMNlX1cV6v01LT2/2dw/DuX3X9\\\n",
       "qrvWWgFAmtXcAwDARQgYAJEEDIBIAgZAJAEDIJKAARBJwACIJGAARBIwACIJGACRBAyASAIGQCQB\\\n",
       "AyCSgAEQScAAiCRgAEQSMAAiCRgAkQQMgEgCBkAkAQMgkoABEEnAAIgkYABEEjAAIgkYAJEEDIBI\\\n",
       "AgZAJAEDIJKAARBJwACIJGAARBIwACIJGACRNnMPMKE29wAAC9TNPcBFWYEBEEnAAIgkYABEEjAA\\\n",
       "IgkYAJEEDIBIAgZAJAEDIJKAARBJwACIJGAARBIwACIJGACRBAyASAIGQCQBAyCSgAEQScAAiCRg\\\n",
       "AEQSMAAiCRgAkQQMgEgCBkAkAQMgkoABEEnAAIgkYABEEjAAIgkYAJEEDIBIAgZAJAEDIJKAARBJ\\\n",
       "wACIJGAARBIwACIJGACRBAyASAIGQCQBAyCSgAEQScAAiCRgAEQSMAAiCRgAkQQMgEgCBkAkAQMg\\\n",
       "koABEEnAAIgkYABEEjAAIgkYAJEEDIBIAgZAJAEDIJKAARBJwACIJGAARBIwACIJGACRBAyASAIG\\\n",
       "QCQBAyCSgAEQScAAiCRgAEQSMAAiCRgAkQQMgEgCBkAkAQMgkoABEEnAAIgkYABEEjAAIgkYAJEE\\\n",
       "DIBIAgZAJAEDIJKAARBJwACIJGAARBIwACIJGACRBAyASAIGQCQBAyCSgAEQScAAiCRgAETazD0A\\\n",
       "XCZDv62Hn31S1YZnjnfrTR3eeKO6lfeUMJaAwYS2/3pUf/rlT2rYPn3m+N7By/WtH/y41lcOZpoM\\\n",
       "8ni7BwvQqtXQ93OPAVEEDJagtWrD8dxTQBQBg4Vo/XbuESCKgMECtNZqEDA4FwGDJWit2iBgcB4C\\\n",
       "BotgBQbnJWCwAK01n4HBOQkYTGi12tT+teunjrf+uL64d2eGiSCXgMGEuvWmrlz76qnjbejr6aN/\\\n",
       "zjAR5BIwmFDXdbVa7809BvxfEDCYVFfd2h3cYBcEDKbUCRjsioDBxFYrAYNdEDCYUGcFBjsjYDCl\\\n",
       "rquVgMFOCBhM6stXYK21CWeBbAIGE+q6rrpuffYPh+Hs48CZBAwWYhi2VWUFBmMJGCxE67f6Becg\\\n",
       "YLAQQ7+tpmAwmoDBQrThuMpFHDCagMFCnHwfmIDBWAIGC3HyGZiAwVgCBgvR+q19YHAOAgYTu/rq\\\n",
       "62duZn78+afV+uMZJoJMAgYT23vp1epWpzczb588qGYzM4wmYDCx1XpTXXVzjwHxBAwm1q03VZ2A\\\n",
       "wYsSMJjYyfeBCRi8KAGDiVmBwW4IGEysW2+qEzB4YQIGE1ut98opRHhxAgYT61Yb/YIdEDCYWLda\\\n",
       "1f8qWGv2gcFYAgaL0WpwJw4YTcBgQVq/nXsEiCFgsBCtWYHBeQgYLIgVGIwnYLAYVmBwHgIGS9Gs\\\n",
       "wOA8BAwWxAoMxhMwmFrX1frKwanDrQ21ffJwhoEgk4DBxLrVug5ff+P0D9pQj+7+efJ5IJWAwcS6\\\n",
       "+u/9EIEXIWAwg269mXsEiCdgMLnOCgx2QMBgap0VGOyCgMHkrMBgFwQMZiBg8OIEDGbwZacQW2sT\\\n",
       "TgK5BAxm0K3WZx73hZYwnoDBxLru7G9jrqpqQ19lBQajCBgsSBt6qzAYScBgQVq/tQKDkQQMFmQY\\\n",
       "ti7igJEEDBakDX1VOYUIYwgYLEjrrcBgLAGDBTm5CtEKDMYQMJjBev/gzL1g2ycPa9huZ5gI8rij\\\n",
       "KOzQhx9+WPfv33/+A598Xptur7rqnz1877N6//e/q7b/8nOfYr1e11tvvVV7e25LxeXUXaLz7Zfm\\\n",
       "F2U+R0dH9d577z33cV+/+Wr99Iffq+uvvPTM8X4Y6vs/+nn99bN7z32Ow8PD+vjjj+vGjRsXnhfq\\\n",
       "5DtWI1mBwQyOt30NQ6tH/cv16RffqL429fqVv9Qr67/PPRrEEDCYwXE/1L3ta/XRve/W4+HkdOHf\\\n",
       "vniz3nzp1xX8hhgm5SIOmMHxttUH979Tj4dX6iRYXfXtSv3x4VE97q/NPR5EEDCYwXHf19P+9AmQ\\\n",
       "vm2q+bOEUfylwAy226H2uwenjl9ZPal1uYwexhAwmMG27+ubh7+qr+x9Wl311dVQB6v79e1r79bV\\\n",
       "9cO5x4MIl+Yijtu3b889ApfA06dPRz1u2w/1s1/8pq5e/UP94/hrNbR1vbZ3u367elCf338y6jla\\\n",
       "a3X37t0aBnfu4OJu3rw59wgXdmkC9vbbb889ApfAnTt3Rj/23fc/+c+/PrjQax0fH9c777xTh4eH\\\n",
       "F/r/UFV169atuUe4MBuZYYfGbmTeBRuZ2ZHYfRs+AwMgkoABEEnAAIgkYABEEjAAIgkYAJEuzT4w\\\n",
       "mMLR0VFdv359ktc6ODio/f39SV4Llsg+MIDLzT4wAJiSgAEQScAAiCRgAEQSMAAiCRgAkQQMgEgC\\\n",
       "BkAkAQMgkoABEEnAAIgkYABEEjAAIgkYAJEEDIBIAgZAJAEDIJKAARBJwACIJGAARBIwACIJGACR\\\n",
       "BAyASAIGQCQBAyCSgAEQScAAiCRgAEQSMAAiCRgAkQQMgEgCBkAkAQMgkoABEEnAAIgkYABEEjAA\\\n",
       "IgkYAJEEDIBIAgZAJAEDIJKAARBJwACIJGAARBIwACJt5h5gQt3cAwCwO1ZgAEQSMAAiCRgAkQQM\\\n",
       "gEgCBkAkAQMgkoABEEnAAIgkYABEEjAAIgkYAJEEDIBIAgZAJAEDIJKAARBJwACIJGAARBIwACIJ\\\n",
       "GACRBAyASAIGQCQBAyCSgAEQScAAiCRgAEQSMAAiCRgAkQQMgEgCBkAkAQMgkoABEEnAAIgkYABE\\\n",
       "EjAAIgkYAJH+DURebLU6qV3SAAAAAElFTkSuQmCC\\\n",
       "\"\n",
       "  frames[17] = \"data:image/png;base64,iVBORw0KGgoAAAANSUhEUgAAAbAAAAEgCAYAAADVKCZpAAAAOXRFWHRTb2Z0d2FyZQBNYXRwbG90\\\n",
       "bGliIHZlcnNpb24zLjUuMiwgaHR0cHM6Ly9tYXRwbG90bGliLm9yZy8qNh9FAAAACXBIWXMAAAsT\\\n",
       "AAALEwEAmpwYAAAGUElEQVR4nO3bz2pcZQCH4W/iSIrSgiil1kILjZsurVvvoEjvoeQSeiNujate\\\n",
       "QsErEAsF6UKhrdhFW6iNRMX6dzBhXLmwdZGGOMc3eZ7lx8mcXyDwMpM5s+VyOQCgZm3qAQBwEAIG\\\n",
       "QJKAAZAkYAAkCRgASQIGQJKAAZAkYAAkCRgASQIGQJKAAZAkYAAkCRgASQIGQJKAAZAkYAAkCRgA\\\n",
       "SQIGQJKAAZAkYAAkCRgASQIGQJKAAZAkYAAkCRgASQIGQJKAAZAkYAAkCRgASQIGQJKAAZAkYAAk\\\n",
       "CRgASQIGQNJ86gErtJx6AMD/0GzqAQflHRgASQIGQJKAAZAkYAAkCRgASQIGQJKAAZAkYAAkCRgA\\\n",
       "SQIGQJKAAZAkYAAkCRgASQIGQJKAAZAkYAAkCRgASQIGQJKAAZAkYAAkCRgASQIGQJKAAZAkYAAk\\\n",
       "CRgASQIGQJKAAZAkYAAkCRgASQIGQJKAAZAkYAAkCRgASQIGQJKAAZAkYAAkCRgASQIGQJKAAZAk\\\n",
       "YAAkCRgASQIGQJKAAZAkYAAkCRgASQIGQJKAAZAkYAAkCRgASQIGQJKAAZAkYAAkCRgASQIGQJKA\\\n",
       "AZAkYAAkCRgASQIGQJKAAZAkYAAkCRgASQIGQJKAAZAkYAAkCRgASQIGQJKAAZAkYAAkCRgASQIG\\\n",
       "QJKAAZAkYAAkCRgASQIGQJKAAZAkYAAkCRgASQIGQJKAAZAkYAAkCRgASQIGQJKAAZAkYAAkCRgA\\\n",
       "SQIGQJKAAZAkYAAkCRgASQIGQJKAAZA0n3oAHDeLZztj8fPOC+frp94a6yffmmARNAkYrNjO17fG\\\n",
       "ky9uvnB+9v0PxzuXr0ywCJp8hAhAkoABkCRgACQJGABJAgZAkoABkCRgACQJGABJAgZAkoABkCRg\\\n",
       "ACQJGABJAgZAkoABkCRgACQJGABJAgZAkoABkCRgACQJGABJAgZAkoABkCRgACQJGABJAgZAkoAB\\\n",
       "kCRgACQJGABJAgZAkoABkCRgACQJGABJAgZAkoABkCRgACQJGABJAgZAkoABkCRgACQJGABJAgZA\\\n",
       "koABkCRgACQJGABJAgZAkoABkCRgACQJGABJAgZAkoABkCRgACQJGABJAgZAkoABkCRgACQJGABJ\\\n",
       "AgZAkoABkCRgACTNpx4AR8H29vZ48ODBvq5d2348XvmX88ePH4+Hi8/39RobGxvj9OnTL7EQjh4B\\\n",
       "g0Nw8+bNsbm5ua9rN6+8NzavXH7hfOvjj8cnn97Z12tsbW2Na9euvdRGOGoEDCawt5yPJ4uL4+fd\\\n",
       "N8fJ+ffj7Po3U0+CHAGDFdtbzsdXv3wwvl1cHMsxG7OxHD/8+fbYW34x9TRI8SUOWLGHv18aTxYb\\\n",
       "YznWxhizsRxr48ni3fHoj0tTT4MUAYMV2xuvjjFmz53Oxt7SByLwMgQMVuzE2q9jNvb+cTYbe2N9\\\n",
       "7beJFkGTgMGKnVu/Py6+dmfMZ4sxxnLMZ4ux8dqdce7E/amnQcqx+czi6dOnU0/gCHv27Nm+r/3s\\\n",
       "y4dj56ePxo+7Z8ave6fG66/8NN6Yb4+7D797qfv5m+YwnDlzZuoJB3ZsAnbjxo2pJ3CE3b59e9/X\\\n",
       "3nu0M+492hlj3D3w/W7dujV2d3cP/PPwt+vXr0894cBmy+Vy6g2rcmx+UVZva2tr3w8yH9b9PMjM\\\n",
       "IXn+G0UZ/gcGQJKAAZAkYAAkCRgASQIGQJKAAZB0bJ4Dg//ShQsXxtWrV1d2v/Pnz6/sXvB/5Tkw\\\n",
       "gOPNc2AAsEoCBkCSgAGQJGAAJAkYAEkCBkCSgAGQJGAAJAkYAEkCBkCSgAGQJGAAJAkYAEkCBkCS\\\n",
       "gAGQJGAAJAkYAEkCBkCSgAGQJGAAJAkYAEkCBkCSgAGQJGAAJAkYAEkCBkCSgAGQJGAAJAkYAEkC\\\n",
       "BkCSgAGQJGAAJAkYAEkCBkCSgAGQJGAAJAkYAEkCBkCSgAGQJGAAJAkYAEkCBkCSgAGQJGAAJAkY\\\n",
       "AEnzqQes0GzqAQAcHu/AAEgSMACSBAyAJAEDIEnAAEgSMACSBAyAJAEDIEnAAEgSMACSBAyAJAED\\\n",
       "IEnAAEgSMACSBAyAJAEDIEnAAEgSMACSBAyAJAEDIEnAAEgSMACSBAyAJAEDIEnAAEgSMACSBAyA\\\n",
       "JAEDIEnAAEgSMACSBAyAJAEDIEnAAEgSMACSBAyApL8Ah8ySCBNKMVkAAAAASUVORK5CYII=\\\n",
       "\"\n",
       "  frames[18] = \"data:image/png;base64,iVBORw0KGgoAAAANSUhEUgAAAbAAAAEgCAYAAADVKCZpAAAAOXRFWHRTb2Z0d2FyZQBNYXRwbG90\\\n",
       "bGliIHZlcnNpb24zLjUuMiwgaHR0cHM6Ly9tYXRwbG90bGliLm9yZy8qNh9FAAAACXBIWXMAAAsT\\\n",
       "AAALEwEAmpwYAAAIhElEQVR4nO3dQatcZx3H8f+ZmZuYxAQNkkTdiEoRpQZXUtCt62z1HeQFdOHO\\\n",
       "ja/B7lz0DbgLuBKR2lZQXDTFtgZaDI2SlmiT3PTOzDkuEoTmJjLnZvqc+eV+PsvDJPO/cIfvPc+c\\\n",
       "55xuGIYCgDSzqQcAgKMQMAAiCRgAkQQMgEgCBkAkAQMgkoABEEnAAIgkYABEEjAAIgkYAJEEDIBI\\\n",
       "AgZAJAEDIJKAARBJwACIJGAARBIwACIJGACRBAyASAIGQCQBAyCSgAEQScAAiCRgAEQSMAAiCRgA\\\n",
       "kQQMgEgCBkAkAQMgkoABEEnAAIgkYABEEjAAIi2mHqChYeoBAHZQN/UAR+UMDIBIAgZAJAEDIJKA\\\n",
       "ARBJwACIJGAARBIwACIJGACRBAyASAIGQCQBAyCSgAEQScAAiCRgAEQSMAAiCRgAkQQMgEgCBkAk\\\n",
       "AQMgkoABEEnAAIgkYABEEjAAIgkYAJEEDIBIAgZAJAEDIJKAARBJwACIJGAARBIwACIJGACRBAyA\\\n",
       "SAIGQCQBAyCSgAEQScAAiCRgAEQSMAAiCRgAkQQMgEgCBkAkAQMgkoABEEnAAIgkYABEEjAAIgkY\\\n",
       "AJEEDIBIAgZAJAEDIJKAARBJwACIJGAARBIwACIJGACRBAyASAIGQCQBAyCSgAEQScAAiCRgAEQS\\\n",
       "MAAiCRgAkQQMgEgCBkAkAQMgkoABEEnAAIgkYABEEjAAIgkYAJEEDIBIAgZAJAEDIJKAARBJwACI\\\n",
       "JGAARBIwACIJGACRBAyASAIGQCQBAyCSgAEQScAAiCRgAEQSMAAiCRgAkQQMgEgCBkAkAQMg0mLq\\\n",
       "AeC4Gfq+7v7rRg3r1WeOd92szlz8Zs3mPpawCZ8UaGy9fFDv/fZXtdr/5DPHZ4uT9f2f/rJmp89N\\\n",
       "NBlksYQIjfXrZdUwTD0GxBMwaGxYLWsQMHhmAgaN9etlVQkYPCsBg8YsIcJ2CBg0ZgkRtkPAoLHl\\\n",
       "g7tVQ3/o+GzvZFXXTTARZBIwaOz+7Q+qXx0cOn7mwjdqtjgxwUSQScBgR8zme9U5A4ONCRjsiNl8\\\n",
       "zxIijCBgsCNmi72qEjDYlIDBjugWJywhwggCBjvCEiKMI2DQ0MP9X0/eAzabW0KEMQQMGnv8MSr/\\\n",
       "03WWEGEEAYOWhqHW6+XUU8BzQcCgoWHoa1gJGGyDgEFTw6O70QPPSsCgpWGo3hkYbIWAQUPDMNSw\\\n",
       "PnwfRGA8AYOGhvWy9u/cOnS8my3q5LmvTDAR5BIwaKjv17W8d+fQ8dl8USfPChiMIWCwC7ru0UZm\\\n",
       "YFMCBrug6x7dzBfYlIDBDui6WXXOwGAUAYOd0HkaM4wkYLALfAcGowkYtDT0TzzcdV11s3njYSCb\\\n",
       "gEFD7sIB2yNg0FC/Onj0TDDgWQkYNNSv3EYKtkXAoKGHS4jOwGAbBAwa6tcH+gVbImDQUL/8tJ5c\\\n",
       "sK6q61qPA9EEDBr65MN3a+jXh45/8avfrq7zcYQxfGKgoWG9euLxxYnT1TkDg1EEDHbAw9tICRiM\\\n",
       "IWCwA9wHEcYTMNgBs8WeEzAYScBgB1hChPEEDBr5f7eQsoQI4wkYNDPUMBy+hL7q0QMtXYUIowgY\\\n",
       "NDIMQ/VPuYweGE/AoJW+r37tcSqwLQIGjQxD/9SNzMB4AgatCBhslYBBIw+/A7OECNsiYNBIv17W\\\n",
       "6sHdQ8e72bzmJ05NMBFkEzBoZP3pfj349z8PHZ+fPFNf+NKlCSaCbAIGE+u6rmbzvanHgDgCBhPr\\\n",
       "ull188XUY0AcAYOpCRgciYDBxLrZzBIiHIGAwdS6Wc2cgcFoAgbNPPlu9F3XVTcTMBhLwKCRfr18\\\n",
       "WsM8CgyOQMCgkX51MPUI8FwRMGikXwoYbJOAQSPOwGC7BAwaeRiwp30JBozl0id4Bjdu3Khbt25t\\\n",
       "9Nr5nfeqq8PXa+zv79frf3x9o7S9+OKLdfbs2bFjwnOpG4Zj8xfhsflBaefq1av1yiuvbPTan//s\\\n",
       "R3Xlx9+prvtswq698W794te/2+gX9LXXXquXXnrpCJPCU8VeA+sMDBr58rlTdTCcqpv7L9SD/kyd\\\n",
       "3/uwLpz4oG59dNdfV3AEAgaNfNqfrj//5yd1Z3Whqrr64MF361un/1L7yzenHg0iuYgDGvnbvR/W\\\n",
       "ndXFevix62qoef39/g/q5t2LU48GkQQMGlkNe/X41w1Dzev+gQVEOAoBg0ZOze/W49cSzbuDWi/v\\\n",
       "TTMQhBMwaOSF03+qr518r+a1rKqhTnT79b0zf6hTwz+mHg0iHZuLODbdqwNj3L9/f+PX/ub3f62L\\\n",
       "b71fHy2/Xgf9qTq3uF1vzD+qt9+/vfH/8fHHH/tdZqsuXbo09QhHdmwC9uqrr049As+hd955Z+PX\\\n",
       "vvH2zaq6WVVvHfn9rl27VtevXz/yv4fHvfzyy1OPcGQ2MsMzGLOReRtsZOZzELuR2XdgAEQSMAAi\\\n",
       "CRgAkQQMgEgCBkAkAQMg0rHZBwafh8uXL9eVK1eavd/58+ebvRfsOvvAAI43+8AAoCUBAyCSgAEQ\\\n",
       "ScAAiCRgAEQSMAAiCRgAkQQMgEgCBkAkAQMgkoABEEnAAIgkYABEEjAAIgkYAJEEDIBIAgZAJAED\\\n",
       "IJKAARBJwACIJGAARBIwACIJGACRBAyASAIGQCQBAyCSgAEQScAAiCRgAEQSMAAiCRgAkQQMgEgC\\\n",
       "BkAkAQMgkoABEEnAAIgkYABEEjAAIgkYAJEEDIBIAgZAJAEDIJKAARBJwACIJGAARFpMPUBD3dQD\\\n",
       "ALA9zsAAiCRgAEQSMAAiCRgAkQQMgEgCBkAkAQMgkoABEEnAAIgkYABEEjAAIgkYAJEEDIBIAgZA\\\n",
       "JAEDIJKAARBJwACIJGAARBIwACIJGACRBAyASAIGQCQBAyCSgAEQScAAiCRgAEQSMAAiCRgAkQQM\\\n",
       "gEgCBkAkAQMgkoABEEnAAIgkYABEEjAAIv0XcxpZD6GBVzYAAAAASUVORK5CYII=\\\n",
       "\"\n",
       "  frames[19] = \"data:image/png;base64,iVBORw0KGgoAAAANSUhEUgAAAbAAAAEgCAYAAADVKCZpAAAAOXRFWHRTb2Z0d2FyZQBNYXRwbG90\\\n",
       "bGliIHZlcnNpb24zLjUuMiwgaHR0cHM6Ly9tYXRwbG90bGliLm9yZy8qNh9FAAAACXBIWXMAAAsT\\\n",
       "AAALEwEAmpwYAAAJJklEQVR4nO3dzatcdx3H8e85M3Mf0gdJGjWtWEs2ggp14aoFBfdC/wY3pWvp\\\n",
       "v1JwJdKtiLgTt0Jw4Sq1aCq1kVbTp9s0N/fe3DsPx0XURWdi70x7z8nn5vWCEPjNkPkG7vBm7pzf\\\n",
       "+TVd1xUApGmHHgAANiFgAEQSMAAiCRgAkQQMgEgCBkAkAQMgkoABEEnAAIgkYABEEjAAIgkYAJEE\\\n",
       "DIBIAgZAJAEDIJKAARBJwACIJGAARBIwACIJGACRBAyASAIGQCQBAyCSgAEQScAAiCRgAEQSMAAi\\\n",
       "CRgAkQQMgEgCBkAkAQMgkoABEEnAAIgkYABEGg89QI+6oQcAeAg1Qw+wKZ/AAIgkYABEEjAAIgkY\\\n",
       "AJEEDIBIAgZAJAEDIJKAARBJwACIJGAARBIwACIJGACRBAyASAIGQCQBAyCSgAEQScAAiCRgAEQS\\\n",
       "MAAiCRgAkQQMgEgCBkAkAQMgkoABEEnAAIgkYABEEjAAIgkYAJEEDIBIAgZAJAEDIJKAARBJwACI\\\n",
       "JGAARBIwACIJGACRBAyASAIGQCQBAyCSgAEQScAAiCRgAEQSMAAiCRgAkQQMgEgCBkAkAQMgkoAB\\\n",
       "EEnAAIgkYABEEjAAIgkYAJEEDIBIAgZAJAEDIJKAARBJwACIJGAARBIwACIJGACRBAyASAIGQCQB\\\n",
       "AyCSgAEQScAAiCRgAEQSMAAiCRgAkQQMgEgCBkAkAQMgkoABEEnAAIgkYABEEjAAIgkYAJEEDIBI\\\n",
       "AgZAJAEDIJKAARBJwACIJGAARBIwACIJGACRBAyASAIGQCQBAyCSgAEQScAAiCRgAEQSMAAijYce\\\n",
       "AB5FJwe36+Tux9VOdmo02anR1v2/m3Y09GgQQ8CgZ13X1d7bf6p3//jrGm3t/u/PZPeJuvrjn9Z4\\\n",
       "+7GhR4QIAga962p+fFDdfFqzo2nNju5UVVU73q5uPh94NsjhOzDoW9fV7Phw6CkgnoBBz7puUUd7\\\n",
       "7w09BsQTMOhZt1jU0Sf/Wlof7z5eTestCafl3QIPiQtPPVvteGvoMSCGgMFDYrS1U9U0Q48BMQQM\\\n",
       "+tZ1K5dHk51qGm9JOC3vFujZfHqvqlssrY+2dqsEDE7NuwV6Nj85qm5FwJqRbZmwDgGDns1PjqoW\\\n",
       "ywGrqmp8BwanJmDQs7u3/lbz2fHQY0A8AYOezafHD7yQAzg9AYOHQDOa1O7Fp4ceA6IIGPSo67qq\\\n",
       "Wv701Y7Gtf3E5f4HgmACBj3rFivuON+09zcyA6cmYNCnblGzk6Ol5aZpazTZHWAgyCVg0KNusaj5\\\n",
       "8aqANdVOtgeYCHIJGPSoW8xrenh7+QH7v2BtAgY9ms+O6+CDvw89BpwLAgZAJAGDh8DW45fciR7W\\\n",
       "5B0DfXrAHTguPPVNpzHDmrxjoEeLB9xGarS1W1Uu5IB1CBj0aHZ8sOI+HP89C0zAYB0CBj2aHR/+\\\n",
       "n09gwDoEDHp0+NHN6rrlW0m1DrOEtQkY9Ohkf++BF3I4zBLWI2AARBIwACIJGPSk67qV33+Nti/U\\\n",
       "jsMsYW0CBj3pFvOaT4+X1tvxVk12nxxgIsgmYNCTbjGvxfTe0nrTjGrkKBVYm4BBT7rFrGYnKwLW\\\n",
       "jpwFBhsQMOjJ7OhuHX70j6X1pm2rHW0NMBFkEzDoSdd11S1mqx+0BQzWJmAARBIw6M3qO3AAmxEw\\\n",
       "6MlidrKyYff3gPkdIqxLwKAns+ODleu7F5/peRI4HwQMejK7tzpgjlKBzQgY9OT4zoe16neI4+0L\\\n",
       "/Q8D54CAQU8OPnxn5bpPYLAZAYOBNe3YWWCwAQEDIJKAQQ+6rqvqFkOPAeeKgEEPuvmsFrPp0GPA\\\n",
       "uSJg0IPFfHp/I/NnTB67WDtf+doAE0E+AYMedPNpzWfLh1mOJtuuQoQNCRj04OTw0zq+89HSejMa\\\n",
       "Vzt2lApsQsCgB4vZdOVpzG07rnY8GWAiyCdgMKCmHVXTjoceAyIJGAypKZuYYUMCBj1YdQUi8MUI\\\n",
       "GPRg/oCjVIDNCRj04EFngV24/K2eJ4HzQ8CgB9PDOyvXd560iRk2JWDQg/1//nXl+mjbJmbYlIBB\\\n",
       "D7puvnJ9tOUwS9iUgMGA3EYKNmcHJWxgf3+/rl+/fqrnNk1To/39WrXb689vvlndO8u3mPqsK1eu\\\n",
       "1NWrV9ecEs43AYMNvPHGG/Xiiy+e6rnbk1H9/Gc/qe8899Wlx15++eW6/vYHn/tvvPLKK/Xaa6+t\\\n",
       "PSecZwIGZ2xna1yT8aRuHT9Xe9Ona6c9qG/s3KjtdvneiMDpCRicsZ3trXp39oM63v9RddVWVVfv\\\n",
       "nzxX33/899V1Q08HuQQMztiTl79Xhxd+WG2N/rPS1O3Z1+t3b3+73v/k7qCzQTJXIcIZa9txtUt3\\\n",
       "nG/q06OqeyezQWaC80DA4IxNmuMaNZ+9mW9X7fx2TWeLQWaC80DA4IxdnNyq7z72h9pqjqqqq1FN\\\n",
       "65ntt+rZ8bWazlZvcAY+3yPzHditW7eGHoFzZG9v79TPfevdvfrlr35R+/Pf1p3Z5dpqj+qpyXv1\\\n",
       "/se3a7443VUch4eHfoY5E1euXBl6hI09MgF7/fXXhx6Bc+TmzZunfu6tvbv1mz/85Qu93o0bN/wM\\\n",
       "cyZeffXVoUfYWNM9OtfxPjL/Uc7etWvX6oUXXujt9Wxk5gzFHgnuOzAAIgkYAJEEDIBIAgZAJAED\\\n",
       "IJKAARDpkdkHBl+mS5cu1UsvvdTb6z3//PO9vRaksA8M4NFmHxgA9EnAAIgkYABEEjAAIgkYAJEE\\\n",
       "DIBIAgZAJAEDIJKAARBJwACIJGAARBIwACIJGACRBAyASAIGQCQBAyCSgAEQScAAiCRgAEQSMAAi\\\n",
       "CRgAkQQMgEgCBkAkAQMgkoABEEnAAIgkYABEEjAAIgkYAJEEDIBIAgZAJAEDIJKAARBJwACIJGAA\\\n",
       "RBIwACIJGACRBAyASAIGQCQBAyCSgAEQScAAiCRgAEQSMAAiCRgAkcZDD9CjZugBAPjy+AQGQCQB\\\n",
       "AyCSgAEQScAAiCRgAEQSMAAiCRgAkQQMgEgCBkAkAQMgkoABEEnAAIgkYABEEjAAIgkYAJEEDIBI\\\n",
       "AgZAJAEDIJKAARBJwACIJGAARBIwACIJGACRBAyASAIGQCQBAyCSgAEQScAAiCRgAEQSMAAiCRgA\\\n",
       "kQQMgEgCBkAkAQMgkoABEOnfmdp8S+tiGOwAAAAASUVORK5CYII=\\\n",
       "\"\n",
       "  frames[20] = \"data:image/png;base64,iVBORw0KGgoAAAANSUhEUgAAAbAAAAEgCAYAAADVKCZpAAAAOXRFWHRTb2Z0d2FyZQBNYXRwbG90\\\n",
       "bGliIHZlcnNpb24zLjUuMiwgaHR0cHM6Ly9tYXRwbG90bGliLm9yZy8qNh9FAAAACXBIWXMAAAsT\\\n",
       "AAALEwEAmpwYAAAJmklEQVR4nO3dvY9cVxnA4ffeO7Nf8dqxE2LnywpBIEuIAiGlQHTUkSLxt6QM\\\n",
       "SPkr6ChSUEU0KSlog0LhCGEiEhGCE60UJ7tZ7/fM3EthhBRmrOyMPef6nX2e8tzRzmtpVz+N555z\\\n",
       "q67rAgCyqfseAAAWIWAApCRgAKQkYACkJGAApCRgAKQkYACkJGAApCRgAKQkYACkJGAApCRgAKQk\\\n",
       "YACkJGAApCRgAKQkYACkJGAApCRgAKQkYACkJGAApCRgAKQkYACkJGAApCRgAKQkYACkJGAApCRg\\\n",
       "AKQkYACkJGAApCRgAKQkYACkJGAApCRgAKQkYACkNOh7gIK6vgcAeAJVfQ+wKJ/AAEhJwABIScAA\\\n",
       "SEnAAEhJwABIScAASEnAAEhJwABIScAASEnAAEhJwABIScAASEnAAEhJwABIScAASEnAAEhJwABI\\\n",
       "ScAASEnAAEhJwABIScAASEnAAEhJwABIScAASEnAAEhJwABIScAASEnAAEhJwABIScAASEnAAEhJ\\\n",
       "wABIScAASEnAAEhJwABIScAASEnAAEhJwABIScAASEnAAEhJwABIScAASEnAAEhJwABIScAASEnA\\\n",
       "AEhJwABIScAASEnAAEhJwABIScAASEnAAEhJwABIScAASEnAAEhJwABIScAASEnAAEhJwABIScAA\\\n",
       "SEnAAEhJwABIScAASEnAAEhJwABIScAASEnAAEhJwABIScAASEnAAEhJwABIScAASEnAAEhJwABI\\\n",
       "ScAASEnAAEhJwABIScAASEnAAEhJwABIScAASEnAAEhJwABIScAASEnAAEhJwABIScAASEnAAEhJ\\\n",
       "wABIScAASEnAAEhp0PcAcBGdHe7F6f2vohmuRz1cj2a4EfVwPepmGFVV9T0epCBgUFjXdfH1Jx/E\\\n",
       "3T//IZrhRjRrG1EPN6IZrse1V38W13/yy75HhBQEDErruhif3I9uMorxZBTjk/v/u7R59YUeB4Nc\\\n",
       "fAcGxXUxOvqm7yEgPQGDwtrJOPbv3pm+UFWxfvnZ8gNBUgIGPWjbydRaVQ/i0vVXe5gGchIweEJU\\\n",
       "VRWDzct9jwFpCBgU1k3GEdHNuFJFs7ZZehxIS8CgsPHpYXRtO/NaFfaAwXkJGBQ2Pj2M6KYDVtV1\\\n",
       "6Becn4BBYSd7O9GOR1Pr28//MOrBeg8TQU4CBoWd7t+Lrh1PrQ+3rkRVNz1MBDkJGDwhBhuXBAzm\\\n",
       "IGBQUNd10c3YAxYRUTnIF+YiYFBS18bk7KjvKWAlCBgU1LVtjE8Op9arehDr246RgnkIGBTUTs7i\\\n",
       "ePeLqfV6MHQSPcxJwKCgdjKO0/0vp9aruonBxqUeJoK8BAyeAFVVx2Bjq+8xIBUBg5K6WWcgRkRV\\\n",
       "hWM4YD4CBgWNTw+je1jEgLkIGBQ0Pj6IWSfRb1594cFZiMC5+YuBgo6++mzmSfRbz96MqnIKB8xD\\\n",
       "wKCgk92dmSfRD7cu//d7MOC8BAyeAPVwo+8RIB0Bg0K6rotu5pOYH9x/6BxEmI+AQSldG+34bHq9\\\n",
       "qqJqBuXngeQEDAppJ+OYnE4f5Dvc3I6nvvdK+YEgOQGDQrrJOMYzTqKv6mE0607hgHkJGBQyPjmI\\\n",
       "o3v/nlqvm0EM1gQM5iVgUMiDh1mOpy9UVVSNPWAwLwGDYhwhBY+TgEEh7fhsZsO2nrkZDvKF+QkY\\\n",
       "FDI63p+5vnnNgyxhEQIGhYyO9mPWR7Dh1pXyw8AKEDAoZP/u32auD9afKjwJrAYBg0LayWj2hapy\\\n",
       "jBQsQMAASEnAoICunUTXTqbWB5uXY337Wg8TQX4CBgW0k1FMRidT68ONSzHcerr8QLACBAwKaEdn\\\n",
       "MTmbDlg9XItmzbPAYBECBgWcHnwVJ7tfTK1XVRNV7VEqsAgBgwK6tp35HVhUHmQJixIw6FHjFHpY\\\n",
       "mIBBATNPoY+IKy//uPAksDoEDAoYnxzMXB9uXi48CawOAYMCxsf3Z64PNrcLTwKrQ8CggKOvP5+5\\\n",
       "7g5EWJyAQQHHX9/tewRYOQIGPVnbfiaGW74Dg0UJGCxZ13Uzn8Q83LwcA7fRw8IEDJasHZ/OfJRK\\\n",
       "M9yMerDWw0SwGgQMlmwyOo12fDa1Xg+GUTVu4oBFCRgs2ehwb/Y+MA+yhEciYLBkZw8LGPBIBAx6\\\n",
       "sv38j/oeAVITMFiiruti5i2IUcXG0zdKjwMrRcBgySanx9OLVdgDBo9IwGDJRiezz0Gsm2HhSWC1\\\n",
       "CBgs2dG9zx5yxR2I8CgEDJap62YGrFnbitoeMHgk/oJgTru7u3Hnzp1zvbaKLprj46nPWqf1pfjL\\\n",
       "7b9GNN99EsfNmzfjpZdeWmBSWG3Vg7ukLoQL8w9lud577714/fXXz/Xauqri97/+VXz/+avfWv/j\\\n",
       "B5/Eb373pxhN2u/8GW+//Xa89dZbC80K55D2/7J9AoMlWhs2UVWD+PzkB/HN+HpsNXvx4vo/4uBk\\\n",
       "dK54AQ8nYLBE21ub8c+zn8fpwWvRRR1VdHHv7GacTT7qezRIz00csEQvvvKLONp4Lbpo4sE3YnV8\\\n",
       "OXo5Pj7+ad+jQXoCBkvUDNajrpv/W61i0tkDBo9KwGCJ1urjqGP8rbWubePw4MueJoLVIWCwRM+t\\\n",
       "/StuPfV+DKuTiOiiqc7ixuDD+OjDd/seDdK7MDdx7Ozs9D0CK2J3d/fcr7398U5U7/42vhk/F/cn\\\n",
       "V2OzPogrzedxb2//3D/j4ODA7y9Lc+NG3kOlL0zA3nnnnb5HYEWcdxNzRMSnO3vx6c5eRPx94fe7\\\n",
       "ffu231+W5s033+x7hIXZyAxzmmcj8+NgIzNLlnYjs+/AAEhJwABIScAASEnAAEhJwABIScAASOnC\\\n",
       "7AODx+X69evxxhtvFHu/W7duFXsvyMQ+MICLzT4wAChJwABIScAASEnAAEhJwABIScAASEnAAEhJ\\\n",
       "wABIScAASEnAAEhJwABIScAASEnAAEhJwABIScAASEnAAEhJwABIScAASEnAAEhJwABIScAASEnA\\\n",
       "AEhJwABIScAASEnAAEhJwABIScAASEnAAEhJwABIScAASEnAAEhJwABIScAASEnAAEhJwABIScAA\\\n",
       "SEnAAEhJwABIScAASEnAAEhJwABIScAASEnAAEhJwABIScAASGnQ9wAFVX0PAMDj4xMYACkJGAAp\\\n",
       "CRgAKQkYACkJGAApCRgAKQkYACkJGAApCRgAKQkYACkJGAApCRgAKQkYACkJGAApCRgAKQkYACkJ\\\n",
       "GAApCRgAKQkYACkJGAApCRgAKQkYACkJGAApCRgAKQkYACkJGAApCRgAKQkYACkJGAApCRgAKQkY\\\n",
       "ACkJGAApCRgAKQkYACkJGAAp/Qfh9ZcmPUudkgAAAABJRU5ErkJggg==\\\n",
       "\"\n",
       "  frames[21] = \"data:image/png;base64,iVBORw0KGgoAAAANSUhEUgAAAbAAAAEgCAYAAADVKCZpAAAAOXRFWHRTb2Z0d2FyZQBNYXRwbG90\\\n",
       "bGliIHZlcnNpb24zLjUuMiwgaHR0cHM6Ly9tYXRwbG90bGliLm9yZy8qNh9FAAAACXBIWXMAAAsT\\\n",
       "AAALEwEAmpwYAAAJ+UlEQVR4nO3dS49kZRnA8eecqtNd3dM9FyDOBQgTCKAQTYwfwIUrXbHzC7Bn\\\n",
       "xd7Ej0FYsScmrN0YlJjBBUGjITPRODJpBubW9+66vC6IJlg1saubOoen5vdbvlWZeiaZyj8157zv\\\n",
       "qUopAQDZ1F0PAACnIWAApCRgAKQkYACkJGAApCRgAKQkYACkJGAApCRgAKQkYACkJGAApCRgAKQk\\\n",
       "YACkJGAApCRgAKQkYACkJGAApCRgAKQkYACkJGAApCRgAKQkYACkJGAApCRgAKQkYACkJGAApCRg\\\n",
       "AKQkYACkJGAApCRgAKQkYACkJGAApCRgAKQkYACk1O96gBaVrgcA+A6quh7gtPwCAyAlAQMgJQED\\\n",
       "ICUBAyAlAQMgJQEDICUBAyAlAQMgJQEDICUBAyAlAQMgJQEDICUBAyAlAQMgJQEDICUBAyAlAQMg\\\n",
       "JQEDICUBAyAlAQMgJQEDICUBAyAlAQMgJQEDICUBAyAlAQMgJQEDICUBAyAlAQMgJQEDICUBAyAl\\\n",
       "AQMgJQEDICUBAyAlAQMgJQEDICUBAyAlAQMgJQEDICUBAyAlAQMgJQEDICUBAyAlAQMgJQEDICUB\\\n",
       "AyAlAQMgJQEDICUBAyAlAQMgJQEDICUBAyAlAQMgJQEDICUBAyAlAQMgJQEDICUBAyAlAQMgJQED\\\n",
       "ICUBAyAlAQMgJQEDICUBAyAlAQMgJQEDICUBAyAlAQMgJQEDICUBAyAlAQMgJQEDICUBAyAlAQMg\\\n",
       "JQEDICUBAyAlAQMgJQEDICUBAyAlAQMgJQEDICUBAyAlAQMgJQEDICUBAyAlAQMgJQEDICUBAyAl\\\n",
       "AQMgJQEDICUBAyClftcDwJPoeO9hHO3ci16zGnWzGr1mEHWzGnWviaqquh4PUhAwaFkpJe7fvBH/\\\n",
       "uvGb6DWD6K0Mom4G0WtW46kXfxKXf/izrkeEFAQM2lZKHO8/ijIexmg8jNHhzn9fWrt0rcPBIBfX\\\n",
       "wKBlZTKOvS9uzXytqnstTwN5CRi0rJRJHG5/ObVe1f04/9xrHUwEOQkYfFdUVaxsPNX1FJCGgEHL\\\n",
       "yngYUcrUelXV0axtdjAR5CRg0LLhwU6UMp75WlX5SsJJ+bZAy473HkQZTwes7jcR9oDBiQkYtGz3\\\n",
       "i1sxGR1NrW9eezV6zWoHE0FOAgZtm778FRERzfoFt9HDHAQMWlRKiTKZff2rv3ouwjUwODHfFmhR\\\n",
       "mYxjdLg7+8Wqcg4izEHAoEVlMoqjna+mX6iq6DWD9geCxAQMWjQeHsXu1s2p9V6zFpvXXulgIshL\\\n",
       "wOA7oKp70ayd73oMSEXAoE1lMnO5quvoray1PAzkJmDQotHhXpQZx0gB8xMwaNHx/sOZ5yD2Bxvu\\\n",
       "QIQ5CRi0aOfOZ1Emo6n188+9FlXt+bIwDwGDFo0P92aur6xfdA4izEnAoCWllCiPOUeqt2IPGMxL\\\n",
       "wKAlZTKOyXD6EN//cA0M5iNg0JIyHs08RqrqNdH3IEuYm4BBS4YH27F79+9T681gI9affr6DiSA3\\\n",
       "AYOWlMlk5nPAqn4T/cFGBxNBbgIGrZl9A0dV1V8/jRmYi4BBS8bDo8c+zBKYn4BBS4b7D2euDy5e\\\n",
       "bncQWBICBi3Zv3c7Zv0E27z6SkS4hR7mJWDQkv2vbs9cb9YvtjsILAkBg47V/RWbmOEUBAxaUCbj\\\n",
       "mYf4AqcnYNCC8eg4xseHU+v9wUasnLvY/kCwBAQMWjAZHsXoaH9qvVm/EKubz3QwEeQnYNCC490H\\\n",
       "cfhwa2q97q86iR5OScCgBaVMIspkar2qq6jqXgcTQX4CBi143A0cvWat5UlgeQgYtGC4vz1z/fyz\\\n",
       "P2h5ElgeAgYtON69N3O92bjU8iSwPAQMWvDon3+eud6snW95ElgeAgYtKGU8c90NHHB6AgYLVkqZ\\\n",
       "+RiVur/qOWBwBgIGCzYZHsZkdDy1PrjwPadwwBkIGCzY6PggxqOjqfXe6nrUjU3McFoCBgt2vHMv\\\n",
       "hvuPptZ7zSDqnv9ChNMSMFiw0dF+TIbTv8CiqjxGBc5AwGCBSikx8w6OCNe/4IwEDBZs1in0EVVs\\\n",
       "XHm59VlgmQgYLNhw7+HM9ZVzTuGAsxAwWKgS25//dXq5iugPzrU/DiwRAYNFKjHzDsSvuYEDzkLA\\\n",
       "oAPN+sWom5Wux4DUBAwWaDI+jjKZfpDl2qWr0V9Z72AiWB4CBgs0OtyLMh5OrfcHG1E5BxHORMBg\\\n",
       "gY73Hsw+RqpZjary9YOz8A2CBTp4cCfGM/eBhVM44IwEDBbk61M4ZqjqGFy61u4wsIQEDBaojEZT\\\n",
       "a1Vdx/rTz3cwDSwXAYNFKSWGB9N7wKqonIMI3wIBgwUpZRIH9+9Mv1BVUTer7Q8ES6bf9QCQyd27\\\n",
       "d+PmzZsnem9VRtH7/LOp8zbG40n86eOPo/TX/u+f8dJLL8Xly5dPMSksPwGDOXzwwQfx5ptvnui9\\\n",
       "g5V+vP/rX8YzF765YfnTW5/HW2/9PPYOp/eH/a933nnnxJ8HTxoBgwXp1VVMoh+3D1+NndHTsdm/\\\n",
       "F9dWb8Y/th7G0XDc9XiQnoDBglzY3Iy/Hfw09oevR4kqqihxf3g1vnz0SYzH08dLAfNxEwcsyIvf\\\n",
       "/0Xs9l6PEnVEVFGijjtHL8fNnVcf84xmYB4CBgvS6w9mHBdVxTicgQjfBgGDBRnU+1HFN691TSaj\\\n",
       "OD6439FEsFwEDBZkY/RJbB59GGW8HxEl+tVRXKn+GLdv/bbr0WApPDE3cWxtbXU9Aktge3v7xO99\\\n",
       "/3d/id9/+qu4+tyP4tKlZ+PH11fi8uXduL+9N9fn+bfLIl25cqXrEU7tiQnYe++91/UILIEbN26c\\\n",
       "+L2lRGzd342t+3+IKiJ+92Edvbqa6xb6jz76KMZjt9yzOG+//XbXI5xa9dgTs5fPE/MXZXHefffd\\\n",
       "VjcW28hMC9I+18c1MABSEjAAUhIwAFISMABSEjAAUhIwAFJ6YvaBwbfhhRdeiDfeeKO1z7t+/Xpr\\\n",
       "nwXZ2AcG8GSzDwwA2iRgAKQkYACkJGAApCRgAKQkYACkJGAApCRgAKQkYACkJGAApCRgAKQkYACk\\\n",
       "JGAApCRgAKQkYACkJGAApCRgAKQkYACkJGAApCRgAKQkYACkJGAApCRgAKQkYACkJGAApCRgAKQk\\\n",
       "YACkJGAApCRgAKQkYACkJGAApCRgAKQkYACkJGAApCRgAKQkYACkJGAApCRgAKQkYACkJGAApCRg\\\n",
       "AKQkYACkJGAApCRgAKQkYACk1O96gBZVXQ8AwLfHLzAAUhIwAFISMABSEjAAUhIwAFISMABSEjAA\\\n",
       "UhIwAFISMABSEjAAUhIwAFISMABSEjAAUhIwAFISMABSEjAAUhIwAFISMABSEjAAUhIwAFISMABS\\\n",
       "EjAAUhIwAFISMABSEjAAUhIwAFISMABSEjAAUhIwAFISMABSEjAAUhIwAFISMABSEjAAUhIwAFL6\\\n",
       "N4tVtxhUBR0zAAAAAElFTkSuQmCC\\\n",
       "\"\n",
       "  frames[22] = \"data:image/png;base64,iVBORw0KGgoAAAANSUhEUgAAAbAAAAEgCAYAAADVKCZpAAAAOXRFWHRTb2Z0d2FyZQBNYXRwbG90\\\n",
       "bGliIHZlcnNpb24zLjUuMiwgaHR0cHM6Ly9tYXRwbG90bGliLm9yZy8qNh9FAAAACXBIWXMAAAsT\\\n",
       "AAALEwEAmpwYAAAKc0lEQVR4nO3dz28cZxnA8Wdmd/3bTpqmNE0bKpWmJYDUMxckLqhXLvwnPXDj\\\n",
       "/2iFhFqJKxKFE+KIChLNoSCUQlugjdM0qZ3619r7Y4ZDOYA8aWwnM9tn8/kc57WcJ4fR17s777tF\\\n",
       "XdcBANmUsx4AAM5CwABIScAASEnAAEhJwABIScAASEnAAEhJwABIScAASEnAAEhJwABIScAASEnA\\\n",
       "AEhJwABIScAASEnAAEhJwABIScAASEnAAEhJwABIScAASEnAAEhJwABIScAASEnAAEhJwABIScAA\\\n",
       "SEnAAEhJwABIScAASEnAAEhJwABIScAASEnAAEipP+sBOlTPegCAr6Fi1gOclVdgAKQkYACkJGAA\\\n",
       "pCRgAKQkYACkJGAApCRgAKQkYACkJGAApCRgAKQkYACkJGAApCRgAKQkYACkJGAApCRgAKQkYACk\\\n",
       "JGAApCRgAKQkYACkJGAApCRgAKQkYACkJGAApCRgAKQkYACkJGAApCRgAKQkYACkJGAApCRgAKQk\\\n",
       "YACkJGAApCRgAKQkYACkJGAApCRgAKQkYACkJGAApCRgAKQkYACkJGAApCRgAKQkYACkJGAApCRg\\\n",
       "AKQkYACkJGAApCRgAKQkYACkJGAApCRgAKQkYACkJGAApCRgAKQkYACkJGAApCRgAKQkYACkJGAA\\\n",
       "pCRgAKQkYACkJGAApCRgAKQkYACkJGAApCRgAKQkYACkJGAApCRgAKQkYACkJGAApCRgAKQkYACk\\\n",
       "JGAApCRgAKQkYACkJGAApCRgAKQkYACkJGAApCRgAKQkYACkJGAApCRgAKQkYACkJGAApCRgAKQk\\\n",
       "YACkJGAApCRgAKTUn/UA8Diq6zoO7v47ysFiDJY3orewHEVRzHosSEXAYAam48P48PdvxHQ8ioXV\\\n",
       "87G48VSsXnw+Vi5eibVL34qyN5j1iPC1J2AwA6O9rZgcDWMy3Inx/nbsf/ZRbP3jTxFFGd/7yc9i\\\n",
       "+fylWY8IX3s+A4MZ2L/9YUyGO8euF0URRXgrEU5CwKBjdV1HXdeNaytPPR/9pbWOJ4KcBAxmoJqM\\\n",
       "Gq8vrJyPsr/Q8TSQk4BB1+o6RvvbjUv9xdUoej6ahpMQMOhYXU1i5+O/Ni8Whcfp4YQEDDpW13WM\\\n",
       "D/eOLxRlrDx5pfuBICkBg47V1TQijj/EUZS9WLn4ze4HgqQEDDo2Hu78N2L/ryiKGKyem8FEkJOA\\\n",
       "QceGWzejmowbVoooSw9wwEkJGHRsuLUZ9fR4wPpLqxGlWxJOyt0CHarrOqKuGtfWL78cvcFixxNB\\\n",
       "XgIGXaqr5icQI2Kwcj6KstfxQJCXgEGHqukkRntbjWtlfxDhHEQ4MQGDDlXjw9i79ffGtcImZjgV\\\n",
       "AYMO1RFRN3wG1hssxfrlb3c/ECQmYNCh6eF+40n0RW8QSxsXZzAR5CVg0KHh9mbjU4hFWUY5WJrB\\\n",
       "RJCXgEGHdj75W/MpHL2Bz7/glAQMOlLXddQNZyBGRGw8e80j9HBKAgZdqauoGk7giIhYXH8ywisw\\\n",
       "OBUBg45Uk3FMDnYb1/pLa2EPGJyOgEFHxsOd2Pvsw8Y1e8Dg9AQMOlJXVVSTo2PXe4srsfTE5RlM\\\n",
       "BLkJGHSkmo6bvscyeoNle8DgDAQMOjLe3268XvYH0Vtc7XgayE/AoCN7n34QjS/B4suNzMDpuGug\\\n",
       "I8N7txqvL6xd6HgSmA8CBh34qi+y3HjuO+ERejg9AYMOVOOjmIyGjWuLXoHBmQgYdGAyOojJwU7j\\\n",
       "WtEbdDwNzAcBgw6M97bj8IvbxxeKIoqytIkZzkDAoAP3O8R3ceMbsXLhuY6ngfkgYNCByfA+ZyAu\\\n",
       "LEd/ea3jaWA+CBh0YP/OvxqvF71elD4DgzMRMOjA7q0bjdd7g+WOJ4H5IWDQsi/3gDWvbVz5brfD\\\n",
       "wBwRMGhZPR1HVU0a1xbXHeILZyVg0LLJ4X5MR4eNa/0lh/jCWQkYtOxg62Yc7dxpXCscIQVnJmDQ\\\n",
       "srqaNp6DuHTu6RisPTGDiWA+CBi0qK7rxm9hjogYrJyLvu8BgzMTMGjZaG+r8XpvYTnK/kLH08D8\\\n",
       "EDBoVR27m+83LxWFMxDhIQgYtKmOONq927i0dO7pjoeB+SJg0KL6Pl9iGVHE+jMvdToLzBsBgxZN\\\n",
       "DveimoyOLxQRC55AhIciYNCio93PYzpu3sRclP2Op4H5ImDQouH2zZgeHRy7XvYWoijdfvAw3EHQ\\\n",
       "kq86xHft0osxWN7odiCYMwIGraljPNxpXBmsbNgDBg9JwKAldVXF/mcfNa6Vvb63EOEhuYOgJXU1\\\n",
       "jYPGb2Iuor+01vk8MG8EDDpWlL1Yf+blWY8B6QkYtGQ6OmjeyFwUsbB+ofuBYM4IGLTkaPfzqKbH\\\n",
       "v4m5KIroLyzPYCKYLwIGLdndvBFV0ybmwm0Hj4I7CVpQ13XUVfM5iOvPXI1ysNTxRDB/BAxaUTef\\\n",
       "gRgRi+tPRtlzjBQ8LHcRnNB0Oo3r16/HaNQcpv9VRBWDzeY9YLfubMfNd/74wN+xsrISr7zyiu8M\\\n",
       "g/so6vo+Z93Mn8fmP0o7Dg4O4urVq7G5ufnAnz23uhi/+OmP4/LF9WNrr7/953j97Xcf+DuuXbsW\\\n",
       "7733XvR6vTPNCyeU9i8kr8CgBb2yjPPrS/HF+GLcGr0QRVRxefGDGFR34sPN7VmPB3NBwKAFg34v\\\n",
       "7o6uxPujH8W4XoyIiJtHL8UL5W/ixsefz3g6mA8e4oAWnNu4EH/Z/2GM66X48h2aIo6qtXj33g/i\\\n",
       "7s541uPBXBAwaMGLzz4ZUR4/bX5SD2Ja+TgWHgUBgxZce/5CrPaHx66Php9HPD4PTkGrBAxasLu7\\\n",
       "Hc9OfxXl5HZETKOIaZzrfxZ7//x5TKcPfgwfeLDH5iGOTz/9dNYjkNxwOIzpdHqin33jt9fj1394\\\n",
       "Py49/btYOf9yvHj5ifj+C4dx5+4nUZ3wFdh0Oo3bt29H6XvDaNGlS5dmPcKZPTYBe/PNN2c9AsmN\\\n",
       "x+MYDo+/Ldikquq4tbUXt7ZuRMSNeKcs4pdlGdP7HC/V5N69e/HWW2/ZyEyrXnvttVmPcGY2MsMJ\\\n",
       "nWYj86NgIzMdSfsXkvcmAEhJwABIScAASEnAAEhJwABIScAASOmx2QcGD6vX68Wrr74aW1tbnfx7\\\n",
       "V65csQcMvoJ9YACPt7R/JXkLEYCUBAyAlAQMgJQEDICUBAyAlAQMgJQEDICUBAyAlAQMgJQEDICU\\\n",
       "BAyAlAQMgJQEDICUBAyAlAQMgJQEDICUBAyAlAQMgJQEDICUBAyAlAQMgJQEDICUBAyAlAQMgJQE\\\n",
       "DICUBAyAlAQMgJQEDICUBAyAlAQMgJQEDICUBAyAlAQMgJQEDICUBAyAlAQMgJQEDICUBAyAlAQM\\\n",
       "gJQEDICUBAyAlAQMgJQEDICUBAyAlAQMgJT6sx6gQ8WsBwDg0fEKDICUBAyAlAQMgJQEDICUBAyA\\\n",
       "lAQMgJQEDICUBAyAlAQMgJQEDICUBAyAlAQMgJQEDICUBAyAlAQMgJQEDICUBAyAlAQMgJQEDICU\\\n",
       "BAyAlAQMgJQEDICUBAyAlAQMgJQEDICUBAyAlAQMgJQEDICUBAyAlAQMgJQEDICUBAyAlAQMgJQE\\\n",
       "DICUBAyAlP4DRYLx4LfTzbIAAAAASUVORK5CYII=\\\n",
       "\"\n",
       "  frames[23] = \"data:image/png;base64,iVBORw0KGgoAAAANSUhEUgAAAbAAAAEgCAYAAADVKCZpAAAAOXRFWHRTb2Z0d2FyZQBNYXRwbG90\\\n",
       "bGliIHZlcnNpb24zLjUuMiwgaHR0cHM6Ly9tYXRwbG90bGliLm9yZy8qNh9FAAAACXBIWXMAAAsT\\\n",
       "AAALEwEAmpwYAAAKeElEQVR4nO3dyY8cZxnA4beql5nxeMZ2vGA7K4TItgIEIXHghMQBuESKfOCK\\\n",
       "xP+QYxBH/ogcIuXMJbcgUBASl0go4RCETJSEseV9iT17L1UcQg5hyslsXe135nmO9XXi10paP3V3\\\n",
       "fV8VdV0HAGRTTnsAANgNAQMgJQEDICUBAyAlAQMgJQEDICUBAyAlAQMgJQEDICUBAyAlAQMgJQED\\\n",
       "ICUBAyAlAQMgJQEDICUBAyAlAQMgJQEDICUBAyAlAQMgJQEDICUBAyAlAQMgJQEDICUBAyAlAQMg\\\n",
       "JQEDICUBAyAlAQMgJQEDICUBAyAlAQMgJQEDICUBAyCl7rQHaFE97QEAnkDFtAfYLZ/AAEhJwABI\\\n",
       "ScAASEnAAEhJwABIScAASEnAAEhJwABIScAASEnAAEhJwABIScAASEnAAEhJwABIScAASEnAAEhJ\\\n",
       "wABIScAASEnAAEhJwABIScAASEnAAEhJwABIScAASEnAAEhJwABIScAASEnAAEhJwABIScAASEnA\\\n",
       "AEhJwABIScAASEnAAEhJwABIScAASEnAAEhJwABIScAASEnAAEhJwABIScAASEnAAEhJwABIScAA\\\n",
       "SEnAAEhJwABIScAASEnAAEhJwABIScAASEnAAEhJwABIScAASEnAAEhJwABIScAASEnAAEhJwABI\\\n",
       "ScAASEnAAEhJwABIScAASEnAAEhJwABIScAASEnAAEhJwABIScAASEnAAEhJwABIScAASEnAAEhJ\\\n",
       "wABIScAASEnAAEhJwABIScAASEnAAEhJwABIScAASEnAAEhJwABIScAASEnAAEhJwABIScAASEnA\\\n",
       "AEhJwABIScAASEnAAEipO+0B4DCq6zrW7i5F2ZuJ3txidPpzURTFtMeCVAQMpmA8WI9P/vxmjEeD\\\n",
       "6M8fj5nF0zF/6vk4curZOHr2xSg7vWmPCE88AYMpGKzcj9FgLUbryzFcfRCrtz+N+x+/H1GU8b1f\\\n",
       "/S7mjp+d9ojwxPMbGEzB6u1PY7S+vOV6URRRhK8SYTsEDFpW13XUdd24Nn/m29GdW2h5IshJwGAK\\\n",
       "xpurjdf78yei7PZbngZyEjBoWV2NY/Xe1ca1Tn82irLT8kSQk4BBy+pqHMvXrzSulb1Zt9PDNgkY\\\n",
       "tK7596+i7Mbi05dangXyEjBo2XiwEVFXW64XZRkzCyenMBHkJGDQssHKvajGo4aVIrozR1qfB7IS\\\n",
       "MGjZ8vUrUQ03HrPq9y/YLgGDFtV1HdV42Li2cO6lKHszLU8EeQkYtKmuYry53rg0e+KcMxBhBwQM\\\n",
       "WlSNR7Hx6HbjWqc/F+EWetg2AYMWVcONWL7RvAesKEt7wGAHBAxaVEdENJyD2OnNxuK5C63PA5kJ\\\n",
       "GLRotLHSeJBv0elFf+HUFCaCvAQMWrR29+pjNzF3+rNTmAjyEjBo0cqNf0ddjbdcdwYi7JyAQUvq\\\n",
       "uo76MecgHnvmklPoYYcEDFpSV+MYD5r3gPWPnowovB1hJ7xjoCXVaBDDtYeNa85AhJ0TMGjJaH05\\\n",
       "Vu/857HrfgODnREwaEldV1FXW0+h784txPyZF9ofCJITMGjJaGO58VmWnd6sPWCwCwIGLVl/cCOa\\\n",
       "ClaUneg4hR52TMCgJQ+v/rPxelF2W54EDgYBgxZ8cXzU1hM4IiKOv/BKeJAl7JyAQQvq8TDGg83G\\\n",
       "tdlj32p5GjgYBAxaMFx/FIOVe41rnf6cW+hhFwQMWjBYfRibj+5suV6U3Si7nsIMuyFg0IaGR6hE\\\n",
       "RPQXTsbciXMtDwMHg4BBC4brjxqvd/pz0Z052vI0cDAIGLSg6evDiIiy7ETRcRs97IaAQQseXvuo\\\n",
       "8Xpv/rgbOGCXBAwmrK7rqEfDxrXF8xdangYODgGDCauGG1GNBo1rzkCE3RMwmLDh2qMYba42rnX6\\\n",
       "cy1PAweHgMGErX9+MwYr97cuFKXfv2APBAwm6IszEJv3gB05+UzMLJ5udyA4QAQMJmy41rwHrDu3\\\n",
       "4CtE2AMBgwlbvfNZ4/Wy04vSHjDYNQGDSarrWLn5ceOST1+wNwIGE9X8+1dEEcef+36rk8BBI2Aw\\\n",
       "QaPNtajGo60LRcTMoj1gsBcCBhO0du9qjDZWGtfK7kzL08DBImAwQZvLd6Mabmy53p096jlgsEcC\\\n",
       "BhNS1/VjnwN25OSzHqMCeyRgMDH1Y/eA9eYWfQKDPRIwmJC6qmLj85uNa2W3F1F4+8FeeAfBhNTV\\\n",
       "OJZvXGlcK8qucxBhjwQMJqWu/3cW4lcVZTeOv/DKFAaCg0XAYEKGG8sR1XjL9aIsHeIL+0DAYELW\\\n",
       "71+Patz8JOZOt9/yNHDwCBhMyNrdpcYnMXf6c27ggH3gXQQT8HXPAVs4fzE6vdl2B4IDSMBgAuqq\\\n",
       "euwesP78iSg8RgX2TMBgAqrRZqze/rRxreyKF+wHAYMJqMej2Hh4a8v1ouxE78gxe8BgHwgYTEBd\\\n",
       "V43Xy+5MHD3znZangYPJdxmwTdeuXYulpaVtvbY3fBgx3roHbDSu4oOPrkTRu/qN/46LFy/GU089\\\n",
       "teM54bAQMNimt956K954441tvfYXP34xfvvrn0av2/nK9Xv378fln/8yNgYND7n8P++88068+uqr\\\n",
       "u5oVDgMBgwn44XfPRpSz8dn6S7E2Ph7Hurfj7MwnMRht/VQG7I6AwQRUxWz8Y/lncXf4bNRRRBGX\\\n",
       "4uHodHzwwZsiBvtEwGCf9buduFv+JI4On4uIL+42rKMTSxsvx9+vn4mqat7gDOyMuxBhnx2d68f5\\\n",
       "06fiy3h9qY4y1reeLAXskoDBPjt6pB+Xnu5GxFdvpa/GgxgNmk/nAHbOV4iwz0ajKvqrf4tjdRmP\\\n",
       "Oj+IuuhHr9iMxfFf49a196c9HhwYhyZgN282P9odtmtlZWVbr7t+bzl+8/s/xDOn/xSLp16O06fO\\\n",
       "x4+eL+PY/IO492ht23/egwcP/H/LxJ09e3baI+zaoQnY22+/Pe0RSO7DDz/c9mtX1gfxr6U7EUt/\\\n",
       "iaKI+GNZRlEWMRw1n9DR5L333otbt7YeRwX76fXXX5/2CLt2aAKW+T8ST4bNzc149913d/zP1XXE\\\n",
       "cFxF7PDu+cuXL9vIDF/DTRwApCRgAKQkYACkJGAApCRgAKQkYACkdGhuo4e9unDhQrz22mut/XmZ\\\n",
       "N5hCG4q6PjQnYx+avyjADhTf/JInk68QAUhJwABIScAASEnAAEhJwABIScAASEnAAEhJwABIScAA\\\n",
       "SEnAAEhJwABIScAASEnAAEhJwABIScAASEnAAEhJwABIScAASEnAAEhJwABIScAASEnAAEhJwABI\\\n",
       "ScAASEnAAEhJwABIScAASEnAAEhJwABIScAASEnAAEhJwABIScAASEnAAEhJwABIScAASEnAAEhJ\\\n",
       "wABIScAASEnAAEhJwABIScAASEnAAEhJwABIScAASKk77QFaVEx7AAD2j09gAKQkYACkJGAApCRg\\\n",
       "AKQkYACkJGAApCRgAKQkYACkJGAApCRgAKQkYACkJGAApCRgAKQkYACkJGAApCRgAKQkYACkJGAA\\\n",
       "pCRgAKQkYACkJGAApCRgAKQkYACkJGAApCRgAKQkYACkJGAApCRgAKQkYACkJGAApCRgAKQkYACk\\\n",
       "JGAApCRgAKQkYACk9F8aHt14c6Wt4AAAAABJRU5ErkJggg==\\\n",
       "\"\n",
       "  frames[24] = \"data:image/png;base64,iVBORw0KGgoAAAANSUhEUgAAAbAAAAEgCAYAAADVKCZpAAAAOXRFWHRTb2Z0d2FyZQBNYXRwbG90\\\n",
       "bGliIHZlcnNpb24zLjUuMiwgaHR0cHM6Ly9tYXRwbG90bGliLm9yZy8qNh9FAAAACXBIWXMAAAsT\\\n",
       "AAALEwEAmpwYAAAKj0lEQVR4nO3du49cZxnA4ffMba9ebxwn3sQJVnAUJWApokWBliotfwR9eirK\\\n",
       "/AU0KFRUQEdBZQQKSBG3QKSQO47j9caJ13udmTMfRWhgDsS73jmTd/w85flW3tfSjn6ame87pyql\\\n",
       "BABk05n3AABwGgIGQEoCBkBKAgZASgIGQEoCBkBKAgZASgIGQEoCBkBKAgZASgIGQEoCBkBKAgZA\\\n",
       "SgIGQEoCBkBKAgZASgIGQEoCBkBKAgZASgIGQEoCBkBKAgZASgIGQEoCBkBKAgZASgIGQEoCBkBK\\\n",
       "AgZASgIGQEoCBkBKAgZASgIGQEoCBkBKAgZASr15D9CiMu8BAL6CqnkPcFregQGQkoABkJKAAZCS\\\n",
       "gAGQkoABkJKAAZCSgAGQkoABkJKAAZCSgAGQkoABkJKAAZCSgAGQkoABkJKAAZCSgAGQkoABkJKA\\\n",
       "AZCSgAGQkoABkJKAAZCSgAGQkoABkJKAAZCSgAGQkoABkJKAAZCSgAGQkoABkJKAAZCSgAGQkoAB\\\n",
       "kJKAAZCSgAGQkoABkJKAAZCSgAGQkoABkJKAAZCSgAGQkoABkJKAAZCSgAGQkoABkJKAAZCSgAGQ\\\n",
       "koABkJKAAZCSgAGQkoABkJKAAZCSgAGQkoABkJKAAZCSgAGQkoABkJKAAZCSgAGQkoABkJKAAZCS\\\n",
       "gAGQkoABkJKAAZCSgAGQkoABkJKAAZCSgAGQkoABkJKAAZCSgAGQkoABkJKAAZCSgAGQkoABkJKA\\\n",
       "AZCSgAGQkoABkJKAAZCSgAGQkoABkJKAAZCSgAGQkoABkJKAAZCSgAGQkoABkJKAAZCSgAGQkoAB\\\n",
       "kJKAAZCSgAGQUm/eA8DDqJQSBzsfRqe/FP2VjegOVqKqqnmPBakIGMxBPTyMd3/946jHwxisbcbS\\\n",
       "xmOxdvFKrF58Ota3rkan25/3iPCVJ2AwB8N7n8b4+CDGR/ditP9Z7G+/F3f+8fuIqhPXvv/DWNnc\\\n",
       "mveI8JXnOzCYg/3b78f46N7U9aqqogofJcL9EDBoWSklSpk0rq1fuhq9lXMtTwQ5CRi0rsToYLdx\\\n",
       "ZbB+Ibr9pZbngZwEDFpWJpM4+PSjxrVObxBVp9vyRJCTgEHLyqSOvVvvNq51B8stTwN5CRi0rEzq\\\n",
       "iChT16tuPzavvNj+QJCUgEHLRgd3/x2x/1RVVQzWL8xhIshJwKBl+7c/iMlo2LBSOcAMJyBg0KJS\\\n",
       "ShzvbkeZjKfW+qvnbeCAExAwaFWJyXjUuLJx+fno2EIP903AoEWlrmO4/1njWn91wzswOAEBgxbV\\\n",
       "o+PYu/VO82LVcUd6OAEBgxaVyTjGhw33QOz2Y2XziTlMBHkJGLSoHh5GKdNnwLr9pVi79MwcJoK8\\\n",
       "BAxadLx7O6IhYFXVid7S2hwmgrwEDFq0e+Otxi303eU133/BCQkYtKSUEvXoqHFt48nn7UCEExIw\\\n",
       "aEmpx1Ef7zeuLZ27GFF5OcJJeMVAS8ZH92L/9geNa+5CDycnYNCSejRsPMTc6fajt7LhOzA4IQGD\\\n",
       "lpRSNz1FJbrL67H66OX2B4LkBAxaMrx3p/F6tzeI/sr5lqeB/AQMWvL5+3+MxrdgVRVV1w5EOCkB\\\n",
       "g5aMjqZvIRURsXrxSkT4/gtOSsCgBWVSR6mnDzBHRKw/7hZScBoCBi0YDw9jdLTXuDZY32x3GFgQ\\\n",
       "AgYtON69HYefftS8WHVtoYdTEDBoQZlMokzqqeuDtUdiefPSHCaC/AQMWvC/biHVW16Pwepmu8PA\\\n",
       "ghAwaMHhnY8br3d6g+j0l1qeBhaDgEELPv/wz43Xq27P919wSgIGM1ZKaXyIZUTE5pUXW54GFoeA\\\n",
       "wYzVo6OYjIeNa8ubWy1PA4tDwGDGhnt3YnS427jWHay0PA0sDgGDGTve3YnRwd2p651uPzrd3hwm\\\n",
       "gsUgYDBDpZTG818RESuPPvXFk5iBUxEwmLHhXvNjVHrL6z5ChAcgYDBTJfY+ebtxpep0o+p4CcJp\\\n",
       "efXALJWIw89uNi4N1i+0PAwsFgGDGZpMxl+cA5tSxfmnr7U+DywSAYMZGh3cbT4DVkUM1h9pfyBY\\\n",
       "IAIGM3Sw82GMD5ufxFxV3ZangcUiYDAjpZQYH+1HmUw/iXl54/HoDpbnMBUsDgGDGaqHh43XVx59\\\n",
       "KnrLay1PA4tFwGBWyiSO7+00LvUGq1F13IUDHoSAwYyUSR27//xb82IVHqMCD0jAYEZKmUQ9Op66\\\n",
       "XnW6ce7J5+cwESwWAYMZGR/tRZTJ1PWq6sTaxafnMBEsFgGDGTne3YlJPZpeqCr3QIQzIGAwI3u3\\\n",
       "3olJw0eIg/ULNnDAGRAwmIFSSkzq6fNfERGrj12JTn/Q8kSweAQMZqBM6saHWEZEDNYe8Q4MzoCA\\\n",
       "wQzUo6PY/ejNxrVOt28LPZwBAYNZmExifLw/dbnq9mPlwpNzGAgWj4DBDEzqhjvQR0SnN4iVC5db\\\n",
       "ngYWk4DBDBzv7kRpOgPW6UZ/9fwcJoLFI2AwA5+//6coDbsQq6qKqvKyg7PglQQz0HiAOSLOPfFc\\\n",
       "VB3PAYOzYC8v3IfRaBRvvPFG1HX9pT/bqSJ62zcb125+fhS3Xn89Iv7/LsSNjY24du3aaUaFh0ZV\\\n",
       "Spn3DG15aP6jnL3t7e24evVq7O3tfenPnlsdxKs/+F68+OzW1NqPfno9fv6bt77033jppZfi+vXr\\\n",
       "p5oVTijtmQ7vwOCMPXJuJb75zKW4M9qKW8Mr0Y1xXF5+O1aquzGupzd2AKcjYHDmqrg5vBp/P/hu\\\n",
       "1KUfERE3j5+Nr5VfxF/f257zbLA4bOKAM7a89ni8ufedqMsgvvh0poqDyfn4w51vx/ZnB/MeDxaG\\\n",
       "gMEZ+8aVSzGJ/tT1o3EvDofNN/gFTk7A4Ix969mLsdw9nLo+Ovo07CWCsyNgcMb27t2Ky/Uvoxrf\\\n",
       "iYhJVFHHhf6NuPveT+Ih2vULM/fQbOL45JNP5j0Cie3s7Nx3fF792e9i68JfYuvSr2J187l47vJG\\\n",
       "XP76Udy89fF9/77hcOhvllZsbU0f98jioQnYa6+9Nu8RSGxvby9Go+a7a/y3elLixs69uLHzZkS8\\\n",
       "Gb/tVPFat3OiLfTb29v+ZmnFK6+8Mu8RTs1BZrgPJznIfBYcZKZFaQ8y+w4MgJQEDICUBAyAlAQM\\\n",
       "gJQEDICUBAyAlB6ac2DwIJaWluLll1+Ow8PpW0TNwgsvvNDK74HMnAMDeLg5BwYAbRIwAFISMABS\\\n",
       "EjAAUhIwAFISMABSEjAAUhIwAFISMABSEjAAUhIwAFISMABSEjAAUhIwAFISMABSEjAAUhIwAFIS\\\n",
       "MABSEjAAUhIwAFISMABSEjAAUhIwAFISMABSEjAAUhIwAFISMABSEjAAUhIwAFISMABSEjAAUhIw\\\n",
       "AFISMABSEjAAUhIwAFISMABSEjAAUhIwAFISMABSEjAAUhIwAFISMABSEjAAUhIwAFISMABS6s17\\\n",
       "gBZV8x4AgLPjHRgAKQkYACkJGAApCRgAKQkYACkJGAApCRgAKQkYACkJGAApCRgAKQkYACkJGAAp\\\n",
       "CRgAKQkYACkJGAApCRgAKQkYACkJGAApCRgAKQkYACkJGAApCRgAKQkYACkJGAApCRgAKQkYACkJ\\\n",
       "GAApCRgAKQkYACkJGAApCRgAKQkYACkJGAApCRgAKQkYACn9C4xlAq9ECyucAAAAAElFTkSuQmCC\\\n",
       "\"\n",
       "  frames[25] = \"data:image/png;base64,iVBORw0KGgoAAAANSUhEUgAAAbAAAAEgCAYAAADVKCZpAAAAOXRFWHRTb2Z0d2FyZQBNYXRwbG90\\\n",
       "bGliIHZlcnNpb24zLjUuMiwgaHR0cHM6Ly9tYXRwbG90bGliLm9yZy8qNh9FAAAACXBIWXMAAAsT\\\n",
       "AAALEwEAmpwYAAAKj0lEQVR4nO3du49cZxnA4ffMba9ebxwn3sQJVnAUJWApokWBliotfwR9eirK\\\n",
       "/AU0KFRUQEdBZQQKSBG3QKSQO47j9caJ13udmTMfRWhgDsS73jmTd/w85flW3tfSjn6ame87pyql\\\n",
       "BABk05n3AABwGgIGQEoCBkBKAgZASgIGQEoCBkBKAgZASgIGQEoCBkBKAgZASgIGQEoCBkBKAgZA\\\n",
       "SgIGQEoCBkBKAgZASgIGQEoCBkBKAgZASgIGQEoCBkBKAgZASgIGQEoCBkBKAgZASgIGQEoCBkBK\\\n",
       "AgZASgIGQEoCBkBKAgZASgIGQEoCBkBKAgZASr15D9CiMu8BAL6CqnkPcFregQGQkoABkJKAAZCS\\\n",
       "gAGQkoABkJKAAZCSgAGQkoABkJKAAZCSgAGQkoABkJKAAZCSgAGQkoABkJKAAZCSgAGQkoABkJKA\\\n",
       "AZCSgAGQkoABkJKAAZCSgAGQkoABkJKAAZCSgAGQkoABkJKAAZCSgAGQkoABkJKAAZCSgAGQkoAB\\\n",
       "kJKAAZCSgAGQkoABkJKAAZCSgAGQkoABkJKAAZCSgAGQkoABkJKAAZCSgAGQkoABkJKAAZCSgAGQ\\\n",
       "koABkJKAAZCSgAGQkoABkJKAAZCSgAGQkoABkJKAAZCSgAGQkoABkJKAAZCSgAGQkoABkJKAAZCS\\\n",
       "gAGQkoABkJKAAZCSgAGQkoABkJKAAZCSgAGQkoABkJKAAZCSgAGQkoABkJKAAZCSgAGQkoABkJKA\\\n",
       "AZCSgAGQkoABkJKAAZCSgAGQkoABkJKAAZCSgAGQkoABkJKAAZCSgAGQkoABkJKAAZCSgAGQkoAB\\\n",
       "kJKAAZCSgAGQUm/eA8DDqJQSBzsfRqe/FP2VjegOVqKqqnmPBakIGMxBPTyMd3/946jHwxisbcbS\\\n",
       "xmOxdvFKrF58Ota3rkan25/3iPCVJ2AwB8N7n8b4+CDGR/ditP9Z7G+/F3f+8fuIqhPXvv/DWNnc\\\n",
       "mveI8JXnOzCYg/3b78f46N7U9aqqogofJcL9EDBoWSklSpk0rq1fuhq9lXMtTwQ5CRi0rsToYLdx\\\n",
       "ZbB+Ibr9pZbngZwEDFpWJpM4+PSjxrVObxBVp9vyRJCTgEHLyqSOvVvvNq51B8stTwN5CRi0rEzq\\\n",
       "iChT16tuPzavvNj+QJCUgEHLRgd3/x2x/1RVVQzWL8xhIshJwKBl+7c/iMlo2LBSOcAMJyBg0KJS\\\n",
       "ShzvbkeZjKfW+qvnbeCAExAwaFWJyXjUuLJx+fno2EIP903AoEWlrmO4/1njWn91wzswOAEBgxbV\\\n",
       "o+PYu/VO82LVcUd6OAEBgxaVyTjGhw33QOz2Y2XziTlMBHkJGLSoHh5GKdNnwLr9pVi79MwcJoK8\\\n",
       "BAxadLx7O6IhYFXVid7S2hwmgrwEDFq0e+Otxi303eU133/BCQkYtKSUEvXoqHFt48nn7UCEExIw\\\n",
       "aEmpx1Ef7zeuLZ27GFF5OcJJeMVAS8ZH92L/9geNa+5CDycnYNCSejRsPMTc6fajt7LhOzA4IQGD\\\n",
       "lpRSNz1FJbrL67H66OX2B4LkBAxaMrx3p/F6tzeI/sr5lqeB/AQMWvL5+3+MxrdgVRVV1w5EOCkB\\\n",
       "g5aMjqZvIRURsXrxSkT4/gtOSsCgBWVSR6mnDzBHRKw/7hZScBoCBi0YDw9jdLTXuDZY32x3GFgQ\\\n",
       "AgYtON69HYefftS8WHVtoYdTEDBoQZlMokzqqeuDtUdiefPSHCaC/AQMWvC/biHVW16Pwepmu8PA\\\n",
       "ghAwaMHhnY8br3d6g+j0l1qeBhaDgEELPv/wz43Xq27P919wSgIGM1ZKaXyIZUTE5pUXW54GFoeA\\\n",
       "wYzVo6OYjIeNa8ubWy1PA4tDwGDGhnt3YnS427jWHay0PA0sDgGDGTve3YnRwd2p651uPzrd3hwm\\\n",
       "gsUgYDBDpZTG818RESuPPvXFk5iBUxEwmLHhXvNjVHrL6z5ChAcgYDBTJfY+ebtxpep0o+p4CcJp\\\n",
       "efXALJWIw89uNi4N1i+0PAwsFgGDGZpMxl+cA5tSxfmnr7U+DywSAYMZGh3cbT4DVkUM1h9pfyBY\\\n",
       "IAIGM3Sw82GMD5ufxFxV3ZangcUiYDAjpZQYH+1HmUw/iXl54/HoDpbnMBUsDgGDGaqHh43XVx59\\\n",
       "KnrLay1PA4tFwGBWyiSO7+00LvUGq1F13IUDHoSAwYyUSR27//xb82IVHqMCD0jAYEZKmUQ9Op66\\\n",
       "XnW6ce7J5+cwESwWAYMZGR/tRZTJ1PWq6sTaxafnMBEsFgGDGTne3YlJPZpeqCr3QIQzIGAwI3u3\\\n",
       "3olJw0eIg/ULNnDAGRAwmIFSSkzq6fNfERGrj12JTn/Q8kSweAQMZqBM6saHWEZEDNYe8Q4MzoCA\\\n",
       "wQzUo6PY/ejNxrVOt28LPZwBAYNZmExifLw/dbnq9mPlwpNzGAgWj4DBDEzqhjvQR0SnN4iVC5db\\\n",
       "ngYWk4DBDBzv7kRpOgPW6UZ/9fwcJoLFI2AwA5+//6coDbsQq6qKqvKyg7PglQQz0HiAOSLOPfFc\\\n",
       "VB3PAYOzYC8v3IfRaBRvvPFG1HX9pT/bqSJ62zcb125+fhS3Xn89Iv7/LsSNjY24du3aaUaFh0ZV\\\n",
       "Spn3DG15aP6jnL3t7e24evVq7O3tfenPnlsdxKs/+F68+OzW1NqPfno9fv6bt77033jppZfi+vXr\\\n",
       "p5oVTijtmQ7vwOCMPXJuJb75zKW4M9qKW8Mr0Y1xXF5+O1aquzGupzd2AKcjYHDmqrg5vBp/P/hu\\\n",
       "1KUfERE3j5+Nr5VfxF/f257zbLA4bOKAM7a89ni8ufedqMsgvvh0poqDyfn4w51vx/ZnB/MeDxaG\\\n",
       "gMEZ+8aVSzGJ/tT1o3EvDofNN/gFTk7A4Ix969mLsdw9nLo+Ovo07CWCsyNgcMb27t2Ky/Uvoxrf\\\n",
       "iYhJVFHHhf6NuPveT+Ih2vULM/fQbOL45JNP5j0Cie3s7Nx3fF792e9i68JfYuvSr2J187l47vJG\\\n",
       "XP76Udy89fF9/77hcOhvllZsbU0f98jioQnYa6+9Nu8RSGxvby9Go+a7a/y3elLixs69uLHzZkS8\\\n",
       "Gb/tVPFat3OiLfTb29v+ZmnFK6+8Mu8RTs1BZrgPJznIfBYcZKZFaQ8y+w4MgJQEDICUBAyAlAQM\\\n",
       "gJQEDICUBAyAlB6ac2DwIJaWluLll1+Ow8PpW0TNwgsvvNDK74HMnAMDeLg5BwYAbRIwAFISMABS\\\n",
       "EjAAUhIwAFISMABSEjAAUhIwAFISMABSEjAAUhIwAFISMABSEjAAUhIwAFISMABSEjAAUhIwAFIS\\\n",
       "MABSEjAAUhIwAFISMABSEjAAUhIwAFISMABSEjAAUhIwAFISMABSEjAAUhIwAFISMABSEjAAUhIw\\\n",
       "AFISMABSEjAAUhIwAFISMABSEjAAUhIwAFISMABSEjAAUhIwAFISMABSEjAAUhIwAFISMABS6s17\\\n",
       "gBZV8x4AgLPjHRgAKQkYACkJGAApCRgAKQkYACkJGAApCRgAKQkYACkJGAApCRgAKQkYACkJGAAp\\\n",
       "CRgAKQkYACkJGAApCRgAKQkYACkJGAApCRgAKQkYACkJGAApCRgAKQkYACkJGAApCRgAKQkYACkJ\\\n",
       "GAApCRgAKQkYACkJGAApCRgAKQkYACkJGAApCRgAKQkYACn9C4xlAq9ECyucAAAAAElFTkSuQmCC\\\n",
       "\"\n",
       "  frames[26] = \"data:image/png;base64,iVBORw0KGgoAAAANSUhEUgAAAbAAAAEgCAYAAADVKCZpAAAAOXRFWHRTb2Z0d2FyZQBNYXRwbG90\\\n",
       "bGliIHZlcnNpb24zLjUuMiwgaHR0cHM6Ly9tYXRwbG90bGliLm9yZy8qNh9FAAAACXBIWXMAAAsT\\\n",
       "AAALEwEAmpwYAAAKjElEQVR4nO3dzatc9RnA8eecebkvyU1iXvQa4xtqjUhfELroxkJb6EqQrAuF\\\n",
       "/g8u7br/REFw3Y07S2lKoYsuWpRqKVrUJiHvNzG573dmzunCCpWZ6H2bc3wmn8/yN3PJE5LDlztz\\\n",
       "zu9X1HUdAJBN2fYAALAfAgZASgIGQEoCBkBKAgZASgIGQEoCBkBKAgZASgIGQEoCBkBKAgZASgIG\\\n",
       "QEoCBkBKAgZASgIGQEoCBkBKAgZASgIGQEoCBkBKAgZASgIGQEoCBkBKAgZASgIGQEoCBkBKAgZA\\\n",
       "SgIGQEoCBkBKAgZASgIGQEoCBkBKAgZASgIGQEoCBkBK3bYHaFDd9gAA30JF2wPsl9/AAEhJwABI\\\n",
       "ScAASEnAAEhJwABIScAASEnAAEhJwABIScAASEnAAEhJwABIScAASEnAAEhJwABIScAASEnAAEhJ\\\n",
       "wABIScAASEnAAEhJwABIScAASEnAAEhJwABIScAASEnAAEhJwABIScAASEnAAEhJwABIScAASEnA\\\n",
       "AEhJwABIScAASEnAAEhJwABIScAASEnAAEhJwABIScAASEnAAEhJwABIScAASEnAAEhJwABIScAA\\\n",
       "SEnAAEhJwABIScAASEnAAEhJwABIScAASEnAAEhJwABIScAASEnAAEhJwABIScAASEnAAEhJwABI\\\n",
       "ScAASEnAAEhJwABIScAASEnAAEhJwABIScAASEnAAEhJwABIScAASEnAAEhJwABIScAASEnAAEhJ\\\n",
       "wABIScAASEnAAEhJwABIScAASEnAAEhJwABIScAASEnAAEhJwABIScAASEnAAEhJwABIScAASEnA\\\n",
       "AEhJwABIScAASEnAAEip2/YA8DCq6zo2bl+KTn8heovHo+z2oyiKtseCVAQMWjDa2YxP/vjbqIaD\\\n",
       "6C+djMWT5+LIo8/G0uMvxNzSqbbHgxQEDFqws3YnhtvrMdxcjZ21lVi79nHEhxfjzEuvxjOv/qLt\\\n",
       "8SAF34FBC9ZvfhrDzdWx9aJ0ScJuuVqgYXVdR13XY+tF2Ymls+dbmAhyEjBowWh7fXyxKGPu2Jnm\\\n",
       "h4GkBAwaVlejWF+5PLZeFGX0FpZamAhyEjBoWF2NYvXqRxNfKwqXJOyWqwUaN/79V0TEwsmzUXR7\\\n",
       "Dc8CeQkYNGy0sxVRV2PrCyfPRdkRMNgtAYOG7aytRDUajq33Fo9FUXZamAhyEjBo2OrVj6IabI2t\\\n",
       "F2XHdlKwBwIGDarrOqrRYPyFoozu3JHmB4LEBAyaVFcx2t4cW+7052Pp8e+0MBDkJWDQoGo0jK37\\\n",
       "N8fWi7ITvSPHW5gI8hIwaFA12IrVa+PPgBVF6Q5E2CMBgwbVERET9kGMKCLcwAF7ImDQoOHW2sSN\\\n",
       "fI8/9d0o3UIPeyJg0KCN25cnPsQ8f+KxCNtIwZ64YqBBa9c+jroaja13+wueAYM9EjBoSF3XUU/a\\\n",
       "B7Eooug4HB32SsCgIXU1itHO+DNg3fmlWDz9dAsTQW4CBg2phjsx2Lg3tt7p9qO/eKyFiSA3AYOG\\\n",
       "DDdXY/3Wf8bWi043Ov2FFiaC3AQMGlLXVdTV+C70EeEZMNgHAYOGDLdWJ55leXT5+YgQMNgrAYOG\\\n",
       "bN69FpMKtnjqyeaHgRkgYNCQe5f/OXG9t2gTX9gPAYMGfLF91PgOHBEOsoT9EjBoQD0axGhne2y9\\\n",
       "7M1Fd26xhYkgPwGDBgw278fO2srYev/oqZg/sdzCRJCfgEEDdtbvxfb9W2Prnd5cdPwGBvsiYNCE\\\n",
       "iWeARRRlGYVd6GFfXDnQgMHm/YnrRdl1Awfsk4BBAyZ9fBgR8cizrzQ8CcwOAYMG3Lvy4cT1+eOP\\\n",
       "NjwJzA4Bgymr6zrq4WDia2VvvuFpYHYIGExZNdiKargztl50elF2Oi1MBLNBwGDKBhv3Y7i9Pra+\\\n",
       "cGI5+kdPtjARzAYBgynb/Px67KzdGVvvzh+NTs85YLBfAgZT9MUeiJOfASu7/Sg63WYHghkiYDBl\\\n",
       "g43Jz4BFUXgGDA5AwGDK1m99NnH92BPnmx0EZoyAwTTVdaxd//eEF4pYeORs4+PALBEwmKrJ339F\\\n",
       "EdFbONbsKDBjBAymaLi9EdVoOPlFm/jCgbiCYIo2Vi7HcGttbL1/5JHo9PotTASzQ8BgirZXb0c1\\\n",
       "2BpbXzh1LjpzR1qYCGaHgMGU1HX9wHPAevNLUXZ7DU8Es0XAYGrqBz4D5iBLODhXEExJXVWx9fn1\\\n",
       "ia+V3bmGp4HZI2AwJXU1itVrH42tF51unHjm+y1MBLNFwGBa6vp/eyF+VVGUMWcXejgwAYMpGWyt\\\n",
       "RlSjia+VXbfQw0EJGEzJ5p2rUY3GT2LuzB3xEDMcAlcRTMnG7UsTT2I++thz0em5iQMOSsBgCr7u\\\n",
       "HLD+kRNRlM4Bg4MSMJiCuqoe+AxYpz8f4RwwODABgymohtuxfvPTyS8WpYMs4RAIGExBPRrG1r0b\\\n",
       "Y+tlbz6WHn+hhYlg9ggYTEFdVxPXy0435pZONzwNzCbfJMMuXblyJS5durSr9/YG9yJG48+ADYaj\\\n",
       "+Nv7H0SU37yR7/nz5+PkSQ88w4MIGOzSW2+9FW+++eau3vvzHz4Xv/7lj6PX7XxlfWVlJS789Gex\\\n",
       "tfOAQy7/zzvvvBOvvfbavmaFh4GAwRT84PnliHI+Ptt8ITZGJ+J492Ysz30SH19ZiVE1+eNFYG8E\\\n",
       "DKagKubj/dWfxO3Bk1FHEUW8FPeGZ+KDT/8ew5GAwWEQMDhk/W4nbpc/iqODpyLii9vl6+jEpa2X\\\n",
       "4x+3lh90xiWwR+5ChEN2dKEfZ8+cji/j9aU6yhiMOpN/CNgzAYNDdnSxHy890Y2Ir35UWI12YrA9\\\n",
       "eXcOYO98hAiHbDisor/+lzhel3G/872oi370iu1YGv05blz5a9vjwcx4aAJ2/frko91ht9bW1nb1\\\n",
       "vqsrq/Gr3/wuzp35Qxw7/XKcOX02Xnm6jONH7sad1c1d/3l37971/5apW15ebnuEfXtoAvb222+3\\\n",
       "PQLJvffee7t+79rmTvzr0q2IS3+Kooj4fVlGURYxGO7+DsSLFy/GjRvj21HBYXrjjTfaHmHfHpqA\\\n",
       "Zf5H4tthe3s73n333T3/XF1HDEZVxOTDmR/owoULHmSGr+EmDgBSEjAAUhIwAFISMABSEjAAUhIw\\\n",
       "AFJ6aG6jh4N68cUX4/XXX2/sz8v8gCk0oagfnq2xH5q/KMAeFN/8lm8nHyECkJKAAZCSgAGQkoAB\\\n",
       "kJKAAZCSgAGQkoABkJKAAZCSgAGQkoABkJKAAZCSgAGQkoABkJKAAZCSgAGQkoABkJKAAZCSgAGQ\\\n",
       "koABkJKAAZCSgAGQkoABkJKAAZCSgAGQkoABkJKAAZCSgAGQkoABkJKAAZCSgAGQkoABkJKAAZCS\\\n",
       "gAGQkoABkJKAAZCSgAGQkoABkJKAAZCSgAGQkoABkJKAAZCSgAGQkoABkJKAAZCSgAGQUrftARpU\\\n",
       "tD0AAIfHb2AApCRgAKQkYACkJGAApCRgAKQkYACkJGAApCRgAKQkYACkJGAApCRgAKQkYACkJGAA\\\n",
       "pCRgAKQkYACkJGAApCRgAKQkYACkJGAApCRgAKQkYACkJGAApCRgAKQkYACkJGAApCRgAKQkYACk\\\n",
       "JGAApCRgAKQkYACkJGAApCRgAKQkYACkJGAApCRgAKT0X/jT3PXebQENAAAAAElFTkSuQmCC\\\n",
       "\"\n",
       "  frames[27] = \"data:image/png;base64,iVBORw0KGgoAAAANSUhEUgAAAbAAAAEgCAYAAADVKCZpAAAAOXRFWHRTb2Z0d2FyZQBNYXRwbG90\\\n",
       "bGliIHZlcnNpb24zLjUuMiwgaHR0cHM6Ly9tYXRwbG90bGliLm9yZy8qNh9FAAAACXBIWXMAAAsT\\\n",
       "AAALEwEAmpwYAAAKTUlEQVR4nO3dzY4cZxWA4VP9Mz/tGXscO4kxcRKiOGAkkjUSCmKDcgdsuI3c\\\n",
       "AbfADlaOxA5FAoGEWBNAQpYIoBiUBKF4bCd47JnxzHi6u6pYhE0yNfH8pKpz2s+zrM+yjxett6v7\\\n",
       "+7qKuq4DALLpzXoAADgJAQMgJQEDICUBAyAlAQMgJQEDICUBAyAlAQMgJQEDICUBAyAlAQMgJQED\\\n",
       "ICUBAyAlAQMgJQEDICUBAyAlAQMgJQEDICUBAyAlAQMgJQEDICUBAyAlAQMgJQEDICUBAyAlAQMg\\\n",
       "JQEDICUBAyAlAQMgJQEDICUBAyAlAQMgJQEDICUBAyClwawH6FA96wEAvoKKWQ9wUu7AAEhJwABI\\\n",
       "ScAASEnAAEhJwABIScAASEnAAEhJwABIScAASEnAAEhJwABIScAASEnAAEhJwABIScAASEnAAEhJ\\\n",
       "wABIScAASEnAAEhJwABIScAASEnAAEhJwABIScAASEnAAEhJwABIScAASEnAAEhJwABIScAASEnA\\\n",
       "AEhJwABIScAASEnAAEhJwABIScAASEnAAEhJwABIScAASEnAAEhJwABIScAASEnAAEhJwABIScAA\\\n",
       "SEnAAEhJwABIScAASEnAAEhJwABIScAASEnAAEhJwABIScAASEnAAEhJwABIScAASEnAAEhJwABI\\\n",
       "ScAASEnAAEhJwABIScAASEnAAEhJwABIScAASEnAAEhJwABIScAASEnAAEhJwABIScAASEnAAEhJ\\\n",
       "wABIScAASEnAAEhJwABIScAASEnAAEhJwABIScAASEnAAEhJwABIScAASEnAAEhJwABIScAASEnA\\\n",
       "AEhJwABIScAASEnAAEhpMOsB4Ek03nkQk93NGI7OxXB5NYpef9YjQToCBh2r6zru/etPcfvGb2N4\\\n",
       "Zi0WzpyP0YXnYnTx+Vh59qVYXL0w6xEhBQGDrtVVjHfuRznejXK8G4/ur8fWR3+PiIinr70eL77+\\\n",
       "4xkPCDn4Dgw6Vldl7Hz84azHgPQEDDpW13Xsb987uFAUsXj26e4HgqQEDDpW11VE1AeuF71BrF5+\\\n",
       "pfuBICkBg45N97ajrqoD14uiiOHo3AwmgpwEDDq2v/VJ1OWkYaWIXs++KjgqAYOOPbz7QVTT8YHr\\\n",
       "vcEwoihmMBHkJGDQobquo+n7r4iI1cvfiv5wsduBIDEBgy7VdZST/calhTNrUfgIEY5MwKBDdVXG\\\n",
       "ZHezca2/sOwjRDgGAYMOlZO92L71XvNiUUQhYHBkAgYdqus6ysmjA9d7g4UYXbgyg4kgLwGDDtVV\\\n",
       "2Xi96A9jae3ZjqeB3AQMOjTd3fr/TsTPKnr9GC6fncFEkJeAQYce3v2g8S6sKArPBINjEjDo0N7G\\\n",
       "rYj64M9IDZfPRlF4OcJxeMXAV8DKpZej6Hk5wnF4xUBH6qqMcnrIIeaVpyLcgcGxeMVAR6rpJKZ7\\\n",
       "241rg8VRx9NAfgIGHZnu78Te/fVD1x1ihuMRMOhINZ3EZG/rwPXeYCGGZ9a6HwiSEzDoSF2XjT9E\\\n",
       "P1haidGF57ofCJITMOjIYT/i2+sPY7C00vE0kJ+AQUf27t+Oxlswh5jhRAQMOrK9frPxem+w0PEk\\\n",
       "MB8EDDrwRU9iXnvh1YiwAxGOS8CgA3VVRjWdNq4trFzoeBqYDwIGHagmj6Lc32lcGyyd6XgamA8C\\\n",
       "Bh3Y3/5v7G7cOmTVk5jhJAQMOlCVZdTl5MD14ehcLK76CBFOQsCgC3Xzk5gHSyt+hQNOSMCgA+Od\\\n",
       "Qw4xDxZjsLDc8TQwHwQMOjDevtd4veg5xAwnJWDQgc1b/2i8PhytdTsIzBEBgw40beCIiFj92tWO\\\n",
       "J4H5IWDQsmo6ibps3sThEDOcnIBBy6b7u1FOHjWuOcQMJydg0LL9rY9jvPPgkFUHmOGkBAxaNt3f\\\n",
       "jarhDmywvBqDRVvo4aQEDFpU1/Whh5iXzj4TwzPnO54I5oeAQcvGu1uN1/uLo+gPFjueBuaHgEHL\\\n",
       "9jbWG68XvX4UPS9BOCmvHmhTXcf2+nuNS57EDKcjYDATRaw9/51ZDwGpCRi0qJqOo66qxjWHmOF0\\\n",
       "BAxaNHm0HVU5PrhQOMQMpyVg0KKdu+/H5JBdiA4xw+kIGLSonI4j6oMfIS6fvxyDxdEMJoL5IWDQ\\\n",
       "krquI6q6cW1h9UL0hksdTwTzRcCgNXVM9pqfxDxcWoneYNDxPDBfBAzaUtcxfrjRuFT0+lEUXn5w\\\n",
       "Gl5B0JKqnMbWreZDzDZwwOkJGLSoLqcHrhW9fpx97tszmAbmi4BBS6rp/qcbOT6v6MXS2qXuB4I5\\\n",
       "I2DQksnOZtTVwUepFEURg0WHmOG0BAxa8vCTf0c13W9cK3wFBqcmYNCSyc6DxjuwxdWLUfRtoYfT\\\n",
       "EjBoQV3XUTf8AkdExJlnXoyeB1nCqQkYtKGuYvroYePScPlcFL1+xwPB/PE5BhxRWZZx48aNGI8b\\\n",
       "fl3+c/pFFasbtxvXPlq/Hf95553H/h2j0Shee+21KHxhBo2Kxm2+8+mJ+Y/Sjt3d3bh69Wqsr68/\\\n",
       "9s8+tbocv/zJj2K0OPzM9aqq46dv/zmu/+6vj/07rl27Fu+++270++7WaFXad0juwKBFm5OLcXv8\\\n",
       "UhRRxeXF9yPGd+IvNx8fQODxBAxasLQ4iHuTK3Fz/4cxqT/dsHFr/5X4RvHr+GRzb8bTwXywiQNa\\\n",
       "cP7cxfjbzg9iUi/Fp5/QFLFfrcSNze/H5u7BrfXA8QkYtOB7r74Qvf7BrfLTehhPztfO0C4Bgxas\\\n",
       "LPVjqbd74Pp4717z7yMCxyZg0ILt7fvx9fLt6E3vRkQZRZRxbvBxbH3486jKx2/DBx7vidnEcefO\\\n",
       "nVmPQHJ7e3tRlkf7/upnv7kRv/rDP+PSs7+P0do34+XL5+O7Lz2Ke/duRXXEO7CyLOPu3bvR63mf\\\n",
       "SXsuXcr7ZIQnJmDXr1+f9QgkN5lMYm/vaDsIq6qO2xsP4/bGzYi4GX/sFfGLXi/KqvnnpZo8ePAg\\\n",
       "3nrrLQeZadWbb7456xFOzEFmOKLjHGT+MjjITEfSvkPy2QQAKQkYACkJGAApCRgAKQkYACkJGAAp\\\n",
       "PTHnwOC0+v1+vPHGG7GxsdHJv3flyhVnwOALOAcG8GRL+y7JR4gApCRgAKQkYACkJGAApCRgAKQk\\\n",
       "YACkJGAApCRgAKQkYACkJGAApCRgAKQkYACkJGAApCRgAKQkYACkJGAApCRgAKQkYACkJGAApCRg\\\n",
       "AKQkYACkJGAApCRgAKQkYACkJGAApCRgAKQkYACkJGAApCRgAKQkYACkJGAApCRgAKQkYACkJGAA\\\n",
       "pCRgAKQkYACkJGAApCRgAKQkYACkJGAApCRgAKQkYACkJGAApCRgAKQkYACkNJj1AB0qZj0AAF8e\\\n",
       "d2AApCRgAKQkYACkJGAApCRgAKQkYACkJGAApCRgAKQkYACkJGAApCRgAKQkYACkJGAApCRgAKQk\\\n",
       "YACkJGAApCRgAKQkYACkJGAApCRgAKQkYACkJGAApCRgAKQkYACkJGAApCRgAKQkYACkJGAApCRg\\\n",
       "AKQkYACkJGAApCRgAKQkYACkJGAApCRgAKT0P04t7++TfRshAAAAAElFTkSuQmCC\\\n",
       "\"\n",
       "  frames[28] = \"data:image/png;base64,iVBORw0KGgoAAAANSUhEUgAAAbAAAAEgCAYAAADVKCZpAAAAOXRFWHRTb2Z0d2FyZQBNYXRwbG90\\\n",
       "bGliIHZlcnNpb24zLjUuMiwgaHR0cHM6Ly9tYXRwbG90bGliLm9yZy8qNh9FAAAACXBIWXMAAAsT\\\n",
       "AAALEwEAmpwYAAAKHElEQVR4nO3dTW9cVxnA8efembHHjpPmhZI0bWlE39RKSEDZsmKFEFI/RGDb\\\n",
       "VT8FH6Hqqp8AdQtig6ggZYF4EyUFpIYkTZvUsWPH45m5l0UFUusb4bEzZ/qMf7/lOaP6idTRXzNz\\\n",
       "77lV27YBANnUix4AAI5CwABIScAASEnAAEhJwABIScAASEnAAEhJwABIScAASEnAAEhJwABIScAA\\\n",
       "SEnAAEhJwABIScAASEnAAEhJwABIScAASEnAAEhJwABIScAASEnAAEhJwABIScAASEnAAEhJwABI\\\n",
       "ScAASEnAAEhJwABIScAASEnAAEhJwABIScAASEnAAEipv+gBCmoXPQDAV1C16AGOyicwAFISMABS\\\n",
       "EjAAUhIwAFISMABSEjAAUhIwAFISMABSEjAAUhIwAFISMABSEjAAUhIwAFISMABSEjAAUhIwAFIS\\\n",
       "MABSEjAAUhIwAFISMABSEjAAUhIwAFISMABSEjAAUhIwAFISMABSEjAAUhIwAFISMABSEjAAUhIw\\\n",
       "AFISMABSEjAAUhIwAFISMABSEjAAUhIwAFISMABSEjAAUhIwAFISMABSEjAAUhIwAFISMABSEjAA\\\n",
       "UhIwAFISMABSEjAAUhIwAFISMABSEjAAUhIwAFISMABSEjAAUhIwAFISMABSEjAAUhIwAFISMABS\\\n",
       "EjAAUhIwAFISMABSEjAAUhIwAFISMABSEjAAUhIwAFISMABSEjAAUhIwAFISMABSEjAAUhIwAFIS\\\n",
       "MABSEjAAUhIwAFISMABSEjAAUhIwAFISMABSEjAAUhIwAFISMABSEjAAUhIwAFISMABSEjAAUhIw\\\n",
       "AFISMABSEjAAUhIwAFLqL3oAOIn2dzZjtH03eoPVqAer0RsMox6sRt0bRFVVix4PUhAwKKxt27h3\\\n",
       "/Xdx49rPozcYRm9lGPVgGL3Bapz/5mtx8Vs/WPSIkIKAQWltE/s7m9FOxzGZjmOyt/2/rbVzlxc4\\\n",
       "GOTiNzAorG2aeHDnH517Vd0rPA3kJWBQWNs2Mdr69MB6VffjzDOvLmAiyEnA4KuiqmJl4/yip4A0\\\n",
       "BAwKm+7vRrTNgfWqqmOwdnoBE0FOAgaFjXe3om2mnXtV5S0Jh+XdAoXt3PlnTMejA+t1fxDhHjA4\\\n",
       "NAGDwsYPtzu/Qjx9+eXoDVYXMBHkJGBQUNu2nfGKiBisP+EyepiBgEFJbROT0W7nVn/1VITfwODQ\\\n",
       "vFugoLaZxnj3fvdmVTkHEWYgYFDQdDyKBx93nMJRVdEbDMsPBIkJGBTUts3n94F9SW+wFqcvv7SA\\\n",
       "iSAvAYOCHnn/V92LwdqZwtNAbgIGBU0ebn9+JeKXVHUdvZW1BUwEeQkYFLS/s/nIy+iB2QgYFLR9\\\n",
       "82+dXyP2hxuuQIQZCRgU1HQcIRURceaZV6OqPV8WZiFgUEjbNtE0k869lfWzzkGEGQkYFNJMJzEZ\\\n",
       "7XTu9VbcAwazEjAoZDraib3Pbj1y329gMBsBg0Km+6MYbX96YL3qDaLvQZYwMwGDBRsMN2L9wrOL\\\n",
       "HgPSETAopJmMIg7ewxxVfxD94Ub5gSA5AYNC9nc2O9erqv78aczATAQMCtm+9UF0fgQDjkTAoJDR\\\n",
       "1ied68OzFwtPAstBwKCArgN8/+v0Uy9FhEvoYVYCBgW0zTSayX7n3mD9bNlhYEkIGBTQjEedD7KM\\\n",
       "iKj7K25ihiMQMChgf+de7G1+vOgxYKkIGBQwHe/HdP/hgfX+cCNWTp0tPxAsAQGDIrov4hisPxGr\\\n",
       "p79WeBZYDgIGBUz2uk+hr/urTqKHIxIwKGB/57PO9aquoqp7haeB5SBgUMDWR3/uXO8N1gpPAstD\\\n",
       "wKCAyehB5/qZp18pPAksDwGDOWvb9pFHIA42zpUdBpaIgMGcNeO9R5/CsXam8DSwPAQM5mwyehjT\\\n",
       "8ahzzwUccHQCBnO2t3kr9h/cPbBe91c9BwyOQcBgzprpJNpmemB9+MTXncIBxyBgMEdt20bbTDr3\\\n",
       "eqvrUQ/cxAxHJWAwZ+Pdrc713mAYdc9XiHBUAgZztv/gXvdGVXmMChyDgMFctbF14y+dO37/guMR\\\n",
       "MJinNqKZjjs2qti49GLxcWCZCBjMUdtMPj+Jo8PKKadwwHEIGMzRZG8n2q5PYFVEf3iq/ECwRAQM\\\n",
       "5mj8cOuRx0hFuIADjkPAYI52734Uk72DJ9EP1s9GPVhZwESwPAQM5qRt22jbpnNv7dxT0V9ZLzwR\\\n",
       "LBcBgzlqxt1fH/aHG1E5BxGORcBgXto29nc3O7d6g9WoKm8/OA7vIJiTtpnE9o2/PnLfKRxwPAIG\\\n",
       "c9K2bYx37x/cqOoYnrtcfiBYMgIGhVV1HesXnl30GJCegMGcNOO9zlM4qqicgwiPgYDBnIx3tzof\\\n",
       "ZBlVFfVgtfxAsGT6ix4AMrlz505cv379UK9d2fwg2vHegfXptInfv/9+tP21//vfeP755+PixYsz\\\n",
       "zwkngYDBDN599924evXqoV579UffjZ/++LUD63/88N/xxhs/jJ29rlPqv+itt9469N+Dk0bAYI6m\\\n",
       "bS9ujl6I7cmFON2/G5dXr8e/bm/GaNzx1SIwEwGDOairKtbX1uNPD74ft0YvRBtVVNHGvfFT8cn9\\\n",
       "P8R02n3EFHB4LuKAOej36thZ+V7cHL0YbdQRUUUbddwcvRjXt1+O7ieEAbMQMJiD9eEgvvPSN+Lg\\\n",
       "I1OqmIYzEOFxEDCYg7qq4uzaflTxxd+6mmYS+w/vLWgqWC4CBnMwbZqott+P89PfRNU8jIg2+tUo\\\n",
       "LlW/jY8+/OWix4OlcGIu4rh9+/aiR2AJbG1tHep193dG8ZOf/TyefvJXce7JV+L8+Wfj21f6cenC\\\n",
       "Vtzb2pnp7/l/l3m6dOnSokc4shMTsHfeeWfRI7AErl27dujX7o7G8fcbdyNu/DqqKuIXdR29uprp\\\n",
       "Evr33nsvplOX3DM/b7755qJHOLKq66y2JXVi/qHMz9tvv130xmI3MlNA2uf6+A0MgJQEDICUBAyA\\\n",
       "lAQMgJQEDICUBAyAlE7MfWDwODz33HPx+uuvF/t7V65cKfa3IBv3gQGcbO4DA4CSBAyAlAQMgJQE\\\n",
       "DICUBAyAlAQMgJQEDICUBAyAlAQMgJQEDICUBAyAlAQMgJQEDICUBAyAlAQMgJQEDICUBAyAlAQM\\\n",
       "gJQEDICUBAyAlAQMgJQEDICUBAyAlAQMgJQEDICUBAyAlAQMgJQEDICUBAyAlAQMgJQEDICUBAyA\\\n",
       "lAQMgJQEDICUBAyAlAQMgJQEDICUBAyAlAQMgJQEDICUBAyAlAQMgJQEDICUBAyAlAQMgJT6ix6g\\\n",
       "oGrRAwDw+PgEBkBKAgZASgIGQEoCBkBKAgZASgIGQEoCBkBKAgZASgIGQEoCBkBKAgZASgIGQEoC\\\n",
       "BkBKAgZASgIGQEoCBkBKAgZASgIGQEoCBkBKAgZASgIGQEoCBkBKAgZASgIGQEoCBkBKAgZASgIG\\\n",
       "QEoCBkBKAgZASgIGQEoCBkBKAgZASgIGQEoCBkBKAgZASv8B2o/Mgd7+mn8AAAAASUVORK5CYII=\\\n",
       "\"\n",
       "  frames[29] = \"data:image/png;base64,iVBORw0KGgoAAAANSUhEUgAAAbAAAAEgCAYAAADVKCZpAAAAOXRFWHRTb2Z0d2FyZQBNYXRwbG90\\\n",
       "bGliIHZlcnNpb24zLjUuMiwgaHR0cHM6Ly9tYXRwbG90bGliLm9yZy8qNh9FAAAACXBIWXMAAAsT\\\n",
       "AAALEwEAmpwYAAAJqklEQVR4nO3dO48dZxnA8Wfm3PZiO3GIbEMcI1IEQ6pUNNDQR/IHoOFDpEFK\\\n",
       "E/ENaKhJDVUkREuDIi5SQuEkRCBCQkwcZ7P2Xs85M0ORNGjPij27Oe/4Of79GsvvrLyPpR39dXZm\\\n",
       "3qm6rgsAyKbuewAAOA8BAyAlAQMgJQEDICUBAyAlAQMgJQEDICUBAyAlAQMgJQEDICUBAyAlAQMg\\\n",
       "JQEDICUBAyAlAQMgJQEDICUBAyAlAQMgJQEDICUBAyAlAQMgJQEDICUBAyAlAQMgJQEDICUBAyAl\\\n",
       "AQMgJQEDICUBAyAlAQMgJQEDICUBAyAlAQMgJQEDIKVh3wMU1PU9AMBjqOp7gPPyCQyAlAQMgJQE\\\n",
       "DICUBAyAlAQMgJQEDICUBAyAlAQMgJQEDICUBAyAlAQMgJQEDICUBAyAlAQMgJQEDICUBAyAlAQM\\\n",
       "gJQEDICUBAyAlAQMgJQEDICUBAyAlAQMgJQEDICUBAyAlAQMgJQEDICUBAyAlAQMgJQEDICUBAyA\\\n",
       "lAQMgJQEDICUBAyAlAQMgJQEDICUBAyAlAQMgJQEDICUBAyAlAQMgJQEDICUBAyAlAQMgJQEDICU\\\n",
       "BAyAlAQMgJQEDICUBAyAlAQMgJQEDICUBAyAlAQMgJQEDICUBAyAlAQMgJQEDICUBAyAlAQMgJQE\\\n",
       "DICUBAyAlAQMgJQEDICUBAyAlAQMgJQEDICUBAyAlAQMgJQEDICUBAyAlAQMgJQEDICUBAyAlAQM\\\n",
       "gJQEDICUBAyAlAQMgJQEDICUBAyAlAQMgJQEDICUBAyAlAQMgJQEDICUBAyAlAQMgJQEDICUBAyA\\\n",
       "lAQMgJQEDICUBAyAlIZ9DwBPmq5tY//+P6Kqh1GPJjEYTaIefvlnVQ/6Hg/SEDAobH68Hx/87pfR\\\n",
       "NtOoRxsxGG3EYLwRw43L8cKPfxrDyXbfI0IKAgaFzY/3o21n0UwPo5kexuyr9Xo4ia5pep0NMnEN\\\n",
       "DAqbHz6Krm37HgPSEzAo7NEn70c7OzqxPr501TUwWIKAQWGnffra+sbzUQ/HhaeBvAQMHhPDje2o\\\n",
       "aqcknJWzBQrqui66Zr7w2GCyHVE5JeGsnC1QUNc2MT/eX3jM9S9YjoBBSV17asAiIqqqKjgM5CZg\\\n",
       "UFA7n8XRzicn1qt6EOPtp8sPBIkJGBTUtvM4fvTZifV6OI7NZ57rYSLIS8DgMVBVdQwnl/oeA1IR\\\n",
       "MCioa0/ZKqoexHBjq+wwkJyAQUHN0X50XXdivaqqqGpbk8IyBAwKmh09ilgQMGB5AgYFHTz4KLpu\\\n",
       "0a8Rqwi30MNSBAwKOv7iPws/gV25+b2oPcgMSxEweAyMt6/6BAZLEjAopOu66GLx9a/h5uWIEDBY\\\n",
       "hoBBIV3bRLPgPWAREQOvUYGlCRgU0rXzaI4PTj1uH0RYjoBBIc30MI52P118ULxgaQIGhTTT45ju\\\n",
       "PTixPty4FFvP3uphIshNwKBn9XAco43LfY8B6QgYFLP4DsSqHsZgsll4FshPwKCQZnq4sGFVXUft\\\n",
       "LkRYmoBBIbPDR32PAGtFwKCQ+eHDOOUjWPFZYB04c6CQhx/fXbh+5VvfDbtwwPIEDAppm/nC9fGl\\\n",
       "ZwpPAutBwKCAL19iufguxNGmW+jhPAQMCujaNrpm0XvAIgaTrcLTwHoQMCiga6anbuQbUdkHEc5B\\\n",
       "wKCAZj6NZro4YNoF5yNgUMB07/M42vn3ifXR9tWYXLnWw0SQn4BBAV3bRte1J9YHo4lrYHBOAgY9\\\n",
       "qofjGIw2+h4DUhIwKKBrZgvX68HIPohwTgIGBZy6D2LlTcxwXgIGBcwOdvseAdaOgEEBux/+deH6\\\n",
       "eNs2UnBeAgYFtM104frlb75YeBJYHwIGPRpt2QcRzkvAYMW+fAZs8Ua+w41LhaeB9SFgsGLN/Di6\\\n",
       "+eLb6KMalB0G1oiAwYq1s+No54uvgQHnJ2CwYrODL2J+vH9ifTDejMFo0sNEsB4EDFZsur8b86O9\\\n",
       "E+uTK9ditPVUDxPBehAw6MlgNLGNFFyAgMEKdV0XsWAX+oiIerQR9WBUeCJYHwIGK7bo+ldERFXX\\\n",
       "3mYJFyBgsGKnbuQbNvKFixAwWLHDBx8tXB9vP112EFgzAgar1HVx8OBfCw5UsX3theLjwDoRMOjJ\\\n",
       "aOtK3yNAagIGK7V4D8SoIoYbNvKFixAwWKFmPo2ubRYeqwfDwtPAehEwWKHm+CC6Zn7KUXcgwkUI\\\n",
       "GKzQ8cP70cyOFh/UL7gQAYMVOnr4aTTTwxPr289+27vA4IL8Eh6WtLOzE3fv3j3T19af/z0WvfFr\\\n",
       "92AWf/zTXyLq/38K3rp1K27evLnklLD+qtPeFLuGnpj/KKv15ptvxiuvvHKmr73zw9vxs5/86OS/\\\n",
       "8Yf34+e/+n20Zzj/Xn/99XjttdeWnhPOKO0vs30CgxXaGA+j6eq4d/yd2J1fj63BF/Hc5G8xmzdn\\\n",
       "ihdwOgGDFamrKp66tBXv7f8gPjz6fnRRRxVdfDa9FbP2vb7Hg/TcxAErUlURR+OX4sOjl6KLQURU\\\n",
       "0UUd92fPxweHL/c9HqQnYLAiw0EdL794K7oTp1kVTec9YHBRAgYrUlVVPL05izr+90Hmrm1j/9H9\\\n",
       "nqaC9SFgsELXxv+M29tvxag6ioguBtU0bgzfiXff+XXfo0F6T8xNHPfu3et7BNbEzs7Omb5uNm/i\\\n",
       "F795KyajP8fu/Fo8aq7GZr0XTw0+jge7D8/8/fb29vz8sjI3btzoe4Rze2IC9sYbb/Q9AmvirA8x\\\n",
       "N20Xv33rg6/+9u65v9/bb7/t55eVefXVV/se4dw8yAxLWuZB5q+DB5lZsbQPMrsGBkBKAgZASgIG\\\n",
       "QEoCBkBKAgZASgIGQEpPzHNg8HW5fv163Llzp9j3u337drHvBZl4DgzgyeY5MAAoScAASEnAAEhJ\\\n",
       "wABIScAASEnAAEhJwABIScAASEnAAEhJwABIScAASEnAAEhJwABIScAASEnAAEhJwABIScAASEnA\\\n",
       "AEhJwABIScAASEnAAEhJwABIScAASEnAAEhJwABIScAASEnAAEhJwABIScAASEnAAEhJwABIScAA\\\n",
       "SEnAAEhJwABIScAASEnAAEhJwABIScAASEnAAEhJwABIScAASEnAAEhJwABIScAASEnAAEhp2PcA\\\n",
       "BVV9DwDA18cnMABSEjAAUhIwAFISMABSEjAAUhIwAFISMABSEjAAUhIwAFISMABSEjAAUhIwAFIS\\\n",
       "MABSEjAAUhIwAFISMABSEjAAUhIwAFISMABSEjAAUhIwAFISMABSEjAAUhIwAFISMABSEjAAUhIw\\\n",
       "AFISMABSEjAAUhIwAFISMABSEjAAUhIwAFISMABSEjAAUvovxMWkIcotne8AAAAASUVORK5CYII=\\\n",
       "\"\n",
       "  frames[30] = \"data:image/png;base64,iVBORw0KGgoAAAANSUhEUgAAAbAAAAEgCAYAAADVKCZpAAAAOXRFWHRTb2Z0d2FyZQBNYXRwbG90\\\n",
       "bGliIHZlcnNpb24zLjUuMiwgaHR0cHM6Ly9tYXRwbG90bGliLm9yZy8qNh9FAAAACXBIWXMAAAsT\\\n",
       "AAALEwEAmpwYAAAJHUlEQVR4nO3dTY9bZxnH4fsc2/OStEVJKkgLlCqLIsGiSOxawYI1i34FVlXX\\\n",
       "qF+lsEOoWxaIHbCtlA+QUqG0Ko1UxJSWNK/z4rF9WExXxKOMzcw5859c1ybSc6zxHWmsnzw+j5+m\\\n",
       "67oCgDTt0AMAwDoEDIBIAgZAJAEDIJKAARBJwACIJGAARBIwACIJGACRBAyASAIGQCQBAyCSgAEQ\\\n",
       "ScAAiCRgAEQSMAAiCRgAkQQMgEgCBkAkAQMgkoABEEnAAIgkYABEEjAAIgkYAJEEDIBIAgZAJAED\\\n",
       "IJKAARBJwACIJGAARBIwACIJGACRBAyASOOhB+hRN/QAAOdQM/QA6/IODIBIAgZAJAEDIJKAARBJ\\\n",
       "wACIJGAARBIwACIJGACRBAyASAIGQCQBAyCSgAEQScAAiCRgAEQSMAAiCRgAkQQMgEgCBkAkAQMg\\\n",
       "koABEEnAAIgkYABEEjAAIgkYAJEEDIBIAgZAJAEDIJKAARBJwACIJGAARBIwACIJGACRBAyASAIG\\\n",
       "QCQBAyCSgAEQScAAiCRgAEQSMAAiCRgAkQQMgEgCBkAkAQMgkoABEEnAAIgkYABEEjAAIgkYAJEE\\\n",
       "DIBIAgZAJAEDIJKAARBJwACIJGAARBIwACIJGACRBAyASAIGQCQBAyCSgAEQScAAiCRgAEQSMAAi\\\n",
       "CRgAkQQMgEgCBkAkAQMgkoABEEnAAIgkYABEEjAAIgkYAJEEDIBIAgZAJAEDIJKAARBJwACIJGAA\\\n",
       "RBIwACIJGACRBAyASAIGQCQBAyCSgAEQScAAiCRgAEQSMAAiCRgAkQQMgEgCBkAkAQMg0njoAeBZ\\\n",
       "0y0W9fjLf1TTjqudbNZoslnt+Ojfph0NPR7EEDDo2Xy6V5/85be1mE2rnWzVaLJVo42tGm89Xzd+\\\n",
       "8asab14eekSIIGDQs/nhfnXzWc2nezWf7tXhN+vteLO6+XzQ2SCJz8CgZ/PpXnVdN/QYEE/AoGfz\\\n",
       "6X513WLoMSCegEHPHu18UovDgyfWx9vPVdN6ScJJebVAzxbzw6p68k+Il669Uu14o/+BIJSAwTkx\\\n",
       "2tiqapqhx4AYAgbnxGiyVU3jJQkn5dUCPeq67tgbOEYb21UCBifm1QJ96rpazKZLLzUj2zJhFQIG\\\n",
       "Peq6Rc2ne8deb3wGBicmYNCnblHz6f7QU8CFIGDQo24xr8O9B0OPAReCgEGP5rNp7X752RPrzWhS\\\n",
       "21de6n8gCCZgcA60o3FtPv/i0GNAFAGD86BpjzYyAycmYHAONE1bo8n20GNAFAGDHnXz2dL1pmmq\\\n",
       "nWz2PA1kEzDo0Xy6u/wsMPu/YGUCBj062sTsMEs4DQIGPZpN96qcxgynQsCgR/tf/2vpl/luPHfV\\\n",
       "N9HDirxioEcH979c+g7s0rXvO40ZVuQVA+fAaGO7qtzIAasQMDgHjs4CEzBYhYBBT7quq+6YOxCP\\\n",
       "3oEBqxAw6Eu3OPYwy9ZhlrAyAYOedIt5LQ4Pjr3uMEtYjYBBT7rFvOaz4wMGrEbAoCeL2bQOd+8P\\\n",
       "PQZcGAIGPZkd7NX+vZ0n1kebl2rLYZawMgGDgbXjjZpsvzD0GBBHwGBgTTOqkaNUYGUCBr1Zvges\\\n",
       "aUfOAoM1CBj0pFvMljasadtqRxv9DwThBAx6MjvYO/6iLWCwMgGDnsynu0OPABeKgEFP5gdOY4bT\\\n",
       "JGDQk8df3Vm6frQHzN8QYVUCBj2ZPrq7dH37yss9TwIXg4DBwBylAusRMBjYePPS0CNAJAGDHnRd\\\n",
       "V9U5zBJOk4BBD7rFvBbz2dJrTTt2FhisQcCgB918duxpzMB6BAx6sFjMajEXMDhNAgY9mO8/rsPd\\\n",
       "B0OPAReKgEEPDvcf1eHjr59Yn1y+Ulvf+vYAE0E+AYMBjSab7kKENQkYDKgZjasdO0oF1iFg0Ivl\\\n",
       "e8DadlzteNLzLHAxCBj0oJvPl6437aiadtzzNHAxCBj04NizwJqyiRnWJGDQg5nDLOHUCRj04Ogw\\\n",
       "S+A0CRj04NHOJ0vXL734g54ngYtDwKAHh3v3l65vvWATM6xLwGBAo02bmGFdAgYDGm04zBLWJWBw\\\n",
       "xo4Os1x+zddIwfrsoIQ1PHz4sG7dunWix7a1qPbhg1q22+tvH31U3WdfPfVnXL9+vW7cuLHilHCx\\\n",
       "CRis4cMPP6w333zzRI99fnujfvPrX9Zr37v2xLW33367bn3676f+jHfeeafee++9leeEi0zA4Ixt\\\n",
       "boxrPJrUzsGrdffwpdpqH9d3t27XZrs/9GgQTcDgjG1uTOrz2U9r9+HPq6u2qrr6Yvpq/eS5v1Z3\\\n",
       "zGdjwNMJGJyxy1d+VI82f1ZNjb5Zaere7Dv1509/WF98/WjQ2SCZuxDhjDXteMk3zjd1f69qfzob\\\n",
       "ZCa4CAQMztikOahRM/2f1a7a+b06nC0GmQkuAgGDM3ZlslM/vvxBbTR7VdXVqA7r5c2P65XxzTqc\\\n",
       "LT8nDHi6Z+YzsJ2dnaFH4AK5e/fuiR/78ed36/d/+F09nP+pHsxerI12r65N/llf/OdezRcnu4tj\\\n",
       "d3fX7zBn4vr160OPsLZnJmDvv//+0CNwgdy5c+fEj925+6j++MHf/6/nu337tt9hzsS777479Ahr\\\n",
       "a7pn5z7eZ+Y/ytm7efNmvfHGG709n43MnKHYI8F9BgZAJAEDIJKAARBJwACIJGAARBIwACI9M/vA\\\n",
       "4DRdvXq13nrrrd6e7/XXX+/tuSCFfWAAzzb7wACgTwIGQCQBAyCSgAEQScAAiCRgAEQSMAAiCRgA\\\n",
       "kQQMgEgCBkAkAQMgkoABEEnAAIgkYABEEjAAIgkYAJEEDIBIAgZAJAEDIJKAARBJwACIJGAARBIw\\\n",
       "ACIJGACRBAyASAIGQCQBAyCSgAEQScAAiCRgAEQSMAAiCRgAkQQMgEgCBkAkAQMgkoABEEnAAIgk\\\n",
       "YABEEjAAIgkYAJEEDIBIAgZAJAEDIJKAARBJwACINB56gB41Qw8AwOnxDgyASAIGQCQBAyCSgAEQ\\\n",
       "ScAAiCRgAEQSMAAiCRgAkQQMgEgCBkAkAQMgkoABEEnAAIgkYABEEjAAIgkYAJEEDIBIAgZAJAED\\\n",
       "IJKAARBJwACIJGAARBIwACIJGACRBAyASAIGQCQBAyCSgAEQScAAiCRgAEQSMAAiCRgAkQQMgEgC\\\n",
       "BkAkAQMg0n8BHlhx7SDAy6UAAAAASUVORK5CYII=\\\n",
       "\"\n",
       "  frames[31] = \"data:image/png;base64,iVBORw0KGgoAAAANSUhEUgAAAbAAAAEgCAYAAADVKCZpAAAAOXRFWHRTb2Z0d2FyZQBNYXRwbG90\\\n",
       "bGliIHZlcnNpb24zLjUuMiwgaHR0cHM6Ly9tYXRwbG90bGliLm9yZy8qNh9FAAAACXBIWXMAAAsT\\\n",
       "AAALEwEAmpwYAAAIQklEQVR4nO3dT69Udx3H8e+ZuUABaQI2LaEbE5MuNE01mhh2bnRlTB+GPACe\\\n",
       "hI+AGHc8AROj3ZuG2piiLoqWaJOSYGukiCiXP3dmfi5w1Xux90ynvzOfy+u1PHOZ+yXh5M3vzPnN\\\n",
       "GVprBQBpZlMPAADrEDAAIgkYAJEEDIBIAgZAJAEDIJKAARBJwACIJGAARBIwACIJGACRBAyASAIG\\\n",
       "QCQBAyCSgAEQScAAiCRgAEQSMAAiCRgAkQQMgEgCBkAkAQMgkoABEEnAAIgkYABEEjAAIgkYAJEE\\\n",
       "DIBIAgZAJAEDIJKAARBJwACIJGAARBIwACLtTD1AR23qAQC20DD1AOuyAgMgkoABEEnAAIgkYABE\\\n",
       "EjAAIgkYAJEEDIBIAgZAJAEDIJKAARBJwACIJGAARBIwACIJGACRBAyASAIGQCQBAyCSgAEQScAA\\\n",
       "iCRgAEQSMAAiCRgAkQQMgEgCBkAkAQMgkoABEEnAAIgkYABEEjAAIgkYAJEEDIBIAgZAJAEDIJKA\\\n",
       "ARBJwACIJGAARBIwACIJGACRBAyASAIGQCQBAyCSgAEQScAAiCRgAEQSMAAiCRgAkQQMgEgCBkAk\\\n",
       "AQMgkoABEEnAAIgkYABEEjAAIgkYAJEEDIBIAgZAJAEDIJKAARBJwACIJGAARBIwACIJGACRBAyA\\\n",
       "SAIGQCQBAyCSgAEQScAAiCRgAEQSMAAiCRgAkQQMgEgCBkAkAQMgkoABEEnAAIgkYABEEjAAIgkY\\\n",
       "AJEEDIBIAgZAJAEDIJKAARBJwACIJGAARBIwACIJGACRBAyASAIGQCQBAyCSgAEQScAAiLQz9QDw\\\n",
       "vHl8/049/vedfcdPvPhSnTjz0gQTQSYBg45aa/WPD96uj6//et9rF77743r1Oz+aYCrI5BIidNWq\\\n",
       "LZdTDwFHgoBBT63Vark39RRwJAgYdNRaVVsuph4DjgQBg65atZWAwSYIGPTUWq2swGAjBAy6ai4h\\\n",
       "woYIGHTUrMBgYwQMOmrLvXr0r7/vOz7MdmxihpEEDDparZa19+Cf+44P8506cearE0wEuQQMtsAw\\\n",
       "DDXMfTEOjCFgsBWGmgkYjCJgsA2GoYaZgMEYAgZbYKhyCRFGEjDYBoNLiDCWgME2cAkRRhMw2AKD\\\n",
       "mzhgNAGDjtpqdfALw1A1OB1hDGcMdNQ8Cww2RsCgo9VyUa21qceAI0HAoCMrMNgcAYOOVsu9qrIC\\\n",
       "g00QMOioLRf6BRsiYNDRyiVE2BgBg46ePo3ZEgw2QcCgowd3bh24F+zk2Qs1zJyOMIYzBjpa7N6v\\\n",
       "g1Zgx79ytgYbmWEUZwxsgWF+bOoRII6AwRaYzY/V04eqAIclYLAFPAsMxhMw2AKz+TELMBhJwGAL\\\n",
       "PF2BKRiMIWCwBWZu4oDRBAw6+X/fQi9gMJ6AQUetHfxAS5uYYTxnDfTSWrXV8pkvD4PPwGAMAYNO\\\n",
       "WlvVarWYegw4MgQMemmt2vLZKzBgHAGDTlpbVbMCg40RMOjlcz4DA8YRMOiktfa/54EBmyBg0M3K\\\n",
       "Cgw2SMCgk7Zc1OLJ7v4XhlnNjp3oPxCEEzDoZPH4YT2698m+4zsvnK6TZy9MMBFkEzCY2DDMapjN\\\n",
       "px4D4ggYTG0Yaph5HhiMJWAwsWGY1TC3AoOxBAymNgw1swKD0QQMJmYFBusRMJiaz8BgLQIG3Rz8\\\n",
       "QMuh3IUI6xAw6OSZT2QePNAS1uGsgU7acu9ZizBgDQIGnayWe1OPAEeKgEEnq4WAwSYJGHTiUSqw\\\n",
       "WQIGnbiECJslYNBJW+6VuzhgcwQMOrECg80SMOjkyYN7Bx7fOXmm7yBwRPj+GvgCPvzww/rkk/0P\\\n",
       "qTzI/KM/HPg/xntPjtc77/z2UO/x+uuv15kzggdVVcMzvx3g6Hlu/qL0c+nSpbpy5cqhfvanP/lB\\\n",
       "ff9bX9t3/Oe/ul4/++V7h3qPa9eu1cWLF8eMCJ9nmHqAdVmBQUePVy/U7Uev1aPV6Tp37ON6+fit\\\n",
       "erK3nHosiCRg0Mnj1am6fv+HdW/xclUNdevRN+rrp35fj/femXo0iOQmDujkgwffq3uLV+rpaTdU\\\n",
       "q3n9dffb9bfdV6YeDSIJGHSyaMfqsx83tJrXQ3fXw1oEDDo5Of9PffZeovnwpNpid5qBIJyAQSev\\\n",
       "nfpdXTjxl5rX02/kOD48rG+efrtO1+2pR4NIz81NHIfdqwNj7O4efvX0i9/8sV55/6P6dO/VerI6\\\n",
       "WS/u3Kl355/Wn2/dOfR73L17179lNur8+fNTj7C25yZgV69enXoEjqCbN28e+mff/dPtqrpdVe+v\\\n",
       "/fveeuutunHjxtp/Hj7r8uXLU4+wNhuZ4QsYs5F5E2xk5ksQu5HZZ2AARBIwACIJGACRBAyASAIG\\\n",
       "QCQBAyDSc7MPDL4Mb7zxRr355pvdft+5c+e6/S7YdvaBATzf7AMDgJ4EDIBIAgZAJAEDIJKAARBJ\\\n",
       "wACIJGAARBIwACIJGACRBAyASAIGQCQBAyCSgAEQScAAiCRgAEQSMAAiCRgAkQQMgEgCBkAkAQMg\\\n",
       "koABEEnAAIgkYABEEjAAIgkYAJEEDIBIAgZAJAEDIJKAARBJwACIJGAARBIwACIJGACRBAyASAIG\\\n",
       "QCQBAyCSgAEQScAAiCRgAEQSMAAiCRgAkQQMgEgCBkAkAQMgkoABEGln6gE6GqYeAIDNsQIDIJKA\\\n",
       "ARBJwACIJGAARBIwACIJGACRBAyASAIGQCQBAyCSgAEQScAAiCRgAEQSMAAiCRgAkQQMgEgCBkAk\\\n",
       "AQMgkoABEEnAAIgkYABEEjAAIgkYAJEEDIBIAgZAJAEDIJKAARBJwACIJGAARBIwACIJGACRBAyA\\\n",
       "SAIGQCQBAyCSgAEQScAAiPRfszFD6f3OPS0AAAAASUVORK5CYII=\\\n",
       "\"\n",
       "  frames[32] = \"data:image/png;base64,iVBORw0KGgoAAAANSUhEUgAAAbAAAAEgCAYAAADVKCZpAAAAOXRFWHRTb2Z0d2FyZQBNYXRwbG90\\\n",
       "bGliIHZlcnNpb24zLjUuMiwgaHR0cHM6Ly9tYXRwbG90bGliLm9yZy8qNh9FAAAACXBIWXMAAAsT\\\n",
       "AAALEwEAmpwYAAAHj0lEQVR4nO3dz4scaR3H8W/19CaS9QeihPgDEsx4WRBv3rx6jjcvnkJuXvMf\\\n",
       "+BfsdcdT/oSA/gNiICA5KOwua8QkkGQkKhs3wTY983hYFEIidg3lU/WZeb1g5tDdQ30DKd7zPF3V\\\n",
       "M7TWCgDSrOYeAABOQsAAiCRgAEQSMAAiCRgAkQQMgEgCBkAkAQMgkoABEEnAAIgkYABEEjAAIgkY\\\n",
       "AJEEDIBIAgZAJAEDIJKAARBJwACIJGAARBIwACIJGACRBAyASAIGQCQBAyCSgAEQScAAiCRgAEQS\\\n",
       "MAAiCRgAkQQMgEgCBkAkAQMgkoABEEnAAIi0nnuAjtrcAwAs0DD3ACdlBQZAJAEDIJKAARBJwACI\\\n",
       "JGAARBIwACIJGACRBAyASAIGQCQBAyCSgAEQScAAiCRgAEQSMAAiCRgAkQQMgEgCBkAkAQMgkoAB\\\n",
       "EEnAAIgkYABEEjAAIgkYAJEEDIBIAgZAJAEDIJKAARBJwACIJGAARBIwACIJGACRBAyASAIGQCQB\\\n",
       "AyCSgAEQScAAiCRgAEQSMAAiCRgAkQQMgEgCBkAkAQMgkoABEEnAAIgkYABEEjAAIgkYAJEEDIBI\\\n",
       "AgZAJAEDIJKAARBJwACIJGAARBIwACIJGACRBAyASAIGQCQBAyCSgAEQScAAiCRgAEQSMAAiCRgA\\\n",
       "kQQMgEgCBkAkAQMgkoABEEnAAIgkYABEEjAAIgkYAJEEDIBIAgZAJAEDIJKAARBJwACIJGAARBIw\\\n",
       "ACIJGACRBAyASAIGQCQBAyCSgAEQScAAiCRgAEQSMAAiCRgAkQQMgEgCBkAkAQMgkoABEGk99wBw\\\n",
       "lhwfbeuzwz9WtePXHh/21vXFi9+pYeV3StiVgEFH282L+uRX79fx9p+vPf7Oha/U937y89pbnZ9p\\\n",
       "Msjj1z1YgtY+/wJ2JmCwAK2qWgkYjCFgsBRWYDCKgMFSCBiMImCwCM0WIowkYLAUVmAwioDBUggY\\\n",
       "jCJgsATNVYgwloDBUliBwSgCBovgRmYYS8BgIWwhwjgCBkthBQajCBgshYDBKAIGS9DcyAxjCRgs\\\n",
       "QKuyAoORBAyWQsBgFAGDhbCFCOMIGCyFFRiMImCwCG5khrEEDBbCFiKMI2CwBK2swGAkAYOFaAIG\\\n",
       "owgYLEKrasdzDwFRBAyASAIGC9GswGAUAYOl8BYYjCJgsBgKBmMIGCxBa7YQYSQBgwVo//kG7ErA\\\n",
       "YDEUDMYQMFgIW4gwjoDBIjQLMBhJwKCjoapqGN76nBUYjCNg0NFqfa7e/frlNx4/frWpl88ezDAR\\\n",
       "5BIw6GlY1bB+561PHR9tOw8D2QQMOhvq7VuIwDgCBr39l/fAgHEEDHoTMJiEgEFnthBhGgIGPQ2D\\\n",
       "FRhMRMCgNwGDSQgYdDSULUSYioBBb1ZgMAkBg94EDCYhYNDVUIOAwSQEDLoTMJiCgEFPQ9UwOO1g\\\n",
       "Cs4k6M0CDCYhYNDVUE47mIYzCTpzEQdMQ8CgN/2CSQgYdOe0gyk4k6AzO4gwDQGDnnwaPUxGwKCj\\\n",
       "z9PltIMpOJOgM1chwjQEDHoTMJiEgEFn/h4YTEPAoCsXccBU1nMPAKfB4eFh3b9/f4dXtlo9eVJ7\\\n",
       "b3nm0aNH9WDzm52Ot7+/XxcvXhw1I5w2AgYTuH37dt24ceN/vm4Yqn724x/UT3/0/TeeO/jgg/rF\\\n",
       "L+/tdLyDg4O6fv366DnhNBEw6Oy4tTpq63q8uVp/336tvrT+S33z/B/mHgviCBj01Kq2x+v6/Wc/\\\n",
       "rCebq9VqqKFa/fXVN+qo/Xbu6SCKizigo1ZVD16+V483+9VqVVVDtVrV48136+E/3pt7PIgiYNDZ\\\n",
       "q7ZXb34k/VBHzYYIjCFg0Nm54UUNdfTaY0Md1fnVy5kmgkwCBp1969zHdfXCvVoPm6pqtR42tX/h\\\n",
       "Xn37Cx/PPRpEOTN7Fk+fPp17BE6x58+f7/zaX//uT/Xs0/frb9tL9eLoy/Xu3qf11fVhffjgz6OO\\\n",
       "5/80U7h06dLcI5zYmQnYrVu35h6BU+zu3bs7v/ajh8/qo4fPqurDEx/vzp07td1uT/zz8G83b96c\\\n",
       "e4QTG1prc8/Qy5n5h9LfwcHBTjcyT3k8NzIzkdjPNvMeGACRBAyASAIGQCQBAyCSgAEQScAAiHRm\\\n",
       "7gOD/6crV67UtWvXuh3v8uXL3Y4FS+U+MICzzX1gANCTgAEQScAAiCRgAEQSMAAiCRgAkQQMgEgC\\\n",
       "BkAkAQMgkoABEEnAAIgkYABEEjAAIgkYAJEEDIBIAgZAJAEDIJKAARBJwACIJGAARBIwACIJGACR\\\n",
       "BAyASAIGQCQBAyCSgAEQScAAiCRgAEQSMAAiCRgAkQQMgEgCBkAkAQMgkoABEEnAAIgkYABEEjAA\\\n",
       "IgkYAJEEDIBIAgZAJAEDIJKAARBJwACIJGAARBIwACKt5x6go2HuAQCYjhUYAJEEDIBIAgZAJAED\\\n",
       "IJKAARBJwACIJGAARBIwACIJGACRBAyASAIGQCQBAyCSgAEQScAAiCRgAEQSMAAiCRgAkQQMgEgC\\\n",
       "BkAkAQMgkoABEEnAAIgkYABEEjAAIgkYAJEEDIBIAgZAJAEDIJKAARBJwACIJGAARBIwACIJGACR\\\n",
       "BAyASAIGQKR/AVtR9u53ppd1AAAAAElFTkSuQmCC\\\n",
       "\"\n",
       "  frames[33] = \"data:image/png;base64,iVBORw0KGgoAAAANSUhEUgAAAbAAAAEgCAYAAADVKCZpAAAAOXRFWHRTb2Z0d2FyZQBNYXRwbG90\\\n",
       "bGliIHZlcnNpb24zLjUuMiwgaHR0cHM6Ly9tYXRwbG90bGliLm9yZy8qNh9FAAAACXBIWXMAAAsT\\\n",
       "AAALEwEAmpwYAAAI00lEQVR4nO3dvW8kdx3H8e/M7trn3CXkieOEkiiiAkSBQkGDRU1Plf8jLUj8\\\n",
       "F7SkQSkRQkLQoARECeEE4SFRSAS53OXxEt/5vN75UVwaZF9u7bNm9hO/XpKb367tr4vR2zM7D11r\\\n",
       "rQAgTT/1AABwGgIGQCQBAyCSgAEQScAAiCRgAEQSMAAiCRgAkQQMgEgCBkAkAQMgkoABEEnAAIgk\\\n",
       "YABEEjAAIgkYAJEEDIBIAgZAJAEDIJKAARBJwACIJGAARBIwACIJGACRBAyASAIGQCQBAyCSgAEQ\\\n",
       "ScAAiCRgAEQSMAAiCRgAkQQMgEgCBkCk+dQDjKhNPQDABuqmHuC07IEBEEnAAIgkYABEEjAAIgkY\\\n",
       "AJEEDIBIAgZAJAEDIJKAARBJwACIJGAARBIwACIJGACRBAyASAIGQCQBAyCSgAEQScAAiCRgAEQS\\\n",
       "MAAiCRgAkQQMgEgCBkAkAQMgkoABEEnAAIgkYABEEjAAIgkYAJEEDIBIAgZAJAEDIJKAARBJwACI\\\n",
       "JGAARBIwACIJGACRBAyASAIGQCQBAyCSgAEQScAAiCRgAEQSMAAiCRgAkQQMgEgCBkAkAQMgkoAB\\\n",
       "EEnAAIgkYABEEjAAIgkYAJEEDIBIAgZAJAEDIJKAARBJwACIJGAARBIwACIJGACRBAyASAIGQCQB\\\n",
       "AyCSgAEQScAAiCRgAEQSMAAiCRgAkQQMgEgCBkAkAQMgkoABEEnAAIgkYABEEjAAIgkYAJEEDIBI\\\n",
       "AgZAJAEDIJKAARBJwACIJGAARBIwACIJGACRBAyASAIGQCQBAyCSgAEQScAAiCRgAESaTz0AnCe3\\\n",
       "P7pWy72PjqxfePRKbV18dPR5IJmAwYje/fNv6sZrLx9Zf+Z7z9flb36/uq6bYCrI5BAibIBheWfq\\\n",
       "ESCOgMEGuBuwNvUYEEXAYAOsDu/oF5yQgMEGsAcGJydgMKLZhYvHrh/sfVitCRichIDBiC5d/lp1\\\n",
       "/ezI+q333qo2rCaYCHIJGIyoX2xXlVPl4SwIGIyon2/pF5wRAYMRzeyBwZkRMBhRv9h2tw04IwIG\\\n",
       "I+pni+NfaO3uF7A2AYMx3WPvq1WrYbUceRjIJmCwCVqr4dD9EOEkBAw2QGtDDYcHU48BUQQMNkFr\\\n",
       "tVoKGJyEgMEGaK1VWwkYnISAwYhm86166MvPHlkflndq7/q/xx8IggkYjKjrZ7W48PAxr7S7j1QB\\\n",
       "1iZgMKauq36xNfUU8IUgYDCiruvv3g8ReGACBqPqBAzOiIDBmLrPD5iHWsL6BAxG1HVddd3xm11z\\\n",
       "Kyk4EQGDDbFaHlS1YeoxIIaAwYYYDu84hAgnIGCwIYbDA49UgRMQMNgQw+FBtRIwWJeAwcgWO49U\\\n",
       "HXMix8GnH1RbHU4wEWQSMBjZzhNPHXsq/f5H7woYnICAwchm863q7vFkZmB9AgYj6xdbxx5CBE7G\\\n",
       "VgQj6+2BwZkQMBhZP9+qEjB4YAIGI+v6eVUdF7BWw+AkDliXgMEGGQ4Pph4BYggYbIjWWg1LT2WG\\\n",
       "dQkYbJDVoYDBugQMNkVrNSwdQoR1CRiMrOu62n748SPrrQ21/+E7E0wEmQQMRtb1s9p57KtHX2hD\\\n",
       "7X/87vgDQSgBgwn08+2pR4B4Agaj66pfCBg8KAGDsXVVMwGDByZgMLru2MepACcjYDCBewesVWue\\\n",
       "ygzrEDAY2d070R9/M99htaxqw7gDQSgBgw0yHC6rCRisRcBggwyHy2qDgME6BAw2yLA6cAgR1iRg\\\n",
       "MIGu7+u4z8GGg/1qw2r8gSCQgMEEHnri6ZpfuHhk/db7b9fh/t4EE0EeAYMJ9POt6vrZkfXWhmrl\\\n",
       "NHpYh4DBBPr5VlVn84MHYQuCCfSzRXUCBg/EFgQT6OeLz07kAE7LFgQT6GZb9sDgAdmCYAJd193r\\\n",
       "blLVDpfjDgOhBAw2zOrwztQjQAQBg03SqlZLAYN1zKceAL5Irl69Wjdv3rzv+7pqNbu9f+QoYqtW\\\n",
       "f//rX2r19sf3/Rmz2ayee+65WiwWp5wWsnXn6NlD5+YPZTq7u7v1yiuv3Pd9fdfVz3/8w3r2yqP/\\\n",
       "tz4MrX7ys9/Vr/74z/v+jEuXLtXrr79ely9fPu24UHXPT2M3n0OIMIFWrd747we1t3qk/rH3nfrb\\\n",
       "3nfrg+WVqq6rrz/z5NTjQQSHEGECrVW9dm1Rs2d/ULeGR6qq6u39b9S3Lr5cX3nszWmHgxD2wGAC\\\n",
       "XdfXQ08/X7eGL9XdIzhdrdpWXd3brdufBQ34fAIGE+nnO0fWVm1ercV+JAGjEjCYRKtPbl47srrd\\\n",
       "366+8zwwWIeAwQRaa/XGn35ajy/+U12tqquhdvqb9e2Hf1s7s0+nHg8inJuTOK5dO/rfLpy1g4OD\\\n",
       "td/7r7ferF//4kf13vKpGtqsHltcqz/0n9Q773+y1ve31urGjRs1DMNpx4W6cuXK1COc2rkJ2Isv\\\n",
       "vjj1CJwD169fX/u977z/af3y969W1aun+l3L5bJeeumlunTp0qm+H6qqXnjhhalHODUXMsMZWvdC\\\n",
       "5rPgQmbOSOxZQz4DAyCSgAEQScAAiCRgAEQSMAAiCRgAkc7NdWAwht3d3XryyXEeh7Kzs1Pb29uj\\\n",
       "/C7YRK4DAzjfXAcGAGMSMAAiCRgAkQQMgEgCBkAkAQMgkoABEEnAAIgkYABEEjAAIgkYAJEEDIBI\\\n",
       "AgZAJAEDIJKAARBJwACIJGAARBIwACIJGACRBAyASAIGQCQBAyCSgAEQScAAiCRgAEQSMAAiCRgA\\\n",
       "kQQMgEgCBkAkAQMgkoABEEnAAIgkYABEEjAAIgkYAJEEDIBIAgZAJAEDIJKAARBJwACIJGAARBIw\\\n",
       "ACIJGACRBAyASAIGQKT51AOMqJt6AADOjj0wACIJGACRBAyASAIGQCQBAyCSgAEQScAAiCRgAEQS\\\n",
       "MAAiCRgAkQQMgEgCBkAkAQMgkoABEEnAAIgkYABEEjAAIgkYAJEEDIBIAgZAJAEDIJKAARBJwACI\\\n",
       "JGAARBIwACIJGACRBAyASAIGQCQBAyCSgAEQScAAiCRgAEQSMAAiCRgAkQQMgEj/A7oCZ2JPT5La\\\n",
       "AAAAAElFTkSuQmCC\\\n",
       "\"\n",
       "  frames[34] = \"data:image/png;base64,iVBORw0KGgoAAAANSUhEUgAAAbAAAAEgCAYAAADVKCZpAAAAOXRFWHRTb2Z0d2FyZQBNYXRwbG90\\\n",
       "bGliIHZlcnNpb24zLjUuMiwgaHR0cHM6Ly9tYXRwbG90bGliLm9yZy8qNh9FAAAACXBIWXMAAAsT\\\n",
       "AAALEwEAmpwYAAAJf0lEQVR4nO3dTW9cZxnH4fvMjMd2nJQmKmlEeRMCFq0ihVW3LNgiVeJD0A9A\\\n",
       "d3wEvkDZoS5ZsigrxAJFQUKqWLRCaklFaWiKkrTkxfa8HhZpkVpP4rETzvG/vi4pWZyZaO5Ijn45\\\n",
       "9vM8p2nbtgAgzaDvAQDgOAQMgEgCBkAkAQMgkoABEEnAAIgkYABEEjAAIgkYAJEEDIBIAgZAJAED\\\n",
       "IJKAARBJwACIJGAARBIwACIJGACRBAyASAIGQCQBAyCSgAEQScAAiCRgAEQSMAAiCRgAkQQMgEgC\\\n",
       "BkAkAQMgkoABEEnAAIgkYABEEjAAIgkYAJEEDIBIo74H6FDb9wAAJ1DT9wDH5Q4MgEgCBkAkAQMg\\\n",
       "koABEEnAAIgkYABEEjAAIgkYAJEEDIBIAgZAJAEDIJKAARBJwACIJGAARBIwACIJGACRBAyASAIG\\\n",
       "QCQBAyCSgAEQScAAiCRgAEQSMAAiCRgAkQQMgEgCBkAkAQMgkoABEEnAAIgkYABEEjAAIgkYAJEE\\\n",
       "DIBIAgZAJAEDIJKAARBJwACIJGAARBIwACIJGACRBAyASAIGQCQBAyCSgAEQScAAiCRgAEQSMAAi\\\n",
       "CRgAkQQMgEgCBkAkAQMgkoABEEnAAIgkYABEEjAAIgkYAJEEDIBIAgZAJAEDIJKAARBJwACIJGAA\\\n",
       "RBIwACIJGACRBAyASAIGQCQBAyCSgAEQScAAiCRgAEQSMAAiCRgAkQQMgEgCBkAkAQMgkoABEEnA\\\n",
       "AIgkYABEEjAAIgkYAJEEDIBIAgZAJAEDIJKAARBJwACIJGAARBIwACIJGACRBAyASAIGQCQBAyDS\\\n",
       "qO8B4DRpl4tazCa1nE1qMduv5WxSbVXtfP071TRN3+NBFAGDjkzv36n3//ibWkz3ajHbf/hrul/j\\\n",
       "nWfrpZ/9sprRuO8RIYqAQUcWs2nd/dffqtr2C9eX81nNp3s1FjA4Ej8Dg561y3ktp/t9jwFxBAy6\\\n",
       "0vzvty9YTPdrcu9W5+NAOgGDjmxsna2d57594PpyPqnp/Ts9TATZBAw60gw3arR9ru8x4CtDwKAj\\\n",
       "g+GohuPtla+11Vb7pcUdwOMJGHSlGdTgESsNl7NJx8NAPgGDjjRNU82KRRxVVfP9BweW1wOPJ2Bw\\\n",
       "Asz371eVgMFRCBh0aHTmmVq1lP7uh+9Uu1x0PxAEEzDo0Nnnv1fNYHjg+nIxs4gDjkjAoEOjrbNV\\\n",
       "Du2Fp0LAoEOjzZ3Vp867+4IjEzDo0GBjc+X1tm1r4TxEOBIBgxOgbRe1mD7oewyIImBwEiyXNZ/s\\\n",
       "9j0FRBEw6NBwNK4zKw70Xcwm9eDj93uYCHIJGHSoGQxrvPPsilfaWswdJwVHIWDQpcGwhps7fU8B\\\n",
       "XwkCBh1qmkGNxmdWv9gubWaGIxAw6FgzPHgSR1XVfLJX1S47ngZyCRh06OEm5tUncSymu9UKGKxN\\\n",
       "wOCEmNy9Ve1i3vcYEEPAoGNnnvvWygdb7t76oJbzWQ8TQSYBg45tnntu5Yn0wNEIGHRsuHlGwOAp\\\n",
       "EDDo2HC8/YhHqrQeaglHIGDQsaYZ1MqViG1b88n9zueBVAIGJ0Rbbc33nUgP6xIw6FrT1HC8dfB6\\\n",
       "29bk/p3u54FQAgYdGwyGde7SDw5cb5eLevDx9R4mgkwCBp1rarR1tu8hIJ6AQdeapkZbjz6R3oG+\\\n",
       "sB4Bgx4Mx9srr7fLeVUJGKxDwKBjjzvQdz7dq3ZhLxisQ8DgBFlO9z67CwMOI2DQg8FwtPI0jt3b\\\n",
       "N2o+sRcM1iFg0IOdi9+t0da5A9fnk/u19EgVWIuAQQ+G4zMP78KAYxMw6MFwvOVEenhCAgY9GAw3\\\n",
       "PjvU96DlbNLxNJBJwKAXzeqV9G3VfN+J9LAOAYMTRsBgPQIGfWiqts+/sOKFtu7/+/3Ox4FEAga9\\\n",
       "aGr7wqqAVU09UgXWImDQEyfSw5MRMOjJ4wLmRHo4nIBBD5qmeeRG5uV86jxEWIOAwQmznE1qOZ/1\\\n",
       "PQaceAIGPWkGg1q1GWwx3avlfNr9QBBGwKAnm1+7VOOz5w9c3/vkIysRYQ0CBj0ZbmzWYLix4pW2\\\n",
       "yiIOOJSAQU+GG1vVjMZ9jwGxBAx6MhiNH7kSsS13YHAYAYO+NE01K57KXFU13/dUZjiMgEFPHhWv\\\n",
       "Kgf6wjoEDPr0iGeCzffudTwI5BEw6NEz33xx5fW7N97peBLII2DQo/HOwX1gVVXLhaOk4DCrl0AB\\\n",
       "T+T69et18+bNQ9/XfvqPWrWQ/t7du3X16tW1P+/y5ct17ty5I0wI+ZpTdOr1qfmL0r9XX321Xn/9\\\n",
       "9UPfd+X7l+rXv/jpget//fvN+vmvflfLNb9qr127Vi+//PJRx4SqVeeZhXAHBj36/D+Qk+VW3dj/\\\n",
       "Ye0vd+rCxke1MbpTW+NR7U58KxEeRcCgZ/uLM/XWvZ/Up/OLVdXUB/sv1mgxqO2t3wsYPIZFHNCj\\\n",
       "3cms/nLrR/Xp/Pl6+M+xqbaGNTn747pw8XLf48GJJmDQo9v/2at/3tqvL/8YYjAYVTNYddAv8DkB\\\n",
       "gx7tz+bVzj6pL68xGjbT2hhM+hkKQggY9Ggym9e3RlfrG5vv1aBmVdXWuNmrl3b+VOdHhy/Dh9Ps\\\n",
       "1CziWGdPDjwtu7u7a71vsWjrt394qy5euF63py/UtN2uZ0a36s/D2/XejfUfann79m1f4xzLpUuX\\\n",
       "+h7h2E5NwN54442+R+AUeffdd9d+77V3PqyqD6vq7WN/3ptvvllvv338P8/p9dprr/U9wrHZyAz/\\\n",
       "B+tuZH5abGTmCcRuZPYzMAAiCRgAkQQMgEgCBkAkAQMgkoABEOnU7AODLl25cqVeeeWVzj7v/PnV\\\n",
       "T3aGrzL7wABON/vAAKBLAgZAJAEDIJKAARBJwACIJGAARBIwACIJGACRBAyASAIGQCQBAyCSgAEQ\\\n",
       "ScAAiCRgAEQSMAAiCRgAkQQMgEgCBkAkAQMgkoABEEnAAIgkYABEEjAAIgkYAJEEDIBIAgZAJAED\\\n",
       "IJKAARBJwACIJGAARBIwACIJGACRBAyASAIGQCQBAyCSgAEQScAAiCRgAEQSMAAiCRgAkQQMgEgC\\\n",
       "BkAkAQMgkoABEEnAAIg06nuADjV9DwDA0+MODIBIAgZAJAEDIJKAARBJwACIJGAARBIwACIJGACR\\\n",
       "BAyASAIGQCQBAyCSgAEQScAAiCRgAEQSMAAiCRgAkQQMgEgCBkAkAQMgkoABEEnAAIgkYABEEjAA\\\n",
       "IgkYAJEEDIBIAgZAJAEDIJKAARBJwACIJGAARBIwACIJGACRBAyASAIGQCQBAyDSfwGIrqu/5kbc\\\n",
       "+gAAAABJRU5ErkJggg==\\\n",
       "\"\n",
       "  frames[35] = \"data:image/png;base64,iVBORw0KGgoAAAANSUhEUgAAAbAAAAEgCAYAAADVKCZpAAAAOXRFWHRTb2Z0d2FyZQBNYXRwbG90\\\n",
       "bGliIHZlcnNpb24zLjUuMiwgaHR0cHM6Ly9tYXRwbG90bGliLm9yZy8qNh9FAAAACXBIWXMAAAsT\\\n",
       "AAALEwEAmpwYAAAKBklEQVR4nO3dS28dZxnA8WfOxZcTJyakhIQqvUBaIRXIkiWwrPgObFiwZtFv\\\n",
       "wIotEl8g/QCAWCGxQUKCBapIRVFFW1Tapk6axpf42Oc2MyzCCo+TY6ud8RP/fst5LZ0nUpx/Zs47\\\n",
       "M0Vd1wEA2fS6HgAATkPAAEhJwABIScAASEnAAEhJwABIScAASEnAAEhJwABIScAASEnAAEhJwABI\\\n",
       "ScAASEnAAEhJwABIScAASEnAAEhJwABIScAASEnAAEhJwABIScAASEnAAEhJwABIScAASEnAAEhJ\\\n",
       "wABIScAASEnAAEhJwABIScAASEnAAEhJwABIScAASGnQ9QAtqrseAOAMKroe4LScgQGQkoABkJKA\\\n",
       "AZCSgAGQkoABkJKAAZCSgAGQkoABkJKAAZCSgAGQkoABkJKAAZCSgAGQkoABkJKAAZCSgAGQkoAB\\\n",
       "kJKAAZCSgAGQkoABkJKAAZCSgAGQkoABkJKAAZCSgAGQkoABkJKAAZCSgAGQkoABkJKAAZCSgAGQ\\\n",
       "koABkJKAAZCSgAGQkoABkJKAAZCSgAGQkoABkJKAAZCSgAGQkoABkJKAAZCSgAGQkoABkJKAAZCS\\\n",
       "gAGQkoABkJKAAZCSgAGQkoABkJKAAZCSgAGQkoABkJKAAZCSgAGQkoABkJKAAZCSgAGQkoABkJKA\\\n",
       "AZCSgAGQkoABkJKAAZCSgAGQkoABkJKAAZCSgAGQkoABkJKAAZCSgAGQkoABkJKAAZCSgAGQkoAB\\\n",
       "kJKAAZCSgAGQkoABkJKAAZCSgAGQkoABkJKAAZCSgAGQkoABkJKAAZCSgAGQkoABkJKAAZCSgAGQ\\\n",
       "koABkJKAAZCSgAGQ0qDrAeC8qOs6qsUsqvk0yvk0qsUkyvk01ja/HsP1i12PB+kIGLTk7t9+H3sf\\\n",
       "vxPlfBrlfBLVfBLlbBIv/eAnceWV70dRFF2PCKkIGLTk4POPYv/e+0eOz8fbHUwD+fkODFpS9Jp/\\\n",
       "3R5tvR8RdbvDwDNAwKAlmze+23h8une/5Ung2SBg0JLVi1ci4pjvuZyAwYkJGLRkuH6psV91VUY5\\\n",
       "n7Q/ECQnYNCWovnXrVrMYzHZb3kYyE/AoCVFr4iid3Tj72K6H4cPP+lgIshNwKAlg7WLsXH15SPH\\\n",
       "63LhDAxOQcCgJb3BSgyOeeJGXddR13ZywEkIGLSk6PWjv7LeuPb4DEzA4CQEDFpSFEUUx2yjn423\\\n",
       "I5yBwYkIGLSot7LWePzRp/+KuipbngZyEzBo0eaN7zTuRCynY9+BwQkJGLRoZbQZ0fDU+cebOKoO\\\n",
       "JoK8BAxa1F8dNb82pSptpYcTEjBo0zHv/KqqMuYHey0PA7kJGLSoKHoxWL1w5Hg1n8b43gcdTAR5\\\n",
       "CRi0qD9ci43rrzas1FEupq3PA5kJGLSo6PVjOLrUuFaXCzsR4QQEDNpUFNEfrjYuzQ8fuRcMTkDA\\\n",
       "oEWPdyA2b+Q4ePBhVItZuwNBYgIGLRuONqPo9Y8cn+zci7pcdDAR5CRg0LKNa9+K3qD5MiKwPAGD\\\n",
       "lg3XLzWegUXUUdmJCEsTMGhZb7By7OOkZge7HUwEOQkYnBF1tYj9rfe6HgPSEDBoWVH0Ym3z6tGF\\\n",
       "uo7p3oP2B4KkBAxaVvT6sXHt5rHrbmaG5QgYtK0oYjjabFyqFtMIr1WBpQgYtKwoiuj1h41r88P9\\\n",
       "qMp5yxNBTgIGZ8jB5/+JxWTc9RiQgoBBB1YvfS16w7UjxxcTZ2CwLAGDDqxfvh6D1VHXY0BqAgYd\\\n",
       "GKxeiKI/aFxzCRGWI2DQgaLX/9+T6f9PHTEbP2x/IEhIwKAj/eF6w9E69j7+Z+uzQEYCBl0oirj4\\\n",
       "/LcblxaT/ZaHgZwEDDqycuFy80JdexoHLEHAoCPD0aXG4+V84s3MsAQBgw4URRFF0fzrV84OvRcM\\\n",
       "liBg0JHecC2KhkdKHW7fjdm+nYjwNAIGHVnbvBorF75y5HhdLqIuy/YHgmQEDDoyWB1Fb7jauFZV\\\n",
       "AgZPI2DQkd5wLXr9lca1+cFuy9NAPgIGHXm8kaN5zXdg8HQCBh0aHnMv2N7H77Q8CeQjYNChi9df\\\n",
       "aTzulSrwdAIGHTruaRx1VdnIAU8hYNChwdpG4/FqMY1ydtjyNJCLgEGnmndxlLND7wWDpxAw6FB/\\\n",
       "db3xLGy2/zCmu/c6mAjyEDDo0HC0GSsXrzQveio9PJGAQYf6w9UYrIwa10oP9IUnEjDoUNEbRG9w\\\n",
       "9IG+ERGz8U67w0AyAgYdKo57FEdE7H30j4hwCRGOI2DQsfWvPt943BkYPJmAQcdGz73Y9QiQkoBB\\\n",
       "x1Y2LkfT/WB1VUY1n7U/ECQhYNCx/nHvBCvnsZjstzwN5DHoegB4VpVlGW+99VbMZk8+iyqmu9GP\\\n",
       "+sg52OJwL+785Y8x37ix1OeNRqO4devWEzeGwLOkOEc3Sp6bPyhnw3g8jps3b8bW1tYTf+7KpfX4\\\n",
       "9c9/HC9fP/pg31/c/lP87s/vLvV5r732Wty5cyd6PRdWOJG0/+NxBgYdG0/m8cmDR/HStcuxu3gu\\\n",
       "tmbfjCKq+Mbqe3n/ZYEWCBh0bDpfxO7+ND6b34g7j34U8/rxd2J3p69Gsfb3KOJdlw+ggWsN0LG6\\\n",
       "jhjPV+LtRz+Meb0Wj6/oFDGpNuLF7/0s+oOVrkeEM0nA4Ayoo4hFffSCyHC4Hom/ooAvlYDBGfD2\\\n",
       "+3djEEe3zK/196MoXECEJgIGZ8Dd+1tx68IfYqO/HUVUEfUi6smHcXX6myjqsuvx4Ew6N5s4nraV\\\n",
       "Gb5oBwcHUVXVUj97f/sgHj74IHa3fhV//fdqPNgZx85nb8cnW5/GbLFcwBaLRWxtbdlGz4lcu3at\\\n",
       "6xFO7dwE7Pbt212PwDkzm83i8PBwqZ+9vzOOn/7yt1FWdZRVFae5PXNnZyfefPNNNzJzIm+88UbX\\\n",
       "I5yaG5nhS7LsjcxfFDcyc0pp/8fjbzoAKQkYACkJGAApCRgAKQkYACkJGAApnZv7wKBt/X4/Xn/9\\\n",
       "9dje3m7l81544YVWPgfOCveBAZxv7gMDgDYJGAApCRgAKQkYACkJGAApCRgAKQkYACkJGAApCRgA\\\n",
       "KQkYACkJGAApCRgAKQkYACkJGAApCRgAKQkYACkJGAApCRgAKQkYACkJGAApCRgAKQkYACkJGAAp\\\n",
       "CRgAKQkYACkJGAApCRgAKQkYACkJGAApCRgAKQkYACkJGAApCRgAKQkYACkJGAApCRgAKQkYACkJ\\\n",
       "GAApCRgAKQkYACkJGAApCRgAKQkYACkJGAApCRgAKQ26HqBFRdcDAPDFcQYGQEoCBkBKAgZASgIG\\\n",
       "QEoCBkBKAgZASgIGQEoCBkBKAgZASgIGQEoCBkBKAgZASgIGQEoCBkBKAgZASgIGQEoCBkBKAgZA\\\n",
       "SgIGQEoCBkBKAgZASgIGQEoCBkBKAgZASgIGQEoCBkBKAgZASgIGQEoCBkBKAgZASgIGQEoCBkBK\\\n",
       "AgZASgIGQEoCBkBK/wU7TfW8eWX3EAAAAABJRU5ErkJggg==\\\n",
       "\"\n",
       "  frames[36] = \"data:image/png;base64,iVBORw0KGgoAAAANSUhEUgAAAbAAAAEgCAYAAADVKCZpAAAAOXRFWHRTb2Z0d2FyZQBNYXRwbG90\\\n",
       "bGliIHZlcnNpb24zLjUuMiwgaHR0cHM6Ly9tYXRwbG90bGliLm9yZy8qNh9FAAAACXBIWXMAAAsT\\\n",
       "AAALEwEAmpwYAAAKe0lEQVR4nO3dzYtddxnA8efct3nNe1LSmLTGUiJIhEbXghQ3Wv8KF+6F7vwn\\\n",
       "3AuCha5diIILwU0RFDRYrG3H0iYxncS8TWbmztyXc4+L7rxnmplYz7lP5/OBbM4vL08Ww5dz7+93\\\n",
       "TlFVVQBANp22BwCA5yFgAKQkYACkJGAApCRgAKQkYACkJGAApCRgAKQkYACkJGAApCRgAKQkYACk\\\n",
       "JGAApCRgAKQkYACkJGAApCRgAKQkYACkJGAApCRgAKQkYACkJGAApCRgAKQkYACkJGAApCRgAKQk\\\n",
       "YACkJGAApCRgAKQkYACkJGAApCRgAKQkYACkJGAApNRre4AGVW0PALCAirYHeF7uwABIScAASEnA\\\n",
       "AEhJwABIScAASEnAAEhJwABIScAASEnAAEhJwABIScAASEnAAEhJwABIScAASEnAAEhJwABIScAA\\\n",
       "SEnAAEhJwABIScAASEnAAEhJwABIScAASEnAAEhJwABIScAASEnAAEhJwABIScAASEnAAEhJwABI\\\n",
       "ScAASEnAAEhJwABIScAASEnAAEhJwABIScAASEnAAEhJwABIScAASEnAAEhJwABIScAASEnAAEhJ\\\n",
       "wABIScAASEnAAEhJwABIScAASEnAAEhJwABIScAASEnAAEhJwABIScAASEnAAEhJwABIScAASEnA\\\n",
       "AEhJwABIScAASEnAAEhJwABIScAASEnAAEhJwABIScAASEnAAEhJwABIScAASEnAAEhJwABIScAA\\\n",
       "SEnAAEhJwABIScAASEnAAEhJwABIScAASEnAAEhJwABIScAASEnAAEhJwABIScAASEnAAEhJwABI\\\n",
       "ScAASEnAAEhJwABIqdf2AHDcVFUV5WgYk72nUZXTWD1/pe2RICUBgwaUk1HsbG7E7oNbMXxwK0bb\\\n",
       "D2KyuxWD9TNx7Y2fRLe/1PaIkI6AQQP2Ht6JD37zs7nrRbcbk+HT6J660MJUkJvvwKAJRfHZr/8y\\\n",
       "3n4Y+0/utjAQ5Cdg0IClE+dj5ezl2rVqVkVVVQ1PBPkJGDSgu7Qa/ZWTtWuT4VbD08CXg4BBAzrd\\\n",
       "XnR6/dq13QefNDwNfDkIGDSkO1ipvb6zuRERPkKEoxIwaMiZr74WEfMbOSKqqGazpseB9AQMGrJ0\\\n",
       "8lzt9dl0EtO97YangfwEDBpSdPq1N2DT0W7sPbaVHo5KwKAhnV4/essn5q7PJqMY7zyylR6OSMCg\\\n",
       "If2VE7H+wtXatdl03PA0kJ+AQUOKbj96y+u1a6PthxHuwOBIBAwaUhRFFEX9j9z23fejmpUNTwS5\\\n",
       "CRg0aOXc5YiaiE32nkZV2UoPRyFg0KATL74aRac7d72azaIc77UwEeQlYNCg3vJ6FDVPpa9m0xjv\\\n",
       "PGphIshLwKBBRacb3cHq3PVyvB87m/9sYSLIS8CgQd3+UqxffKVmpYpysu8sGByBgEGDik4vButn\\\n",
       "a9em+9sRNnLAoQkYNKkoottfql3a/vTDKCejhgeCvAQMGlQURQzWztTuRBw9fRBVOW1hKshJwKBh\\\n",
       "ay9cjU6v7i6scpgZjkDAoGEH3YFVVRXj3cctTAQ5CRg0rOj2IurOgpXTeHLrby1MBDkJGDSs6HRi\\\n",
       "9dyVmpXKiy3hCAQMGlYU3Vi78HLt2qycRDWzlR4OQ8CgaUUR/bXTtUuT4ZZ3g8EhCRg07PNeq7Kz\\\n",
       "uRGTvacNTwQ5CRi0YPX8legtrc1dn5UTr1WBQxIwaMHSyQvRGSzXrpWjYcPTQE4CBi3oDVaj0+nN\\\n",
       "L1QRe4/uNj8QJCRg0JKiWxOwqGLrtrNgcBgCBm0oijj98jdrl6qq8loVOAQBg5Ysn7pYe70c79lK\\\n",
       "D4cgYNCCoiiie8AmjvH2Q0/kgEMQMGhJpzeIomYjx2j7QUyGWy1MBLkIGLRk5dzlWDp5vnbNWTB4\\\n",
       "NgGDlvSX16M7WKldG20/bHgayEfAoCVFpxtFzWtVIiJ2Nj9seBrIR8CgRYP1c7XX9x5/ais9PIOA\\\n",
       "QYtOvXS99no1K6OalQ1PA7kIGLRosH6m9no53o/paLfhaSAXAYMWFUW39vp452HsP9lseBrIRcCg\\\n",
       "Rf2VE9Ffm78Lm03HUY73fQ8Gn0PAoEX9tdOxfPJC7Vo53mt4GshFwKBFnd7gwEdKjbbuNzwN5CJg\\\n",
       "0KKDzoFFRGzdfjcifIQIBxEwaNnJy9+ovV5O9iN8BwYHEjBo2dqFlyJi/k6sKqcx9T0YHEjAoGXd\\\n",
       "wWrt9XIyivHOo4angTwEDFrW6Q2iv3pq7vp0fzuGD263MBHkIGDQst7SWqycvVS7Vs2mzoLBAQQM\\\n",
       "WtbpDaK/crJ2bbz7JOxEhHoCBi0rOp0ouvNvZo6IePLxX6MqPdQX6ggYLIDVc1ciivkfx+n+TrgD\\\n",
       "g3oCBgtg7cLLUXTmfxyrqorZdNLCRLD4BAwWQH/tdBQHnAWzlR7qCRgsgKLoRNQ8VqocD2Przt9b\\\n",
       "mAgWn4DBAuj2l2Ptha/VrlXltOFpIIf6rU/AF6Kqqrh582YMh8Nn/MZZVLvTGNQs3b3zSXwyfudQ\\\n",
       "j0UcDAZx48aN6NR8nwZfNsUxOiR5bP6jLI6yLOP69evx3nvvPfP3/viH34of/eDG3PU/3Pw4fvrz\\\n",
       "38do8uzt9JcuXYqNjY1YWVl5rnk5lg5+JcKCcwcGC2IyncWsqmK3PBt3R69EFZ14cfBRfPvaJFaX\\\n",
       "+ocKGBwnAgYL4k/v/yve2PlefDD5foxmnz3g987+tXh18LvaDR5w3PmgHBbE7X/vx58ffydGs7X4\\\n",
       "7FOdIibVSry7891YW5t/2C8cdwIGC2I4msRkNv+hSNEZxNdfutDCRLDYBAwWRFXNYrI/f2h5fbAf\\\n",
       "16+eb2EiWGwCBguiLMexd+sXcap3P4ooI6KM7vRefGX6q9je2Wp7PFg4x2YTx+bmZtsjcAyVZRnT\\\n",
       "6eEOIs9mVWzevxWvPfxl/OWj5di4+ziGj/8Rn96/G/cf7x7y75jFvXv3Ynl5+X8Zm2Pk4sWLbY/w\\\n",
       "3I5NwN566622R+AYqqoqtrYOf/f063c+iN/+cSPK2SzK2dGPLg6Hw3j77bej3+8f+c9yPL355ptt\\\n",
       "j/DcHGSG/6OjHGT+IjjIzHNIe0bDd2AApCRgAKQkYACkJGAApCRgAKQkYACkdGzOgUEbiqKI119/\\\n",
       "Pa5du9bIv3f27NnodruN/FvQNufAAI4358AAoEkCBkBKAgZASgIGQEoCBkBKAgZASgIGQEoCBkBK\\\n",
       "AgZASgIGQEoCBkBKAgZASgIGQEoCBkBKAgZASgIGQEoCBkBKAgZASgIGQEoCBkBKAgZASgIGQEoC\\\n",
       "BkBKAgZASgIGQEoCBkBKAgZASgIGQEoCBkBKAgZASgIGQEoCBkBKAgZASgIGQEoCBkBKAgZASgIG\\\n",
       "QEoCBkBKAgZASgIGQEoCBkBKAgZASgIGQEoCBkBKAgZASr22B2hQ0fYAAHxx3IEBkJKAAZCSgAGQ\\\n",
       "koABkJKAAZCSgAGQkoABkJKAAZCSgAGQkoABkJKAAZCSgAGQkoABkJKAAZCSgAGQkoABkJKAAZCS\\\n",
       "gAGQkoABkJKAAZCSgAGQkoABkJKAAZCSgAGQkoABkJKAAZCSgAGQkoABkJKAAZCSgAGQkoABkJKA\\\n",
       "AZCSgAGQkoABkJKAAZDSfwDfIxdZfvFr3wAAAABJRU5ErkJggg==\\\n",
       "\"\n",
       "  frames[37] = \"data:image/png;base64,iVBORw0KGgoAAAANSUhEUgAAAbAAAAEgCAYAAADVKCZpAAAAOXRFWHRTb2Z0d2FyZQBNYXRwbG90\\\n",
       "bGliIHZlcnNpb24zLjUuMiwgaHR0cHM6Ly9tYXRwbG90bGliLm9yZy8qNh9FAAAACXBIWXMAAAsT\\\n",
       "AAALEwEAmpwYAAAKf0lEQVR4nO3dTW9c1RnA8efOiz1+ixNCSEChqJQKUV5aIRWxQEhdoS6rrvsN\\\n",
       "uuUDdNlvURWpG1ZsuuiqrUpZlEVBIErUIAIJSQw4jl/HvjP3dpFd5wbsCN07D/79pGzOcZQnC+vv\\\n",
       "Gd9zpqjrOgAgm17XAwDAgxAwAFISMABSEjAAUhIwAFISMABSEjAAUhIwAFISMABSEjAAUhIwAFIS\\\n",
       "MABSEjAAUhIwAFISMABSEjAAUhIwAFISMABSEjAAUhIwAFISMABSEjAAUhIwAFISMABSEjAAUhIw\\\n",
       "AFISMABSEjAAUhIwAFISMABSEjAAUhIwAFISMABSEjAAUhp0PUCL6q4HAJhDRdcDPCivwABIScAA\\\n",
       "SEnAAEhJwABIScAASEnAAEhJwABIScAASEnAAEhJwABIScAASEnAAEhJwABIScAASEnAAEhJwABI\\\n",
       "ScAASEnAAEhJwABIScAASEnAAEhJwABIScAASEnAAEhJwABIScAASEnAAEhJwABIScAASEnAAEhJ\\\n",
       "wABIScAASEnAAEhJwABIScAASEnAAEhJwABIScAASEnAAEhJwABIScAASEnAAEhJwABIScAASEnA\\\n",
       "AEhJwABIScAASEnAAEhJwABIScAASEnAAEhJwABIScAASEnAAEhJwABIScAASEnAAEhJwABIScAA\\\n",
       "SEnAAEhJwABIScAASEnAAEhJwABIScAASEnAAEhJwABIScAASEnAAEhJwABIScAASEnAAEhJwABI\\\n",
       "ScAASEnAAEhJwABIScAASEnAAEhJwABIScAASEnAAEhJwABIScAASEnAAEhJwABIScAASEnAAEhJ\\\n",
       "wABIScAASEnAAEhJwABIScAASGnQ9QBwGkzLw9j/+nqU+1tR7m9Hub8VR/t3Y7i4Epdf/nUUhZ8l\\\n",
       "4aQEDFpw8PX1+M9bv59ZH517NC797LUYLp3pYCrIzY990IaiuPfn/xzt3onx3Y0OBoL8BAxaMFp/\\\n",
       "JFYefmJmvSrHMRnvRl3XHUwFuQkYtKC/uByD+7xNWO5vtzwNfD8IGLSgKHpR9Jq/3fa+/LTdYeB7\\\n",
       "QsCgJWuPPd24vnvrvxHhLUQ4KQGDlqw+8sOImH2Qo66rqCZl+wNBcgIGLekvLDX1K6ryMI52N9sf\\\n",
       "CJITMGhJb7gYw+WzM+vl/t3Y3fik/YEgOQGDlgxHq7FyYfZR+oiIejLxKD2ckIBBS4r+MAaj1ca9\\\n",
       "w93NCAGDExEwaElRFPd+D9bg7mfvR11NWp4IchMwaNH6D56Lojd7BelkvOMtRDghAYMWjdYuNB5o\\\n",
       "rqsqJod7HUwEeQkYtKg3GDZe6jstD2PvticR4SQEDFrUGy7G6sUfzazX0zIOtm55GxFOQMCgRb3+\\\n",
       "MEZnLzXu1ZOjcKUUHJ+AQYuKXj8GiyuNe/t3vnClFJyAgEHLeoNhNN0ptXPj46jKw/YHgqQEDFp2\\\n",
       "9okXor/YfB6srquWp4G8BAxatrByLopef2a9riuX+sIJCBi0rehF48eqTMvYvPpu+/NAUgIGLSt6\\\n",
       "g1i//JPGvWpy1PI0kJeAQcuKXi+Wzz/euDc9Oohq6k5EOA4Bgw70houN64fbX8a0HLc8DeQkYNCy\\\n",
       "oihi8czD0RuOZvb2vvosJuPdDqaCfAQMOrB8/vEYjJoONNdRO8wMxyJg0IHB4nL0Gj5WJeqI8d2N\\\n",
       "9geChAQMulAUMVhaa9ioY+vae62PAxkJGHSiiPUfPN+4Mz06cCs9HIOAQUdGZy40rk8O96PyJCJ8\\\n",
       "KwGDDhRFcd9LfcdbN+No9077Q0EyAgYdGZ17LBbWHppZn4x3Y3p00MFEkIuAQUeGy+v3/WywyeFe\\\n",
       "y9NAPgIGHekPFqLXb3iUPiJ2b3/S8jSQj4BBh/qLq43rOzevtDwJ5CNg0KHzT/28cb2uqqiracvT\\\n",
       "QC4CBh1aWD3XuD493Ityf7vlaSAXAYMuFc3fguO7G7G/eb3lYSAXAYMOjc5ciKXzlxt26qirqRs5\\\n",
       "4BsIGHRoMFqN4fJ64165t9XuMJCMgEGHil4/er1+497m1XcjwiswuB8Bg46tXHyycb082Gl5EshF\\\n",
       "wKBjqxefiqY7Eet6GlV51P5AkISAQceGS82HmaujcRztbrY8DeQhYNCxXn8hBg0RKw92Yu+rax1M\\\n",
       "BDkIGHRssLQWKw8/0bBTR1UeepQe7kPAoGO9wUIMl8807o23v4oQMGgkYNCxoiiiNxw17m3f+Mid\\\n",
       "iHAfAgZzYP3ys1E0nAebHGxHXVcdTATzT8BgDozOPtJ4L2JdTWPiPBg0EjCYA73BYhTF7FmwaXno\\\n",
       "SUS4DwGDOVD0+jFYWptZr6dljO/c6mAimH8CBnOgv7gc65efbdyblmO/B4MGAgZzoCh6jYeZIyIO\\\n",
       "7tyMalK2PBHMPwGDOVAURfT6w8a9nZtXopoctjwRzD8Bgzmx/vhz0V9Ymt2oa2fBoIGAwZxYXDsf\\\n",
       "RW8ws17XVRzufN3BRDDfBAzmRNEfNH2qStTTMrY+fa/9gWDOzf64B3znPvjgg9je3v7mL6qnMalW\\\n",
       "YilmDy7fvH4trr/zzrEu9u33+/Hiiy/GcNj8OzX4vihO0U3Xp+Y/yvx55ZVX4u233/7Gryki4jev\\\n",
       "/TR++6uXZvb+8q+r8bs//DXK6bc/Tr+2thZXr16NCxcuPOi4nC4Nr/tz8AoM5kQdETv795423Jue\\\n",
       "iRvjH8c0BnFx4Vo8/+RunFtbio2tvW6HhDkiYDBHNu7sxcbeWnx0+MvYr+59xMrn42fimaW/xeLC\\\n",
       "nzueDuaLhzhgjnz8+Wb84/bLsV+tx713doqY1gvx4d6rUffPdT0ezBUBgzlyZ2cce0ez35ZVDOKF\\\n",
       "px7tYCKYXwIGc6Sqq5iMZ898jfrjeOnpix1MBPNLwGCO1HUdO9f+GA8Nv4giphFRRTHZjMvTt2J3\\\n",
       "Z6Pr8WCunJqHOG7d8pEUdKcsj38Z7/WbN+IXd/4U//5kFFeub8f+3Stx6/ZncWtz91h/v67r2NjY\\\n",
       "iOnU9VN8u0uXLnU9wgM7NQF74403uh6BU2xj4/ivnv7+/rX454efx3RaxbQ6+fHFsizjzTffjJWV\\\n",
       "lRP/XU6f119/vesRHpiDzNCC4xxk/q44yMwJpT3I7HdgAKQkYACkJGAApCRgAKQkYACkJGAApHRq\\\n",
       "zoFBl1599dXWHmtfWlqKhYWFVv4t6JJzYACnm3NgANAmAQMgJQEDICUBAyAlAQMgJQEDICUBAyAl\\\n",
       "AQMgJQEDICUBAyAlAQMgJQEDICUBAyAlAQMgJQEDICUBAyAlAQMgJQEDICUBAyAlAQMgJQEDICUB\\\n",
       "AyAlAQMgJQEDICUBAyAlAQMgJQEDICUBAyAlAQMgJQEDICUBAyAlAQMgJQEDICUBAyAlAQMgJQED\\\n",
       "ICUBAyAlAQMgJQEDICUBAyAlAQMgJQEDICUBAyAlAQMgJQEDIKVB1wO0qOh6AAC+O16BAZCSgAGQ\\\n",
       "koABkJKAAZCSgAGQkoABkJKAAZCSgAGQkoABkJKAAZCSgAGQkoABkJKAAZCSgAGQkoABkJKAAZCS\\\n",
       "gAGQkoABkJKAAZCSgAGQkoABkJKAAZCSgAGQkoABkJKAAZCSgAGQkoABkJKAAZCSgAGQkoABkJKA\\\n",
       "AZCSgAGQkoABkJKAAZCSgAGQ0v8AGskFj+Jvh2IAAAAASUVORK5CYII=\\\n",
       "\"\n",
       "  frames[38] = \"data:image/png;base64,iVBORw0KGgoAAAANSUhEUgAAAbAAAAEgCAYAAADVKCZpAAAAOXRFWHRTb2Z0d2FyZQBNYXRwbG90\\\n",
       "bGliIHZlcnNpb24zLjUuMiwgaHR0cHM6Ly9tYXRwbG90bGliLm9yZy8qNh9FAAAACXBIWXMAAAsT\\\n",
       "AAALEwEAmpwYAAAKk0lEQVR4nO3dO28c5xWA4TO7q11edKFutiRfJBlGEsSwlKQI4LgOkCaAuwTI\\\n",
       "TzBSusmvSOEupX9AmlRBUgWwi0SVgiSyLNmyZYu6UaKWXIp7mxSSAVscyqRgzOwRn6ecj8IeASRe\\\n",
       "zM43M0VZlgEA2bSaHgAAnoWAAZCSgAGQkoABkJKAAZCSgAGQkoABkJKAAZCSgAGQkoABkJKAAZCS\\\n",
       "gAGQkoABkJKAAZCSgAGQkoABkJKAAZCSgAGQkoABkJKAAZCSgAGQkoABkJKAAZCSgAGQkoABkJKA\\\n",
       "AZCSgAGQkoABkJKAAZCSgAGQkoABkJKAAZCSgAGQkoABkFKn6QFqVDY9AMAMKpoe4Fk5AwMgJQED\\\n",
       "ICUBAyAlAQMgJQEDICUBAyAlAQMgJQEDICUBAyAlAQMgJQEDICUBAyAlAQMgJQEDICUBAyAlAQMg\\\n",
       "JQEDICUBAyAlAQMgJQEDICUBAyAlAQMgJQEDICUBAyAlAQMgJQEDICUBAyAlAQMgJQEDICUBAyAl\\\n",
       "AQMgJQEDICUBAyAlAQMgJQEDICUBAyAlAQMgJQEDICUBAyAlAQMgJQEDICUBAyAlAQMgJQEDICUB\\\n",
       "AyAlAQMgJQEDICUBAyAlAQMgJQEDICUBAyAlAQMgJQEDICUBAyAlAQMgJQEDICUBAyAlAQMgJQED\\\n",
       "ICUBAyAlAQMgJQEDICUBAyAlAQMgJQEDICUBAyAlAQMgJQEDICUBAyAlAQMgJQEDICUBAyAlAQMg\\\n",
       "JQEDICUBAyAlAQMgJQEDICUBAyAlAQMgJQEDICUBAyAlAQMgJQEDICUBAyAlAQMgJQEDICUBAyAl\\\n",
       "AQMgJQEDICUBAyAlAQMgJQEDIKVO0wPAXlCW05gMN2K8OYjR+v0Y3Pk81u98HifO/TIWjr7c9HiQ\\\n",
       "koBBDb668Jd4cP2/sdm/E6PBg4goIyJi8fhpAYNn5CtEqEH/q49j7eaVGA1W4+t4RUSsXL3Q3FCQ\\\n",
       "nIBBDQ6dPld5vJxOopxOa54Gng8CBjVYOPJS5fHJcCPGD9dqngaeDwIGNWjtm6s8vrl6OwYr12ue\\\n",
       "Bp4PAgY16C4uRe/QC1uOl9NxTEcPoyzLin8FPI2AQQ32LRyK3sHjlWsb927UPA08HwQMalC02tHu\\\n",
       "9CrXVj75Z3xzZyKwMwIGNSiKIg698kblWllOI3yFCLsmYFCT+SMvRUSx5fh0PHx8czOwGwIGNWl3\\\n",
       "F6r6FaP1+9Ffvlz/QJCcgEFNOnOLj8/Cvu3r5yTaiQi7I2BQk3ZvIeaXTlauDddWXAeDXRIwqElR\\\n",
       "tLa9ofnBl5einE5qnghyEzCoSVEUMbf0YkSx9ULYcO3Oo92IwI4JGNRo6dU3o2htfYvRdDKJ0eB+\\\n",
       "/QNBYgIGNWr3FqKoOAObDAdx//OLDUwEeQkY1Kjd6cbCsdNbF8oyJpt2IsJuCBjUqNXpxsKxVyrX\\\n",
       "RoNVGzlgFwQM6lS0otNbqFzq37gc0/FmzQNBXgIGNSqKInoHj1du5BiurUQ5GTcwFeQkYFCzA6d+\\\n",
       "GO3u1vvBynIaw8FqAxNBTgIGNev0FiOKrX965WQUK1f+1cBEkJOAQc2KVjsWXzhTuTbZXLcTEXZI\\\n",
       "wKBmRasV+4+fqVwbbw6inLoOBjshYFC7IjrzBytX1m9ejfFGv+Z5ICcBg5oVRRHdxaVodbpb1oaD\\\n",
       "+zEZDxuYCvIRMGjA4gtnozN/oHLN25lhZwQMGtDpLUSr4l6wKMtYv3ml/oEgIQGDJhRFdOb2Vy6t\\\n",
       "3frUTkTYAQGDRhRx5PWfV65MRptRTkY1zwP5CBg0pLu4VHl8Y+V6bPbv1jsMJCRg0ICiKKIzfyDa\\\n",
       "3fkta+ONfkw2Bw1MBbkIGDRkfulkdPcfqVwbba7VPA3kI2DQkHZvIVr7epVra8t2IsJ3ETBoSFEU\\\n",
       "jx7sW2Ft+ZOap4F8BAwadHSbnYjTySgmIy+3hKcRMGjQdtfANldvx8bKlzVPA7kIGDSo3V2IdsXX\\\n",
       "iJPhIEYbfTc0w1MIGDSou/9wzC2dqFybDDdqngZyETBoULs7H53eQuWajRzwdAIGDSqe8kzE/o3L\\\n",
       "EeErRNiOgEHDDr/2s4gothwvy0lMR94NBtsRMGhY78CxyuOT4UZs9u/UPA3kIWDQsKJoRRRbz8DG\\\n",
       "G/1Yv33NTkTYhoBBw7qLS3Hg1A8q1yajhzVPA3kIGDSstW8uetvc0Ly+fCXK6aTmiSAHAYOGPXom\\\n",
       "4jY7EZcvR5TTmieCHAQMZsCh0+eiaHW2HC/L0jMRYRsCBjOgd/BYFBUbOcrxMB6u3mpgIph9AgYz\\\n",
       "oGi1I1pb/xwno4fRv3GpgYlg9gkYzIBOdz4OvfxG5dp0NLSVHioIGMyAor0v5pZerFxbv/1ZTMee\\\n",
       "yAFPEjCYAUVRPHqtSsV1sLXlKzEd28gBTxIwmBEHT/0o2vvmKlbKmI5Htc8Ds07AYEb0Dhyt3ko/\\\n",
       "ncbGvRsNTASzTcBgRhTtdhQVOxHL6ThWv7jYwEQw2wQMZkSrvS+WTp+rXJuOR1F6Igd8i4DBrCha\\\n",
       "MXf4VOXScG3Fu8HgCcUeur9kz/xHmT39fj8uXvzurwFbK5ei/eVHW4/vm4vR67+OaWdxR5938uTJ\\\n",
       "OHv27K7nZE/auvU1ia1XjIHv3cWLF+Ptt9/+zp/78enj8cff/yqW9n97N+Lo4SB+99vfxNUb93b0\\\n",
       "ee+++268//77zzQrZOErRJghV75aiQeDzZiWrVjePBP/WXsrrg7ejFHMx2unDjc9HswUZ2AwQ0bj\\\n",
       "aYzGZVwZ/DSubPwkymhFRBm3hmfiF+c/i79duNr0iDAznIHBDJmWZfz5wuRxvNrx6PJEK+6NT8Sn\\\n",
       "w7eqHtQBe5aAwYz5+Prq43h9UxEH9x+M/fPdRmaCWSRgMGMm4/VoF09umS/j3KvdOHn0QCMzwSwS\\\n",
       "MJgxayv/i+Ojv0a32IiIMopyGPvHF+Po5B9eqwLfsGc2cSwvLzc9AnvY3bt3d/yzX9x6EP2bH8Ww\\\n",
       "/CQufBZx887N6N/5d1y/fS8erO/sqfSDwcDvPDty4sSJpkd4ZnsmYB988EHTI7CHXbt2bcc/O55M\\\n",
       "4w9/+nuUUcZkUsb0Gc66Ll265HeeHXnvvfeaHuGZeRIH1ODDDz/c0Y3M3xc3MrMLafe2ugYGQEoC\\\n",
       "BkBKAgZASgIGQEoCBkBKAgZASnvmPjBo0pEjR+Kdd96p7fPOnz9f22dBU9wHBrC3uQ8MAOokYACk\\\n",
       "JGAApCRgAKQkYACkJGAApCRgAKQkYACkJGAApCRgAKQkYACkJGAApCRgAKQkYACkJGAApCRgAKQk\\\n",
       "YACkJGAApCRgAKQkYACkJGAApCRgAKQkYACkJGAApCRgAKQkYACkJGAApCRgAKQkYACkJGAApCRg\\\n",
       "AKQkYACkJGAApCRgAKQkYACkJGAApCRgAKQkYACkJGAApCRgAKQkYACkJGAApCRgAKQkYACkJGAA\\\n",
       "pNRpeoAaFU0PAMD3xxkYACkJGAApCRgAKQkYACkJGAApCRgAKQkYACkJGAApCRgAKQkYACkJGAAp\\\n",
       "CRgAKQkYACkJGAApCRgAKQkYACkJGAApCRgAKQkYACkJGAApCRgAKQkYACkJGAApCRgAKQkYACkJ\\\n",
       "GAApCRgAKQkYACkJGAApCRgAKQkYACkJGAApCRgAKQkYACkJGAAp/R85Bh5SHDbCJwAAAABJRU5E\\\n",
       "rkJggg==\\\n",
       "\"\n",
       "  frames[39] = \"data:image/png;base64,iVBORw0KGgoAAAANSUhEUgAAAbAAAAEgCAYAAADVKCZpAAAAOXRFWHRTb2Z0d2FyZQBNYXRwbG90\\\n",
       "bGliIHZlcnNpb24zLjUuMiwgaHR0cHM6Ly9tYXRwbG90bGliLm9yZy8qNh9FAAAACXBIWXMAAAsT\\\n",
       "AAALEwEAmpwYAAAKvklEQVR4nO3dy44cZxmA4a/6MDM9B59iY+dAEgUCiJMMCAWQYAc7pNwAW+4g\\\n",
       "rLgC7oB1lrBIJNiAhNghhEJAiGDI2XYcO5kZO56Znu7p7ioWASmoy9HYQlX1ZZ5n+f8zms+L1qtq\\\n",
       "/1VVVFUVAJBNr+0BAOBBCBgAKQkYACkJGAApCRgAKQkYACkJGAApCRgAKQkYACkJGAApCRgAKQkY\\\n",
       "ACkJGAApCRgAKQkYACkJGAApCRgAKQkYACkJGAApCRgAKQkYACkJGAApCRgAKQkYACkJGAApCRgA\\\n",
       "KQkYACkJGAApCRgAKQkYACkJGAApCRgAKQkYACkJGAApDdoeoEFV2wMAdFDR9gAPyhUYACkJGAAp\\\n",
       "CRgAKQkYACkJGAApCRgAKQkYACkJGAApCRgAKQkYACkJGAApCRgAKQkYACkJGAApCRgAKQkYACkJ\\\n",
       "GAApCRgAKQkYACkJGAApCRgAKQkYACkJGAApCRgAKQkYACkJGAApCRgAKQkYACkJGAApCRgAKQkY\\\n",
       "ACkJGAApCRgAKQkYACkJGAApCRgAKQkYACkJGAApCRgAKQkYACkJGAApCRgAKQkYACkJGAApCRgA\\\n",
       "KQkYACkJGAApCRgAKQkYACkJGAApCRgAKQkYACkJGAApCRgAKQkYACkJGAApCRgAKQkYACkJGAAp\\\n",
       "CRgAKQkYACkJGAApCRgAKQkYACkJGAApCRgAKQkYACkJGAApCRgAKQkYACkJGAApCRgAKQkYACkJ\\\n",
       "GAApCRgAKQkYACkJGAApCRgAKQkYACkJGAApCRgAKQkYACkJGAApCRgAKQkYACkJGAApCRgAKQkY\\\n",
       "ACkJGAApCRgAKQkYACkJGAApDdoeAE6CqipjcXQY8+k4Zgd3Yrx9NQ62r8alr34/1h96rO3xICUB\\\n",
       "gwbceOlXcff6P2K6tx2z8d2IqCIiYuP84wIGD8hXiNCAvRv/iv1br8ds/EH8N14REbtv/rm9oSA5\\\n",
       "AYMGnHnycu16tZhHWS6aHQY+IQQMGjA692jt+nw6jvn4bsPTwCeDgEEDeoOV2vWjve04vH2j4Wng\\\n",
       "k0HAoAGrW+di7ezDS+tVuYj5dBxVVdX8FvBxBAwaMBydjtWt87V7452rDU8DnwwCBg0oer17fo14\\\n",
       "5+2/xUdPJgLHI2DQkHNPfSMiiqX1qpxHOZ81PxAkJ2DQkNHZR+r6FfPJfox3rjc/ECQnYNCQYjCM\\\n",
       "/nC0tL6YjmPiJCLcNwGDhgxHp2Lz4lO1e/OjQycR4T4JGDSkN1iJ4frp2r3DnWtRVWXDE0FuAgYN\\\n",
       "KYoieoNh7d7dd/4Z1WLe8ESQm4BBg8595ptR9JdfAlGVi1gcHbYwEeQlYNCg1VMXoiiWP3blbBIH\\\n",
       "773ZwkSQl4BBg4pePwZrm0vr5WIW4913WpgI8hIwaFB/ZRSnP/2l2r3FZD8qr1aBYxMwaFDR69/z\\\n",
       "JOKda3+PxdGk4YkgLwGDBhVFEWunL9Ye5Jgd3ImydBIRjkvAoGGbFz8T/cHq0npVlTHzcks4NgGD\\\n",
       "hg1GmxG9/tJ6VS5i/9ZrLUwEOQkYNKwoejFcP7W8UZVxuHPdI6XgmAQMGlb0B/95tcqy+WQ/qoVX\\\n",
       "q8BxCBg0rojB2lbtzt7N12N2uNfwPJCTgEHDiqKItVMXojdcW9qbT/ainB+1MBXkI2DQgvULT8Sw\\\n",
       "5okcUUVM97abHwgSEjBoQX+4VnsvWEQVO6/+sfF5ICMBgzYURWw98oXarXI2dRIRjkHAoCUbn3qy\\\n",
       "dn0+2fdqFTgGAYOWDFZGteuHu+/E0f5Ow9NAPgIGLSiKIla2HorBaPk4/WI2cQUGxyBg0JLRmYdj\\\n",
       "ZfNc7d7hnVsNTwP5CBi0pDcYRq9XdxIx4vYbLzU8DeQjYNCi049/uXa9nE2iKsuGp4FcBAxatHHh\\\n",
       "ydr12fhuHO3vNjsMJCNg0KL+yiiKmlerTPe243D3nRYmgjwEDFq0eupCjM49WrtXLmZuaIaPIWDQ\\\n",
       "osHqegxHNe8Gi4jD2+82PA3kImDQoqLXr/0KMSLiztt/jQhXYHAvAgYtO/Pk5dr1cjaNcjFvdhhI\\\n",
       "RMCgZRsXHo+IYml9Ph3H5M7N5geCJAQMWtbrr0RvMFxan0/2Yvz+1RYmghwEDFo23Dgdm5c+W7u3\\\n",
       "mE2cRIR7EDBoWW+wGisbZ2r3Prj+96jKRbMDQRICBi0riiJWNs5F3f+DHe5cj6rySCmoI2DQAace\\\n",
       "+2LtcfqqKqP0ahWoJWDQAatb56Iolq/AytlRjHeutzARdJ+AQQcUvUH0hqtL6+V8GgfvvekgB9QQ\\\n",
       "MOiA/up6nHniq7V786PDCAGDJQIGHVD0+jHcOFu7t3fjn7GYTxueCLpPwKADPjyJeKb2IMfkzq2o\\\n",
       "FrMWpoJuEzDoiFOPfiF6w7WanSpmh3uNzwNdJ2DQEcPR6Sh6yx/Jcj6L22+81MJE0G0CBh1R9Pux\\\n",
       "/tDjNTsfXoE5iQj/S8CgI4pePzYvPlW7N5/sR1V6tQp8lIBBZxT3fDvzwftvx3xy0PA80G0CBh1R\\\n",
       "FEUMN05H0V9+tcrR/m4sZo7Sw0cJGHTI5qXPxnC97iqsitn+buPzQJcN2h4AToorV67E7u7HR6iI\\\n",
       "KvpHs+Xn0ldVvPqn38T06u1j/a2iKOLy5csxGo0ebFhIoDhBJ5tOzD+Ubnr22WfjxRdf/NifKYqI\\\n",
       "n/7oe/HD73x+ae/3L78VP/n5b4/1twaDQbzyyivx9NNPP9CsnCjLT5FOwleI0CFVFfHyqzcjIuJw\\\n",
       "sRGvjb8W/9j/Vrx/9FicPbUeW6OVlieE7vAVInTM3fE09udb8Ze9H8Te4mxEFHF18sX43MNb8emL\\\n",
       "f4hX3nqv7RGhE1yBQce8+e7t+N21y7G3eCg+/IgWUcYg/jX+doyrC22PB50hYNAxt24fxM7eYml9\\\n",
       "UfXj4fNnmh8IOkrAoGOOZosYlHeX1ld60/j+1x9tYSLoJgGDDjq88Yu4sPJ29GIeEWXE4oN4ZPHr\\\n",
       "GCzeb3s06IwTc4jj5s2bbY/ACTedHv9JGi9feT2++5VfxF/fWIsr1/bj4IPX4r1bb8W7O8d7rUpV\\\n",
       "VbG9vR1bW1sPOi4nxKVLl9oe4YGdmIA9//zzbY/ACXft2rVj/+zLr96MH//slzFflLEo7/8Wxqqq\\\n",
       "4oUXXojz58/f9+9ysjz33HNtj/DA3MgMDTnOjcz/L25k5j64kRkAmiRgAKQkYACkJGAApCRgAKQk\\\n",
       "YACkdGLuA4O2PfPMM1EUzZxY7vf7sbm52cjfgra4DwzgZHMfGAA0ScAASEnAAEhJwABIScAASEnA\\\n",
       "AEhJwABIScAASEnAAEhJwABIScAASEnAAEhJwABIScAASEnAAEhJwABIScAASEnAAEhJwABIScAA\\\n",
       "SEnAAEhJwABIScAASEnAAEhJwABIScAASEnAAEhJwABIScAASEnAAEhJwABIScAASEnAAEhJwABI\\\n",
       "ScAASEnAAEhJwABIScAASEnAAEhJwABIScAASEnAAEhJwABIScAASEnAAEhp0PYADSraHgCA/x9X\\\n",
       "YACkJGAApCRgAKQkYACkJGAApCRgAKQkYACkJGAApCRgAKQkYACkJGAApCRgAKQkYACkJGAApCRg\\\n",
       "AKQkYACkJGAApCRgAKQkYACkJGAApCRgAKQkYACkJGAApCRgAKQkYACkJGAApCRgAKQkYACkJGAA\\\n",
       "pCRgAKQkYACkJGAApCRgAKQkYACkJGAApPRvA1cYHXYEAX0AAAAASUVORK5CYII=\\\n",
       "\"\n",
       "  frames[40] = \"data:image/png;base64,iVBORw0KGgoAAAANSUhEUgAAAbAAAAEgCAYAAADVKCZpAAAAOXRFWHRTb2Z0d2FyZQBNYXRwbG90\\\n",
       "bGliIHZlcnNpb24zLjUuMiwgaHR0cHM6Ly9tYXRwbG90bGliLm9yZy8qNh9FAAAACXBIWXMAAAsT\\\n",
       "AAALEwEAmpwYAAAKsElEQVR4nO3dT29cVxnA4ffOjD0ex3HjuKFpm7RQhKoSQRFIldgjViy66Edg\\\n",
       "wwfoR2AF36LL7hDbLmDBAgQtEGiJaCGhCY5x6/jfjOfvZdEilc5t60Zw733r51lF50TxG8nWTzNz\\\n",
       "znVRlmUAQDadpgcAgIchYACkJGAApCRgAKQkYACkJGAApCRgAKQkYACkJGAApCRgAKQkYACkJGAA\\\n",
       "pCRgAKQkYACkJGAApCRgAKQkYACkJGAApCRgAKQkYACkJGAApCRgAKQkYACkJGAApCRgAKQkYACk\\\n",
       "JGAApCRgAKQkYACkJGAApCRgAKQkYACkJGAApCRgAKTUa3qAGpVNDwDQQkXTAzwsr8AASEnAAEhJ\\\n",
       "wABIScAASEnAAEhJwABIScAASEnAAEhJwABIScAASEnAAEhJwABIScAASEnAAEhJwABIScAASEnA\\\n",
       "AEhJwABIScAASEnAAEhJwABIScAASEnAAEhJwABIScAASEnAAEhJwABIScAASEnAAEhJwABIScAA\\\n",
       "SEnAAEhJwABIScAASEnAAEhJwABIScAASEnAAEhJwABIScAASEnAAEhJwABIScAASEnAAEhJwABI\\\n",
       "ScAASEnAAEhJwABIScAASEnAAEhJwABIScAASEnAAEhJwABIScAASEnAAEhJwABIScAASEnAAEhJ\\\n",
       "wABIScAASEnAAEhJwABIScAASEnAAEhJwABIScAASEnAAEhJwABIScAASEnAAEhJwABIScAASEnA\\\n",
       "AEhJwABIScAASEnAAEhJwABIScAASEnAAEhJwABIScAASEnAAEhJwABIScAASEnAAEhJwABIScAA\\\n",
       "SEnAAEhJwABIScAASEnAAEip1/QAcB6U5SLmk1HMxsOYnjyI4d6dONm7E1e/+b1Y377e9HiQkoBB\\\n",
       "De799udx+O6bMT7ai+nwMCLKiIhYf/S6gMFD8hYi1ODon7fi+P7bMR0exH/iFRGx/7fXmxsKkhMw\\\n",
       "qMHWV75duV7OZ7GYz2qeBr4YBAxqMLj8ZOX65Pj9OD24X/M08MUgYFCD7uogOr3+0vp0eBDjw70G\\\n",
       "JoL8BAxq0L/4aKxvX6vcm50eR1mWlXvAJxMwqEF3dRC9tY3Kvf13fhsfPdgBnI2AQQ2KoojB1hOV\\\n",
       "e+OjPf2ChyBgUJPNa89FRLG0vphPY3Z6VP9AkJyAQU1W1h+p6ldMjvfj4N036x8IkhMwqElvbSMG\\\n",
       "lysOcpSLWMzGDnLA5yRgUJPu6iAGl65W7n3wOZiAwechYFCTotON7spa5d7hP/4c5WJe80SQm4BB\\\n",
       "TYqiiPUrT0UUyz92k+FBLObTBqaCvAQMarT55Nej013+JRDlfBrjw381MBHkJWBQo87KauX6fDKK\\\n",
       "w7tvOsgBn4OAQY26K2sf3gdbNhufhBvNcHYCBjXq9FZjsFX9ZPrh3ruxmPkcDM5KwKBGRVFEd3Ut\\\n",
       "qm40H+/8NRbT0/qHgqQEDGp26enno9sfVOyUMTs9qX0eyErAoGarG1tRdJZPIi7mszi8+1YDE0FO\\\n",
       "AgY1K4pOrG5sLW+Uixjt33MSEc5IwKBmRbcXW08/X7k3PT2K0oVmOBMBg5oVRSd6g83KvaN7t2I6\\\n",
       "PKx5IshJwKABg62r0V1dPsgxnwxjMZ80MBHkI2DQgMH29eitbSxvlBGj/Z36B4KEBAwa0O31K08i\\\n",
       "RpTx/tu/qX0eyEjAoAlFEZee/kbl1mI2jXKxqHkgyEfAoCHrjz5VuT4+3I3p8KDmaSAfAYMGFEUR\\\n",
       "vf6FKDrdpb3TBzsxOX6/gakgFwGDhgy2r0V/80rl3mwyqnkayEfAoCEraxcrj9JHRDz4++s1TwP5\\\n",
       "CBg0pOh0or/5pcq90f4/PVIKPoOAQYMeuX6jcn0xm8RiNq55GshFwKBB/Y3LlevTkwcxPtyreRrI\\\n",
       "RcCgQZ2VfnR6q0vr09FhjI/2vI0In0LAoEFrl67GhStfrtxzlB4+nYBBgzq91eiurlXuHdy5WfM0\\\n",
       "kIuAQYOKoojB1hOVex+8heiRUvBJBAwadunLz0dEsbS+mI5jevKg9nkgCwGDhnVX1yvXJ8ODON75\\\n",
       "a83TQB4CBg3rrV2M9StPL2+Ui5iNh04iwicQMGhYb209BluPV+4N3/tHhM/BoJKAQcOKohPdlX7l\\\n",
       "3sGdm1Eu5jVPBDkIGLTA1le+XfkbmstyHvOpR0pBFQGDFlh75LEoiuqTiMf3325gImg/AYMWKLq9\\\n",
       "6A0uLq0vZpMYvXe3gYmg/QQMWqC7OojNJ5+r3JueHvkcDCoIGLRA0enGyoVLlXsHd27GfHJa70CQ\\\n",
       "gIBBCxRFEYNLj0fRXT7IMR0eRLmYNTAVtJuAQUtsXP1qdHvLx+nLchHjI0+mh48TMGiJXv9CRKe7\\\n",
       "tF7Op/H+O79pYCJoNwGDlii6vdh84tnKvcV07JFS8DECBi1RdLqxfuWpyr3Rg52YT0Y1TwTtJmDQ\\\n",
       "EkVRxMraxYiKC83HO2/HbHTUwFTQXgIGLXLhsWdiZbBZsVPGYjapfR5oMwGDFulvXI5OxUnEKCOG\\\n",
       "+/fqHwhaTMCgRYpOL4rO8luIEWUc3PmDgxzwEQIGbVIUsfXMdyq35uOhC83wEcvX/oH/i9FoFG+8\\\n",
       "8cZnvooqHpxU/mCeHu7F67/+VYzLlTN9ve3t7Xj22epj+fBFUJyjtyTOzX+Udnrrrbfixo0bsVh8\\\n",
       "+m9Y/u6Na/HTH30/Vnr/fam5LMv44U9+Fn98Z/dMX++ll16KV1999aHn5dyoes86Ba/AoGVu/m03\\\n",
       "bt8/iGee2I696bXYm1yL1c4orvVvxeWLg6bHg9YQMGiZo+EkhuNZ3Dm9EX85eSEW0Y2IMnbGz8S3\\\n",
       "nrsVv/j97aZHhFZwiANa6E/3+h/GqxcfvMPTiaP5dowu/qDp0aA1BAxa6LXf3f4wXh9VRH9tPTbX\\\n",
       "K+6JwTkkYNBCx8Oj6BXjj62W8ezj3fja9cuNzARtI2DQQqOjO3F59LPoFycRsYiinMZgdisem78W\\\n",
       "5+fgMHy6c3OIY2dnp+kROOf29vbO/Hd390/i/t1fR3/93fj937txb3c3jt+7GXd334v949Mz/Run\\\n",
       "p6e+7/lMV69ebXqEh3ZuAvbKK680PQLn3O7u7pkfBTVflPHjV375wZ/nZSwe4mXX7du3fd/zmV5+\\\n",
       "+eWmR3hoLjJDTc56kfl/xUVmzijtRWafgQGQkoABkJKAAZCSgAGQkoABkJKAAZDSubkHBk3b2NiI\\\n",
       "F198sbZj9C+88EItXwea4h4YwPnmHhgA1EnAAEhJwABIScAASEnAAEhJwABIScAASEnAAEhJwABI\\\n",
       "ScAASEnAAEhJwABIScAASEnAAEhJwABIScAASEnAAEhJwABIScAASEnAAEhJwABIScAASEnAAEhJ\\\n",
       "wABIScAASEnAAEhJwABIScAASEnAAEhJwABIScAASEnAAEhJwABIScAASEnAAEhJwABIScAASEnA\\\n",
       "AEhJwABIScAASEnAAEhJwABIScAASEnAAEhJwABIqdf0ADUqmh4AgP8dr8AASEnAAEhJwABIScAA\\\n",
       "SEnAAEhJwABIScAASEnAAEhJwABIScAASEnAAEhJwABIScAASEnAAEhJwABIScAASEnAAEhJwABI\\\n",
       "ScAASEnAAEhJwABIScAASEnAAEhJwABIScAASEnAAEhJwABIScAASEnAAEhJwABIScAASEnAAEhJ\\\n",
       "wABIScAASEnAAEjp3y49JzmeUFG8AAAAAElFTkSuQmCC\\\n",
       "\"\n",
       "  frames[41] = \"data:image/png;base64,iVBORw0KGgoAAAANSUhEUgAAAbAAAAEgCAYAAADVKCZpAAAAOXRFWHRTb2Z0d2FyZQBNYXRwbG90\\\n",
       "bGliIHZlcnNpb24zLjUuMiwgaHR0cHM6Ly9tYXRwbG90bGliLm9yZy8qNh9FAAAACXBIWXMAAAsT\\\n",
       "AAALEwEAmpwYAAAKsElEQVR4nO3dT28c9RnA8Wd2116v45g4JiVAgEIPlEYVEpWQeumxh6oHDryD\\\n",
       "nvoCeAm9VH0XHLlVvfbSQ6uWqlAJaIhEISEJiXEg9sbr/T89NK3azkJCRGfmwZ/PKXpGip9Ijr7e\\\n",
       "9W9mi7IsAwCy6TS9AAA8DAEDICUBAyAlAQMgJQEDICUBAyAlAQMgJQEDICUBAyAlAQMgJQEDICUB\\\n",
       "AyAlAQMgJQEDICUBAyAlAQMgJQEDICUBAyAlAQMgJQEDICUBAyAlAQMgJQEDICUBAyAlAQMgJQED\\\n",
       "ICUBAyAlAQMgJQEDICUBAyAlAQMgJQEDICUBAyAlAQMgpV7TC9SobHoBgBYqml7gYXkFBkBKAgZA\\\n",
       "SgIGQEoCBkBKAgZASgIGQEoCBkBKAgZASgIGQEoCBkBKAgZASgIGQEoCBkBKAgZASgIGQEoCBkBK\\\n",
       "AgZASgIGQEoCBkBKAgZASgIGQEoCBkBKAgZASgIGQEoCBkBKAgZASgIGQEoCBkBKAgZASgIGQEoC\\\n",
       "BkBKAgZASgIGQEoCBkBKAgZASgIGQEoCBkBKAgZASgIGQEoCBkBKAgZASgIGQEoCBkBKAgZASgIG\\\n",
       "QEoCBkBKAgZASgIGQEoCBkBKAgZASgIGQEoCBkBKAgZASgIGQEoCBkBKAgZASgIGQEoCBkBKAgZA\\\n",
       "SgIGQEoCBkBKAgZASgIGQEoCBkBKAgZASgIGQEoCBkBKAgZASgIGQEoCBkBKAgZASgIGQEoCBkBK\\\n",
       "AgZASgIGQEoCBkBKAgZASgIGQEoCBkBKAgZASgIGQEoCBkBKAgZASgIGQEoCBkBKAgZASgIGQEoC\\\n",
       "BkBKAgZASgIGQEoCBkBKAgZASr2mF4CToCyXMZ+MYj6+G+M7t+Jo78PodHvx+Es/iaLwcyQ8DAGD\\\n",
       "Gtz482/i4Nq7MT7Yi8XkKCIiBrsX4twLP4q1ze2Gt4Oc/OgHNRjevBxHex/+O14REce3r8Xk8NMG\\\n",
       "t4LcBAxqsPPsSyvn8+lxzZvAN4eAQQ0GZ59cOT+8/reaN4FvDgGDGnTXB9Hp9Svzo1t/j7IsG9gI\\\n",
       "8hMwqEH/9KOxuXuhMl/MJrGYjhrYCPITMKhBd30QvY2tynxy+Gkc377ewEaQn4BBDYqiiMHOE5X5\\\n",
       "cj6J2XjobUR4CAIGNdm+8EJEFJX5+POb9S8D3wACBjVZ23xkVb/i84/eigivwOCrEjCoSW9jKwZn\\\n",
       "VxzkmI5jOZs2sBHkJmBQk+76IAZnzlfmi+koxne8jQhflYBBTYpON7prG5X5fHw3jm5fdZADviIB\\\n",
       "g5oURRGb556OWPH0+dnoIPweDL4aAYMabT/5veh0qx8CMbz+fpTLRQMbQV4CBjXqrK2vnI/v3Ixy\\\n",
       "Ma95G8hNwKBG3bWNe/eD/bfFfBqj/Y8b2AjyEjCoUae3HoOd6pPpl7NxHH5yuYGNIC8BgxoVRRHd\\\n",
       "9Y1YdUfzcjaJslzWvxQkJWBQszPPvBjd/qAyP7j2Xiym4wY2gpwEDGq2vrUTRad6EnFysBflYtbA\\\n",
       "RpCTgEHNiqIT61s7lXlZLmM2OmxgI8hJwKBmRbcXO8+8WJmXi1nc/uDNBjaCnAQMalYUnegNtlde\\\n",
       "m4/veqQUPCABgwYMds5Hd716kGNyuB/LmYMc8CAEDBow2H0qehtblfnwk8v3nosI3I+AQQO6vf7K\\\n",
       "k4gRZSxmk9r3gYwEDJpQFHHmme9X52UZh9cv1b8PJCRg0JDNR59eOb9764OaN4GcBAwaUBRF9Pqn\\\n",
       "ouh0K9cW03Es5tMGtoJcBAwaMti9EP3tc5X5aP9qTA72GtgIchEwaMjaxumVR+kX01EsHKWH+xIw\\\n",
       "aEjR6UR/+1srr43v3Kp5G8hHwKBBjzx1ceX8sw/e9EQOuA8Bgwb1t86unC+m4yiXPhsMvoyAQYM6\\\n",
       "a/3o9NYr89noTkyH+w1sBHkIGDRo48z5OHXu25X59O5ncXznprcR4UsIGDSo01uP7vrGymvz8bDm\\\n",
       "bSAXAYMGFUURg50nVl47+PjdmreBXAQMGnbm2y9GRFGZH392PaJ0kAO+iIBBw7rrmyvny/k0ZqPD\\\n",
       "mreBPAQMGtbbOB2b556pzGejAw/2hS8hYNCw3sZmDHYer8zL5SJmx0MnEeELCBg0rCg60V3rr7w2\\\n",
       "un3N78HgCwgYtMDOsy+t/ITmw4/fiXK5aGAjaD8BgxbYeOSxKIrqScTlYh7zyaiBjaD9BAxaoOj2\\\n",
       "ojc4XZkv55M4+vRKAxtB+wkYtEB3fRDbT75QmS/n0xjtX3WQA1YQMGiBotONtVNnVl6bHt3xezBY\\\n",
       "QcCgBYqiiMGZx6PoVg9yDD95P5bzSQNbQbsJGLTE1vnvRLdXPU4/OzqIxUzA4H8JGLREr38qotOt\\\n",
       "zMvlPIY3LjewEbSbgEFLFN1ebD/xfGVeLhceKQUrCBi0RNHpxua5p1deW0zHsVzMa94I2k3AoCWK\\\n",
       "ooi1jdMRK25oHt64FLNjT6aH/yRg0CKnHnsu1gbblfnseBjL+bSBjaC9BAxapL91NjorTiJGlDEZ\\\n",
       "7te+D7SZgEGLFJ1eFJ3qW4hRlnH78h/rXwhaTMCgTYoidp77wcpLy9k4yqWPVoF/qd72D/xfHB8f\\\n",
       "x9tvv33f5xoWd45W/secDPfjrTd/H+PFg/3cubu7G88/Xz2WD98UxQl6SOiJ+YfSTpcuXYqLFy/G\\\n",
       "8j6von548UL86uc/jrXef9/UXJZl/OyXv453Ptx7oK/36quvxhtvvPHQ+3JirHjPOgevwKBl3vlw\\\n",
       "L67cOojnntiN/dmF2J9eiPXOcVzoX47Tg/Wm14PWEDBomeFoGqPJPK6OL8b7Ry/HMroRUcbNyXPx\\\n",
       "g4vvxx/eu9b0itAKDnFAC717o38vXr345zs8nRgudmNy5qdNrwatIWDQQr/9y5V78fpPRfT7p2LL\\\n",
       "24gQEQIGrXR3NIxe8b8foVLGdx/vxvNP7TayE7SNgEELHQ+vxtnjX0e/OIqIZRTlLAbzy/HY8reO\\\n",
       "08I9J+YQx82bN5tegRNuf//BHwW19/lR3Lr+p+hvXou/ftSNG3t7cff2O3F973Z8fnf8QH/HeDz2\\\n",
       "fc99nT9/vukVHtqJCdjrr7/e9AqccHt7e/e9iflfFssyfvH67/7550UZy4e4X/PKlSu+77mv1157\\\n",
       "rekVHpobmaEmD3oj89fFjcw8oLQ3MvsdGAApCRgAKQkYACkJGAApCRgAKQkYACmdmPvAoGlbW1vx\\\n",
       "yiuv1HaM/uWXX67l60BT3AcGcLK5DwwA6iRgAKQkYACkJGAApCRgAKQkYACkJGAApCRgAKQkYACk\\\n",
       "JGAApCRgAKQkYACkJGAApCRgAKQkYACkJGAApCRgAKQkYACkJGAApCRgAKQkYACkJGAApCRgAKQk\\\n",
       "YACkJGAApCRgAKQkYACkJGAApCRgAKQkYACkJGAApCRgAKQkYACkJGAApCRgAKQkYACkJGAApCRg\\\n",
       "AKQkYACkJGAApCRgAKQkYACkJGAApCRgAKQkYACk1Gt6gRoVTS8AwNfHKzAAUhIwAFISMABSEjAA\\\n",
       "UhIwAFISMABSEjAAUhIwAFISMABSEjAAUhIwAFISMABSEjAAUhIwAFISMABSEjAAUhIwAFISMABS\\\n",
       "EjAAUhIwAFISMABSEjAAUhIwAFISMABSEjAAUhIwAFISMABSEjAAUhIwAFISMABSEjAAUhIwAFIS\\\n",
       "MABSEjAAUhIwAFL6B3VjIxZR3/3EAAAAAElFTkSuQmCC\\\n",
       "\"\n",
       "  frames[42] = \"data:image/png;base64,iVBORw0KGgoAAAANSUhEUgAAAbAAAAEgCAYAAADVKCZpAAAAOXRFWHRTb2Z0d2FyZQBNYXRwbG90\\\n",
       "bGliIHZlcnNpb24zLjUuMiwgaHR0cHM6Ly9tYXRwbG90bGliLm9yZy8qNh9FAAAACXBIWXMAAAsT\\\n",
       "AAALEwEAmpwYAAAKs0lEQVR4nO3dSW9ddxnA4ffcwfb1EKduTdKWDuogShkUJhUhwYIFSEhI/QJs\\\n",
       "+QYVGz4B34B1l2XRSrBDsEJsKlKEKKFTQlyaxEkaOx6v73BYFCHQuW1tC51z3vp5lu915DcL6+d7\\\n",
       "/T/nFGVZBgBk02l6AQA4DQEDICUBAyAlAQMgJQEDICUBAyAlAQMgJQEDICUBAyAlAQMgJQEDICUB\\\n",
       "AyAlAQMgJQEDICUBAyAlAQMgJQEDICUBAyAlAQMgJQEDICUBAyAlAQMgJQEDICUBAyAlAQMgJQED\\\n",
       "ICUBAyAlAQMgJQEDICUBAyAlAQMgJQEDICUBAyAlAQMgpV7TC9SobHoBgBYqml7gtLwDAyAlAQMg\\\n",
       "JQEDICUBAyAlAQMgJQEDICUBAyAlAQMgJQEDICUBAyAlAQMgJQEDICUBAyAlAQMgJQEDICUBAyAl\\\n",
       "AQMgJQEDICUBAyAlAQMgJQEDICUBAyAlAQMgJQEDICUBAyAlAQMgJQEDICUBAyAlAQMgJQEDICUB\\\n",
       "AyAlAQMgJQEDICUBAyAlAQMgJQEDICUBAyAlAQMgJQEDICUBAyAlAQMgJQEDICUBAyAlAQMgJQED\\\n",
       "ICUBAyAlAQMgJQEDICUBAyAlAQMgJQEDICUBAyAlAQMgJQEDICUBAyAlAQMgJQEDICUBAyAlAQMg\\\n",
       "JQEDICUBAyAlAQMgJQEDICUBAyAlAQMgJQEDICUBAyAlAQMgJQEDICUBAyAlAQMgJQEDICUBAyAl\\\n",
       "AQMgJQEDICUBAyAlAQMgJQEDICUBAyAlAQMgJQEDICUBAyAlAQMgJQEDICUBAyAlAQMgJQEDICUB\\\n",
       "AyAlAQMgJQEDICUBAyAlAQMgpV7TC8BZUJbTGA/3Y3y4G4dbt2Jv82p0ur14+Os/iqLweySchoBB\\\n",
       "DT54/dex/f5f43B7MybDvYiIGDz4WKx/8XvRXzzX8HaQk1/9oAY7N96Kvc2r/4lXRMTB3Y0Y7txu\\\n",
       "cCvITcCgBuefvDRzPhkN610EPkMEDGowWHt05vz+P6/UvAl8dggY1KDTm5s53735ds2bwGeHgEEN\\\n",
       "5lfWYuGBhyvz6XjkY0Q4JQGDGvQHqzG/8lBlfri9Gft3NxrYCPITMKhB0enM/BhxOjqM8eFulGXZ\\\n",
       "wFaQm4BBTdae+kZEFJX50e69+peBzwABg5oMHnhkVr/i7lt/jAjvwOCkBAxqUvT60e0PKvPJ6DDC\\\n",
       "R4hwYgIGNekPzsXyhacq8+l4GEf72w1sBLkJGNSk05uL/uJqZT462Im9zWv1LwTJCRjUpCiK6PT6\\\n",
       "lXk5Gcdof9tJRDghAYMarT39rSi61YdAHG7djCinDWwEeQkY1Gj+3PrM539tXf9LlNNJAxtBXgIG\\\n",
       "NSo63egtLFfm0/HQLaXghAQMatSdG8TqY1+qzKfjozi4+34DG0FeAgY1KjrdmScRp6Nh7Nx610EO\\\n",
       "OAEBgxoVRRELqxdmHuSYDPcc5IATEDCo2fKFp6Pbm6/Md2687e9gcAICBjXrDZYjOt3K/HDrVpST\\\n",
       "cQMbQU4CBjUrik70F89V5mU5jaM9d6aH4xIwqFnR7f370Sr/q5yM4961yw1sBDkJGNSuiN7Cyox5\\\n",
       "GeP9HScR4ZgEDGpWFEUsnFuPTn+h8tpw925MHeSAYxEwaMDi+hPRn3FHjp0P3oqRR6vAsQgYNKDb\\\n",
       "X5h5LVhZTmI6GTWwEeQjYNCEooiVR56rzssydm++U/8+kJCAQUOWPvfkzPn2+2/WuwgkJWDQkN7c\\\n",
       "YOZ8Oh7F1AXN8KkEDBpQFEXMrTwYvUH1OP3B3Y0Y3r/dwFaQi4BBQwbnH4655bXKfHRwPybD/QY2\\\n",
       "glwEDBrS6fWj06meRIyIGB3u1LwN5CNg0KDVx788c75zw0lE+DQCBg1aWn9y5nxv08Mt4dMIGDSo\\\n",
       "OzeIYsajVSZHQ38Hg08hYNCg+XPrMVh7tDIf7tyJg60bDWwEeQgYNKg3vxj9QfXZYNPRYYwP3Jke\\\n",
       "PomAQYOKTnfmR4gREYfbmzVvA7kIGDTs/JOXZs7vXf1TRHgHBh9HwKBhS+uPR0RRmU+G+1FOJvUv\\\n",
       "BEkIGDSs052LTq9fmY+PDuLwvo8R4eMIGDSsv7QayxefqczHB/djb/NqAxtBDgIGDev05mNu6fzM\\\n",
       "1yZHh04iwscQMGhYURQxt7QWs/4Odv+Dv0c59XcwmEXAoAXOff75mcfp929fiyin9S8ECQgYtMD8\\\n",
       "yloURfUdWDmdxOhwt4GNoP0EDFqg6PSi05+vzCdHB7G98dcGNoL2EzBoge78Ypx/4quVeTmdxGh/\\\n",
       "20EOmEHAoAWKTjf6Sw/MfO1o90MHOWAGAYMW+Ogk4vmZBzm2rr0Rk6ODBraCdhMwaIlzjz4Xnf5C\\\n",
       "ZT4dj6KcjhvYCNpNwKAl+oPVKDrVH8lyOon9OxsNbATtJmDQEkW3G4sPPl6Zl9NxbF3/SwMbQbsJ\\\n",
       "GLRE0enG8oWnZr5WTsZRTl3QDP9NwKA1iplPZ46IGO7cicl4WPM+0G4CBi1RFEX0l1aj6FYfrbJ7\\\n",
       "670YH+w0sBW0l4BBiyxffCb6i9V3YeV0HOPhXgMbQXv1ml4AzoorV67Ehx9++IlfU0QZ3aNR9b70\\\n",
       "ZRnX//Z6bL1z41jfqyiKuHTpUgwGg9MtCwkUZ+gWNWfmP0o7vfjii/Haa6994tcURcTPf/K9+PF3\\\n",
       "vlB57feXr8bPfvnbY32vXq8Xb775Zjz77LOn2pUzpXoX6SR8hAgtUpYRl9++GRERB5OleGf/a/G3\\\n",
       "3W/H7aPPx+LCfMz3q3fqgLPKR4jQMvf3h7E7Xok3dn4QO5MHIqKI64fPx/paLy6s/SGu39pqekVo\\\n",
       "Be/AoGWu3rgXv9u4FDuTB+OjH9EiptGL293vR8w/0vR60BoCBi1z695e3N2p3n1+Unbj4tpqAxtB\\\n",
       "OwkYtMzRaBK96f3KfK4zjB9+87EGNoJ2EjBooYMPXon1uX9EJ8YRMY2YbMcjk99Ef3q76dWgNc7M\\\n",
       "IY6bN282vQJn3HB4/FtBXb7ybnz3K6/En99biCsbu7G3/U5s3roWN+4e724cZVnGnTt3YmVl5bTr\\\n",
       "ckZcvHix6RVO7cwE7OWXX256Bc64jY3jPxLl8ts346e/+FWMJ9OYTE9+CWNZlvHqq6/GQw89dOJ/\\\n",
       "y9ny0ksvNb3CqbmQGWpynAuZ/19cyMwJuJAZAOokYACkJGAApCRgAKQkYACkJGAApHRmrgODpr3w\\\n",
       "wgtRFPWcWO52u7G8vFzL94KmuA4M4GxzHRgA1EnAAEhJwABIScAASEnAAEhJwABIScAASEnAAEhJ\\\n",
       "wABIScAASEnAAEhJwABIScAASEnAAEhJwABIScAASEnAAEhJwABIScAASEnAAEhJwABIScAASEnA\\\n",
       "AEhJwABIScAASEnAAEhJwABIScAASEnAAEhJwABIScAASEnAAEhJwABIScAASEnAAEhJwABIScAA\\\n",
       "SEnAAEhJwABIScAASEnAAEhJwABIScAASEnAAEhJwABIqdf0AjUqml4AgP8f78AASEnAAEhJwABI\\\n",
       "ScAASEnAAEhJwABIScAASEnAAEhJwABIScAASEnAAEhJwABIScAASEnAAEhJwABIScAASEnAAEhJ\\\n",
       "wABIScAASEnAAEhJwABIScAASEnAAEhJwABIScAASEnAAEhJwABIScAASEnAAEhJwABIScAASEnA\\\n",
       "AEhJwABIScAASEnAAEjpX1nxEhWmVO+/AAAAAElFTkSuQmCC\\\n",
       "\"\n",
       "  frames[43] = \"data:image/png;base64,iVBORw0KGgoAAAANSUhEUgAAAbAAAAEgCAYAAADVKCZpAAAAOXRFWHRTb2Z0d2FyZQBNYXRwbG90\\\n",
       "bGliIHZlcnNpb24zLjUuMiwgaHR0cHM6Ly9tYXRwbG90bGliLm9yZy8qNh9FAAAACXBIWXMAAAsT\\\n",
       "AAALEwEAmpwYAAAKo0lEQVR4nO3dO49cZxnA8efMZe9eLxs7sXPBDqGIQMEBUoAiIdFQIIoUCPEZ\\\n",
       "SJ2Gz0CZjjKfgIIKUUUKBUIicYJi5YK9IfE93ot3ZmfnciiIUJI5a69X8TnzeH+/8n1X3seSR3/P\\\n",
       "zDnvKcqyDADIptX0AABwFAIGQEoCBkBKAgZASgIGQEoCBkBKAgZASgIGQEoCBkBKAgZASgIGQEoC\\\n",
       "BkBKAgZASgIGQEoCBkBKAgZASgIGQEoCBkBKAgZASgIGQEoCBkBKAgZASgIGQEoCBkBKAgZASgIG\\\n",
       "QEoCBkBKAgZASgIGQEoCBkBKAgZASgIGQEoCBkBKAgZASp2mB6hR2fQAADOoaHqAo/IODICUBAyA\\\n",
       "lAQMgJQEDICUBAyAlAQMgJQEDICUBAyAlAQMgJQEDICUBAyAlAQMgJQEDICUBAyAlAQMgJQEDICU\\\n",
       "BAyAlAQMgJQEDICUBAyAlAQMgJQEDICUBAyAlAQMgJQEDICUBAyAlAQMgJQEDICUBAyAlAQMgJQE\\\n",
       "DICUBAyAlAQMgJQEDICUBAyAlAQMgJQEDICUBAyAlAQMgJQEDICUBAyAlAQMgJQEDICUBAyAlAQM\\\n",
       "gJQEDICUBAyAlAQMgJQEDICUBAyAlAQMgJQEDICUBAyAlAQMgJQEDICUBAyAlAQMgJQEDICUBAyA\\\n",
       "lAQMgJQEDICUBAyAlAQMgJQEDICUBAyAlAQMgJQEDICUBAyAlAQMgJQEDICUBAyAlAQMgJQEDICU\\\n",
       "BAyAlAQMgJQEDICUBAyAlAQMgJQEDICUBAyAlAQMgJQEDICUBAyAlAQMgJQEDICUBAyAlAQMgJQE\\\n",
       "DICUBAyAlAQMgJQEDICUBAyAlDpNDwDHwWS0H6NBL0Z7d6N/52r0bm1EuzsfZ3/0yygK/4+EoxAw\\\n",
       "eMh2b23Ep3//Uwy2b8Zg53aU42FERCw99kyc/t7Poru42vCEkJOAwUM23N2MrY13I6L8ynrv9icx\\\n",
       "2L4pYHBEPruAh2xx/amYXz1VuTcZDWueBh4dAgYPWXfpZHQWVir3+pvXap4GHh0CBg9Zq92JolX9\\\n",
       "Utu68k7N08CjQ8CgBiefeaFyfTTYjcl4VPM08GgQMKjBypnnKtdH/Z0Y7t6peRp4NAgY1KDV7kYU\\\n",
       "xdT6YOdW9O981sBEkJ+AQQ3mTz4ey6fOVe6N9wdRlmXlHnAwAYMadOaXo7tUfb/X9mfv1zwNPBoE\\\n",
       "DGpQFEV0Drhh+e61D+PrNzkD9ydgUJO1cxciYvp7sHIyjslwUP9AkJyAQU3mV09V9SvG+/3Y275Z\\\n",
       "/0CQnIBBTVqtThRFe2p9tHc3ejc3XMgBD0jAoCbd5bVYfer5yr3RYLfmaSA/AYOatDpz0V1eq9zb\\\n",
       "ufpBlJNxvQNBcgIGNSmK4otHp0x/Eda7dUXA4AEJGNRo7fyLUbSnH8NXTsYx9jEiPBABgxrNLa9F\\\n",
       "UXGk1Hi/H1ufvNfARJCXgEGNWp1uzJ98fGq9nIxjv7fpSkR4AAIGNWp3F2LliYNPpo9yUvNEkJeA\\\n",
       "QZ2KVnQXT1Ru7d64HOPhfs0DQV4CBjX6/5mIxfRLr3/nakzGAgaHJWBQs7VvvxCducWp9bKcxHB3\\\n",
       "s/6BICkBg5p1FlYiWtNHSpXjUWxuXGxgIshJwKBmRasVS+tPVeyUMdy940pEOCQBg5oVrc6BZyLu\\\n",
       "97ZiMhrWPBHkJGDQgPb8cuX6zqfvx7C3We8wkJSAQc2KooilU89EpyJik/EwyvGogakgHwGDBiys\\\n",
       "nYn2/NL0Rhkx2PFwSzgMAYMGtDvzUbSqXn5lbG68W/s8kJGAQROKiOXT5yu3hrubUTpSCu5LwKAR\\\n",
       "Raw+/f3KnWF/O8aDfs3zQD4CBg0oiiLa3YXKvd6tjdjbvlHzRJCPgEFDFtfPxtzK+tR6ORm7FwwO\\\n",
       "QcCgIXMrj0V3cbVyb/fm5XqHgYQEDBpStNrRrjjUNyJi8/I/6x0GEhIwaEhRFLF2/kLlXjmZxMQN\\\n",
       "zXBPAgYNWlg7W7k+GuzGsL9d8zSQi4BBg1qdbuX6YPtm9D//zMn0cA8CBg2aXz0di1WPViknMd53\\\n",
       "Lxjci4BBg7qLJyovpY+I2L3x75qngVwEDBpUFK0Db2je+uS9iPARIhxEwKBh3/rOjyvXy9INzXAv\\\n",
       "AgYNWzj5eEQUU+uj/o4bmuEeBAwa1u4uRGdhZWp9vN+PwdZNVyLCAQQMGtZZPBHLp89V7o33ezVP\\\n",
       "A3kIGDSs1ZmL7tLBZyKWk3HNE0EOAgYNK4riwDMRd65+EOXEwy2hioDBDFh/7qUo2p2p9XIy8TEi\\\n",
       "HEDAYAbMrTwWRTH9chwP92Ln6gcNTASzT8BgBhTtTnSXTk6tl+NhDLauuxIRKggYzIB2dyFOPPl8\\\n",
       "5d5w725E6Xsw+DoBgxlQtNrRXTpRubd5+W0H+0IFAYMZUBRFLK0/HUV7+vEqo727LqWHCgIGM2L5\\\n",
       "9PlodeYqdiYx7Hm4JXydgMGM6CysRNGafklOxuPY/uxSAxPBbBMwmBFFqxXzJ05Nb5ST2HMlIkwR\\\n",
       "MJgRRbsTa+d+ULk36u9EOR7VPBHMtuIY/a/u2PxFmT07Oztx8eLF+/5c6/NL0f70b1Pr7bml2H/u\\\n",
       "VzHpLB3q9509ezaeffbZB56TY2n6WT5JTJ9dA3zjLl68GC+//PJ9f+7F756JP/zuF7G6NP+V9f3+\\\n",
       "3fjtb34dV65vHer3vfrqq/H6668faVbIwkeIMEM+/PTz2N4dxKRsxbXB+fjX3Z/Gx70XYlguxref\\\n",
       "mD6pA44z78BghvT2hjEYTuKj3g/jo/6LUUYrIsq4sX8+fv7S5XjznY2mR4SZ4R0YzJCyLOPPb8cX\\\n",
       "8WrH/76eaMWd0Zn4ePCTvF9WwEMgYDBDyoh4/5PNL+L1ZUWsLK/G8uL0SR1wXAkYzJjBYCfaxf7X\\\n",
       "Vst48fx8PHmq+snNcBwJGMyY3c8vxePDv8Rc0Y+IMopyP1ZGF+PU+E03M8OXHJuLOK5du9b0CBxj\\\n",
       "t2/fPvTPbtzYiu3rb8V++UH843LE9VvXY+fWu/Gfm3die3dwqD+j1+v5N8+hnDlzpukRjuzYBOyN\\\n",
       "N95oegSOsStXrhz6Z0fjSfz+j3+NMsoYj8uYHOFd16VLl/yb51Bee+21pkc4MidxQA3eeuutQ93I\\\n",
       "/E1xIzMPIO3Frb4DAyAlAQMgJQEDICUBAyAlAQMgJQEDIKVjcx8YNGl9fT1eeeWV2n7fhQsXavtd\\\n",
       "0BT3gQEcb+4DA4A6CRgAKQkYACkJGAApCRgAKQkYACkJGAApCRgAKQkYACkJGAApCRgAKQkYACkJ\\\n",
       "GAApCRgAKQkYACkJGAApCRgAKQkYACkJGAApCRgAKQkYACkJGAApCRgAKQkYACkJGAApCRgAKQkY\\\n",
       "ACkJGAApCRgAKQkYACkJGAApCRgAKQkYACkJGAApCRgAKQkYACkJGAApCRgAKQkYACkJGAApCRgA\\\n",
       "KQkYACkJGAApCRgAKQkYACl1mh6gRkXTAwDwzfEODICUBAyAlAQMgJQEDICUBAyAlAQMgJQEDICU\\\n",
       "BAyAlAQMgJQEDICUBAyAlAQMgJQEDICUBAyAlAQMgJQEDICUBAyAlAQMgJQEDICUBAyAlAQMgJQE\\\n",
       "DICUBAyAlAQMgJQEDICUBAyAlAQMgJQEDICUBAyAlAQMgJQEDICUBAyAlAQMgJQEDICUBAyAlP4L\\\n",
       "e3gdAxQhRUsAAAAASUVORK5CYII=\\\n",
       "\"\n",
       "  frames[44] = \"data:image/png;base64,iVBORw0KGgoAAAANSUhEUgAAAbAAAAEgCAYAAADVKCZpAAAAOXRFWHRTb2Z0d2FyZQBNYXRwbG90\\\n",
       "bGliIHZlcnNpb24zLjUuMiwgaHR0cHM6Ly9tYXRwbG90bGliLm9yZy8qNh9FAAAACXBIWXMAAAsT\\\n",
       "AAALEwEAmpwYAAAKnElEQVR4nO3dy3Ic5RmA4a/noIN1sDE2NuYQAqQgpFJJkdOGgmySRe4iF8EF\\\n",
       "ZJULoYoNm3AFKSrxKkUCxAkVEg42Bx+xrbE10mimu7NgQzJtLLlw93zW8yz7l6XPC9Wrmfn776Ku\\\n",
       "6wCAbHpdDwAA90LAAEhJwABIScAASEnAAEhJwABIScAASEnAAEhJwABIScAASEnAAEhJwABIScAA\\\n",
       "SEnAAEhJwABIScAASEnAAEhJwABIScAASEnAAEhJwABIScAASEnAAEhJwABIScAASEnAAEhJwABI\\\n",
       "ScAASEnAAEhJwABIScAASEnAAEhJwABIScAASGnQ9QAtqrseAGABFV0PcK+8AgMgJQEDICUBAyAl\\\n",
       "AQMgJQEDICUBAyAlAQMgJQEDICUBAyAlAQMgJQEDICUBAyAlAQMgJQEDICUBAyAlAQMgJQEDICUB\\\n",
       "AyAlAQMgJQEDICUBAyAlAQMgJQEDICUBAyAlAQMgJQEDICUBAyAlAQMgJQEDICUBAyAlAQMgJQED\\\n",
       "ICUBAyAlAQMgJQEDICUBAyAlAQMgJQEDICUBAyAlAQMgJQEDICUBAyAlAQMgJQEDICUBAyAlAQMg\\\n",
       "JQEDICUBAyAlAQMgJQEDICUBAyAlAQMgJQEDICUBAyAlAQMgJQEDICUBAyAlAQMgJQEDICUBAyAl\\\n",
       "AQMgJQEDICUBAyAlAQMgJQEDICUBAyAlAQMgJQEDICUBAyAlAQMgJQEDICUBAyAlAQMgJQEDICUB\\\n",
       "AyAlAQMgJQEDICUBAyAlAQMgJQEDICUBAyAlAQMgJQEDICUBAyAlAQMgJQEDICUBAyAlAQMgJQED\\\n",
       "ICUBAyAlAQMgJQEDIKVB1wPAYVDN9mI2Gcds93bs3LgY42sXoj9cjkdf/E0Uhb8j4V4IGNxn29cu\\\n",
       "xOd/eTMmo6sxufVl1OU0IiKOnHgyTr7wSgxXNzqeEHISMLjPpts3Y+vCuYio/+f6+NqFmIyuCBjc\\\n",
       "I+9dwH22+tCZWN54uHGtKsuWp4EHh4DBfTZcOxqDlfXGtcnoasvTwINDwOA+6/WHUfT7jWs3Pv5r\\\n",
       "y9PAg0PAoAUbZ55vvF5OxlHXVcvTwINBwKAFG6efbbw+270d0/Go5WngwSBg0IL+0mpEUcxd3926\\\n",
       "HONr5zuYCPITMGjB0vrxWD32aONaXVVR13XjGnBnAgYtGKysx3DtWOPa5Na1doeBB4SAQQt6/UH0\\\n",
       "BkuNa9c/ejv+/yZn4O4EDFqy8ej3Gq+Xk3GEtxDhwAQMWrJ+6pmImN/IUc32YrpjJyIclIBBS77a\\\n",
       "iTh/fbZ7O8bXLrQ/ECQnYNCS/nAlltaOz12vZnuxN96yExEOSMCgJYPVjVg/9XTj2t7tG2EjBxyM\\\n",
       "gEFLev1B9IcrjWs3Pno76nLW8kSQm4BBi9ZOPR3R8ARmZyLCwQkYtGjtke9G0Zs/mb6uSmciwgEJ\\\n",
       "GLRosLIWRcOZiOV0N25f+k8HE0FeAgYt6vUHsbxxYu56XZUxuX3dTkQ4AAGDFvWHK7Hx2HONa9Px\\\n",
       "KMLnYLBvAgZtKnoxWF5rXLr5yTsxm4xbHgjyEjBoUVEUceTEk9HrD+fWyr0dOxHhAAQMWnbk4Sca\\\n",
       "T6av6ypmdiLCvgkYtGywsh7RuJV+Fluf/bODiSAnAYOWFUUvVo6enF+o65iMrtqJCPskYNCyot+P\\\n",
       "zcdeaFybTbajrhwpBfshYNC6IoZHNhtXdm5cjHKy0/I8kJOAQcuKooj+0mrjkVK7Ny/GbM9WetgP\\\n",
       "AYMObJ55PoZHjjWuzXZutTsMJCVg0IHBynr0+oP5hbqOm+ffa38gSEjAoAtFxPLRRxqXdrcu24kI\\\n",
       "+yBg0Ikijj7+g8aVajqJupy2PA/kI2DQkeH6scbrk9FVzwaDfRAw6EBRFNEfrkTR8DnY5Na1mI63\\\n",
       "OpgKchEw6Mjaie/EytFTjWuzyXbL00A+AgYd6S8fid5wuXHtxifvtDsMJCRg0JGiKGJls+FMxIjY\\\n",
       "vXnJTkS4CwGDDt3pTMS6nNmJCHchYNChpY2HG6/vbd+Myehay9NALgIGHeoPlqJoeDrzdHwzJqOr\\\n",
       "HUwEeQgYdGj56CNx5MQTjWuzvR2fg8E3EDDoUH9pNQbLa41rO9c/a3kayEXAoENFUTQ+ViUiYuvT\\\n",
       "f0SEV2BwJwIGHTv+7M8ar1flLKqZnYhwJwIGHVs9diYiirnr5e7t2LnxRfsDQRICBh3rDYaNJ3LM\\\n",
       "Jtux8+XnHUwEOQgYdGx4ZDPWTz3TuFbOdu1EhDsQMOhYb7AcS2tHG9d2rl+MqKuWJ4IcBAw69tVO\\\n",
       "xPnHqkREjD49F3VVtjwR5CBgsACOPfXjxu30VVVG5UxEaCRgsABWj5+Jopj/daxmk9i+er6DiWDx\\\n",
       "CRgsgF5/EL2l1bnr1XQS25c/7mAiWHwCBgugP1yNzTPPNa5V5Z6diNBAwGABFP3BHR+tsnvzsmeD\\\n",
       "QQMBgwVQFEX0Gh6rEhEx+vz9KKeTlieCxSdgsCA2H38hesOVuet1VdmJCA0EDBbE6rFTja/C6rqM\\\n",
       "ydaVDiaCxdZ89yTwrTp37lyMRqNv/JqimkV/Np071rcuZ/HB23+MvfPX9/Wz+v1+vPjiizEcNr8l\\\n",
       "CQ+K4hDtbjo0/1EWz0svvRRnz579xq8Z9Hvxu9/+Mn710/lzEf/wp/fj96//Ofbz67qxsREffvhh\\\n",
       "nDx58h6n5ZCZfxRCEt5ChAUxK6t476PLERGxXW7GB9s/ife3fxHXp6fj0RObsbrsFRV8nbcQYYHs\\\n",
       "7pUxmj4Uf7v16xhXmxER8enu9+O5J1fi+MbZGO9udTwhLA6vwGCB/P3DK/HWxZ/HuDoaX72zU0RZ\\\n",
       "L8X741diVjSfWA+HlYDBAvn8y1sx2pn/SKKqB/HYyWPtDwQLTMBggexNy1gu5ncrrvR345UfPdbB\\\n",
       "RLC4BAwWSV3F3hevx/HhF1FEGRFVFLPr8Xj1ZvRKn3/B1x2aTRyXLl3qegQOsel0fydp1BHx7r/+\\\n",
       "HT986vV456OV+OCzUYy3PohLly/Epeu39/c96jquXLkSZelBmNzd6dOnux7hnh2agL322mtdj8Ah\\\n",
       "duXK/k/SeOvd83H23KdRllWU1cFvX5xOp/HGG2/E2tragf8th8+rr77a9Qj3zI3M0IL93Mj8bXEj\\\n",
       "MwfkRmYAaJOAAZCSgAGQkoABkJKAAZCSgAGQ0qG5Dwy69PLLL7e2rX11dTWWlpZa+VnQJfeBARxu\\\n",
       "7gMDgDYJGAApCRgAKQkYACkJGAApCRgAKQkYACkJGAApCRgAKQkYACkJGAApCRgAKQkYACkJGAAp\\\n",
       "CRgAKQkYACkJGAApCRgAKQkYACkJGAApCRgAKQkYACkJGAApCRgAKQkYACkJGAApCRgAKQkYACkJ\\\n",
       "GAApCRgAKQkYACkJGAApCRgAKQkYACkJGAApCRgAKQkYACkJGAApCRgAKQkYACkJGAApCRgAKQkY\\\n",
       "ACkJGAApCRgAKQ26HqBFRdcDAPDt8QoMgJQEDICUBAyAlAQMgJQEDICUBAyAlAQMgJQEDICUBAyA\\\n",
       "lAQMgJQEDICUBAyAlAQMgJQEDICUBAyAlAQMgJQEDICUBAyAlAQMgJQEDICUBAyAlAQMgJQEDICU\\\n",
       "BAyAlAQMgJQEDICUBAyAlAQMgJQEDICUBAyAlAQMgJQEDICUBAyAlAQMgJQEDICU/gtaehekSb3c\\\n",
       "tQAAAABJRU5ErkJggg==\\\n",
       "\"\n",
       "  frames[45] = \"data:image/png;base64,iVBORw0KGgoAAAANSUhEUgAAAbAAAAEgCAYAAADVKCZpAAAAOXRFWHRTb2Z0d2FyZQBNYXRwbG90\\\n",
       "bGliIHZlcnNpb24zLjUuMiwgaHR0cHM6Ly9tYXRwbG90bGliLm9yZy8qNh9FAAAACXBIWXMAAAsT\\\n",
       "AAALEwEAmpwYAAAKeElEQVR4nO3dS28dZxnA8WfOxT5O7DS3NmmqlpKqSiVaEC1ILFggZcGCLQs+\\\n",
       "Bpt+EBZ8AKhUsWCBhEBiwxIVsaAVLQWatrRp01zqJHbs48s5M8MirHrGiWM1M+exfz8pm/e1kqdS\\\n",
       "o3/mnJl3irquAwCy6XU9AAAchIABkJKAAZCSgAGQkoABkJKAAZCSgAGQkoABkJKAAZCSgAGQkoAB\\\n",
       "kJKAAZCSgAGQkoABkJKAAZCSgAGQkoABkJKAAZCSgAGQkoABkJKAAZCSgAGQkoABkJKAAZCSgAGQ\\\n",
       "koABkJKAAZCSgAGQkoABkJKAAZCSgAGQkoABkJKAAZCSgAGQ0qDrAVpUdz0AwBwquh7goFyBAZCS\\\n",
       "gAGQkoABkJKAAZCSgAGQkoABkJKAAZCSgAGQkoABkJKAAZCSgAGQkoABkJKAAZCSgAGQkoABkJKA\\\n",
       "AZCSgAGQkoABkJKAAZCSgAGQkoABkJKAAZCSgAGQkoABkJKAAZCSgAGQkoABkJKAAZCSgAGQkoAB\\\n",
       "kJKAAZCSgAGQkoABkJKAAZCSgAGQkoABkJKAAZCSgAGQkoABkJKAAZCSgAGQkoABkJKAAZCSgAGQ\\\n",
       "koABkJKAAZCSgAGQkoABkJKAAZCSgAGQkoABkJKAAZCSgAGQkoABkJKAAZCSgAGQkoABkJKAAZCS\\\n",
       "gAGQkoABkJKAAZCSgAGQkoABkJKAAZCSgAGQkoABkJKAAZCSgAGQkoABkJKAAZCSgAGQkoABkJKA\\\n",
       "AZCSgAGQkoABkJKAAZCSgAGQkoABkJKAAZCSgAGQkoABkJKAAZCSgAGQkoABkJKAAZCSgAGQkoAB\\\n",
       "kJKAAZCSgAGQkoABkJKAAZCSgAGQ0qDrAeCwK3e3Yrz6WUzGa7E7XovJ/38trpyNC6/9JIrCvyPh\\\n",
       "IAQMHrP1a/+JK3/65cz68XMX49wrl2OweKyDqSA///SDx6woiogoZta3796I3c077Q8Eh4SAwWN2\\\n",
       "7OxzMTp5bma93NmMcnerg4ngcBAweMyGSyeiv8fHhJPxesvTwOEhYPCYFb3e/z9GnLV58+OWp4HD\\\n",
       "Q8CgBSsXXmpc37hxpeVJ4PAQMGjB8rmLjet1WUZVTlqeBg4HAYMW9BeWGtenO5u+B4MDEjBowWDh\\\n",
       "WAxGyzPrO+tfxtbtzzuYCPITMGjBwvLpGJ16umGnjqqcRl3Xrc8E2QkYtKA3XIzBQvOt9Lsbqy1P\\\n",
       "A4eDgEELiqLY83uwu/99OyJcgcGjEjBoyclvfCeajpSabN3TLzgAAYOWLD7xVON6XU4dKQUHIGDQ\\\n",
       "kt5gGNFwIsdkeyPGq1c7mAhyEzBoyWC0HMfOPjezXk22Y2f9ljsR4REJGLSkPxzF4srZxr1qutvy\\\n",
       "NJCfgEFLev1BDPa4E3Fz9WpEXbU8EeQmYNCi3nChcX396ntRldOWp4HcBAxadOria1H0B7MbdX3/\\\n",
       "F7BvAgYtWlw+E0Ux+9euqsrY3bzb/kCQmIBBm3rNf+XKnXHc/fSdloeB3AQMWtQfjmLlwqWGnTqq\\\n",
       "qfeCwaMQMGhRbzCMpcZT6e9fhdWVOxFhvwQMWlVEb9B8J+LW3S+8nRkegYBBi4qiiNHJ8413Im5c\\\n",
       "vxLVZKeDqSAnAYOWLT91MXqDxdmNunYFBo9AwKBlg6XlKHr9mfW6rmJn/VYHE0FOAgYtK4peDEfL\\\n",
       "M+t1OY21T9/tYCLIScCgZUVvECee/Vbj3nR3y6n0sE8CBm0rilhcOdO4Nd2+F7XvwWBfBAxaVhR7\\\n",
       "30q/eeuTmGxvtDwR5CRg0IHjTz4fg6WVmfXJ+K53g8E+CRh0YGH5TPSHo8a9cmez5WkgJwGDDvSH\\\n",
       "i1E0Hexb17Fx46P2B4KEBAy6UEQMFmdvpY+IuPfFBy0PAzkJGHSiiNMvfK9xp65Kh/rCPggYdGS4\\\n",
       "fKpxfTJej6nvweChBAw6UBRF45uZIyLGq586Ugr2QcCgI8fOPBuLJ56c3ajrqGsfIcLDCBh0ZHjs\\\n",
       "iRgsHm/cm2zebXcYSEjAoCO9/qD5VvqIuP3h31qeBvIRMOjQ8XMvNK5Ptu451BceQsCgQyt7BKwu\\\n",
       "pw71hYcQMOhQ03mIERHTnc2YbK23PA3kImDQof7CKPoLSzPrO/e+jK071zuYCPIQMOjQwvKZGJ18\\\n",
       "enajrqOa7voeDB5AwKBD/YVRDEbNt9LvrN9seRrIRcCgQ0XR2/O1KmtX34sIV2CwFwGDjj3x3MuN\\\n",
       "65Pxun7BAwgYdGx08nxEFDPrVTlxqC88gIBBxx70Zuat29dangbyEDDoWK8/aLyRo9zdcio9PICA\\\n",
       "QceGx07G8vkXG/fKyZZb6WEPAgYdK/qDGIyONe6NVz+P8GoVaCRg0LGiKKLXHzburX/2z6irsuWJ\\\n",
       "IAcBgzlw8vnvRtEbzG7UVVQCBo0EDObA6MSTEUXDrfRVGZONOx1MBPNPwGAOFP1BFA0BK3fHsfbZ\\\n",
       "ex1MBPOv4TML4OtS13W88847MR6PH/xz5W5UsRyjuP3V3yA++fjD+HhzeV93Iy4sLMSrr74avT3e\\\n",
       "9AyHSXGEbtE9Mv+hzI+yLOOVV16J999//4E/1yuK+PlPfxA/uzx7rNRv/vxu/OK3b0VZPfx/4QsX\\\n",
       "LsSVK1diaWn2FS2wh9lL/yRcgcEcqOo6NrZ3o64jNspTcW3nhaijF08vfBTff+mZWFocxsbWbtdj\\\n",
       "wlwRMJgT1768F7e2z8a7Wz+Oner+c2GfbV+KF1f6Mez/oePpYP74oBzmxNsfrsZfV38YO9XxuP+p\\\n",
       "ThGTein+sfGj6A2b3xkGR5mAwZy4tbYV29P+zHrRW4yXv3mug4lgvgkYzImqKmO6c3tmfWVhO159\\\n",
       "8akOJoL5JmAwJ6pyN3au/iqeGNyMIsqIKKM/vRHPTH8X9zbWuh4P5s6RuYnj+vXrXY/AEVSWZUyn\\\n",
       "0/39bFXHteufxLdXfx1//2gUV67difGdf8UXN6/FzTv7e7FlVVVx48aNGI2a3zEGX3X+/PmuRziw\\\n",
       "IxOwN954o+sROILquo61tf1fPf3+L/+OP771QZRVta/nvr5qPB7Hm2++GcNh8+HA8FWvv/561yMc\\\n",
       "mAeZ4THa74PMXxcPMnMAaR9k9h0YACkJGAApCRgAKQkYACkJGAApCRgAKR2Z58CgC0VRxOXLl+PS\\\n",
       "pUut/HmnT5+Ofn/2PEU4jDwHBnC0eQ4MANokYACkJGAApCRgAKQkYACkJGAApCRgAKQkYACkJGAA\\\n",
       "pCRgAKQkYACkJGAApCRgAKQkYACkJGAApCRgAKQkYACkJGAApCRgAKQkYACkJGAApCRgAKQkYACk\\\n",
       "JGAApCRgAKQkYACkJGAApCRgAKQkYACkJGAApCRgAKQkYACkJGAApCRgAKQkYACkJGAApCRgAKQk\\\n",
       "YACkJGAApCRgAKQkYACkJGAApCRgAKQkYACkJGAApDToeoAWFV0PAMDXxxUYACkJGAApCRgAKQkY\\\n",
       "ACkJGAApCRgAKQkYACkJGAApCRgAKQkYACkJGAApCRgAKQkYACkJGAApCRgAKQkYACkJGAApCRgA\\\n",
       "KQkYACkJGAApCRgAKQkYACkJGAApCRgAKQkYACkJGAApCRgAKQkYACkJGAApCRgAKQkYACkJGAAp\\\n",
       "CRgAKQkYACkJGAAp/Q81hg5Bh34HUAAAAABJRU5ErkJggg==\\\n",
       "\"\n",
       "  frames[46] = \"data:image/png;base64,iVBORw0KGgoAAAANSUhEUgAAAbAAAAEgCAYAAADVKCZpAAAAOXRFWHRTb2Z0d2FyZQBNYXRwbG90\\\n",
       "bGliIHZlcnNpb24zLjUuMiwgaHR0cHM6Ly9tYXRwbG90bGliLm9yZy8qNh9FAAAACXBIWXMAAAsT\\\n",
       "AAALEwEAmpwYAAAKMElEQVR4nO3dS28dZxnA8WfOxbc4dtKUNiVqCiggqlBFQsAaVqh7vgE7xIJN\\\n",
       "t3wAtvAN2gVL2MEaJFR1USmt6EVV24gmcZs0dmwfH/vchkVW7RknttXO6yf+/ZbvWPJjydbfZy7v\\\n",
       "VHVdBwBk0yk9AACchIABkJKAAZCSgAGQkoABkJKAAZCSgAGQkoABkJKAAZCSgAGQkoABkJKAAZCS\\\n",
       "gAGQkoABkJKAAZCSgAGQkoABkJKAAZCSgAGQkoABkJKAAZCSgAGQkoABkJKAAZCSgAGQkoABkJKA\\\n",
       "AZCSgAGQkoABkJKAAZCSgAGQkoABkJKAAZCSgAGQUq/0AC2qSw8AcApVpQc4KZ/AAEhJwABIScAA\\\n",
       "SEnAAEhJwABIScAASEnAAEhJwABIScAASEnAAEhJwABIScAASEnAAEhJwABIScAASEnAAEhJwABI\\\n",
       "ScAASEnAAEhJwABIScAASEnAAEhJwABIScAASEnAAEhJwABIScAASEnAAEhJwABIScAASEnAAEhJ\\\n",
       "wABIScAASEnAAEhJwABIScAASEnAAEhJwABIScAASEnAAEhJwABIScAASEnAAEhJwABIScAASEnA\\\n",
       "AEhJwABIScAASEnAAEhJwABIScAASEnAAEhJwABIScAASEnAAEhJwABIScAASEnAAEhJwABIScAA\\\n",
       "SEnAAEhJwABIScAASEnAAEhJwABIScAASEnAAEhJwABIScAASEnAAEhJwABIScAASEnAAEhJwABI\\\n",
       "ScAASEnAAEhJwABIScAASEnAAEhJwABIScAASEnAAEhJwABIScAASEnAAEhJwABIScAASEnAAEhJ\\\n",
       "wABIScAASEnAAEipV3oAOEvquo7peD/Gg62Iuo7lZ75beiRIS8CgBcMHd2Jn46MYfPFxDDfvxmh3\\\n",
       "M5YvXYkf/vp30en2S48HKQkYtODTf70RuxsffWWtt3QuJgd7sbCyXmgqyM01MGhBVc3/qQ0f3I7R\\\n",
       "zv0C08DTQcCgBWsvXm9cr+u65Ung6SFg0IKlteca16cHey1PAk8PAYMW9FfWGtcH9z5tdxB4iggY\\\n",
       "tKHhGlhExPbt91oeBJ4eAgYt6C+vxsK5i/MHatfB4KQEDFrQX16LhfOX5tZn00nMJqMCE0F+AgYt\\\n",
       "6PQWo7uwPLc+He3FZH+3wESQn4BBC6pOJ6pOd279YOfLGG7eLTAR5Cdg0JLe0ur8Yj2LejZxHQxO\\\n",
       "QMCgJReuvhIR1dz6ZH/Q/jDwFBAwaMnC6jON604hwskIGLSk01to+gAWD//3bkQ4hQjHJWDQlqqK\\\n",
       "xoLVM/2CExAwaEl/eS1Wn//B3Ho9m8Z0PCwwEeQmYNCSTn+x8TrY5GAv9h9+UWAiyE3AoCWdTje6\\\n",
       "vcW59enBIIZfflZgIshNwKBFVa/fuF5H7VkwOCYBgxatXXm5cUcOz4LB8QkYtGjx/KXGV6scbN9/\\\n",
       "dDcicGQCBi3qLa1GVc3fSr99+79Rz6YFJoK8BAza1BCviIh6OnYNDI5JwKBF3d5CrDz70tx6PZvF\\\n",
       "9MB1MDgOAYMWVd1+LF+8PLc+m05if/tegYkgLwGDFlWdbvSWzs+tz8b7sXv3owITQV4CBi2qqqrx\\\n",
       "NvoIz4LBcQkYtKy/sn7Is2C7bqWHYxAwaNnq5WvRadhSavjgdswm4wITQU4CBi1bWFmPqjv/CWzw\\\n",
       "xacxm4wKTAQ5CRi0rOr2ovG9YPHoOhhwNAIGBXSabuSoZzEZ7rQ/DCQlYNCyTrcX6y/dmFuv6/rR\\\n",
       "nojAkQgYtK3qxNLas3PL9WwS23feLzAQ5CRg0LKqqqLTX2o8Zk9EODoBgwI6vYXG16pMDvaink0K\\\n",
       "TAT5CBgUcO47L0V/aXVufbT7IKbjgwITQT4CBgX0V9YefQr7msG9W4925ACeSMCggG5/+ZA9EesI\\\n",
       "18DgSAQMSml6uWUdMR5utz8LJCRgUEJVxdqVHzccqGPv3q3Wx4GMBAwKWbrwQuP6zob3gsFRCBgU\\\n",
       "0l9ZP+SI94LBUQgYFFBVVVRN18AiYjratys9HIGAQSH95bXoLizPre9vfR7jwVb7A0EyAgaFLK4/\\\n",
       "F/1zF+fWx3tbngWDIxAwKKS3uBLd/vybmSMi6nrW8jSQj4BBIVWne+h1sPGeZ8HgSQQMCjpsV/rh\\\n",
       "5p2WJ4F8BAwKuvj9nzaub9/2XjB4EgGDghbPX2o+UM88CwZPIGBQUKfXfBPHdDKK6WjY8jSQi4BB\\\n",
       "QZ1evzFik+F2jHY3C0wEeQgYFLSw+kwsXXh+bn289zBGO/cLTAR5CBgU1F1Yit7iucZjdW1PRHgc\\\n",
       "AYOCqk4vOr1+47HRnlOI8DgCBgVVVRVRNf8Z7tz5sOVpIBcBg8LWX7zeuD58cCcinEKEwwgYFLa0\\\n",
       "/nxENG0pVUe4BgaH6pUeAJ5W0+k03n777RiNHv9ur2p/K7pRzyVsfziIt/7z75hUzdfIvm5lZSVu\\\n",
       "3Lhx6P6K8LSpztBdTmfmB+V0GAwGce3atdjY2Hjs133v8oX46x9/E53OV8OzuTOMP/zlH/HeraPd\\\n",
       "Tn/9+vW4efNmdDpOrHAsaf/j8ZsOhe0OR/HZvYdR1xFb42fj/cEv4oPBz6K3/EJcu3LIVlOAU4hQ\\\n",
       "2s7eQXxy92EsXXwlbu78Ksb1o5057hz8KIbVWxHxQdkB4ZTyCQwKOxhP495uFe/s/DLG9VI8OqNT\\\n",
       "xf5sNV7++e+j11soPSKcSgIGp8B0FjGp50+ILC6sROJLFPCtEjA4BXYGe7FYDebWl7q7UVXuP4Im\\\n",
       "AganwJvvfhg/WflnrHY3o4pZRD2Jev9WPHfwt6jqaenx4FQ6MzdxPOlWZvim7e3txWw2O9LXbjzY\\\n",
       "jQf3P46HG3+ONz9ZjPtbg9i6907c3rgbo8nRAjaZTGJjY8Nt9BzL5cuXS49wYmcmYK+//nrpEThj\\\n",
       "RqNRDIdHeynl55uD+O2f/h7TWR3T2exEG3BsbW3FG2+84UFmjuW1114rPcKJeZAZviVHfZD5m+JB\\\n",
       "Zk4o7X88ftMBSEnAAEhJwABIScAASEnAAEhJwABI6cw8BwZt63a78eqrr8bm5mYr3+/q1autfB84\\\n",
       "LTwHBnC2eQ4MANokYACkJGAApCRgAKQkYACkJGAApCRgAKQkYACkJGAApCRgAKQkYACkJGAApCRg\\\n",
       "AKQkYACkJGAApCRgAKQkYACkJGAApCRgAKQkYACkJGAApCRgAKQkYACkJGAApCRgAKQkYACkJGAA\\\n",
       "pCRgAKQkYACkJGAApCRgAKQkYACkJGAApCRgAKQkYACkJGAApCRgAKQkYACkJGAApCRgAKQkYACk\\\n",
       "JGAApCRgAKQkYACkJGAApNQrPUCLqtIDAPDN8QkMgJQEDICUBAyAlAQMgJQEDICUBAyAlAQMgJQE\\\n",
       "DICUBAyAlAQMgJQEDICUBAyAlAQMgJQEDICUBAyAlAQMgJQEDICUBAyAlAQMgJQEDICUBAyAlAQM\\\n",
       "gJQEDICUBAyAlAQMgJQEDICUBAyAlAQMgJQEDICUBAyAlAQMgJQEDICUBAyAlAQMgJQEDICU/g9w\\\n",
       "F/fkeOJOJgAAAABJRU5ErkJggg==\\\n",
       "\"\n",
       "  frames[47] = \"data:image/png;base64,iVBORw0KGgoAAAANSUhEUgAAAbAAAAEgCAYAAADVKCZpAAAAOXRFWHRTb2Z0d2FyZQBNYXRwbG90\\\n",
       "bGliIHZlcnNpb24zLjUuMiwgaHR0cHM6Ly9tYXRwbG90bGliLm9yZy8qNh9FAAAACXBIWXMAAAsT\\\n",
       "AAALEwEAmpwYAAAJ10lEQVR4nO3dO48dZxnA8WfOZW/HZmMnJg4kSkCCIlGUdJaoEKKgTIX4BCgF\\\n",
       "JfkMNHyB1JHSUFKYFlGQLkjISpATR8QxWeM4Xu/l7NlzmaFwKIhn5bOb8M4+u7+fZFmaWes8K3n1\\\n",
       "3znzznuqpmkCALLpdT0AAJyEgAGQkoABkJKAAZCSgAGQkoABkJKAAZCSgAGQkoABkJKAAZCSgAGQ\\\n",
       "koABkJKAAZCSgAGQkoABkJKAAZCSgAGQkoABkJKAAZCSgAGQkoABkJKAAZCSgAGQkoABkJKAAZCS\\\n",
       "gAGQkoABkJKAAZCSgAGQkoABkJKAAZCSgAGQkoABkJKAAZDSoOsBCmq6HgDgFKq6HuCkXIEBkJKA\\\n",
       "AZCSgAGQkoABkJKAAZCSgAGQkoABkJKAAZCSgAGQkoABkJKAAZCSgAGQkoABkJKAAZCSgAGQkoAB\\\n",
       "kJKAAZCSgAGQkoABkJKAAZCSgAGQkoABkJKAAZCSgAGQkoABkJKAAZCSgAGQkoABkJKAAZCSgAGQ\\\n",
       "koABkJKAAZCSgAGQkoABkJKAAZCSgAGQkoABkJKAAZCSgAGQkoABkJKAAZCSgAGQkoABkJKAAZCS\\\n",
       "gAGQkoABkJKAAZCSgAGQkoABkJKAAZCSgAGQkoABkJKAAZCSgAGQkoABkJKAAZCSgAGQkoABkJKA\\\n",
       "AZCSgAGQkoABkJKAAZCSgAGQkoABkJKAAZCSgAGQkoABkJKAAZCSgAGQkoABkJKAAZCSgAGQkoAB\\\n",
       "kJKAAZCSgAGQkoABkJKAAZCSgAGQkoABkJKAAZCSgAGQkoABkJKAAZCSgAGQkoABkJKAAZCSgAGQ\\\n",
       "koABkJKAAZCSgAGQkoABkNKg6wHgPGiaJur5YSxmh1HP/vv3JNYvPx+D1fWux4OUBAwKuP3XP8T+\\\n",
       "vz+JxWzy6M90EvVsEj/6xW9i84VXuh4PUhIwKGD/3iexd/fjx45P97fLDwNnhHtgUEBV9VuP723d\\\n",
       "LDwJnB0CBgV85/mXW49PHt4tPAmcHQIGBaxcuHzkuaZpCk4CZ4eAQQHDjc3W401dR1PXhaeBs0HA\\\n",
       "oIDeYKX1eD2bxmJ2UHgaOBsEDDq0mB3EfLLX9RiQkoBBAYPVUevbiNO9L+PQQg44EQGDAoYbF2Pl\\\n",
       "wtOt56zhgJMRMCigN1iN/kr7llFNvbASEU5AwKCAqteP3qB945vZwcPC08DZIGBQQFVVEVG1npts\\\n",
       "uwcGJyFgUMhRS+l3PvsgIryFCMclYFDIUy++Fu1XYeIFJyFgUMjK6NLRJy3igGMTMChksDZqvQBr\\\n",
       "FvOYT+3GAcclYFBM+yKOejGL+WS/8CyQn4BBIVWv17qQYz7Zi4P7tzuYCHITMChksHYhRs+8+Njx\\\n",
       "pl7EwluIcGwCBoX0+sPor42OPG83DjgeAYNCqv4gBisbrefmh+PC00B+AgaFVFUVVdX+IzcbP7SU\\\n",
       "Ho5JwOAUePjp36Op512PAakIGBQ0uvrDiJarsMVs4h4YHJOAQUHrTz0XVa/f9RhwJggYFDTc2Pxq\\\n",
       "Z/r/1TR11PNpBxNBXgIGBVX99s8Ea+pFzA52C08DuQkYnAL1fBaT7c+7HgNSETAoqD9YidGVlx47\\\n",
       "3ixmcfBAwOA4BAwKqvqDWLnwdNdjwJkgYFBQ1evHcONi67lmMbOUHo5BwKCoqnVH+oiI2cFuNPWi\\\n",
       "8DyQl4BBQY+W0Ld/LthsvCNgcAwCBoUNN77TuhvH3t2Po54fdjAR5CRgUNjoyg+iP1x97HizmEe4\\\n",
       "BQZLEzAobLh+8YjtpJqobegLSxMwKKy/ut76FmLTNDG3GwcsTcCguPZFHNE0Md37suwokJiAQQda\\\n",
       "N/St57Fz54MOpoGcBAwK6/UHsfnCK63nmrouPA3kJWBQWlUdvZ1U09iNA5YkYFBcFcP19u2k5tOD\\\n",
       "aKxEhKUIGBRWVVXrKsSIiPlkL+qFgMEyBAw6UPV60bYacfLgX7E4HJcfCBISMOjA6MqLMVi78Njx\\\n",
       "2WQ36sWsg4kgHwGDDgzWLkZvMGw/aQ0HLEXAoAOD1VFU/UHrufnhfuFpICcBgw5UvX7rw8zRRMzG\\\n",
       "28XngYwEDE6VJnbufNj1EJCCgEEXqoj1y8+3npqNHxYeBnISMOhEFaMrLx151m4c8GQCBh0Zbmy2\\\n",
       "Hq8Xs2jqReFpIB8Bg460fSpzRMRiehD1fFp4GshHwKADrSsQvzIf79iNA5YgYNCRlQuXW3fjONz9\\\n",
       "wkIOWIKAQUeGG5sxWB11PQakJWDQkf7KevSOuA9mP0R4MgGDjvQGK0duJzX1FiI8kYBBR6qqavlA\\\n",
       "lUcO7n9WdBbIqP3XP+AbuXXrVmxtbT3x68Z370fb02Cf33w/btfPLf16r776aly82P4pz3BWVefo\\\n",
       "if9z843SvTfffDPefvvtJ37dL3/6Svz2Vz957PjfPtqKX//+j0u/3nvvvRfXrl071ozwlaOf6Tjl\\\n",
       "XIFBh+49fPTRKYf1WtyZ/Dgm9SguDz+PiHvRq6qoz88vmHBsAgYd2t6bxGSxEe/v/jy259+NiCo+\\\n",
       "nbwcTd3EaP1PsTuedD0inFoWcUCH6rqJf4yvxfb82Xj041hFE/2oN38Wz37/ta7Hg1NNwKBj82YY\\\n",
       "X78N0esPo9db6WYgSELAoEN3H+zHvS/uxNfXGPWraQx7h90MBUkIGHRoZ38Sz8z/HN9b/Sh6MYto\\\n",
       "6lhMd+Ly5HqsLW53PR6caudmEccyz+TAt2U8Xm43+YPpPLa++DKenr8bNz5Zi1tbsxjv/jPufPZh\\\n",
       "PNhbfgHH/fv3/R/nRK5evdr1CCd2bgL2zjvvdD0C58jNmzeX+rqmifjdu3+JiIjFojnxsvnr16/H\\\n",
       "jRs3TvRvOd/eeuutrkc4MQ8yw//Bsg8yf1s8yMw3kPZBZvfAAEhJwABIScAASEnAAEhJwABIScAA\\\n",
       "SOncPAcGJb3++uvxxhtvFHu9S5cuFXstOC08BwZwvnkODABKEjAAUhIwAFISMABSEjAAUhIwAFIS\\\n",
       "MABSEjAAUhIwAFISMABSEjAAUhIwAFISMABSEjAAUhIwAFISMABSEjAAUhIwAFISMABSEjAAUhIw\\\n",
       "AFISMABSEjAAUhIwAFISMABSEjAAUhIwAFISMABSEjAAUhIwAFISMABSEjAAUhIwAFISMABSEjAA\\\n",
       "UhIwAFISMABSEjAAUhIwAFISMABSEjAAUhIwAFISMABSEjAAUhIwAFIadD1AQVXXAwDw7XEFBkBK\\\n",
       "AgZASgIGQEoCBkBKAgZASgIGQEoCBkBKAgZASgIGQEoCBkBKAgZASgIGQEoCBkBKAgZASgIGQEoC\\\n",
       "BkBKAgZASgIGQEoCBkBKAgZASgIGQEoCBkBKAgZASgIGQEoCBkBKAgZASgIGQEoCBkBKAgZASgIG\\\n",
       "QEoCBkBKAgZASgIGQEoCBkBKAgZASv8BEjHXXJtVoI4AAAAASUVORK5CYII=\\\n",
       "\"\n",
       "  frames[48] = \"data:image/png;base64,iVBORw0KGgoAAAANSUhEUgAAAbAAAAEgCAYAAADVKCZpAAAAOXRFWHRTb2Z0d2FyZQBNYXRwbG90\\\n",
       "bGliIHZlcnNpb24zLjUuMiwgaHR0cHM6Ly9tYXRwbG90bGliLm9yZy8qNh9FAAAACXBIWXMAAAsT\\\n",
       "AAALEwEAmpwYAAAJhUlEQVR4nO3dv48cZxnA8Wd29sedffYlluU4whKRkItAg9KfqNPT8T/QpU3F\\\n",
       "P0GdAilIFIgGiY4AJVFIBBSOE0Jix45J4vPd7e3uzFBYKdDuynuL9Y6fu89HsizNnO8eF6vv7c47\\\n",
       "71Rd1wUAZDPoewAA2IaAAZCSgAGQkoABkJKAAZCSgAGQkoABkJKAAZCSgAGQkoABkJKAAZCSgAGQ\\\n",
       "koABkJKAAZCSgAGQkoABkJKAAZCSgAGQkoABkJKAAZCSgAGQkoABkJKAAZCSgAGQkoABkJKAAZCS\\\n",
       "gAGQkoABkJKAAZCSgAGQkoABkJKAAZCSgAGQkoABkNKw7wEK6voeAOAFVPU9wLa8AwMgJQEDICUB\\\n",
       "AyAlAQMgJQEDICUBAyAlAQMgJQEDICUBAyAlAQMgJQEDICUBAyAlAQMgJQEDICUBAyAlAQMgJQED\\\n",
       "ICUBAyAlAQMgJQEDICUBAyAlAQMgJQEDICUBAyAlAQMgJQEDICUBAyAlAQMgJQEDICUBAyAlAQMg\\\n",
       "JQEDICUBAyAlAQMgJQEDICUBAyAlAQMgJQEDICUBAyAlAQMgJQEDICUBAyAlAQMgJQEDICUBAyAl\\\n",
       "AQMgJQEDICUBAyAlAQMgJQEDICUBAyAlAQMgJQEDICUBAyAlAQMgJQEDICUBAyAlAQMgJQEDICUB\\\n",
       "AyAlAQMgJQEDICUBAyAlAQMgJQEDICUBAyAlAQMgJQEDICUBAyAlAQMgJQEDICUBAyAlAQMgJQED\\\n",
       "ICUBAyAlAQMgJQEDICUBAyAlAQMgJQEDICUBAyAlAQMgJQEDICUBAyAlAQMgJQEDICUBAyAlAQMg\\\n",
       "JQEDICUBAyAlAQMgpWHfA8BF0HVdtIvTaOan0c6/+3sau9duxXCy2/d4kJKAQQGf/eXXcfTgbjTz\\\n",
       "6dM/s2m082ncfvPnsX/r9b7Hg5QEDAo4eng3nnx5Z+n4YnrYwzRwPrgGBj1aTJ/0PQKkJWBQRLXy\\\n",
       "6PGjfxeeA84PAYMC9m/9aOXx6Tf3Ck8C54eAQQHjvZf7HgHOHQGDAoa7V1af6J4usQfOTsCggHq8\\\n",
       "+l6vrm2iaxaFp4HzQcCgiNWLONpmHs3itPAscD4IGPSoXcyinQsYbEPAoIB6OI56tPwx4unhozj5\\\n",
       "2kpE2IaAQQGjy/sxuXp9+UTXRtc25QeCc0DAoIBBPY7BaKfvMeBcETAooKpHMRiN15ztLKWHLQgY\\\n",
       "FFANBjGoV++d3ZweF54GzgcBgwKqqop1S+lt6AvbETDo2VzAYCsCBoXsvfKDlccPv/hnRLgGBmcl\\\n",
       "YFDI5Mq1WPUxYjM7KT8MnAMCBoUMd9Zs6AtsRcCgkOFkb+25rm0LTgLng4BBIVVdr1yI2LWN/RBh\\\n",
       "CwIGxazbkX4Rzdx1MDgrAYOetYvTmB190/cYkI6AQSHDyaXYfenVpePN6XFM7UgPZyZgUMhgNI7R\\\n",
       "5Zf7HgPODQGDQqrBMOqxHenheREwKKQa1FGveaRK1zZ2pIczEjAopKqqqKrVL7nF9ChsJwVnI2Dw\\\n",
       "AlicPtEvOCMBg4IGa66BnR7+J7rObhxwFgIGBV159XZUg3rp+NGDj6Nrmx4mgrwEDAoaTvYiqtU7\\\n",
       "cgBnI2BQ0HDncqzbUgo4GwGDgurxblQr3oF1XRdds+hhIshLwKCkdR8ftk0sZsdlZ4HkBAxeAF3X\\\n",
       "RnMqYHAWAgYFVVHFYDheOt7MT+Po4SflB4LEBAwKqsc7sffq7eUTXRvzk8PyA0FiAgYlVYMYTi73\\\n",
       "PQWcCwIGBVWDQQwnl9aet6EvbE7AoKjV18AiItrFLGyICJsTMCjo6T1gq5fSN9Oj6Fr7IcKmBAxe\\\n",
       "EIvZcYQNfWFjAgaF7ezfiKoeLh0/fvRZtIt5DxNBTgIGhe289EoM6tHS8fnRt3akhzMQMCisnlyO\\\n",
       "WPNkZmBzXkVQ2HB8Kao1AeusQoSNCRgUVtXDNZv6dtHMpsXngawEDF4QXdfFYvqk7zEgDQGDHgwG\\\n",
       "9fLBro3FyePyw0BSAgaFVYN65Ya+XdvE48//3sNEkJOAQWFVVcVo98rKc3bigM0JGJRWVTHc2et7\\\n",
       "CkhPwKC4KurxukeqdHakhw0JGBRWVVVUg9UvvWY2tRsHbEjA4AXSzE4EDDYkYNCDauWNzBGL2Ul0\\\n",
       "zaLwNJCTgEEPLl3//sqFHMdf/SsWp25mhk0IGPRguHM5qhU70nftwiIO2NDyQ4mArX344Yfx+PGz\\\n",
       "d9PoFqcxnM2XfoPsuoj3//p+dJOrz/wedV3HG2+8EaPRcgjhIqgu0G97F+Y/Sn8ODg7ivffee+bX\\\n",
       "1YMqfvX2T+O1my/9z/GmbeNnv/hNfPzF18/8Hnt7e3Hnzp24cePGtuNCRMTqC7IJeAcGPfju98aj\\\n",
       "5mp8Pr0dTQzjlfGnsV/fi6uXJv0OB0kIGPTkcHEtPv32zThun35c+Nn09fjhpT/G/t5Oz5NBDhZx\\\n",
       "QA+6qOJvT34Sx+1+PP0Ep4qmG8dHRwfxvZuv9Twd5CBg0JNFt7z4oo1h3L51vYdpIB8Bg150cXT4\\\n",
       "5dLRyeAkBpWdOGATAgY96LouPvngl3Ft9HlU0UQVbewOHsePr/whdms3MsMmLswijvv37/c9AhfA\\\n",
       "bDbb+Gv/cfdu/P63b8dX81vRdnW8PLoffx4cxr1Hhxv9+67r4uHDh9F6hhj/h5s3b/Y9wtYuTMDe\\\n",
       "eeedvkfgAnjw4MHGX3vv0ZP43Z8+iIgPtvpZ8/k83n333djb82wxtvfWW2/1PcLW3MgMz9GmNzI/\\\n",
       "D25k5jlJeyOza2AApCRgAKQkYACkJGAApCRgAKQkYACkdGHuA4MSDg4O4vr1MnsZ7u7uxmTi0Stc\\\n",
       "XO4DA7jY3AcGACUJGAApCRgAKQkYACkJGAApCRgAKQkYACkJGAApCRgAKQkYACkJGAApCRgAKQkY\\\n",
       "ACkJGAApCRgAKQkYACkJGAApCRgAKQkYACkJGAApCRgAKQkYACkJGAApCRgAKQkYACkJGAApCRgA\\\n",
       "KQkYACkJGAApCRgAKQkYACkJGAApCRgAKQkYACkJGAApCRgAKQkYACkJGAApCRgAKQkYACkJGAAp\\\n",
       "CRgAKQkYACkJGAApCRgAKQ37HqCgqu8BAHh+vAMDICUBAyAlAQMgJQEDICUBAyAlAQMgJQEDICUB\\\n",
       "AyAlAQMgJQEDICUBAyAlAQMgJQEDICUBAyAlAQMgJQEDICUBAyAlAQMgJQEDICUBAyAlAQMgJQED\\\n",
       "ICUBAyAlAQMgJQEDICUBAyAlAQMgJQEDICUBAyAlAQMgJQEDICUBAyAlAQMgJQEDICUBAyCl/wI6\\\n",
       "oqv8UDzmPQAAAABJRU5ErkJggg==\\\n",
       "\"\n",
       "  frames[49] = \"data:image/png;base64,iVBORw0KGgoAAAANSUhEUgAAAbAAAAEgCAYAAADVKCZpAAAAOXRFWHRTb2Z0d2FyZQBNYXRwbG90\\\n",
       "bGliIHZlcnNpb24zLjUuMiwgaHR0cHM6Ly9tYXRwbG90bGliLm9yZy8qNh9FAAAACXBIWXMAAAsT\\\n",
       "AAALEwEAmpwYAAAItElEQVR4nO3dzYoc1xnH4beqe6Yly1FsYhvZBOTEcgS5hEAuIeBd1kF4nUXw\\\n",
       "FeQOstbOm6yy8Q1kFYMhiBDwR0AxlhNbsvwRKyN7PrqrsjBZmBlhdWdyav49z7M801CvQMOPquk6\\\n",
       "pxvHsQAgTT/1AACwCQEDIJKAARBJwACIJGAARBIwACIJGACRBAyASAIGQCQBAyCSgAEQScAAiCRg\\\n",
       "AEQSMAAiCRgAkQQMgEgCBkAkAQMgkoABEEnAAIgkYABEEjAAIgkYAJEEDIBIAgZAJAEDIJKAARBJ\\\n",
       "wACIJGAARBIwACIJGACRBAyASAIGQCQBAyDSfOoBGhqnHgDgDOqmHmBT7sAAiCRgAEQSMAAiCRgA\\\n",
       "kQQMgEgCBkAkAQMgkoABEEnAAIgkYABEEjAAIgkYAJEEDIBIAgZAJAEDIJKAARBJwACIJGAARBIw\\\n",
       "ACIJGACRBAyASAIGQCQBAyCSgAEQScAAiCRgAEQSMAAiCRgAkQQMgEgCBkAkAQMgkoABEEnAAIgk\\\n",
       "YABEEjAAIgkYAJEEDIBIAgZAJAEDIJKAARBJwACIJGAARBIwACIJGACRBAyASAIGQCQBAyCSgAEQ\\\n",
       "ScAAiCRgAEQSMAAiCRgAkQQMgEgCBkAkAQMgkoABEEnAAIgkYABEEjAAIgkYAJEEDIBIAgZAJAED\\\n",
       "IJKAARBJwACIJGAARBIwACIJGACRBAyASAIGQCQBAyCSgAEQScAAiCRgAEQSMAAiCRgAkQQMgEgC\\\n",
       "BkAkAQMgkoABEEnAAIgkYABEEjAAIgkYAJEEDIBIAgZAJAEDIJKAARBJwACIJGAARBIwACLNpx4A\\\n",
       "zoOH9z+o1eHXx9afeOZqzRcXJ5gI8gkYNHDnT7+vvbu3j61f/8Vv6vIL1yeYCPJ5hAgTGo4Oph4B\\\n",
       "YgkYTGh1tD/1CBBLwGBCK3dgsDEBgwl5hAibEzBoYL548sT1w73PG08C20PAoIEnr1w7cf3h/fcb\\\n",
       "TwLbQ8CggdnuhalHgK0jYNBAP19MPQJsHQGDBmY7AganTcCggX7n0Y8Qx3FsOAlsDwGDBvr5zsk/\\\n",
       "0C7YmIBBE92Jq+OwqnG1bDwLbAcBgwmNw6oGAYONCBhMaBiWNQ5HU48BkQQMJuQODDYnYDAhfwOD\\\n",
       "zQkYNLB76fu1uPzssfWjh/+qgwf3J5gI8gkYNNDPFzXbvXhs3SNE2JyAQQNdP6tuNp96DNgqAgYN\\\n",
       "dP2s+l7A4DQJGDTwzR3YI3bjADYiYNBA18+qn80e8dPRfoiwAQGDBrquq+pO/nUbll5khk0IGExs\\\n",
       "ODqYegSIJGAwsdVyf+oRIJKAwcTcgcFmBAwmthIw2IiAQSO7l546cd1WUrAZAYNGLj37oxPXv/78\\\n",
       "n+VoZlifgEEj/c6iHnUyM7A+AYNGZjuLqUeArSJg0Ei/c2HqEWCrCBg0MtvZnXoE2CoCBo10/fzk\\\n",
       "P4GNY43D0HweSCdg0MzJX+AYx6GGlf0QYV0CBhMbx6FGG/rC2gQMJjYOQw2rw6nHgDgCBlMbB0eq\\\n",
       "wAYEDBrp5zu1c/HysfXV4X4d7n02wUSQTcCgkdnuhVp875lj68PyoA73vphgIsgmYNBI1/XVzXem\\\n",
       "HgO2hoBBK11f/UzA4LQIGDTS9bPq53bjgNMiYNBI5w4MTpWAQStdV91sfuKPxnGscXQmGKxDwKCR\\\n",
       "ruuqe8R2UsPSi8ywLgGDM2BYHpRTmWE9AgZnwOroQL9gTQIGZ8Bw5A4M1iVg0FA3m524vjz4Sr5g\\\n",
       "TQIGDT155eXq+uMR+/fHf6txWE0wEeQSMGhotnuxTjzYchyqfI0e1iJg0NBsZ/dRBzMDaxIwaKif\\\n",
       "L0rB4HQIGDTU7yzkC06JgEFDs/miqpMwOA0CBi31J//KjeNY47BsPAxkEzA4C8ahhiP7IcI6BAzO\\\n",
       "gHEca2VDX1jLyWc7AGu5d+9e3b59+zs/1y2/rtlqOPZFjuXyqP5y6881LJ56rOtdu3atnnvuufUH\\\n",
       "hS0iYHAK3njjjXr11Ve/83M/uHyx/vDbX9bFxbcPtny4t1e/vvGr+uv7nzzW9W7evFk3btzYaFbY\\\n",
       "Fh4hQkOHR6u688mXtRrn9eH+9Xp772f14f71ms8X9eMXnp56PIjiDgwaOlyu6h/392v/qZ/Xxwcv\\\n",
       "1VhddTXW84vn6+nLt6YeD6K4A4OGxrHqvQc/qY8OrtVYfVV1NVZfHx28XHf2fzr1eBBFwKChYRzr\\\n",
       "4UHV8e2kulqNHojAOgQMGhqGscbll9XVt49O6WpVi/6riaaCTAIGDQ3jWM/0b9dLT9yqeffNKczz\\\n",
       "7qCuPXGrfnjhvanHgyjn5pnF3bt3px6BLfbgwYPH/uwfb/297n72u/pieaUeri7XpdmX9fT8Xr3z\\\n",
       "weN9hf6/1/N/mtNw5cqVqUfY2LkJ2Ouvvz71CGyxt95667E/++6dT+vdO59W1TsbX+/NN9+s5dLe\\\n",
       "ifzvXnvttalH2Fg3np9TYM/NP5T2bt68+VgvMp/m9bzIzCmJPR7B38AAiCRgAEQSMAAiCRgAkQQM\\\n",
       "gEgCBkCkc/MeGPw/vfjii/XKK680u97Vq1ebXQvOKu+BAZxv3gMDgJYEDIBIAgZAJAEDIJKAARBJ\\\n",
       "wACIJGAARBIwACIJGACRBAyASAIGQCQBAyCSgAEQScAAiCRgAEQSMAAiCRgAkQQMgEgCBkAkAQMg\\\n",
       "koABEEnAAIgkYABEEjAAIgkYAJEEDIBIAgZAJAEDIJKAARBJwACIJGAARBIwACIJGACRBAyASAIG\\\n",
       "QCQBAyCSgAEQScAAiCRgAEQSMAAiCRgAkQQMgEgCBkAkAQMgkoABEGk+9QANdVMPAMDpcQcGQCQB\\\n",
       "AyCSgAEQScAAiCRgAEQSMAAiCRgAkQQMgEgCBkAkAQMgkoABEEnAAIgkYABEEjAAIgkYAJEEDIBI\\\n",
       "AgZAJAEDIJKAARBJwACIJGAARBIwACIJGACRBAyASAIGQCQBAyCSgAEQScAAiCRgAEQSMAAiCRgA\\\n",
       "kQQMgEgCBkAkAQMgkoABEOk/H2BhCzPZHAkAAAAASUVORK5CYII=\\\n",
       "\"\n",
       "  frames[50] = \"data:image/png;base64,iVBORw0KGgoAAAANSUhEUgAAAbAAAAEgCAYAAADVKCZpAAAAOXRFWHRTb2Z0d2FyZQBNYXRwbG90\\\n",
       "bGliIHZlcnNpb24zLjUuMiwgaHR0cHM6Ly9tYXRwbG90bGliLm9yZy8qNh9FAAAACXBIWXMAAAsT\\\n",
       "AAALEwEAmpwYAAAGVElEQVR4nO3bz2pcZRyA4W+SmCLGVbUUFIS6KFp0WRfeg4VehHdQvAnxCtwV\\\n",
       "N0JBUPcutOtuBCMutKgEE+qfGJOWJONCN1KxaYxzfJPnWX4c+H4Dc3g5M+ebzefzAQA1S1MPAADH\\\n",
       "IWAAJAkYAEkCBkCSgAGQJGAAJAkYAEkCBkCSgAGQJGAAJAkYAEkCBkCSgAGQJGAAJAkYAEkCBkCS\\\n",
       "gAGQJGAAJAkYAEkCBkCSgAGQJGAAJAkYAEkCBkCSgAGQJGAAJAkYAEkCBkCSgAGQJGAAJAkYAEkC\\\n",
       "BkCSgAGQJGAAJK1MPcACzaceAOB/aDb1AMflCQyAJAEDIEnAAEgSMACSBAyAJAEDIEnAAEgSMACS\\\n",
       "BAyAJAEDIEnAAEgSMACSBAyAJAEDIEnAAEgSMACSBAyAJAEDIEnAAEgSMACSBAyAJAEDIEnAAEgS\\\n",
       "MACSBAyAJAEDIEnAAEgSMACSBAyAJAEDIEnAAEgSMACSBAyAJAEDIEnAAEgSMACSBAyAJAEDIEnA\\\n",
       "AEgSMACSBAyAJAEDIEnAAEgSMACSBAyAJAEDIEnAAEgSMACSBAyAJAEDIEnAAEgSMACSBAyAJAED\\\n",
       "IEnAAEgSMACSBAyAJAEDIEnAAEgSMACSBAyAJAEDIEnAAEgSMACSBAyAJAEDIEnAAEgSMACSBAyA\\\n",
       "JAEDIEnAAEgSMACSBAyAJAEDIEnAAEgSMACSBAyAJAEDIEnAAEgSMACSBAyAJAEDIEnAAEgSMACS\\\n",
       "BAyAJAEDIEnAAEgSMACSBAyAJAEDIEnAAEhamXoAOAv27++O37a+eWh9efXJ8dSzL0wwEfQJGCzA\\\n",
       "7o/fj/WP3nlofe3ii+Ola29NMBH0+QkRgCQBAyBJwABIEjAAkgQMgCQBAyBJwABIEjAAkgQMgCQB\\\n",
       "AyBJwABIEjAAkgQMgCQBAyBJwABIEjAAkgQMgCQBAyBJwABIEjAAkgQMgCQBAyBJwABIEjAAkgQM\\\n",
       "gCQBAyBJwABIEjAAkgQMgCQBAyBJwABIEjAAkgQMgCQBAyBJwABIEjAAkgQMgCQBAyBJwABIEjAA\\\n",
       "kgQMgCQBAyBJwABIEjAAkgQMgCQBAyBJwABIEjAAkgQMgCQBAyBJwABIEjAAkgQMgCQBAyBJwABI\\\n",
       "EjAAkgQMgCQBAyBJwABIWpl6AKja3d0dd+7cGfP5/JHXzn774W9vtu1ftsft27ePtN/58+fH5cuX\\\n",
       "H3NKOL1mR7n5Tokz80FZjPX19XHlypVxcHDwyGtfuXRhvHvjjTGbzf6yfuerjfHm2x8eab/r16+P\\\n",
       "W7duHWtW+AezR1/y/+QJDBZkPpbG1oPnxuaD58fq0v3x3Lkvpx4J0gQMFmI27u69PNZ3XhuHY3mM\\\n",
       "MR8b9y+N5YObUw8GWV7igAX4ef+ZP+O1Mv74xWZpbB+cH5/vvD71aJAlYLAA8/nyOJgvP7S+P39i\\\n",
       "gmngdBAwWICV2YOxunT/ofUnl36dYBo4HQQMFmBt5d549elPxrmlnTHG4Vga++PC6tfj5bXPph4N\\\n",
       "ss7MSxwbGxtTj8Aps7W1daQzYGOM8d3m9nj3/ffGzsHH46f9C2Nl9mA8s/rt+PmX7SPvt7e353vM\\\n",
       "ibt48eLUIxzbmQnYzZve9uJkbW5uHjlg97Z3xweffvGv9rt7967vMSfuxo0bU49wbA4ywzE9zkHm\\\n",
       "k+AgM/+R7EFm/4EBkCRgACQJGABJAgZAkoABkCRgACSdmXNgcNLW1tbGtWvXxuHh4UL2u3r16kL2\\\n",
       "gQrnwADONufAAGCRBAyAJAEDIEnAAEgSMACSBAyAJAEDIEnAAEgSMACSBAyAJAEDIEnAAEgSMACS\\\n",
       "BAyAJAEDIEnAAEgSMACSBAyAJAEDIEnAAEgSMACSBAyAJAEDIEnAAEgSMACSBAyAJAEDIEnAAEgS\\\n",
       "MACSBAyAJAEDIEnAAEgSMACSBAyAJAEDIEnAAEgSMACSBAyAJAEDIEnAAEgSMACSBAyAJAEDIEnA\\\n",
       "AEgSMACSVqYeYIFmUw8AwMnxBAZAkoABkCRgACQJGABJAgZAkoABkCRgACQJGABJAgZAkoABkCRg\\\n",
       "ACQJGABJAgZAkoABkCRgACQJGABJAgZAkoABkCRgACQJGABJAgZAkoABkCRgACQJGABJAgZAkoAB\\\n",
       "kCRgACQJGABJAgZAkoABkCRgACQJGABJAgZAkoABkCRgACT9DqAPpA/vxVnHAAAAAElFTkSuQmCC\\\n",
       "\"\n",
       "  frames[51] = \"data:image/png;base64,iVBORw0KGgoAAAANSUhEUgAAAbAAAAEgCAYAAADVKCZpAAAAOXRFWHRTb2Z0d2FyZQBNYXRwbG90\\\n",
       "bGliIHZlcnNpb24zLjUuMiwgaHR0cHM6Ly9tYXRwbG90bGliLm9yZy8qNh9FAAAACXBIWXMAAAsT\\\n",
       "AAALEwEAmpwYAAAI4ElEQVR4nO3dP48cdx3H8e/M3p59To6ADZKtgIRQMKSwSGqEFCkFEh0lj4E6\\\n",
       "PAWeBF2EUgIVBUFCAkWAKIiLUGCBICGxA4ni2LncZXdnKEKVvZWTXc8Mn/Xr1fk3q7uvi9Fbv5s/\\\n",
       "2/R9XwCQpp16AADYhoABEEnAAIgkYABEEjAAIgkYAJEEDIBIAgZAJAEDIJKAARBJwACIJGAARBIw\\\n",
       "ACIJGACRBAyASAIGQCQBAyCSgAEQScAAiCRgAEQSMAAiCRgAkQQMgEgCBkAkAQMgkoABEEnAAIgk\\\n",
       "YABEEjAAIgkYAJEEDIBIAgZAJAEDIJKAARDpYOoBRtRPPQDA/6Fm6gG2ZQcGQCQBAyCSgAEQScAA\\\n",
       "iCRgAEQSMAAiCRgAkQQMgEgCBkAkAQMgkoABEEnAAIgkYABEEjAAIgkYAJEEDIBIAgZAJAEDIJKA\\\n",
       "ARBJwACIJGAARBIwACIJGACRBAyASAIGQCQBAyCSgAEQScAAiCRgAEQSMAAiCRgAkQQMgEgCBkAk\\\n",
       "AQMgkoABEEnAAIgkYABEEjAAIgkYAJEEDIBIAgZAJAEDIJKAARBJwACIJGAARBIwACIJGACRBAyA\\\n",
       "SAIGQCQBAyCSgAEQScAAiCRgAEQSMAAiCRgAkQQMgEgCBkAkAQMgkoABEEnAAIgkYABEEjAAIgkY\\\n",
       "AJEEDIBIAgZAJAEDIJKAARBJwACIJGAARBIwACIJGACRBAyASAIGQCQBAyCSgAEQScAAiCRgAEQS\\\n",
       "MAAiCRgAkQQMgEgCBkAkAQMgkoABEEnAAIgkYABEEjAAIgkYAJEEDIBIAgZAJAEDIJKAARDpYOoB\\\n",
       "4FFx8s4btTy9v7Z+dPnJmh8dTzARZBMwGEHfdfXGH39ed/95c+3YU9/9YX3hq9+aYCrI5k+IMIK+\\\n",
       "W1W/Wkw9BuwVAYMR9N2qum459RiwVwQMRvDxDkzA4GESMBhB362qEzB4qAQMRrBanNbq7IO19WY2\\\n",
       "r9n8cIKJIJ+AwQgWH96rj+6/u7Z+eOmJOjz+0gQTQT4Bgwk1s1m1M0+zwDYEDCbUNLNqBAy2ImAw\\\n",
       "oWZ2UG0rYLANAYMJNa0dGGxLwGAMfXfuctO01bSzkYeB/SBgMILV4uz8A01V0zTjDgN7QsBgBN1y\\\n",
       "Q8CArQkYjGDjDgzYmoDBCLrF6dQjwN4RMBhBt3EH5voXbEvAYAT33vrruevHV78+8iSwPwQMRrBa\\\n",
       "fHju+vzSEyNPAvtDwGBC7fzC1CNALAGDCc3mF6ceAWIJGEzIDgy2J2AwsL7vq/rzj80EDLYmYDCw\\\n",
       "vltVv+FdiNU4BWFbzh4YWN8tq+9WU48Be0fAYGDdSsBgCAIGA+tXy+q75dRjwN4RMBhYv1pWv9pw\\\n",
       "DQzYmoDBwBan92v50cna+uzwyF2IsAMBg4EtTu7W6uyDtfXD4ys1P/rcBBPBfhAwmEg7m1fTzqYe\\\n",
       "A2IJGEykaQ8EDHYgYDCRdiZgsAsBgwH1fV+b3iPVCBjsRMBgYJseYm7atqrxjcywLQGDgXWLsw1H\\\n",
       "mmoEDLYmYDCw1caAAbsQMBhYtxQwGIKAwcDswGAYAgaD6uvDd/917pELx1dGngX2i4DBkPqq0/du\\\n",
       "n3vo6PKTIw8D+0XAYBJNtfOLUw8B0QQMJuJN9LAbAYOJtAcCBrsQMJhCYwcGuxIwGNT570GsqmoP\\\n",
       "DkecA/aPgMGAutWy+r7bcNRrpGAXAgYD6pYfVd9tChiwCwGDAXWrRdXGHRiwCwGDAXXLhR0YDETA\\\n",
       "YEDd4rT6brm23jQzX6UCOxIwGNDJO6/X8vT+2vqlK1+u2cXHJpgI9oeAwYA23YHYzi9U08xGngb2\\\n",
       "i4DBBNrZvJrW6Qe7cAbBBNqDeTWN0w924QyCCTSzQzsw2JEzCAbS9/3GN0m1B/MqOzDYiTMIBtSv\\\n",
       "1m+hr6pqmsZt9LAjAYMBrZZnU48Ae0vAYCh9X91CwGAoB1MPAEn6vq9XX321Tk5OHvjZpvqa3f7H\\\n",
       "ue+cv3PnTr35yisP/BmHh4f17LPP1mzmmTH4pKbvN39f0Z55ZP6jDKfrurpx40a99tprD/zsrG3q\\\n",
       "Rz/4dn3/O0+vHfvZb/9SP/7p7x74M65du1a3bt2qS5cubTUvfAqxF2PtwGAgs7atb3zli3Vv+fl6\\\n",
       "8+yp6quta4d/q8faf9ff33pv6vEgnoDBQNq2qcPjr9Wf3v9enXYfv/fwjdNv1tNHL9frb78/8XSQ\\\n",
       "z00cMJBVP6ub956r0+7x+vivNE0t+ot1895zdffUNS3YlYDBYJpa9vO11WV3UCdnqwnmgf0iYDCY\\\n",
       "vo7a9a9SudB+UGdnbq+HXQkYDGTWrOqZ41/XEwdvV1Oraqqrx2fv1jPHv6rlYj1swGfzyNzEcfv2\\\n",
       "7alHYA90XVfL5fmvh/qkxXJVP/nFy9Ue/L7+s3iy+r6pK/M36zd1v967f/qpf9+dO3fq6Ohol7Fh\\\n",
       "o6tXr049wtYemYC9+OKLU4/AHuj7vu7evfupPrvq+vrlH279719/3ur3nZyc1EsvvVTz+fq1NHgY\\\n",
       "XnjhhalH2JoHmeEz+CwPMj8MHmRmBLEPMrsGBkAkAQMgkoABEEnAAIgkYABEEjAAIj0yz4HBw/L8\\\n",
       "88/X9evXR/ldly9f9mWWsIHnwAAebZ4DA4AxCRgAkQQMgEgCBkAkAQMgkoABEEnAAIgkYABEEjAA\\\n",
       "IgkYAJEEDIBIAgZAJAEDIJKAARBJwACIJGAARBIwACIJGACRBAyASAIGQCQBAyCSgAEQScAAiCRg\\\n",
       "AEQSMAAiCRgAkQQMgEgCBkAkAQMgkoABEEnAAIgkYABEEjAAIgkYAJEEDIBIAgZAJAEDIJKAARBJ\\\n",
       "wACIJGAARBIwACIJGACRBAyASAIGQCQBAyDSwdQDjKiZegAAHh47MAAiCRgAkQQMgEgCBkAkAQMg\\\n",
       "koABEEnAAIgkYABEEjAAIgkYAJEEDIBIAgZAJAEDIJKAARBJwACIJGAARBIwACIJGACRBAyASAIG\\\n",
       "QCQBAyCSgAEQScAAiCRgAEQSMAAiCRgAkQQMgEgCBkAkAQMgkoABEEnAAIgkYABEEjAAIgkYAJEE\\\n",
       "DIBI/wWMFW66Id0R2QAAAABJRU5ErkJggg==\\\n",
       "\"\n",
       "  frames[52] = \"data:image/png;base64,iVBORw0KGgoAAAANSUhEUgAAAbAAAAEgCAYAAADVKCZpAAAAOXRFWHRTb2Z0d2FyZQBNYXRwbG90\\\n",
       "bGliIHZlcnNpb24zLjUuMiwgaHR0cHM6Ly9tYXRwbG90bGliLm9yZy8qNh9FAAAACXBIWXMAAAsT\\\n",
       "AAALEwEAmpwYAAAJ00lEQVR4nO3dv48cZxnA8Wdmf9ztOWcndkhsICQSQRGIKEJ0KSipU9BQIFGn\\\n",
       "T01JiajyB6RBVBQU6RBBSRURIYEMlmIRoyi2cRyffbfeu/0xFEYIcnPJeXdnlmfu86msec+3z0m3\\\n",
       "+t7uzrxTVFUVAJBNuekBAGAZAgZASgIGQEoCBkBKAgZASgIGQEoCBkBKAgZASgIGQEoCBkBKAgZA\\\n",
       "SgIGQEoCBkBKAgZASgIGQEoCBkBKAgZASgIGQEoCBkBKAgZASgIGQEoCBkBKAgZASgIGQEoCBkBK\\\n",
       "AgZASgIGQEoCBkBKAgZASgIGQEoCBkBKAgZASgIGQEoCBkBK/U0P0KJq0wMA/B8qNj3AsrwCAyAl\\\n",
       "AQMgJQEDICUBAyAlAQMgJQEDICUBAyAlAQMgJQEDICUBAyAlAQMgJQEDICUBAyAlAQMgJQEDICUB\\\n",
       "AyAlAQMgJQEDICUBAyAlAQMgJQEDICUBAyAlAQMgJQEDICUBAyAlAQMgJQEDICUBAyAlAQMgJQED\\\n",
       "ICUBAyAlAQMgJQEDICUBAyAlAQMgJQEDICUBAyAlAQMgJQEDICUBAyAlAQMgJQEDICUBAyAlAQMg\\\n",
       "JQEDICUBAyAlAQMgJQEDICUBAyAlAQMgJQEDICUBAyAlAQMgJQEDICUBAyAlAQMgJQEDICUBAyAl\\\n",
       "AQMgJQEDICUBAyAlAQMgJQEDICUBAyAlAQMgJQEDICUBAyAlAQMgJQEDICUBAyAlAQMgJQEDICUB\\\n",
       "AyAlAQMgJQEDICUBAyAlAQMgJQEDICUBAyAlAQMgJQEDICUBAyAlAQMgJQEDICUBAyAlAQMgJQED\\\n",
       "ICUBAyAlAQMgJQEDICUBAyCl/qYHgLNiPj2M8Z0bUQ62ojfYirK/Fb3BdpSDYRSFvyXhcQkYtGRy\\\n",
       "72b87be/iHIwjN5g+1G8htsxeupKvPCDn4gYPCYBg5ZMx3tRLeYxPxzH/HD8n+P//W/g9PzJBy05\\\n",
       "OvgsIqpNjwGdIWDQkvsf/7X2+Nb5Z1qeBLpBwKAl1WJee3z3yosRUbQ7DHSAgEELqqqKqOrfPhzs\\\n",
       "XGh5GugGAYMWVPNpzGeHtWu94ajlaaAbBAxaMJ8dxfxocsJqEUXhLUR4XAIGLZiN9+LowZ2aFfGC\\\n",
       "ZQkYtGB2NInZZP/Y8eHupdh+6soGJoL8BAw2qDfYiv5wZ9NjQEoCBi2o5tPa42V/GOVgq+VpoBsE\\\n",
       "DFowffig9nhRllH27OgGyxAwaEH9CRzAKgQMWnDvxp9rj28/6QQOWJaAQSsWtUd3nv5Gy3NAdwgY\\\n",
       "NKw6YQupiIihbaRgaQIGDavms6jm9Rv59refaHka6A4Bg4bNpw9P3Acx3IUZlubZAw2bTQ6+YB9E\\\n",
       "YFkCBg073Lsd04PPjh0f7FyI/va5DUwE3SBg0LCTTuEY7l6Kweh8q7NAlwgYNOjRjSzrT6HvDUZR\\\n",
       "9octTwTdIWDQsOmkfhupstePouy1PA10h4BBw6bj+/ULhXuBwSoEDBpVxYNPrtWulP1By7NAtwgY\\\n",
       "NKmKmB7cq1ko4sJz3217GugUAYMNGYxsIwWrEDBoULWY1e+FWEQMRrvtDwQdImDQoNnhOKr5rHat\\\n",
       "6PkMDFYhYNCg6cG9WJy0DyKwEgGDBh18eiNmk/1jx7fOPxO94fYGJoLuEDDYgK3dS9EbCBisQsCg\\\n",
       "IY+2kapf62/tRNHrtzsQdIyAQYPmRw9rj/cGI9tIwYoEDJpSVTF9eNI2UmEbKViRgEFDqmoRh/f/\\\n",
       "uekxoLMEDBpSLeZxcOv68YWijHNfeaH1eaBrBAxaVpRljJ766qbHgPQEDBpSVYvakxCLooy+OzHD\\\n",
       "ygQMGjKfHEQs5rVr5cCdmGFVAgYNmU72o6oWtWvOP4TVCRg05ODWhzGfHt8HsTfYjig89WBVnkXQ\\\n",
       "kNnhOKLmFdgTV16M3mBrAxNBtwgYNKD2HmD/1t/ejbALB6xMwKARVSzmR7Ur/a1zUXgLEVbmWQQN\\\n",
       "qBaLmE0OateKsmcbKVgDAYMGVPNZTO7d2vQY0GkCBg1YzI5ifOejY8fL/jB2Lj23gYmgewQMWlSU\\\n",
       "/dg6//Smx4BOEDBoQHXCnSyLsoz+9hMtTwPdJGDQgPnhOKLmVPqiKKM3HG1gIugeAYMGTB/eP/FV\\\n",
       "GLAeAgYNmNy7GdWifh9EYD0EDBowvvOPE7aR+lYUduGAtRAwaNH2hWftwgFr4pkEa1ZVi6hOuA9Y\\\n",
       "f7QbYRcOWAsBgzWr5vOYHY1r18r+oOVpoLsEDNZsMZ8+Oo3+BPZBhPUQMFiz2WQ/Dm7//djxouxF\\\n",
       "f7jT/kDQUf1NDwAZXL9+PW7evHmqry0O70dvdhSff501LwZx9aPbUdx670u/x8svvxy7u7tLTApn\\\n",
       "R/FFN97rmDPzg7J+r7/+erz55pun+trnn70Qv/rZj6JX/u8bHB/fuR8//flvYu/g8Eu/x7vvvhuv\\\n",
       "vvrqUrPCY0r7nrZXYLBmo61BHC1G8cnkpZgszsXFwSfxzPBGzGaL2H9Yf5NL4PEJGKzZ+fNPxwcP\\\n",
       "fhh782cjoogbk+/EN3c+iH78rm57RGBJTuKANfvGt38c92aX49HTq4gqevHh+Htx5+hrmx4NOkXA\\\n",
       "YM36g9GxU+Wr6MX7127HGfrMGRonYLBmo3I/Pn/OUK84ituf3nEmEayRgMGaPTn9fRT7f4zZbBJV\\\n",
       "tYhicRAvjf4Q1fj6pkeDTjkzJ3Gc9hoeqDMen7yzxuf98tfvxO659+Prz38/trefjMH8Zrw3vBt/\\\n",
       "+vD0v4N37971O0srLl++vOkRlnZmAvbWW29tegQSu3bt2qm/dlFVsbd/EHt/eWfpx3v77bfj6tWr\\\n",
       "S/9/OK033nhj0yMszYXMcAqPcyHzOriQmRalvZDZZ2AApCRgAKQkYACkJGAApCRgAKQkYACkdGau\\\n",
       "A4NVvPLKK/Haa6+19ngXL15s7bEgK9eBAZxtrgMDgDYJGAApCRgAKQkYACkJGAApCRgAKQkYACkJ\\\n",
       "GAApCRgAKQkYACkJGAApCRgAKQkYACkJGAApCRgAKQkYACkJGAApCRgAKQkYACkJGAApCRgAKQkY\\\n",
       "ACkJGAApCRgAKQkYACkJGAApCRgAKQkYACkJGAApCRgAKQkYACkJGAApCRgAKQkYACkJGAApCRgA\\\n",
       "KQkYACkJGAApCRgAKQkYACkJGAApCRgAKQkYACkJGAApCRgAKfU3PUCLik0PAMD6eAUGQEoCBkBK\\\n",
       "AgZASgIGQEoCBkBKAgZASgIGQEoCBkBKAgZASgIGQEoCBkBKAgZASgIGQEoCBkBKAgZASgIGQEoC\\\n",
       "BkBKAgZASgIGQEoCBkBKAgZASgIGQEoCBkBKAgZASgIGQEoCBkBKAgZASgIGQEoCBkBKAgZASgIG\\\n",
       "QEoCBkBKAgZASgIGQEoCBkBK/wKmUKvT4u1evgAAAABJRU5ErkJggg==\\\n",
       "\"\n",
       "  frames[53] = \"data:image/png;base64,iVBORw0KGgoAAAANSUhEUgAAAbAAAAEgCAYAAADVKCZpAAAAOXRFWHRTb2Z0d2FyZQBNYXRwbG90\\\n",
       "bGliIHZlcnNpb24zLjUuMiwgaHR0cHM6Ly9tYXRwbG90bGliLm9yZy8qNh9FAAAACXBIWXMAAAsT\\\n",
       "AAALEwEAmpwYAAAKRklEQVR4nO3dS29cZxnA8efMzZc4tnNrTFOnpWURqEBskKASbNiwqZQvgFiw\\\n",
       "gw2bbit1w4dg20+AVJZllwqpC4giFKRUTS9pm9RJ7KS+z+WwqFiUOVET+8yZPuPfb/mOnTyRPPpn\\\n",
       "jt/znqIsywCAbFrTHgAAjkLAAEhJwABIScAASEnAAEhJwABIScAASEnAAEhJwABIScAASEnAAEhJ\\\n",
       "wABIScAASEnAAEhJwABIScAASEnAAEhJwABIScAASEnAAEhJwABIScAASEnAAEhJwABIScAASEnA\\\n",
       "AEhJwABIScAASEnAAEhJwABIScAASEnAAEhJwABIScAASKkz7QEaVE57AIDvoGLaAxyVT2AApCRg\\\n",
       "AKQkYACkJGAApCRgAKQkYACkJGAApCRgAKQkYACkJGAApCRgAKQkYACkJGAApCRgAKQkYACkJGAA\\\n",
       "pCRgAKQkYACkJGAApCRgAKQkYACkJGAApCRgAKQkYACkJGAApCRgAKQkYACkJGAApCRgAKQkYACk\\\n",
       "JGAApCRgAKQkYACkJGAApCRgAKQkYACkJGAApCRgAKQkYACkJGAApCRgAKQkYACkJGAApCRgAKQk\\\n",
       "YACkJGAApCRgAKQkYACkJGAApCRgAKQkYACkJGAApCRgAKQkYACkJGAApCRgAKQkYACkJGAApCRg\\\n",
       "AKQkYACkJGAApCRgAKQkYACkJGAApCRgAKQkYACkJGAApCRgAKQkYACkJGAApCRgAKQkYACkJGAA\\\n",
       "pCRgAKQkYACkJGAApCRgAKQkYACkJGAApCRgAKQkYACkJGAApCRgAKQkYACkJGAApCRgAKQkYACk\\\n",
       "JGAApCRgAKQkYACkJGAApCRgAKTUmfYAcFKUZRn3brwbO/c/jt7iSnQXV6O7uBK9xZVYOPt8dOaX\\\n",
       "pj0ipCJg0JDR4DAef3YzHn1yY+y1l37127jww19OYSrIyyVEaMjgYCd2H9ypfrHlrQjPyrsGGjLq\\\n",
       "H0R/d2tsvbu4Gqcv/qD5gSA5AYOGjAb9iHJ8vdWdi97SmeYHguQEDBpy8Hijcr0oiijafh0Nz0rA\\\n",
       "oCGP7vw7qj6CLV18JSKKxueB7AQMGlCWZQz2vqp87dSFl5odBmaEgEEDyuEgRoPDyte6p1YangZm\\\n",
       "g4BBA4aHu9Hfr/4EVhRFFIVLiPCsBAwacLD9MPY3vxhbn1u+EAtnLk1hIshPwKAB5XAQ5Wg4tt6Z\\\n",
       "O+USIhyRgEEDDne2KteLdjta7W6zw8CMEDBowNbH1yvXF89dbngSmB0CBg043H5Qub508eWGJ4HZ\\\n",
       "IWAwYeVoGOWo4gypiOgtnW14GpgdAgYTNjjYiWF/r/rFwlsQjsq7ByZs98GdOHg0fg7i/Or3Ys4n\\\n",
       "MDgyAYMJGw36UY4GY+u9pTPRWfAUZjgqAYMJKsvyiZcPW51eFC2n0MNRCRhM2P7Wvcr1+dU1R0jB\\\n",
       "MQgYTFQZWx/9q2K9iKU1T2GG4xAwmKQyKo+QiiJi7vS55ueBGSJgMEHDw70oh+MbOCIiiqLd8DQw\\\n",
       "WwQMJmj/8UYM+/tj64tnX4jO/KkpTASzQ8BggnYffBKD/e2x9fnVtWj3FqYwEcwOAYMJKcsyYjSq\\\n",
       "fK3dm4+i5RIiHIeAwcSU1Y9RKYroLZ2zhR6OScBgQsrRMHY2PhpbL1ptW+ihBgIGE1KORrH34M7Y\\\n",
       "elG0bKGHGggYTEg5HEQZ1Y9RabUdIQXHJWAwIYc7m1EOx29iXjy3Hq1ObwoTwWwRMJiQnS9vx2hw\\\n",
       "MLa+eP6ygEENBAwmoCy/3oFYdYxUZ/6UB1lCDbyLYBLKsvIEjiha0VlYtoUeaiBgMAGj4WHsPvh0\\\n",
       "bL3dnYul516ewkQwewQMJmDUP4ydex+OrRftTsydPjuFiWD2CBhMQFlWb58vooii3W14GphNAgYT\\\n",
       "MNh7XBmxhbOXomh520EdvJNgAr66e6tyB+LS2isO8YWaCBhMwN7DzyPK8ZPou4srEWEHItRBwKBm\\\n",
       "ZVlGWRGviIgoClvooSYCBjUbDQ6jv/d4bL0zvxSnzr84hYlgNgkY1Gywvx07X94eW2/3FmJ+dW0K\\\n",
       "E8FsEjCo2WjYj8H+9th60WpFyxZ6qI2AQc1Gg8PK9fmVi/ZvQI0EDGp28Ggjqh4Ddvr5K6FgUB8B\\\n",
       "g5ptfXw9qgrWW3KEFNRJwKBG5ZNOoY+IwhZ6qJWAQY3K4SBG/fGHWHYXV2J+5bkpTASzS8CgRoOD\\\n",
       "nejvjt8D1l1cibnlC1OYCGaXgEGNDrcfxt7m52PrRbvjFHqomYBBjcrRKKo2cMzZwAG1EzCo0eHu\\\n",
       "ZuX68guvNjwJzD4Bgxrt3v+0cn1u+bwdiFAzAYMabd/9oHK9KDwDDOomYFCTcjSsfIxKb+lsdBeX\\\n",
       "pzARzDYBg5r097djeLA3tj63/Fz0Tq02PxDMOAGDmuzd/zT2H90bW293e7bQwwQIGNSkHA0jKi4h\\\n",
       "dhaWbeCACehMewD4rtrc3IybN28+1dcWEdHd/mRsvYyIO4+L+OK99771z1hfX4/19fVnnBJOLgGD\\\n",
       "J7h27Vq8/vrrT/31f7z6s/jdb376jbVyVMbv//CnuHXn4bd+/1tvvRVvvvnms44JJ5aAQQ2KIuK1\\\n",
       "H38/Ptt/JR4NLsZi+1FcmrsVrdiP/mD8siJwfAIGNWi1OvHB3s+j2H4tymhFEWXcP1yP8wd/jd39\\\n",
       "/rTHg5kkYFCDH7366xie/kW04+sblssoYqO/Hv/4z+XY3B7fWg8cn12IUINudy7a7f///2ARW7sj\\\n",
       "lxBhQgQMatBr7UcrBt9YK8tR9Pe/ffMGcDQCBjVYHNyK1YN3YzTYjogy2sVhPN+9Efc+/Nu0R4OZ\\\n",
       "dWJ+B3b37t1pj0AyW1tbT/21f//n7bhx+89x6YVXY+XMi/GTy/Nx+cW9+Gzj6T+BbW9v+zmlcWtr\\\n",
       "a9Me4chOTMDefvvtaY9AMk97E/P/bGztxsbW+xHxflxrt+IvrSIO+sOn/v7r16/7OaVxb7zxxrRH\\\n",
       "OLKiLMefHjujTsw/lHq88847z3Qj83G5kZkpSXvOmd+BAZCSgAGQkoABkJKAAZCSgAGQkoABkNKJ\\\n",
       "uQ8MntXa2lpcvXq1sb/vypUrjf1dMAvcBwZwsrkPDACaJGAApCRgAKQkYACkJGAApCRgAKQkYACk\\\n",
       "JGAApCRgAKQkYACkJGAApCRgAKQkYACkJGAApCRgAKQkYACkJGAApCRgAKQkYACkJGAApCRgAKQk\\\n",
       "YACkJGAApCRgAKQkYACkJGAApCRgAKQkYACkJGAApCRgAKQkYACkJGAApCRgAKQkYACkJGAApCRg\\\n",
       "AKQkYACkJGAApCRgAKQkYACkJGAApCRgAKQkYACkJGAApCRgAKTUmfYADSqmPQAA9fEJDICUBAyA\\\n",
       "lAQMgJQEDICUBAyAlAQMgJQEDICUBAyAlAQMgJQEDICUBAyAlAQMgJQEDICUBAyAlAQMgJQEDICU\\\n",
       "BAyAlAQMgJQEDICUBAyAlAQMgJQEDICUBAyAlAQMgJQEDICUBAyAlAQMgJQEDICUBAyAlAQMgJQE\\\n",
       "DICUBAyAlAQMgJQEDICUBAyAlP4L1frUPK88KdQAAAAASUVORK5CYII=\\\n",
       "\"\n",
       "  frames[54] = \"data:image/png;base64,iVBORw0KGgoAAAANSUhEUgAAAbAAAAEgCAYAAADVKCZpAAAAOXRFWHRTb2Z0d2FyZQBNYXRwbG90\\\n",
       "bGliIHZlcnNpb24zLjUuMiwgaHR0cHM6Ly9tYXRwbG90bGliLm9yZy8qNh9FAAAACXBIWXMAAAsT\\\n",
       "AAALEwEAmpwYAAAK5UlEQVR4nO3du49c53nA4ffMbWfvy5tI+iIKVCzTThBESYAAqdKkSCNIVfr8\\\n",
       "D6qUJnAT5M+QahsQ3AgBHAhu4iQQIkuBACWGLK4oiVqKXHK517l9KVTY8oxgcndmjt/Z5+n4neHu\\\n",
       "S5CLH2fOd86pSikBANk06h4AAE5DwABIScAASEnAAEhJwABIScAASEnAAEhJwABIScAASEnAAEhJ\\\n",
       "wABIScAASEnAAEhJwABIScAASEnAAEhJwABIScAASEnAAEhJwABIScAASEnAAEhJwABIScAASEnA\\\n",
       "AEhJwABIScAASEnAAEhJwABIScAASEnAAEhJwABIScAASEnAAEipVfcAc1TqHgDgD1BV9wCn5R0Y\\\n",
       "ACkJGAApCRgAKQkYACkJGAApCRgAKQkYACkJGAApCRgAKQkYACkJGAApCRgAKQkYACkJGAApCRgA\\\n",
       "KQkYACkJGAApCRgAKQkYACkJGAApCRgAKQkYACkJGAApCRgAKQkYACkJGAApCRgAKQkYACkJGAAp\\\n",
       "CRgAKQkYACkJGAApCRgAKQkYACkJGAApCRgAKQkYACkJGAApCRgAKQkYACkJGAApCRgAKQkYACkJ\\\n",
       "GAApCRgAKQkYACkJGAApCRgAKQkYACkJGAApCRgAKQkYACkJGAApCRgAKQkYACkJGAApCRgAKQkY\\\n",
       "ACkJGAApCRgAKQkYACkJGAApCRgAKQkYACkJGAApCRgAKQkYACkJGAApCRgAKQkYACkJGAApCRgA\\\n",
       "KQkYACkJGAApCRgAKQkYACkJGAApCRgAKQkYACkJGAApCRgAKQkYACkJGAApCRgAKQkYACkJGAAp\\\n",
       "CRgAKQkYACkJGAApCRgAKQkYACkJGAApteoeAM6T/tFefPKLH8fKpe/G6pUb0Vm7GK3uajRaS1FV\\\n",
       "Vd3jQSoCBnN0sPNxPPjVf8X9//33iKoRndUL0d26Gtdf/LvY+Nb36x4PUvERIszRw9vvRRkNvvpF\\\n",
       "GUVv/37s3fkgTva+rHcwSEjAYE7KaBSjQW9svb2yGWtXb9YwEeQmYDAng5P9OLz/ydh6o92NpfVL\\\n",
       "NUwEuQkYzMng+DCOdj8bW6+qKqqm09HwtAQM5mRwsh9Rxtc3v/snEWEHIjwtAYM52f3onZhUsLVr\\\n",
       "z89/GFgAAgZzUEr5hp2GVTSabdeAwSkIGMzBqH8Sg97h2Hp382qsXH62hokgPwGDOTh+eDcOvvj1\\\n",
       "2HqruxrtlY0aJoL8BAzmYDTs/eYC5t/SWl6PqvJjCKfhJwfm4Pgb7rSx9dyfzXcQWCACBnPwaPv9\\\n",
       "ievdjctzngQWh4DBjJXRMHr7u+MHqkZUDRcww2kJGMxY/3AvBicHY+urzzwX3a1rNUwEi0HAYIZK\\\n",
       "KXH44NM42bs3dqzdXY9mZ7mGqWAxCBjM2PDkIKKMxtbbKxsuYIYzEDCYsf2d8eu/Iqq4cPMv5j4L\\\n",
       "LBIBg1kqJfbufDC+XkV0Vi/Mfx5YIAIGMzTsHUUZDcfWl9YuRbPTrWEiWBwCBjN08OXt6B89Hltf\\\n",
       "ufxstJbWapgIFoeAwYyUUuLk8Zcx6h+PHWstrXqIJZyRgMHMlOgfPJywXkV7ZdMORDgjAYMZKcNB\\\n",
       "7P76v8fWq2YrLtz88xomgsUiYDAjZTSaeP6rqqpoL6/XMBEsFgGDGTneuxdl2B9b725dj6rZrmEi\\\n",
       "WCwCBjPyaPv9GPaOxtbXr/9RNNu20MNZCRjMQCklRoOTiceaneUIGzjgzAQMZmA06MXBve2x9UZr\\\n",
       "KdauPm8HIkyBgMEMjPonsX/3/8bWG61OLF/6Tg0TweIRMJiBYX/83FfEVzsQnf+C6RAwmIGHt9+L\\\n",
       "0XAwtr5y5UZUDT92MA1+kmDKSilx/PCLic8A2/j2ragabiEF0yBgMGVlNIxh73DisWa7awMHTImA\\\n",
       "wZQNTw7j8MFnY+ut7lqsXHlu/gPBghIwmLLByUEcP/x8bL3ZWYnu1tUaJoLFJGAwZb39BxFlfL3Z\\\n",
       "6UbDI1RgagQMpuzRJ/8Tkwq2deNPI8L5L5gWAYMpKqXEyd6XE491t67PeRpYbAIGUzTsHU58hEpE\\\n",
       "RKPZtgMRpkjAYIpO9u7F4f3xeyAurV+OFbeQgqkSMJiiYe84yoQ7cLSW16OzdrGGiWBxCRhM0cG9\\\n",
       "2xPXm+2uR6jAlAkYTNHD2+9NXL/4/F/OeRJYfAIGUzIa9KMM+xOPLW0+M+dpYPEJGEzJ8aMv4mT/\\\n",
       "wdh6s7Mcrc6KHYgwZQIGU9J7fD8GR3tj692t69FZv1TDRLDYBAymoJQS/QnxiohodVej2Vme80Sw\\\n",
       "+AQMpqLEg4/emXik2Vn28SHMgIDBNJSI3v7uhANVXPreX819HDgPBAymoH/0KEaDk/EDVcTSmvNf\\\n",
       "MAsCBlOw9+mH0TsYfwfW7q5Ho92pYSJYfAIGZ1RK+erdVxl/hMrq1ZvRXt6oYSpYfAIGZ1VG33gL\\\n",
       "qVZ3Lapme84DwfkgYHBGo+EgHm2/P36gasTq5WftQIQZETA4ozLsR5nw8WHVaMba1edrmAjOBwGD\\\n",
       "Mzp+tDPxHohVVUVreb2GieB8EDA4g1JKPP7swxj2jsaOdVYvRKPZqmEqOB8EDM6ilBgc7088tPGd\\\n",
       "H7qFFMyQ/x7C77hz505sb28/0Wub1SjWdz6eeOzze7vx6S/+4/d+jVu3bsXFi57WDE9LwOB3vP76\\\n",
       "6/Haa6890Wsvri/HT37097HS/fpW+ePeIP7xn/4lfv7Lydvrf9ubb74ZL7300qlmhfNMwOAMLqx3\\\n",
       "Y1R14vbRD+JguBWbrZ24tvRRHJ3044OP79U9Hiw0AYMzePH7N+ODw7+NB8Nno0QVVfwgHg2eiUvD\\\n",
       "f4uDo17d48FCs4kDzmCw8Tdxf3gjSjQioooSzdg+/mH89Jfd6A9HdY8HC03A4JSW2s3YXN+IiK/f\\\n",
       "aaNEIz68sxcDAYOZEjA4pUsbK/HXt9Yj4uuhasQg+r3JT2cGpkfA4JRKlLgw/M/YHLwTVTmJiBLt\\\n",
       "6jiux89jb2fy05mB6Tk3mzju3r1b9wgk8fjx4yd63ef39+Mf/vkn8e0rP4vNy38cVy5/K1680Yje\\\n",
       "2m786tMHT/z9dnd3/fukNteuXat7hFM7NwF744036h6BJN59990nfu3+US8+3L4Xsf12VFXEvzYa\\\n",
       "UTWq6PWHT/w13n777djZ2TnFpHB2r776at0jnNq5CVjmvyTmq9/vx1tvvfXUv6+U+Grn4ZO3KyIi\\\n",
       "XnnlFRcywyk4BwZASgIGQEoCBkBKAgZASgIGQEoCBkBK52YbPTypF154IV5++eW5fb/MF5JCnapS\\\n",
       "St0zzMu5+YMCPIXq97/kD5OPEAFIScAASEnAAEhJwABIScAASEnAAEhJwABIScAASEnAAEhJwABI\\\n",
       "ScAASEnAAEhJwABIScAASEnAAEhJwABIScAASEnAAEhJwABIScAASEnAAEhJwABIScAASEnAAEhJ\\\n",
       "wABIScAASEnAAEhJwABIScAASEnAAEhJwABIScAASEnAAEhJwABIScAASEnAAEhJwABIScAASEnA\\\n",
       "AEhJwABIScAASEnAAEhJwABIScAASEnAAEipVfcAc1TVPQAA0+MdGAApCRgAKQkYACkJGAApCRgA\\\n",
       "KQkYACkJGAApCRgAKQkYACkJGAApCRgAKQkYACkJGAApCRgAKQkYACkJGAApCRgAKQkYACkJGAAp\\\n",
       "CRgAKQkYACkJGAApCRgAKQkYACkJGAApCRgAKQkYACkJGAApCRgAKQkYACkJGAApCRgAKQkYACkJ\\\n",
       "GAApCRgAKf0/nwz/k7GHEeUAAAAASUVORK5CYII=\\\n",
       "\"\n",
       "\n",
       "\n",
       "    /* set a timeout to make sure all the above elements are created before\n",
       "       the object is initialized. */\n",
       "    setTimeout(function() {\n",
       "        animc12441273a984c9583de2ba39ecaf166 = new Animation(frames, img_id, slider_id, 40.0,\n",
       "                                 loop_select_id);\n",
       "    }, 0);\n",
       "  })()\n",
       "</script>\n"
      ],
      "text/plain": [
       "<matplotlib.animation.FuncAnimation at 0x7fc5384dab50>"
      ]
     },
     "execution_count": 26,
     "metadata": {},
     "output_type": "execute_result"
    }
   ],
   "source": [
    "plot_animation(frames)"
   ]
  },
  {
   "cell_type": "markdown",
   "metadata": {},
   "source": [
    "Clearly the system is unstable and after just a few wobbles, the pole ends up too tilted: game over. We will need to be smarter than that!"
   ]
  },
  {
   "cell_type": "markdown",
   "metadata": {},
   "source": [
    "# Neural Network Policies"
   ]
  },
  {
   "cell_type": "markdown",
   "metadata": {},
   "source": [
    "Let's create a neural network that will take observations as inputs, and output the action to take for each observation. To choose an action, the network will estimate a probability for each action, then we will select an action randomly according to the estimated probabilities. In the case of the Cart-Pole environment, there are just two possible actions (left or right), so we only need one output neuron: it will output the probability `p` of the action 0 (left), and of course the probability of action 1 (right) will be `1 - p`."
   ]
  },
  {
   "cell_type": "code",
   "execution_count": 24,
   "metadata": {},
   "outputs": [],
   "source": [
    "tf.random.set_seed(42)\n",
    "np.random.seed(42)\n",
    "\n",
    "n_inputs = 4 # == env.observation_space.shape[0]\n",
    "\n",
    "model = keras.models.Sequential([\n",
    "    keras.layers.Dense(5, activation=\"elu\", input_shape=[n_inputs]),\n",
    "    keras.layers.Dense(1, activation=\"sigmoid\"),\n",
    "])"
   ]
  },
  {
   "cell_type": "markdown",
   "metadata": {},
   "source": [
    "In this particular environment, the past actions and observations can safely be ignored, since each observation contains the environment's full state. If there were some hidden state then you may need to consider past actions and observations in order to try to infer the hidden state of the environment. For example, if the environment only revealed the position of the cart but not its velocity, you would have to consider not only the current observation but also the previous observation in order to estimate the current velocity. Another example is if the observations are noisy: you may want to use the past few observations to estimate the most likely current state. Our problem is thus as simple as can be: the current observation is noise-free and contains the environment's full state."
   ]
  },
  {
   "cell_type": "markdown",
   "metadata": {},
   "source": [
    "You may wonder why we plan to pick a random action based on the probability given by the policy network, rather than just picking the action with the highest probability. This approach lets the agent find the right balance between _exploring_ new actions and _exploiting_ the actions that are known to work well. Here's an analogy: suppose you go to a restaurant for the first time, and all the dishes look equally appealing so you randomly pick one. If it turns out to be good, you can increase the probability to order it next time, but you shouldn't increase that probability to 100%, or else you will never try out the other dishes, some of which may be even better than the one you tried."
   ]
  },
  {
   "cell_type": "markdown",
   "metadata": {},
   "source": [
    "Let's write a small function that will run the model to play one episode, and return the frames so we can display an animation:"
   ]
  },
  {
   "cell_type": "code",
   "execution_count": 20,
   "metadata": {},
   "outputs": [],
   "source": [
    "def render_policy_net(model, n_max_steps=200, seed=42):\n",
    "    frames = []\n",
    "    env = gym.make(\"CartPole-v1\")\n",
    "    env.seed(seed)\n",
    "    np.random.seed(seed)\n",
    "    obs = env.reset()\n",
    "    for step in range(n_max_steps):\n",
    "        frames.append(env.render(mode=\"rgb_array\"))\n",
    "        left_proba = model.predict(obs.reshape(1, -1))\n",
    "        action = int(np.random.rand() > left_proba)\n",
    "        obs, reward, done, info = env.step(action)\n",
    "        if done:\n",
    "            break\n",
    "    env.close()\n",
    "    return frames"
   ]
  },
  {
   "cell_type": "markdown",
   "metadata": {},
   "source": [
    "Now let's look at how well this randomly initialized policy network performs:"
   ]
  },
  {
   "cell_type": "code",
   "execution_count": 21,
   "metadata": {},
   "outputs": [
    {
     "ename": "NameError",
     "evalue": "name 'model' is not defined",
     "output_type": "error",
     "traceback": [
      "\u001b[0;31m---------------------------------------------------------------------------\u001b[0m",
      "\u001b[0;31mNameError\u001b[0m                                 Traceback (most recent call last)",
      "\u001b[0;32m/tmp/ipykernel_143/2483867638.py\u001b[0m in \u001b[0;36m<module>\u001b[0;34m\u001b[0m\n\u001b[0;32m----> 1\u001b[0;31m \u001b[0mframes\u001b[0m \u001b[0;34m=\u001b[0m \u001b[0mrender_policy_net\u001b[0m\u001b[0;34m(\u001b[0m\u001b[0mmodel\u001b[0m\u001b[0;34m)\u001b[0m\u001b[0;34m\u001b[0m\u001b[0;34m\u001b[0m\u001b[0m\n\u001b[0m\u001b[1;32m      2\u001b[0m \u001b[0mplot_animation\u001b[0m\u001b[0;34m(\u001b[0m\u001b[0mframes\u001b[0m\u001b[0;34m)\u001b[0m\u001b[0;34m\u001b[0m\u001b[0;34m\u001b[0m\u001b[0m\n",
      "\u001b[0;31mNameError\u001b[0m: name 'model' is not defined"
     ]
    }
   ],
   "source": [
    "frames = render_policy_net(model)\n",
    "plot_animation(frames)"
   ]
  },
  {
   "cell_type": "markdown",
   "metadata": {},
   "source": [
    "Yeah... pretty bad. The neural network will have to learn to do better. First let's see if it is capable of learning the basic policy we used earlier: go left if the pole is tilting left, and go right if it is tilting right."
   ]
  },
  {
   "cell_type": "markdown",
   "metadata": {},
   "source": [
    "We can make the same net play in 50 different environments in parallel (this will give us a diverse training batch at each step), and train for 5000 iterations. We also reset environments when they are done. We train the model using a custom training loop so we can easily use the predictions at each training step to advance the environments."
   ]
  },
  {
   "cell_type": "code",
   "execution_count": 27,
   "metadata": {},
   "outputs": [
    {
     "name": "stderr",
     "output_type": "stream",
     "text": [
      "WARNING: Logging before flag parsing goes to stderr.\n",
      "W0526 22:48:21.481136 140735810999168 deprecation.py:323] From /Users/ageron/miniconda3/envs/tf2/lib/python3.6/site-packages/tensorflow/python/ops/math_grad.py:1220: add_dispatch_support.<locals>.wrapper (from tensorflow.python.ops.array_ops) is deprecated and will be removed in a future version.\n",
      "Instructions for updating:\n",
      "Use tf.where in 2.0, which has the same broadcast rule as np.where\n"
     ]
    },
    {
     "name": "stdout",
     "output_type": "stream",
     "text": [
      "Iteration: 4999, Loss: 0.094"
     ]
    }
   ],
   "source": [
    "n_environments = 50\n",
    "n_iterations = 5000\n",
    "\n",
    "envs = [gym.make(\"CartPole-v1\") for _ in range(n_environments)]\n",
    "for index, env in enumerate(envs):\n",
    "    env.seed(index)\n",
    "np.random.seed(42)\n",
    "observations = [env.reset() for env in envs]\n",
    "optimizer = keras.optimizers.RMSprop()\n",
    "loss_fn = keras.losses.binary_crossentropy\n",
    "\n",
    "for iteration in range(n_iterations):\n",
    "    # if angle < 0, we want proba(left) = 1., or else proba(left) = 0.\n",
    "    target_probas = np.array([([1.] if obs[2] < 0 else [0.])\n",
    "                              for obs in observations])\n",
    "    with tf.GradientTape() as tape:\n",
    "        left_probas = model(np.array(observations))\n",
    "        loss = tf.reduce_mean(loss_fn(target_probas, left_probas))\n",
    "    print(\"\\rIteration: {}, Loss: {:.3f}\".format(iteration, loss.numpy()), end=\"\")\n",
    "    grads = tape.gradient(loss, model.trainable_variables)\n",
    "    optimizer.apply_gradients(zip(grads, model.trainable_variables))\n",
    "    actions = (np.random.rand(n_environments, 1) > left_probas.numpy()).astype(np.int32)\n",
    "    for env_index, env in enumerate(envs):\n",
    "        obs, reward, done, info = env.step(actions[env_index][0])\n",
    "        observations[env_index] = obs if not done else env.reset()\n",
    "\n",
    "for env in envs:\n",
    "    env.close()"
   ]
  },
  {
   "cell_type": "code",
   "execution_count": 28,
   "metadata": {},
   "outputs": [],
   "source": [
    "frames = render_policy_net(model)\n",
    "plot_animation(frames)"
   ]
  },
  {
   "cell_type": "markdown",
   "metadata": {},
   "source": [
    "Looks like it learned the policy correctly. Now let's see if it can learn a better policy on its own. One that does not wobble as much."
   ]
  },
  {
   "cell_type": "markdown",
   "metadata": {},
   "source": [
    "# Policy Gradients"
   ]
  },
  {
   "cell_type": "markdown",
   "metadata": {},
   "source": [
    "To train this neural network we will need to define the target probabilities `y`. If an action is good we should increase its probability, and conversely if it is bad we should reduce it. But how do we know whether an action is good or bad? The problem is that most actions have delayed effects, so when you win or lose points in an episode, it is not clear which actions contributed to this result: was it just the last action? Or the last 10? Or just one action 50 steps earlier? This is called the _credit assignment problem_.\n",
    "\n",
    "The _Policy Gradients_ algorithm tackles this problem by first playing multiple episodes, then making the actions in good episodes slightly more likely, while actions in bad episodes are made slightly less likely. First we play, then we go back and think about what we did."
   ]
  },
  {
   "cell_type": "markdown",
   "metadata": {},
   "source": [
    "Let's start by creating a function to play a single step using the model. We will also pretend for now that whatever action it takes is the right one, so we can compute the loss and its gradients (we will just save these gradients for now, and modify them later depending on how good or bad the action turned out to be):"
   ]
  },
  {
   "cell_type": "code",
   "execution_count": 29,
   "metadata": {},
   "outputs": [],
   "source": [
    "def play_one_step(env, obs, model, loss_fn):\n",
    "    with tf.GradientTape() as tape:\n",
    "        left_proba = model(obs[np.newaxis])\n",
    "        action = (tf.random.uniform([1, 1]) > left_proba)\n",
    "        y_target = tf.constant([[1.]]) - tf.cast(action, tf.float32)\n",
    "        loss = tf.reduce_mean(loss_fn(y_target, left_proba))\n",
    "    grads = tape.gradient(loss, model.trainable_variables)\n",
    "    obs, reward, done, info = env.step(int(action[0, 0].numpy()))\n",
    "    return obs, reward, done, grads"
   ]
  },
  {
   "cell_type": "markdown",
   "metadata": {},
   "source": [
    "If `left_proba` is high, then `action` will most likely be `False` (since a random number uniformally sampled between 0 and 1 will probably not be greater than `left_proba`). And `False` means 0 when you cast it to a number, so `y_target` would be equal to 1 - 0 = 1. In other words, we set the target to 1, meaning we pretend that the probability of going left should have been 100% (so we took the right action)."
   ]
  },
  {
   "cell_type": "markdown",
   "metadata": {},
   "source": [
    "Now let's create another function that will rely on the `play_one_step()` function to play multiple episodes, returning all the rewards and gradients, for each episode and each step:"
   ]
  },
  {
   "cell_type": "code",
   "execution_count": 30,
   "metadata": {},
   "outputs": [],
   "source": [
    "def play_multiple_episodes(env, n_episodes, n_max_steps, model, loss_fn):\n",
    "    all_rewards = []\n",
    "    all_grads = []\n",
    "    for episode in range(n_episodes):\n",
    "        current_rewards = []\n",
    "        current_grads = []\n",
    "        obs = env.reset()\n",
    "        for step in range(n_max_steps):\n",
    "            obs, reward, done, grads = play_one_step(env, obs, model, loss_fn)\n",
    "            current_rewards.append(reward)\n",
    "            current_grads.append(grads)\n",
    "            if done:\n",
    "                break\n",
    "        all_rewards.append(current_rewards)\n",
    "        all_grads.append(current_grads)\n",
    "    return all_rewards, all_grads"
   ]
  },
  {
   "cell_type": "markdown",
   "metadata": {},
   "source": [
    "The Policy Gradients algorithm uses the model to play the episode several times (e.g., 10 times), then it goes back and looks at all the rewards, discounts them and normalizes them. So let's create couple functions for that: the first will compute discounted rewards; the second will normalize the discounted rewards across many episodes."
   ]
  },
  {
   "cell_type": "code",
   "execution_count": 31,
   "metadata": {},
   "outputs": [],
   "source": [
    "def discount_rewards(rewards, discount_rate):\n",
    "    discounted = np.array(rewards)\n",
    "    for step in range(len(rewards) - 2, -1, -1):\n",
    "        discounted[step] += discounted[step + 1] * discount_rate\n",
    "    return discounted\n",
    "\n",
    "def discount_and_normalize_rewards(all_rewards, discount_rate):\n",
    "    all_discounted_rewards = [discount_rewards(rewards, discount_rate)\n",
    "                              for rewards in all_rewards]\n",
    "    flat_rewards = np.concatenate(all_discounted_rewards)\n",
    "    reward_mean = flat_rewards.mean()\n",
    "    reward_std = flat_rewards.std()\n",
    "    return [(discounted_rewards - reward_mean) / reward_std\n",
    "            for discounted_rewards in all_discounted_rewards]"
   ]
  },
  {
   "cell_type": "markdown",
   "metadata": {},
   "source": [
    "Say there were 3 actions, and after each action there was a reward: first 10, then 0, then -50. If we use a discount factor of 80%, then the 3rd action will get -50 (full credit for the last reward), but the 2nd action will only get -40 (80% credit for the last reward), and the 1st action will get 80% of -40 (-32) plus full credit for the first reward (+10), which leads to a discounted reward of -22:"
   ]
  },
  {
   "cell_type": "code",
   "execution_count": 32,
   "metadata": {},
   "outputs": [
    {
     "data": {
      "text/plain": [
       "array([-22, -40, -50])"
      ]
     },
     "execution_count": 32,
     "metadata": {},
     "output_type": "execute_result"
    }
   ],
   "source": [
    "discount_rewards([10, 0, -50], discount_rate=0.8)"
   ]
  },
  {
   "cell_type": "markdown",
   "metadata": {},
   "source": [
    "To normalize all discounted rewards across all episodes, we compute the mean and standard deviation of all the discounted rewards, and we subtract the mean from each discounted reward, and divide by the standard deviation:"
   ]
  },
  {
   "cell_type": "code",
   "execution_count": 33,
   "metadata": {
    "scrolled": true
   },
   "outputs": [
    {
     "data": {
      "text/plain": [
       "[array([-0.28435071, -0.86597718, -1.18910299]),\n",
       " array([1.26665318, 1.0727777 ])]"
      ]
     },
     "execution_count": 33,
     "metadata": {},
     "output_type": "execute_result"
    }
   ],
   "source": [
    "discount_and_normalize_rewards([[10, 0, -50], [10, 20]], discount_rate=0.8)"
   ]
  },
  {
   "cell_type": "code",
   "execution_count": 34,
   "metadata": {},
   "outputs": [],
   "source": [
    "n_iterations = 150\n",
    "n_episodes_per_update = 10\n",
    "n_max_steps = 200\n",
    "discount_rate = 0.95"
   ]
  },
  {
   "cell_type": "code",
   "execution_count": 35,
   "metadata": {},
   "outputs": [],
   "source": [
    "optimizer = keras.optimizers.Adam(lr=0.01)\n",
    "loss_fn = keras.losses.binary_crossentropy"
   ]
  },
  {
   "cell_type": "code",
   "execution_count": 36,
   "metadata": {},
   "outputs": [],
   "source": [
    "np.random.seed(42)\n",
    "tf.random.set_seed(42)\n",
    "\n",
    "model = keras.models.Sequential([\n",
    "    keras.layers.Dense(5, activation=\"elu\", input_shape=[4]),\n",
    "    keras.layers.Dense(1, activation=\"sigmoid\"),\n",
    "])"
   ]
  },
  {
   "cell_type": "code",
   "execution_count": 37,
   "metadata": {},
   "outputs": [
    {
     "name": "stdout",
     "output_type": "stream",
     "text": [
      "Iteration: 149, mean rewards: 191.3"
     ]
    }
   ],
   "source": [
    "env = gym.make(\"CartPole-v1\")\n",
    "env.seed(42);\n",
    "\n",
    "for iteration in range(n_iterations):\n",
    "    all_rewards, all_grads = play_multiple_episodes(\n",
    "        env, n_episodes_per_update, n_max_steps, model, loss_fn)\n",
    "    total_rewards = sum(map(sum, all_rewards))                     # Not shown in the book\n",
    "    print(\"\\rIteration: {}, mean rewards: {:.1f}\".format(          # Not shown\n",
    "        iteration, total_rewards / n_episodes_per_update), end=\"\") # Not shown\n",
    "    all_final_rewards = discount_and_normalize_rewards(all_rewards,\n",
    "                                                       discount_rate)\n",
    "    all_mean_grads = []\n",
    "    for var_index in range(len(model.trainable_variables)):\n",
    "        mean_grads = tf.reduce_mean(\n",
    "            [final_reward * all_grads[episode_index][step][var_index]\n",
    "             for episode_index, final_rewards in enumerate(all_final_rewards)\n",
    "                 for step, final_reward in enumerate(final_rewards)], axis=0)\n",
    "        all_mean_grads.append(mean_grads)\n",
    "    optimizer.apply_gradients(zip(all_mean_grads, model.trainable_variables))\n",
    "\n",
    "env.close()"
   ]
  },
  {
   "cell_type": "code",
   "execution_count": 38,
   "metadata": {},
   "outputs": [],
   "source": [
    "frames = render_policy_net(model)\n",
    "plot_animation(frames)"
   ]
  },
  {
   "cell_type": "markdown",
   "metadata": {},
   "source": [
    "# Markov Chains"
   ]
  },
  {
   "cell_type": "code",
   "execution_count": 39,
   "metadata": {},
   "outputs": [
    {
     "name": "stdout",
     "output_type": "stream",
     "text": [
      "States: 0 0 3 \n",
      "States: 0 1 2 1 2 1 2 1 2 1 3 \n",
      "States: 0 1 2 1 2 1 2 1 2 1 2 1 2 1 2 1 2 1 2 1 2 1 3 \n",
      "States: 0 3 \n",
      "States: 0 1 2 1 2 1 2 1 2 1 2 1 2 1 2 1 3 \n",
      "States: 0 1 3 \n",
      "States: 0 1 2 1 2 1 2 1 2 1 2 1 2 1 2 1 2 1 2 1 2 1 2 1 2 1 2 1 2 1 2 1 2 1 2 1 2 1 2 1 2 1 2 1 2 1 2 1 2 1 ...\n",
      "States: 0 0 3 \n",
      "States: 0 0 0 1 2 1 2 1 3 \n",
      "States: 0 1 2 1 2 1 2 1 2 1 2 1 2 1 2 1 2 1 2 1 2 1 3 \n"
     ]
    }
   ],
   "source": [
    "np.random.seed(42)\n",
    "\n",
    "transition_probabilities = [ # shape=[s, s']\n",
    "        [0.7, 0.2, 0.0, 0.1],  # from s0 to s0, s1, s2, s3\n",
    "        [0.0, 0.0, 0.9, 0.1],  # from s1 to ...\n",
    "        [0.0, 1.0, 0.0, 0.0],  # from s2 to ...\n",
    "        [0.0, 0.0, 0.0, 1.0]]  # from s3 to ...\n",
    "\n",
    "n_max_steps = 50\n",
    "\n",
    "def print_sequence():\n",
    "    current_state = 0\n",
    "    print(\"States:\", end=\" \")\n",
    "    for step in range(n_max_steps):\n",
    "        print(current_state, end=\" \")\n",
    "        if current_state == 3:\n",
    "            break\n",
    "        current_state = np.random.choice(range(4), p=transition_probabilities[current_state])\n",
    "    else:\n",
    "        print(\"...\", end=\"\")\n",
    "    print()\n",
    "\n",
    "for _ in range(10):\n",
    "    print_sequence()"
   ]
  },
  {
   "cell_type": "markdown",
   "metadata": {},
   "source": [
    "# Markov Decision Process"
   ]
  },
  {
   "cell_type": "markdown",
   "metadata": {},
   "source": [
    "Let's define some transition probabilities, rewards and possible actions. For example, in state s0, if action a0 is chosen then with proba 0.7 we will go to state s0 with reward +10, with probability 0.3 we will go to state s1 with no reward, and with never go to state s2 (so the transition probabilities are `[0.7, 0.3, 0.0]`, and the rewards are `[+10, 0, 0]`):"
   ]
  },
  {
   "cell_type": "code",
   "execution_count": 40,
   "metadata": {},
   "outputs": [],
   "source": [
    "transition_probabilities = [ # shape=[s, a, s']\n",
    "        [[0.7, 0.3, 0.0], [1.0, 0.0, 0.0], [0.8, 0.2, 0.0]],\n",
    "        [[0.0, 1.0, 0.0], None, [0.0, 0.0, 1.0]],\n",
    "        [None, [0.8, 0.1, 0.1], None]]\n",
    "rewards = [ # shape=[s, a, s']\n",
    "        [[+10, 0, 0], [0, 0, 0], [0, 0, 0]],\n",
    "        [[0, 0, 0], [0, 0, 0], [0, 0, -50]],\n",
    "        [[0, 0, 0], [+40, 0, 0], [0, 0, 0]]]\n",
    "possible_actions = [[0, 1, 2], [0, 2], [1]]"
   ]
  },
  {
   "cell_type": "markdown",
   "metadata": {},
   "source": [
    "# Q-Value Iteration"
   ]
  },
  {
   "cell_type": "code",
   "execution_count": 41,
   "metadata": {},
   "outputs": [],
   "source": [
    "Q_values = np.full((3, 3), -np.inf) # -np.inf for impossible actions\n",
    "for state, actions in enumerate(possible_actions):\n",
    "    Q_values[state, actions] = 0.0  # for all possible actions"
   ]
  },
  {
   "cell_type": "code",
   "execution_count": 42,
   "metadata": {},
   "outputs": [],
   "source": [
    "gamma = 0.90  # the discount factor\n",
    "\n",
    "history1 = [] # Not shown in the book (for the figure below)\n",
    "for iteration in range(50):\n",
    "    Q_prev = Q_values.copy()\n",
    "    history1.append(Q_prev) # Not shown\n",
    "    for s in range(3):\n",
    "        for a in possible_actions[s]:\n",
    "            Q_values[s, a] = np.sum([\n",
    "                    transition_probabilities[s][a][sp]\n",
    "                    * (rewards[s][a][sp] + gamma * np.max(Q_prev[sp]))\n",
    "                for sp in range(3)])\n",
    "\n",
    "history1 = np.array(history1) # Not shown"
   ]
  },
  {
   "cell_type": "code",
   "execution_count": 43,
   "metadata": {},
   "outputs": [
    {
     "data": {
      "text/plain": [
       "array([[18.91891892, 17.02702702, 13.62162162],\n",
       "       [ 0.        ,        -inf, -4.87971488],\n",
       "       [       -inf, 50.13365013,        -inf]])"
      ]
     },
     "execution_count": 43,
     "metadata": {},
     "output_type": "execute_result"
    }
   ],
   "source": [
    "Q_values"
   ]
  },
  {
   "cell_type": "code",
   "execution_count": 44,
   "metadata": {},
   "outputs": [
    {
     "data": {
      "text/plain": [
       "array([0, 0, 1])"
      ]
     },
     "execution_count": 44,
     "metadata": {},
     "output_type": "execute_result"
    }
   ],
   "source": [
    "np.argmax(Q_values, axis=1)"
   ]
  },
  {
   "cell_type": "markdown",
   "metadata": {},
   "source": [
    "The optimal policy for this MDP, when using a discount factor of 0.90, is to choose action a0 when in state s0, and choose action a0 when in state s1, and finally choose action a1 (the only possible action) when in state s2."
   ]
  },
  {
   "cell_type": "markdown",
   "metadata": {},
   "source": [
    "Let's try again with a discount factor of 0.95:"
   ]
  },
  {
   "cell_type": "code",
   "execution_count": 45,
   "metadata": {},
   "outputs": [],
   "source": [
    "Q_values = np.full((3, 3), -np.inf) # -np.inf for impossible actions\n",
    "for state, actions in enumerate(possible_actions):\n",
    "    Q_values[state, actions] = 0.0  # for all possible actions"
   ]
  },
  {
   "cell_type": "code",
   "execution_count": 46,
   "metadata": {},
   "outputs": [],
   "source": [
    "gamma = 0.95  # the discount factor\n",
    "\n",
    "for iteration in range(50):\n",
    "    Q_prev = Q_values.copy()\n",
    "    for s in range(3):\n",
    "        for a in possible_actions[s]:\n",
    "            Q_values[s, a] = np.sum([\n",
    "                    transition_probabilities[s][a][sp]\n",
    "                    * (rewards[s][a][sp] + gamma * np.max(Q_prev[sp]))\n",
    "                for sp in range(3)])"
   ]
  },
  {
   "cell_type": "code",
   "execution_count": 47,
   "metadata": {},
   "outputs": [
    {
     "data": {
      "text/plain": [
       "array([[21.73304188, 20.63807938, 16.70138772],\n",
       "       [ 0.95462106,        -inf,  1.01361207],\n",
       "       [       -inf, 53.70728682,        -inf]])"
      ]
     },
     "execution_count": 47,
     "metadata": {},
     "output_type": "execute_result"
    }
   ],
   "source": [
    "Q_values"
   ]
  },
  {
   "cell_type": "code",
   "execution_count": 48,
   "metadata": {},
   "outputs": [
    {
     "data": {
      "text/plain": [
       "array([0, 2, 1])"
      ]
     },
     "execution_count": 48,
     "metadata": {},
     "output_type": "execute_result"
    }
   ],
   "source": [
    "np.argmax(Q_values, axis=1)"
   ]
  },
  {
   "cell_type": "markdown",
   "metadata": {},
   "source": [
    "Now the policy has changed! In state s1, we now prefer to go through the fire (choose action a2). This is because the discount factor is larger so the agent values the future more, and it is therefore ready to pay an immediate penalty in order to get more future rewards."
   ]
  },
  {
   "cell_type": "markdown",
   "metadata": {},
   "source": [
    "# Q-Learning"
   ]
  },
  {
   "cell_type": "markdown",
   "metadata": {},
   "source": [
    "Q-Learning works by watching an agent play (e.g., randomly) and gradually improving its estimates of the Q-Values. Once it has accurate Q-Value estimates (or close enough), then the optimal policy consists in choosing the action that has the highest Q-Value (i.e., the greedy policy)."
   ]
  },
  {
   "cell_type": "markdown",
   "metadata": {},
   "source": [
    "We will need to simulate an agent moving around in the environment, so let's define a function to perform some action and get the new state and a reward:"
   ]
  },
  {
   "cell_type": "code",
   "execution_count": 49,
   "metadata": {},
   "outputs": [],
   "source": [
    "def step(state, action):\n",
    "    probas = transition_probabilities[state][action]\n",
    "    next_state = np.random.choice([0, 1, 2], p=probas)\n",
    "    reward = rewards[state][action][next_state]\n",
    "    return next_state, reward"
   ]
  },
  {
   "cell_type": "markdown",
   "metadata": {},
   "source": [
    "We also need an exploration policy, which can be any policy, as long as it visits every possible state many times. We will just use a random policy, since the state space is very small:"
   ]
  },
  {
   "cell_type": "code",
   "execution_count": 50,
   "metadata": {},
   "outputs": [],
   "source": [
    "def exploration_policy(state):\n",
    "    return np.random.choice(possible_actions[state])"
   ]
  },
  {
   "cell_type": "markdown",
   "metadata": {},
   "source": [
    "Now let's initialize the Q-Values like earlier, and run the Q-Learning algorithm:"
   ]
  },
  {
   "cell_type": "code",
   "execution_count": 51,
   "metadata": {},
   "outputs": [],
   "source": [
    "np.random.seed(42)\n",
    "\n",
    "Q_values = np.full((3, 3), -np.inf)\n",
    "for state, actions in enumerate(possible_actions):\n",
    "    Q_values[state][actions] = 0\n",
    "\n",
    "alpha0 = 0.05 # initial learning rate\n",
    "decay = 0.005 # learning rate decay\n",
    "gamma = 0.90 # discount factor\n",
    "state = 0 # initial state\n",
    "history2 = [] # Not shown in the book\n",
    "\n",
    "for iteration in range(10000):\n",
    "    history2.append(Q_values.copy()) # Not shown\n",
    "    action = exploration_policy(state)\n",
    "    next_state, reward = step(state, action)\n",
    "    next_value = np.max(Q_values[next_state]) # greedy policy at the next step\n",
    "    alpha = alpha0 / (1 + iteration * decay)\n",
    "    Q_values[state, action] *= 1 - alpha\n",
    "    Q_values[state, action] += alpha * (reward + gamma * next_value)\n",
    "    state = next_state\n",
    "\n",
    "history2 = np.array(history2) # Not shown"
   ]
  },
  {
   "cell_type": "code",
   "execution_count": 52,
   "metadata": {},
   "outputs": [
    {
     "data": {
      "text/plain": [
       "array([[18.77621289, 17.2238872 , 13.74543343],\n",
       "       [ 0.        ,        -inf, -8.00485647],\n",
       "       [       -inf, 49.40208921,        -inf]])"
      ]
     },
     "execution_count": 52,
     "metadata": {},
     "output_type": "execute_result"
    }
   ],
   "source": [
    "Q_values"
   ]
  },
  {
   "cell_type": "code",
   "execution_count": 53,
   "metadata": {},
   "outputs": [
    {
     "data": {
      "text/plain": [
       "array([0, 0, 1])"
      ]
     },
     "execution_count": 53,
     "metadata": {},
     "output_type": "execute_result"
    }
   ],
   "source": [
    "np.argmax(Q_values, axis=1) # optimal action for each state"
   ]
  },
  {
   "cell_type": "code",
   "execution_count": 54,
   "metadata": {},
   "outputs": [
    {
     "name": "stdout",
     "output_type": "stream",
     "text": [
      "Saving figure q_value_plot\n"
     ]
    },
    {
     "data": {
      "image/png": "[encoded data removed]",
      "text/plain": [
       "<Figure size 720x288 with 2 Axes>"
      ]
     },
     "metadata": {
      "needs_background": "light"
     },
     "output_type": "display_data"
    }
   ],
   "source": [
    "true_Q_value = history1[-1, 0, 0]\n",
    "\n",
    "fig, axes = plt.subplots(1, 2, figsize=(10, 4), sharey=True)\n",
    "axes[0].set_ylabel(\"Q-Value$(s_0, a_0)$\", fontsize=14)\n",
    "axes[0].set_title(\"Q-Value Iteration\", fontsize=14)\n",
    "axes[1].set_title(\"Q-Learning\", fontsize=14)\n",
    "for ax, width, history in zip(axes, (50, 10000), (history1, history2)):\n",
    "    ax.plot([0, width], [true_Q_value, true_Q_value], \"k--\")\n",
    "    ax.plot(np.arange(width), history[:, 0, 0], \"b-\", linewidth=2)\n",
    "    ax.set_xlabel(\"Iterations\", fontsize=14)\n",
    "    ax.axis([0, width, 0, 24])\n",
    "\n",
    "save_fig(\"q_value_plot\")"
   ]
  },
  {
   "cell_type": "markdown",
   "metadata": {},
   "source": [
    "# Deep Q-Network"
   ]
  },
  {
   "cell_type": "markdown",
   "metadata": {},
   "source": [
    "Let's build the DQN. Given a state, it will estimate, for each possible action, the sum of discounted future rewards it can expect after it plays that action (but before it sees its outcome):"
   ]
  },
  {
   "cell_type": "code",
   "execution_count": 55,
   "metadata": {},
   "outputs": [],
   "source": [
    "tf.random.set_seed(42)\n",
    "np.random.seed(42)\n",
    "\n",
    "env = gym.make(\"CartPole-v1\")\n",
    "input_shape = [4] # == env.observation_space.shape\n",
    "n_outputs = 2 # == env.action_space.n\n",
    "\n",
    "model = keras.models.Sequential([\n",
    "    keras.layers.Dense(32, activation=\"elu\", input_shape=input_shape),\n",
    "    keras.layers.Dense(32, activation=\"elu\"),\n",
    "    keras.layers.Dense(n_outputs)\n",
    "])"
   ]
  },
  {
   "cell_type": "markdown",
   "metadata": {},
   "source": [
    "To select an action using this DQN, we just pick the action with the largest predicted Q-value. However, to ensure that the agent explores the environment, we choose a random action with probability `epsilon`."
   ]
  },
  {
   "cell_type": "code",
   "execution_count": 56,
   "metadata": {},
   "outputs": [],
   "source": [
    "def epsilon_greedy_policy(state, epsilon=0):\n",
    "    if np.random.rand() < epsilon:\n",
    "        return np.random.randint(2)\n",
    "    else:\n",
    "        Q_values = model.predict(state[np.newaxis])\n",
    "        return np.argmax(Q_values[0])"
   ]
  },
  {
   "cell_type": "markdown",
   "metadata": {},
   "source": [
    "We will also need a replay memory. It will contain the agent's experiences, in the form of tuples: `(obs, action, reward, next_obs, done)`. We can use the `deque` class for that:"
   ]
  },
  {
   "cell_type": "code",
   "execution_count": 57,
   "metadata": {},
   "outputs": [],
   "source": [
    "from collections import deque\n",
    "\n",
    "replay_memory = deque(maxlen=2000)"
   ]
  },
  {
   "cell_type": "markdown",
   "metadata": {},
   "source": [
    "And let's create a function to sample experiences from the replay memory. It will return 5 NumPy arrays: `[obs, actions, rewards, next_obs, dones]`."
   ]
  },
  {
   "cell_type": "code",
   "execution_count": 58,
   "metadata": {},
   "outputs": [],
   "source": [
    "def sample_experiences(batch_size):\n",
    "    indices = np.random.randint(len(replay_memory), size=batch_size)\n",
    "    batch = [replay_memory[index] for index in indices]\n",
    "    states, actions, rewards, next_states, dones = [\n",
    "        np.array([experience[field_index] for experience in batch])\n",
    "        for field_index in range(5)]\n",
    "    return states, actions, rewards, next_states, dones"
   ]
  },
  {
   "cell_type": "markdown",
   "metadata": {},
   "source": [
    "Now we can create a function that will use the DQN to play one step, and record its experience in the replay memory:"
   ]
  },
  {
   "cell_type": "code",
   "execution_count": 59,
   "metadata": {},
   "outputs": [],
   "source": [
    "def play_one_step(env, state, epsilon):\n",
    "    action = epsilon_greedy_policy(state, epsilon)\n",
    "    next_state, reward, done, info = env.step(action)\n",
    "    replay_memory.append((state, action, reward, next_state, done))\n",
    "    return next_state, reward, done, info"
   ]
  },
  {
   "cell_type": "markdown",
   "metadata": {},
   "source": [
    "Lastly, let's create a function that will sample some experiences from the replay memory and perform a training step:"
   ]
  },
  {
   "cell_type": "code",
   "execution_count": 60,
   "metadata": {},
   "outputs": [],
   "source": [
    "batch_size = 32\n",
    "discount_rate = 0.95\n",
    "optimizer = keras.optimizers.Adam(lr=1e-3)\n",
    "loss_fn = keras.losses.mean_squared_error\n",
    "\n",
    "def training_step(batch_size):\n",
    "    experiences = sample_experiences(batch_size)\n",
    "    states, actions, rewards, next_states, dones = experiences\n",
    "    next_Q_values = model.predict(next_states)\n",
    "    max_next_Q_values = np.max(next_Q_values, axis=1)\n",
    "    target_Q_values = rewards + (1 - dones) * discount_rate * max_next_Q_values\n",
    "    mask = tf.one_hot(actions, n_outputs)\n",
    "    with tf.GradientTape() as tape:\n",
    "        all_Q_values = model(states)\n",
    "        Q_values = tf.reduce_sum(all_Q_values * mask, axis=1, keepdims=True)\n",
    "        loss = tf.reduce_mean(loss_fn(target_Q_values, Q_values))\n",
    "    grads = tape.gradient(loss, model.trainable_variables)\n",
    "    optimizer.apply_gradients(zip(grads, model.trainable_variables))"
   ]
  },
  {
   "cell_type": "markdown",
   "metadata": {},
   "source": [
    "And now, let's train the model!"
   ]
  },
  {
   "cell_type": "code",
   "execution_count": 61,
   "metadata": {},
   "outputs": [],
   "source": [
    "env.seed(42)\n",
    "np.random.seed(42)\n",
    "tf.random.set_seed(42)\n",
    "\n",
    "rewards = [] \n",
    "best_score = 0"
   ]
  },
  {
   "cell_type": "code",
   "execution_count": 62,
   "metadata": {
    "scrolled": true
   },
   "outputs": [
    {
     "name": "stdout",
     "output_type": "stream",
     "text": [
      "Episode: 599, Steps: 91, eps: 0.0100"
     ]
    }
   ],
   "source": [
    "for episode in range(600):\n",
    "    obs = env.reset()    \n",
    "    for step in range(200):\n",
    "        epsilon = max(1 - episode / 500, 0.01)\n",
    "        obs, reward, done, info = play_one_step(env, obs, epsilon)\n",
    "        if done:\n",
    "            break\n",
    "    rewards.append(step) # Not shown in the book\n",
    "    if step > best_score: # Not shown\n",
    "        best_weights = model.get_weights() # Not shown\n",
    "        best_score = step # Not shown\n",
    "    print(\"\\rEpisode: {}, Steps: {}, eps: {:.3f}\".format(episode, step + 1, epsilon), end=\"\") # Not shown\n",
    "    if episode > 50:\n",
    "        training_step(batch_size)\n",
    "\n",
    "model.set_weights(best_weights)"
   ]
  },
  {
   "cell_type": "code",
   "execution_count": 63,
   "metadata": {},
   "outputs": [
    {
     "name": "stdout",
     "output_type": "stream",
     "text": [
      "Saving figure dqn_rewards_plot\n"
     ]
    },
    {
     "data": {
      "image/png": "[encoded data removed]",
      "text/plain": [
       "<Figure size 576x288 with 1 Axes>"
      ]
     },
     "metadata": {
      "needs_background": "light"
     },
     "output_type": "display_data"
    }
   ],
   "source": [
    "plt.figure(figsize=(8, 4))\n",
    "plt.plot(rewards)\n",
    "plt.xlabel(\"Episode\", fontsize=14)\n",
    "plt.ylabel(\"Sum of rewards\", fontsize=14)\n",
    "save_fig(\"dqn_rewards_plot\")\n",
    "plt.show()"
   ]
  },
  {
   "cell_type": "code",
   "execution_count": 64,
   "metadata": {},
   "outputs": [],
   "source": [
    "env.seed(42)\n",
    "state = env.reset()\n",
    "\n",
    "frames = []\n",
    "\n",
    "for step in range(200):\n",
    "    action = epsilon_greedy_policy(state)\n",
    "    state, reward, done, info = env.step(action)\n",
    "    if done:\n",
    "        break\n",
    "    img = env.render(mode=\"rgb_array\")\n",
    "    frames.append(img)\n",
    "    \n",
    "plot_animation(frames)"
   ]
  },
  {
   "cell_type": "markdown",
   "metadata": {},
   "source": [
    "Not bad at all!"
   ]
  },
  {
   "cell_type": "markdown",
   "metadata": {},
   "source": [
    "## Double DQN"
   ]
  },
  {
   "cell_type": "code",
   "execution_count": 65,
   "metadata": {},
   "outputs": [],
   "source": [
    "tf.random.set_seed(42)\n",
    "np.random.seed(42)\n",
    "\n",
    "model = keras.models.Sequential([\n",
    "    keras.layers.Dense(32, activation=\"elu\", input_shape=[4]),\n",
    "    keras.layers.Dense(32, activation=\"elu\"),\n",
    "    keras.layers.Dense(n_outputs)\n",
    "])\n",
    "\n",
    "target = keras.models.clone_model(model)\n",
    "target.set_weights(model.get_weights())"
   ]
  },
  {
   "cell_type": "code",
   "execution_count": 66,
   "metadata": {},
   "outputs": [],
   "source": [
    "batch_size = 32\n",
    "discount_rate = 0.95\n",
    "optimizer = keras.optimizers.Adam(lr=1e-3)\n",
    "loss_fn = keras.losses.Huber()\n",
    "\n",
    "def training_step(batch_size):\n",
    "    experiences = sample_experiences(batch_size)\n",
    "    states, actions, rewards, next_states, dones = experiences\n",
    "    next_Q_values = model.predict(next_states)\n",
    "    best_next_actions = np.argmax(next_Q_values, axis=1)\n",
    "    next_mask = tf.one_hot(best_next_actions, n_outputs).numpy()\n",
    "    next_best_Q_values = (target.predict(next_states) * next_mask).sum(axis=1)\n",
    "    target_Q_values = rewards + (1 - dones) * discount_rate * next_best_Q_values\n",
    "    mask = tf.one_hot(actions, n_outputs)\n",
    "    with tf.GradientTape() as tape:\n",
    "        all_Q_values = model(states)\n",
    "        Q_values = tf.reduce_sum(all_Q_values * mask, axis=1, keepdims=True)\n",
    "        loss = tf.reduce_mean(loss_fn(target_Q_values, Q_values))\n",
    "    grads = tape.gradient(loss, model.trainable_variables)\n",
    "    optimizer.apply_gradients(zip(grads, model.trainable_variables))"
   ]
  },
  {
   "cell_type": "code",
   "execution_count": 67,
   "metadata": {},
   "outputs": [],
   "source": [
    "replay_memory = deque(maxlen=2000)"
   ]
  },
  {
   "cell_type": "code",
   "execution_count": 68,
   "metadata": {},
   "outputs": [
    {
     "name": "stdout",
     "output_type": "stream",
     "text": [
      "Episode: 599, Steps: 12, eps: 0.0104"
     ]
    }
   ],
   "source": [
    "env.seed(42)\n",
    "np.random.seed(42)\n",
    "tf.random.set_seed(42)\n",
    "\n",
    "rewards = []\n",
    "best_score = 0\n",
    "\n",
    "for episode in range(600):\n",
    "    obs = env.reset()    \n",
    "    for step in range(200):\n",
    "        epsilon = max(1 - episode / 500, 0.01)\n",
    "        obs, reward, done, info = play_one_step(env, obs, epsilon)\n",
    "        if done:\n",
    "            break\n",
    "    rewards.append(step)\n",
    "    if step > best_score:\n",
    "        best_weights = model.get_weights()\n",
    "        best_score = step\n",
    "    print(\"\\rEpisode: {}, Steps: {}, eps: {:.3f}\".format(episode, step + 1, epsilon), end=\"\")\n",
    "    if episode > 50:\n",
    "        training_step(batch_size)\n",
    "    if episode % 50 == 0:\n",
    "        target.set_weights(model.get_weights())\n",
    "    # Alternatively, you can do soft updates at each step:\n",
    "    #if episode > 50:\n",
    "        #target_weights = target.get_weights()\n",
    "        #online_weights = model.get_weights()\n",
    "        #for index in range(len(target_weights)):\n",
    "        #    target_weights[index] = 0.99 * target_weights[index] + 0.01 * target_weights[index]\n",
    "        #target.set_weights(target_weights)\n",
    "\n",
    "model.set_weights(best_weights)"
   ]
  },
  {
   "cell_type": "code",
   "execution_count": 69,
   "metadata": {},
   "outputs": [
    {
     "name": "stdout",
     "output_type": "stream",
     "text": [
      "Saving figure dqn_rewards_plot\n"
     ]
    },
    {
     "data": {
      "image/png": "[encoded data removed]",
      "text/plain": [
       "<Figure size 576x288 with 1 Axes>"
      ]
     },
     "metadata": {
      "needs_background": "light"
     },
     "output_type": "display_data"
    }
   ],
   "source": [
    "plt.figure(figsize=(8, 4))\n",
    "plt.plot(rewards)\n",
    "plt.xlabel(\"Episode\", fontsize=14)\n",
    "plt.ylabel(\"Sum of rewards\", fontsize=14)\n",
    "save_fig(\"double_dqn_rewards_plot\")\n",
    "plt.show()"
   ]
  },
  {
   "cell_type": "code",
   "execution_count": 70,
   "metadata": {
    "scrolled": true
   },
   "outputs": [],
   "source": [
    "env.seed(42)\n",
    "state = env.reset()\n",
    "\n",
    "frames = []\n",
    "\n",
    "for step in range(200):\n",
    "    action = epsilon_greedy_policy(state)\n",
    "    state, reward, done, info = env.step(action)\n",
    "    if done:\n",
    "        break\n",
    "    img = env.render(mode=\"rgb_array\")\n",
    "    frames.append(img)\n",
    "    \n",
    "plot_animation(frames)"
   ]
  },
  {
   "cell_type": "markdown",
   "metadata": {},
   "source": [
    "# Dueling Double DQN"
   ]
  },
  {
   "cell_type": "code",
   "execution_count": 71,
   "metadata": {},
   "outputs": [],
   "source": [
    "tf.random.set_seed(42)\n",
    "np.random.seed(42)\n",
    "\n",
    "K = keras.backend\n",
    "input_states = keras.layers.Input(shape=[4])\n",
    "hidden1 = keras.layers.Dense(32, activation=\"elu\")(input_states)\n",
    "hidden2 = keras.layers.Dense(32, activation=\"elu\")(hidden1)\n",
    "state_values = keras.layers.Dense(1)(hidden2)\n",
    "raw_advantages = keras.layers.Dense(n_outputs)(hidden2)\n",
    "advantages = raw_advantages - K.max(raw_advantages, axis=1, keepdims=True)\n",
    "Q_values = state_values + advantages\n",
    "model = keras.models.Model(inputs=[input_states], outputs=[Q_values])\n",
    "\n",
    "target = keras.models.clone_model(model)\n",
    "target.set_weights(model.get_weights())"
   ]
  },
  {
   "cell_type": "code",
   "execution_count": 72,
   "metadata": {},
   "outputs": [],
   "source": [
    "batch_size = 32\n",
    "discount_rate = 0.95\n",
    "optimizer = keras.optimizers.Adam(lr=1e-2)\n",
    "loss_fn = keras.losses.Huber()\n",
    "\n",
    "def training_step(batch_size):\n",
    "    experiences = sample_experiences(batch_size)\n",
    "    states, actions, rewards, next_states, dones = experiences\n",
    "    next_Q_values = model.predict(next_states)\n",
    "    best_next_actions = np.argmax(next_Q_values, axis=1)\n",
    "    next_mask = tf.one_hot(best_next_actions, n_outputs).numpy()\n",
    "    next_best_Q_values = (target.predict(next_states) * next_mask).sum(axis=1)\n",
    "    target_Q_values = rewards + (1 - dones) * discount_rate * next_best_Q_values\n",
    "    mask = tf.one_hot(actions, n_outputs)\n",
    "    with tf.GradientTape() as tape:\n",
    "        all_Q_values = model(states)\n",
    "        Q_values = tf.reduce_sum(all_Q_values * mask, axis=1, keepdims=True)\n",
    "        loss = tf.reduce_mean(loss_fn(target_Q_values, Q_values))\n",
    "    grads = tape.gradient(loss, model.trainable_variables)\n",
    "    optimizer.apply_gradients(zip(grads, model.trainable_variables))"
   ]
  },
  {
   "cell_type": "code",
   "execution_count": 73,
   "metadata": {},
   "outputs": [],
   "source": [
    "replay_memory = deque(maxlen=2000)"
   ]
  },
  {
   "cell_type": "code",
   "execution_count": 74,
   "metadata": {},
   "outputs": [
    {
     "name": "stdout",
     "output_type": "stream",
     "text": [
      "Episode: 599, Steps: 10, eps: 0.0100"
     ]
    }
   ],
   "source": [
    "env.seed(42)\n",
    "np.random.seed(42)\n",
    "tf.random.set_seed(42)\n",
    "\n",
    "rewards = []\n",
    "best_score = 0\n",
    "\n",
    "for episode in range(600):\n",
    "    obs = env.reset()    \n",
    "    for step in range(200):\n",
    "        epsilon = max(1 - episode / 500, 0.01)\n",
    "        obs, reward, done, info = play_one_step(env, obs, epsilon)\n",
    "        if done:\n",
    "            break\n",
    "    rewards.append(step)\n",
    "    if step > best_score:\n",
    "        best_weights = model.get_weights()\n",
    "        best_score = step\n",
    "    print(\"\\rEpisode: {}, Steps: {}, eps: {:.3f}\".format(episode, step + 1, epsilon), end=\"\")\n",
    "    if episode > 50:\n",
    "        training_step(batch_size)\n",
    "    if episode % 200 == 0:\n",
    "        target.set_weights(model.get_weights())\n",
    "\n",
    "model.set_weights(best_weights)"
   ]
  },
  {
   "cell_type": "code",
   "execution_count": 75,
   "metadata": {},
   "outputs": [
    {
     "data": {
      "image/png": "[encoded data removed]",
      "text/plain": [
       "<Figure size 432x288 with 1 Axes>"
      ]
     },
     "metadata": {
      "needs_background": "light"
     },
     "output_type": "display_data"
    }
   ],
   "source": [
    "plt.plot(rewards)\n",
    "plt.xlabel(\"Episode\")\n",
    "plt.ylabel(\"Sum of rewards\")\n",
    "plt.show()"
   ]
  },
  {
   "cell_type": "code",
   "execution_count": 76,
   "metadata": {
    "scrolled": true
   },
   "outputs": [],
   "source": [
    "env.seed(42)\n",
    "state = env.reset()\n",
    "\n",
    "frames = []\n",
    "\n",
    "for step in range(200):\n",
    "    action = epsilon_greedy_policy(state)\n",
    "    state, reward, done, info = env.step(action)\n",
    "    if done:\n",
    "        break\n",
    "    img = env.render(mode=\"rgb_array\")\n",
    "    frames.append(img)\n",
    "    \n",
    "plot_animation(frames)"
   ]
  },
  {
   "cell_type": "markdown",
   "metadata": {},
   "source": [
    "This looks like a pretty robust agent!"
   ]
  },
  {
   "cell_type": "code",
   "execution_count": 77,
   "metadata": {},
   "outputs": [],
   "source": [
    "env.close()"
   ]
  },
  {
   "cell_type": "markdown",
   "metadata": {},
   "source": [
    "# Using TF-Agents to Beat Breakout"
   ]
  },
  {
   "cell_type": "markdown",
   "metadata": {},
   "source": [
    "Let's use TF-Agents to create an agent that will learn to play Breakout. We will use the Deep Q-Learning algorithm, so you can easily compare the components with the previous implementation, but TF-Agents implements many other (and more sophisticated) algorithms!"
   ]
  },
  {
   "cell_type": "markdown",
   "metadata": {},
   "source": [
    "## TF-Agents Environments"
   ]
  },
  {
   "cell_type": "code",
   "execution_count": 78,
   "metadata": {},
   "outputs": [],
   "source": [
    "tf.random.set_seed(42)\n",
    "np.random.seed(42)"
   ]
  },
  {
   "cell_type": "code",
   "execution_count": 79,
   "metadata": {},
   "outputs": [
    {
     "data": {
      "text/plain": [
       "<tf_agents.environments.wrappers.TimeLimit at 0x10b3788d0>"
      ]
     },
     "execution_count": 79,
     "metadata": {},
     "output_type": "execute_result"
    }
   ],
   "source": [
    "from tf_agents.environments import suite_gym\n",
    "\n",
    "env = suite_gym.load(\"Breakout-v4\")\n",
    "env"
   ]
  },
  {
   "cell_type": "code",
   "execution_count": 80,
   "metadata": {},
   "outputs": [
    {
     "data": {
      "text/plain": [
       "<gym.envs.atari.atari_env.AtariEnv at 0x10a9d8518>"
      ]
     },
     "execution_count": 80,
     "metadata": {},
     "output_type": "execute_result"
    }
   ],
   "source": [
    "env.gym"
   ]
  },
  {
   "cell_type": "code",
   "execution_count": 81,
   "metadata": {},
   "outputs": [
    {
     "data": {
      "text/plain": [
       "TimeStep(step_type=array(0, dtype=int32), reward=array(0., dtype=float32), discount=array(1., dtype=float32), observation=array([[[0., 0., 0.],\n",
       "        [0., 0., 0.],\n",
       "        [0., 0., 0.],\n",
       "        ...,\n",
       "        [0., 0., 0.],\n",
       "        [0., 0., 0.],\n",
       "        [0., 0., 0.]],\n",
       "\n",
       "       [[0., 0., 0.],\n",
       "        [0., 0., 0.],\n",
       "        [0., 0., 0.],\n",
       "        ...,\n",
       "        [0., 0., 0.],\n",
       "        [0., 0., 0.],\n",
       "        [0., 0., 0.]],\n",
       "\n",
       "       [[0., 0., 0.],\n",
       "        [0., 0., 0.],\n",
       "        [0., 0., 0.],\n",
       "        ...,\n",
       "        [0., 0., 0.],\n",
       "        [0., 0., 0.],\n",
       "        [0., 0., 0.]],\n",
       "\n",
       "       ...,\n",
       "\n",
       "       [[0., 0., 0.],\n",
       "        [0., 0., 0.],\n",
       "        [0., 0., 0.],\n",
       "        ...,\n",
       "        [0., 0., 0.],\n",
       "        [0., 0., 0.],\n",
       "        [0., 0., 0.]],\n",
       "\n",
       "       [[0., 0., 0.],\n",
       "        [0., 0., 0.],\n",
       "        [0., 0., 0.],\n",
       "        ...,\n",
       "        [0., 0., 0.],\n",
       "        [0., 0., 0.],\n",
       "        [0., 0., 0.]],\n",
       "\n",
       "       [[0., 0., 0.],\n",
       "        [0., 0., 0.],\n",
       "        [0., 0., 0.],\n",
       "        ...,\n",
       "        [0., 0., 0.],\n",
       "        [0., 0., 0.],\n",
       "        [0., 0., 0.]]], dtype=float32))"
      ]
     },
     "execution_count": 81,
     "metadata": {},
     "output_type": "execute_result"
    }
   ],
   "source": [
    "env.seed(42)\n",
    "env.reset()"
   ]
  },
  {
   "cell_type": "code",
   "execution_count": 82,
   "metadata": {},
   "outputs": [
    {
     "data": {
      "text/plain": [
       "TimeStep(step_type=array(1, dtype=int32), reward=array(0., dtype=float32), discount=array(1., dtype=float32), observation=array([[[0., 0., 0.],\n",
       "        [0., 0., 0.],\n",
       "        [0., 0., 0.],\n",
       "        ...,\n",
       "        [0., 0., 0.],\n",
       "        [0., 0., 0.],\n",
       "        [0., 0., 0.]],\n",
       "\n",
       "       [[0., 0., 0.],\n",
       "        [0., 0., 0.],\n",
       "        [0., 0., 0.],\n",
       "        ...,\n",
       "        [0., 0., 0.],\n",
       "        [0., 0., 0.],\n",
       "        [0., 0., 0.]],\n",
       "\n",
       "       [[0., 0., 0.],\n",
       "        [0., 0., 0.],\n",
       "        [0., 0., 0.],\n",
       "        ...,\n",
       "        [0., 0., 0.],\n",
       "        [0., 0., 0.],\n",
       "        [0., 0., 0.]],\n",
       "\n",
       "       ...,\n",
       "\n",
       "       [[0., 0., 0.],\n",
       "        [0., 0., 0.],\n",
       "        [0., 0., 0.],\n",
       "        ...,\n",
       "        [0., 0., 0.],\n",
       "        [0., 0., 0.],\n",
       "        [0., 0., 0.]],\n",
       "\n",
       "       [[0., 0., 0.],\n",
       "        [0., 0., 0.],\n",
       "        [0., 0., 0.],\n",
       "        ...,\n",
       "        [0., 0., 0.],\n",
       "        [0., 0., 0.],\n",
       "        [0., 0., 0.]],\n",
       "\n",
       "       [[0., 0., 0.],\n",
       "        [0., 0., 0.],\n",
       "        [0., 0., 0.],\n",
       "        ...,\n",
       "        [0., 0., 0.],\n",
       "        [0., 0., 0.],\n",
       "        [0., 0., 0.]]], dtype=float32))"
      ]
     },
     "execution_count": 82,
     "metadata": {},
     "output_type": "execute_result"
    }
   ],
   "source": [
    "env.step(1) # Fire"
   ]
  },
  {
   "cell_type": "code",
   "execution_count": 83,
   "metadata": {},
   "outputs": [
    {
     "name": "stdout",
     "output_type": "stream",
     "text": [
      "Saving figure breakout_plot\n"
     ]
    },
    {
     "data": {
      "image/png": "[encoded data removed]",
      "text/plain": [
       "<Figure size 432x576 with 1 Axes>"
      ]
     },
     "metadata": {
      "needs_background": "light"
     },
     "output_type": "display_data"
    }
   ],
   "source": [
    "img = env.render(mode=\"rgb_array\")\n",
    "\n",
    "plt.figure(figsize=(6, 8))\n",
    "plt.imshow(img)\n",
    "plt.axis(\"off\")\n",
    "save_fig(\"breakout_plot\")\n",
    "plt.show()"
   ]
  },
  {
   "cell_type": "code",
   "execution_count": 84,
   "metadata": {},
   "outputs": [
    {
     "data": {
      "text/plain": [
       "TimeStep(step_type=array(1, dtype=int32), reward=array(0., dtype=float32), discount=array(1., dtype=float32), observation=array([[[0., 0., 0.],\n",
       "        [0., 0., 0.],\n",
       "        [0., 0., 0.],\n",
       "        ...,\n",
       "        [0., 0., 0.],\n",
       "        [0., 0., 0.],\n",
       "        [0., 0., 0.]],\n",
       "\n",
       "       [[0., 0., 0.],\n",
       "        [0., 0., 0.],\n",
       "        [0., 0., 0.],\n",
       "        ...,\n",
       "        [0., 0., 0.],\n",
       "        [0., 0., 0.],\n",
       "        [0., 0., 0.]],\n",
       "\n",
       "       [[0., 0., 0.],\n",
       "        [0., 0., 0.],\n",
       "        [0., 0., 0.],\n",
       "        ...,\n",
       "        [0., 0., 0.],\n",
       "        [0., 0., 0.],\n",
       "        [0., 0., 0.]],\n",
       "\n",
       "       ...,\n",
       "\n",
       "       [[0., 0., 0.],\n",
       "        [0., 0., 0.],\n",
       "        [0., 0., 0.],\n",
       "        ...,\n",
       "        [0., 0., 0.],\n",
       "        [0., 0., 0.],\n",
       "        [0., 0., 0.]],\n",
       "\n",
       "       [[0., 0., 0.],\n",
       "        [0., 0., 0.],\n",
       "        [0., 0., 0.],\n",
       "        ...,\n",
       "        [0., 0., 0.],\n",
       "        [0., 0., 0.],\n",
       "        [0., 0., 0.]],\n",
       "\n",
       "       [[0., 0., 0.],\n",
       "        [0., 0., 0.],\n",
       "        [0., 0., 0.],\n",
       "        ...,\n",
       "        [0., 0., 0.],\n",
       "        [0., 0., 0.],\n",
       "        [0., 0., 0.]]], dtype=float32))"
      ]
     },
     "execution_count": 84,
     "metadata": {},
     "output_type": "execute_result"
    }
   ],
   "source": [
    "env.current_time_step()"
   ]
  },
  {
   "cell_type": "markdown",
   "metadata": {},
   "source": [
    "## Environment Specifications"
   ]
  },
  {
   "cell_type": "code",
   "execution_count": 85,
   "metadata": {},
   "outputs": [
    {
     "data": {
      "text/plain": [
       "BoundedArraySpec(shape=(210, 160, 3), dtype=dtype('float32'), name=None, minimum=[[[0. 0. 0.]\n",
       "  [0. 0. 0.]\n",
       "  [0. 0. 0.]\n",
       "  ...\n",
       "  [0. 0. 0.]\n",
       "  [0. 0. 0.]\n",
       "  [0. 0. 0.]]\n",
       "\n",
       " [[0. 0. 0.]\n",
       "  [0. 0. 0.]\n",
       "  [0. 0. 0.]\n",
       "  ...\n",
       "  [0. 0. 0.]\n",
       "  [0. 0. 0.]\n",
       "  [0. 0. 0.]]\n",
       "\n",
       " [[0. 0. 0.]\n",
       "  [0. 0. 0.]\n",
       "  [0. 0. 0.]\n",
       "  ...\n",
       "  [0. 0. 0.]\n",
       "  [0. 0. 0.]\n",
       "  [0. 0. 0.]]\n",
       "\n",
       " ...\n",
       "\n",
       " [[0. 0. 0.]\n",
       "  [0. 0. 0.]\n",
       "  [0. 0. 0.]\n",
       "  ...\n",
       "  [0. 0. 0.]\n",
       "  [0. 0. 0.]\n",
       "  [0. 0. 0.]]\n",
       "\n",
       " [[0. 0. 0.]\n",
       "  [0. 0. 0.]\n",
       "  [0. 0. 0.]\n",
       "  ...\n",
       "  [0. 0. 0.]\n",
       "  [0. 0. 0.]\n",
       "  [0. 0. 0.]]\n",
       "\n",
       " [[0. 0. 0.]\n",
       "  [0. 0. 0.]\n",
       "  [0. 0. 0.]\n",
       "  ...\n",
       "  [0. 0. 0.]\n",
       "  [0. 0. 0.]\n",
       "  [0. 0. 0.]]], maximum=[[[255. 255. 255.]\n",
       "  [255. 255. 255.]\n",
       "  [255. 255. 255.]\n",
       "  ...\n",
       "  [255. 255. 255.]\n",
       "  [255. 255. 255.]\n",
       "  [255. 255. 255.]]\n",
       "\n",
       " [[255. 255. 255.]\n",
       "  [255. 255. 255.]\n",
       "  [255. 255. 255.]\n",
       "  ...\n",
       "  [255. 255. 255.]\n",
       "  [255. 255. 255.]\n",
       "  [255. 255. 255.]]\n",
       "\n",
       " [[255. 255. 255.]\n",
       "  [255. 255. 255.]\n",
       "  [255. 255. 255.]\n",
       "  ...\n",
       "  [255. 255. 255.]\n",
       "  [255. 255. 255.]\n",
       "  [255. 255. 255.]]\n",
       "\n",
       " ...\n",
       "\n",
       " [[255. 255. 255.]\n",
       "  [255. 255. 255.]\n",
       "  [255. 255. 255.]\n",
       "  ...\n",
       "  [255. 255. 255.]\n",
       "  [255. 255. 255.]\n",
       "  [255. 255. 255.]]\n",
       "\n",
       " [[255. 255. 255.]\n",
       "  [255. 255. 255.]\n",
       "  [255. 255. 255.]\n",
       "  ...\n",
       "  [255. 255. 255.]\n",
       "  [255. 255. 255.]\n",
       "  [255. 255. 255.]]\n",
       "\n",
       " [[255. 255. 255.]\n",
       "  [255. 255. 255.]\n",
       "  [255. 255. 255.]\n",
       "  ...\n",
       "  [255. 255. 255.]\n",
       "  [255. 255. 255.]\n",
       "  [255. 255. 255.]]])"
      ]
     },
     "execution_count": 85,
     "metadata": {},
     "output_type": "execute_result"
    }
   ],
   "source": [
    "env.observation_spec()"
   ]
  },
  {
   "cell_type": "code",
   "execution_count": 86,
   "metadata": {},
   "outputs": [
    {
     "data": {
      "text/plain": [
       "BoundedArraySpec(shape=(), dtype=dtype('int64'), name=None, minimum=0, maximum=3)"
      ]
     },
     "execution_count": 86,
     "metadata": {},
     "output_type": "execute_result"
    }
   ],
   "source": [
    "env.action_spec()"
   ]
  },
  {
   "cell_type": "code",
   "execution_count": 87,
   "metadata": {},
   "outputs": [
    {
     "data": {
      "text/plain": [
       "TimeStep(step_type=ArraySpec(shape=(), dtype=dtype('int32'), name='step_type'), reward=ArraySpec(shape=(), dtype=dtype('float32'), name='reward'), discount=BoundedArraySpec(shape=(), dtype=dtype('float32'), name='discount', minimum=0.0, maximum=1.0), observation=BoundedArraySpec(shape=(210, 160, 3), dtype=dtype('float32'), name=None, minimum=[[[0. 0. 0.]\n",
       "  [0. 0. 0.]\n",
       "  [0. 0. 0.]\n",
       "  ...\n",
       "  [0. 0. 0.]\n",
       "  [0. 0. 0.]\n",
       "  [0. 0. 0.]]\n",
       "\n",
       " [[0. 0. 0.]\n",
       "  [0. 0. 0.]\n",
       "  [0. 0. 0.]\n",
       "  ...\n",
       "  [0. 0. 0.]\n",
       "  [0. 0. 0.]\n",
       "  [0. 0. 0.]]\n",
       "\n",
       " [[0. 0. 0.]\n",
       "  [0. 0. 0.]\n",
       "  [0. 0. 0.]\n",
       "  ...\n",
       "  [0. 0. 0.]\n",
       "  [0. 0. 0.]\n",
       "  [0. 0. 0.]]\n",
       "\n",
       " ...\n",
       "\n",
       " [[0. 0. 0.]\n",
       "  [0. 0. 0.]\n",
       "  [0. 0. 0.]\n",
       "  ...\n",
       "  [0. 0. 0.]\n",
       "  [0. 0. 0.]\n",
       "  [0. 0. 0.]]\n",
       "\n",
       " [[0. 0. 0.]\n",
       "  [0. 0. 0.]\n",
       "  [0. 0. 0.]\n",
       "  ...\n",
       "  [0. 0. 0.]\n",
       "  [0. 0. 0.]\n",
       "  [0. 0. 0.]]\n",
       "\n",
       " [[0. 0. 0.]\n",
       "  [0. 0. 0.]\n",
       "  [0. 0. 0.]\n",
       "  ...\n",
       "  [0. 0. 0.]\n",
       "  [0. 0. 0.]\n",
       "  [0. 0. 0.]]], maximum=[[[255. 255. 255.]\n",
       "  [255. 255. 255.]\n",
       "  [255. 255. 255.]\n",
       "  ...\n",
       "  [255. 255. 255.]\n",
       "  [255. 255. 255.]\n",
       "  [255. 255. 255.]]\n",
       "\n",
       " [[255. 255. 255.]\n",
       "  [255. 255. 255.]\n",
       "  [255. 255. 255.]\n",
       "  ...\n",
       "  [255. 255. 255.]\n",
       "  [255. 255. 255.]\n",
       "  [255. 255. 255.]]\n",
       "\n",
       " [[255. 255. 255.]\n",
       "  [255. 255. 255.]\n",
       "  [255. 255. 255.]\n",
       "  ...\n",
       "  [255. 255. 255.]\n",
       "  [255. 255. 255.]\n",
       "  [255. 255. 255.]]\n",
       "\n",
       " ...\n",
       "\n",
       " [[255. 255. 255.]\n",
       "  [255. 255. 255.]\n",
       "  [255. 255. 255.]\n",
       "  ...\n",
       "  [255. 255. 255.]\n",
       "  [255. 255. 255.]\n",
       "  [255. 255. 255.]]\n",
       "\n",
       " [[255. 255. 255.]\n",
       "  [255. 255. 255.]\n",
       "  [255. 255. 255.]\n",
       "  ...\n",
       "  [255. 255. 255.]\n",
       "  [255. 255. 255.]\n",
       "  [255. 255. 255.]]\n",
       "\n",
       " [[255. 255. 255.]\n",
       "  [255. 255. 255.]\n",
       "  [255. 255. 255.]\n",
       "  ...\n",
       "  [255. 255. 255.]\n",
       "  [255. 255. 255.]\n",
       "  [255. 255. 255.]]]))"
      ]
     },
     "execution_count": 87,
     "metadata": {},
     "output_type": "execute_result"
    }
   ],
   "source": [
    "env.time_step_spec()"
   ]
  },
  {
   "cell_type": "markdown",
   "metadata": {},
   "source": [
    "## Environment Wrappers"
   ]
  },
  {
   "cell_type": "markdown",
   "metadata": {},
   "source": [
    "You can wrap a TF-Agents environments in a TF-Agents wrapper:"
   ]
  },
  {
   "cell_type": "code",
   "execution_count": 88,
   "metadata": {},
   "outputs": [
    {
     "data": {
      "text/plain": [
       "<tf_agents.environments.wrappers.ActionRepeat at 0x134eb87b8>"
      ]
     },
     "execution_count": 88,
     "metadata": {},
     "output_type": "execute_result"
    }
   ],
   "source": [
    "from tf_agents.environments.wrappers import ActionRepeat\n",
    "\n",
    "repeating_env = ActionRepeat(env, times=4)\n",
    "repeating_env"
   ]
  },
  {
   "cell_type": "code",
   "execution_count": 89,
   "metadata": {},
   "outputs": [
    {
     "data": {
      "text/plain": [
       "<gym.envs.atari.atari_env.AtariEnv at 0x10a9d8518>"
      ]
     },
     "execution_count": 89,
     "metadata": {},
     "output_type": "execute_result"
    }
   ],
   "source": [
    "repeating_env.unwrapped"
   ]
  },
  {
   "cell_type": "markdown",
   "metadata": {},
   "source": [
    "Here is the list of available wrappers:"
   ]
  },
  {
   "cell_type": "code",
   "execution_count": 90,
   "metadata": {},
   "outputs": [
    {
     "name": "stdout",
     "output_type": "stream",
     "text": [
      "ActionClipWrapper           Wraps an environment and clips actions to spec before applying.\n",
      "ActionDiscretizeWrapper     Wraps an environment with continuous actions and discretizes them.\n",
      "ActionOffsetWrapper         Offsets actions to be zero-based.\n",
      "ActionRepeat                Repeates actions over n-steps while acummulating the received reward.\n",
      "FlattenObservationsWrapper  Wraps an environment and flattens nested multi-dimensional observations.\n",
      "GoalReplayEnvWrapper        Adds a goal to the observation, used for HER (Hindsight Experience Replay).\n",
      "PyEnvironmentBaseWrapper    PyEnvironment wrapper forwards calls to the given environment.\n",
      "RunStats                    Wrapper that accumulates run statistics as the environment iterates.\n",
      "TimeLimit                   End episodes after specified number of steps.\n"
     ]
    }
   ],
   "source": [
    "import tf_agents.environments.wrappers\n",
    "\n",
    "for name in dir(tf_agents.environments.wrappers):\n",
    "    obj = getattr(tf_agents.environments.wrappers, name)\n",
    "    if hasattr(obj, \"__base__\") and issubclass(obj, tf_agents.environments.wrappers.PyEnvironmentBaseWrapper):\n",
    "        print(\"{:27s} {}\".format(name, obj.__doc__.split(\"\\n\")[0]))"
   ]
  },
  {
   "cell_type": "markdown",
   "metadata": {},
   "source": [
    "The `suite_gym.load()` function can create an env and wrap it for you, both with TF-Agents environment wrappers and Gym environment wrappers (the latter are applied first)."
   ]
  },
  {
   "cell_type": "code",
   "execution_count": 91,
   "metadata": {},
   "outputs": [],
   "source": [
    "from functools import partial\n",
    "from gym.wrappers import TimeLimit\n",
    "\n",
    "limited_repeating_env = suite_gym.load(\n",
    "    \"Breakout-v4\",\n",
    "    gym_env_wrappers=[partial(TimeLimit, max_episode_steps=10000)],\n",
    "    env_wrappers=[partial(ActionRepeat, times=4)],\n",
    ")"
   ]
  },
  {
   "cell_type": "code",
   "execution_count": 92,
   "metadata": {},
   "outputs": [
    {
     "data": {
      "text/plain": [
       "<tf_agents.environments.wrappers.ActionRepeat at 0x135fa0400>"
      ]
     },
     "execution_count": 92,
     "metadata": {},
     "output_type": "execute_result"
    }
   ],
   "source": [
    "limited_repeating_env"
   ]
  },
  {
   "cell_type": "markdown",
   "metadata": {},
   "source": [
    "Create an Atari Breakout environment, and wrap it to apply the default Atari preprocessing steps:"
   ]
  },
  {
   "cell_type": "code",
   "execution_count": 93,
   "metadata": {},
   "outputs": [
    {
     "data": {
      "text/plain": [
       "<gym.envs.atari.atari_env.AtariEnv at 0x135fa0588>"
      ]
     },
     "execution_count": 93,
     "metadata": {},
     "output_type": "execute_result"
    }
   ],
   "source": [
    "limited_repeating_env.unwrapped"
   ]
  },
  {
   "cell_type": "code",
   "execution_count": 94,
   "metadata": {},
   "outputs": [],
   "source": [
    "from tf_agents.environments import suite_atari\n",
    "from tf_agents.environments.atari_preprocessing import AtariPreprocessing\n",
    "from tf_agents.environments.atari_wrappers import FrameStack4\n",
    "\n",
    "max_episode_steps = 27000 # <=> 108k ALE frames since 1 step = 4 frames\n",
    "environment_name = \"BreakoutNoFrameskip-v4\"\n",
    "\n",
    "env = suite_atari.load(\n",
    "    environment_name,\n",
    "    max_episode_steps=max_episode_steps,\n",
    "    gym_env_wrappers=[AtariPreprocessing, FrameStack4])"
   ]
  },
  {
   "cell_type": "code",
   "execution_count": 95,
   "metadata": {},
   "outputs": [
    {
     "data": {
      "text/plain": [
       "<tf_agents.environments.atari_wrappers.AtariTimeLimit at 0x135fc08d0>"
      ]
     },
     "execution_count": 95,
     "metadata": {},
     "output_type": "execute_result"
    }
   ],
   "source": [
    "env"
   ]
  },
  {
   "cell_type": "markdown",
   "metadata": {},
   "source": [
    "Play a few steps just to see what happens:"
   ]
  },
  {
   "cell_type": "code",
   "execution_count": 96,
   "metadata": {},
   "outputs": [
    {
     "name": "stderr",
     "output_type": "stream",
     "text": [
      "/Users/ageron/miniconda3/envs/tf2/lib/python3.6/site-packages/gym/logger.py:30: UserWarning: \u001b[33mWARN: <class 'tf_agents.environments.atari_wrappers.FrameStack4'> doesn't implement 'reset' method, but it implements deprecated '_reset' method.\u001b[0m\n",
      "  warnings.warn(colorize('%s: %s'%('WARN', msg % args), 'yellow'))\n"
     ]
    }
   ],
   "source": [
    "env.seed(42)\n",
    "env.reset()\n",
    "time_step = env.step(1) # FIRE\n",
    "for _ in range(4):\n",
    "    time_step = env.step(3) # LEFT"
   ]
  },
  {
   "cell_type": "code",
   "execution_count": 97,
   "metadata": {},
   "outputs": [],
   "source": [
    "def plot_observation(obs):\n",
    "    # Since there are only 3 color channels, you cannot display 4 frames\n",
    "    # with one primary color per frame. So this code computes the delta between\n",
    "    # the current frame and the mean of the other frames, and it adds this delta\n",
    "    # to the red and blue channels to get a pink color for the current frame.\n",
    "    obs = obs.astype(np.float32)\n",
    "    img = obs[..., :3]\n",
    "    current_frame_delta = np.maximum(obs[..., 3] - obs[..., :3].mean(axis=-1), 0.)\n",
    "    img[..., 0] += current_frame_delta\n",
    "    img[..., 2] += current_frame_delta\n",
    "    img = np.clip(img / 150, 0, 1)\n",
    "    plt.imshow(img)\n",
    "    plt.axis(\"off\")"
   ]
  },
  {
   "cell_type": "code",
   "execution_count": 98,
   "metadata": {},
   "outputs": [
    {
     "name": "stdout",
     "output_type": "stream",
     "text": [
      "Saving figure preprocessed_breakout_plot\n"
     ]
    },
    {
     "data": {
      "image/png": "[encoded data removed]",
      "text/plain": [
       "<Figure size 432x432 with 1 Axes>"
      ]
     },
     "metadata": {
      "needs_background": "light"
     },
     "output_type": "display_data"
    }
   ],
   "source": [
    "plt.figure(figsize=(6, 6))\n",
    "plot_observation(time_step.observation)\n",
    "save_fig(\"preprocessed_breakout_plot\")\n",
    "plt.show()"
   ]
  },
  {
   "cell_type": "markdown",
   "metadata": {},
   "source": [
    "Convert the Python environment to a TF environment:"
   ]
  },
  {
   "cell_type": "code",
   "execution_count": 99,
   "metadata": {},
   "outputs": [],
   "source": [
    "from tf_agents.environments.tf_py_environment import TFPyEnvironment\n",
    "\n",
    "tf_env = TFPyEnvironment(env)"
   ]
  },
  {
   "cell_type": "markdown",
   "metadata": {},
   "source": [
    "## Creating the DQN"
   ]
  },
  {
   "cell_type": "markdown",
   "metadata": {},
   "source": [
    "Create a small class to normalize the observations. Images are stored using bytes from 0 to 255 to use less RAM, but we want to pass floats from 0.0 to 1.0 to the neural network:"
   ]
  },
  {
   "cell_type": "markdown",
   "metadata": {},
   "source": [
    "Create the Q-Network:"
   ]
  },
  {
   "cell_type": "code",
   "execution_count": 100,
   "metadata": {},
   "outputs": [],
   "source": [
    "from tf_agents.networks.q_network import QNetwork\n",
    "\n",
    "preprocessing_layer = keras.layers.Lambda(\n",
    "                          lambda obs: tf.cast(obs, np.float32) / 255.)\n",
    "conv_layer_params=[(32, (8, 8), 4), (64, (4, 4), 2), (64, (3, 3), 1)]\n",
    "fc_layer_params=[512]\n",
    "\n",
    "q_net = QNetwork(\n",
    "    tf_env.observation_spec(),\n",
    "    tf_env.action_spec(),\n",
    "    preprocessing_layers=preprocessing_layer,\n",
    "    conv_layer_params=conv_layer_params,\n",
    "    fc_layer_params=fc_layer_params)"
   ]
  },
  {
   "cell_type": "markdown",
   "metadata": {},
   "source": [
    "Create the DQN Agent:"
   ]
  },
  {
   "cell_type": "code",
   "execution_count": 101,
   "metadata": {},
   "outputs": [],
   "source": [
    "from tf_agents.agents.dqn.dqn_agent import DqnAgent\n",
    "\n",
    "# see TF-agents issue #113\n",
    "#optimizer = keras.optimizers.RMSprop(lr=2.5e-4, rho=0.95, momentum=0.0,\n",
    "#                                     epsilon=0.00001, centered=True)\n",
    "\n",
    "train_step = tf.Variable(0)\n",
    "update_period = 4 # run a training step every 4 collect steps\n",
    "optimizer = tf.compat.v1.train.RMSPropOptimizer(learning_rate=2.5e-4, decay=0.95, momentum=0.0,\n",
    "                                     epsilon=0.00001, centered=True)\n",
    "epsilon_fn = keras.optimizers.schedules.PolynomialDecay(\n",
    "    initial_learning_rate=1.0, # initial ε\n",
    "    decay_steps=250000 // update_period, # <=> 1,000,000 ALE frames\n",
    "    end_learning_rate=0.01) # final ε\n",
    "agent = DqnAgent(tf_env.time_step_spec(),\n",
    "                 tf_env.action_spec(),\n",
    "                 q_network=q_net,\n",
    "                 optimizer=optimizer,\n",
    "                 target_update_period=2000, # <=> 32,000 ALE frames\n",
    "                 td_errors_loss_fn=keras.losses.Huber(reduction=\"none\"),\n",
    "                 gamma=0.99, # discount factor\n",
    "                 train_step_counter=train_step,\n",
    "                 epsilon_greedy=lambda: epsilon_fn(train_step))\n",
    "agent.initialize()"
   ]
  },
  {
   "cell_type": "markdown",
   "metadata": {},
   "source": [
    "Create the replay buffer:"
   ]
  },
  {
   "cell_type": "code",
   "execution_count": 102,
   "metadata": {},
   "outputs": [],
   "source": [
    "from tf_agents.replay_buffers import tf_uniform_replay_buffer\n",
    "\n",
    "replay_buffer = tf_uniform_replay_buffer.TFUniformReplayBuffer(\n",
    "    data_spec=agent.collect_data_spec,\n",
    "    batch_size=tf_env.batch_size,\n",
    "    max_length=1000000)\n",
    "\n",
    "replay_buffer_observer = replay_buffer.add_batch"
   ]
  },
  {
   "cell_type": "markdown",
   "metadata": {},
   "source": [
    "Create a simple custom observer that counts and displays the number of times it is called (except when it is passed a trajectory that represents the boundary between two episodes, as this does not count as a step):"
   ]
  },
  {
   "cell_type": "code",
   "execution_count": 103,
   "metadata": {},
   "outputs": [],
   "source": [
    "class ShowProgress:\n",
    "    def __init__(self, total):\n",
    "        self.counter = 0\n",
    "        self.total = total\n",
    "    def __call__(self, trajectory):\n",
    "        if not trajectory.is_boundary():\n",
    "            self.counter += 1\n",
    "        if self.counter % 100 == 0:\n",
    "            print(\"\\r{}/{}\".format(self.counter, self.total), end=\"\")"
   ]
  },
  {
   "cell_type": "markdown",
   "metadata": {},
   "source": [
    "Let's add some training metrics:"
   ]
  },
  {
   "cell_type": "code",
   "execution_count": 104,
   "metadata": {},
   "outputs": [],
   "source": [
    "from tf_agents.metrics import tf_metrics\n",
    "\n",
    "train_metrics = [\n",
    "    tf_metrics.NumberOfEpisodes(),\n",
    "    tf_metrics.EnvironmentSteps(),\n",
    "    tf_metrics.AverageReturnMetric(),\n",
    "    tf_metrics.AverageEpisodeLengthMetric(),\n",
    "]"
   ]
  },
  {
   "cell_type": "code",
   "execution_count": 105,
   "metadata": {},
   "outputs": [
    {
     "data": {
      "text/plain": [
       "<tf.Tensor: id=469, shape=(), dtype=int64, numpy=0>"
      ]
     },
     "execution_count": 105,
     "metadata": {},
     "output_type": "execute_result"
    }
   ],
   "source": [
    "train_metrics[0].result()"
   ]
  },
  {
   "cell_type": "code",
   "execution_count": 106,
   "metadata": {},
   "outputs": [
    {
     "name": "stderr",
     "output_type": "stream",
     "text": [
      "WARNING: Logging before flag parsing goes to stderr.\n",
      "I0528 08:47:44.704986 140735810999168 metric_utils.py:47]  \n",
      "\t\t NumberOfEpisodes = 0\n",
      "\t\t EnvironmentSteps = 0\n",
      "\t\t AverageReturn = 0.0\n",
      "\t\t AverageEpisodeLength = 0.0\n"
     ]
    }
   ],
   "source": [
    "from tf_agents.eval.metric_utils import log_metrics\n",
    "import logging\n",
    "logging.getLogger().setLevel(logging.INFO)\n",
    "log_metrics(train_metrics)"
   ]
  },
  {
   "cell_type": "markdown",
   "metadata": {},
   "source": [
    "Create the collect driver:"
   ]
  },
  {
   "cell_type": "code",
   "execution_count": 107,
   "metadata": {},
   "outputs": [],
   "source": [
    "from tf_agents.drivers.dynamic_step_driver import DynamicStepDriver\n",
    "\n",
    "collect_driver = DynamicStepDriver(\n",
    "    tf_env,\n",
    "    agent.collect_policy,\n",
    "    observers=[replay_buffer_observer] + train_metrics,\n",
    "    num_steps=update_period) # collect 4 steps for each training iteration"
   ]
  },
  {
   "cell_type": "markdown",
   "metadata": {},
   "source": [
    "Collect the initial experiences, before training:"
   ]
  },
  {
   "cell_type": "code",
   "execution_count": 108,
   "metadata": {},
   "outputs": [
    {
     "name": "stderr",
     "output_type": "stream",
     "text": [
      "W0528 08:47:44.747640 140735810999168 backprop.py:820] The dtype of the watched tensor must be floating (e.g. tf.float32), got tf.int64\n",
      "W0528 08:47:44.761187 140735810999168 backprop.py:820] The dtype of the watched tensor must be floating (e.g. tf.float32), got tf.int64\n",
      "W0528 08:47:44.765793 140735810999168 backprop.py:820] The dtype of the watched tensor must be floating (e.g. tf.float32), got tf.int64\n",
      "W0528 08:47:44.770788 140735810999168 backprop.py:820] The dtype of the watched tensor must be floating (e.g. tf.float32), got tf.int64\n",
      "W0528 08:47:44.775924 140735810999168 backprop.py:820] The dtype of the watched tensor must be floating (e.g. tf.float32), got tf.int64\n"
     ]
    },
    {
     "name": "stdout",
     "output_type": "stream",
     "text": [
      "20000/20000"
     ]
    }
   ],
   "source": [
    "from tf_agents.policies.random_tf_policy import RandomTFPolicy\n",
    "\n",
    "initial_collect_policy = RandomTFPolicy(tf_env.time_step_spec(),\n",
    "                                        tf_env.action_spec())\n",
    "init_driver = DynamicStepDriver(\n",
    "    tf_env,\n",
    "    initial_collect_policy,\n",
    "    observers=[replay_buffer.add_batch, ShowProgress(20000)],\n",
    "    num_steps=20000) # <=> 80,000 ALE frames\n",
    "final_time_step, final_policy_state = init_driver.run()"
   ]
  },
  {
   "cell_type": "markdown",
   "metadata": {},
   "source": [
    "Let's sample 2 sub-episodes, with 3 time steps each and display them:"
   ]
  },
  {
   "cell_type": "code",
   "execution_count": 109,
   "metadata": {},
   "outputs": [],
   "source": [
    "tf.random.set_seed(888) # chosen to show an example of trajectory at the end of an episode\n",
    "\n",
    "trajectories, buffer_info = replay_buffer.get_next(\n",
    "    sample_batch_size=2, num_steps=3)"
   ]
  },
  {
   "cell_type": "code",
   "execution_count": 110,
   "metadata": {},
   "outputs": [
    {
     "data": {
      "text/plain": [
       "('step_type',\n",
       " 'observation',\n",
       " 'action',\n",
       " 'policy_info',\n",
       " 'next_step_type',\n",
       " 'reward',\n",
       " 'discount')"
      ]
     },
     "execution_count": 110,
     "metadata": {},
     "output_type": "execute_result"
    }
   ],
   "source": [
    "trajectories._fields"
   ]
  },
  {
   "cell_type": "code",
   "execution_count": 111,
   "metadata": {},
   "outputs": [
    {
     "data": {
      "text/plain": [
       "TensorShape([2, 3, 84, 84, 4])"
      ]
     },
     "execution_count": 111,
     "metadata": {},
     "output_type": "execute_result"
    }
   ],
   "source": [
    "trajectories.observation.shape"
   ]
  },
  {
   "cell_type": "code",
   "execution_count": 112,
   "metadata": {},
   "outputs": [
    {
     "data": {
      "text/plain": [
       "TensorShape([2, 2, 84, 84, 4])"
      ]
     },
     "execution_count": 112,
     "metadata": {},
     "output_type": "execute_result"
    }
   ],
   "source": [
    "from tf_agents.trajectories.trajectory import to_transition\n",
    "\n",
    "time_steps, action_steps, next_time_steps = to_transition(trajectories)\n",
    "time_steps.observation.shape"
   ]
  },
  {
   "cell_type": "code",
   "execution_count": 113,
   "metadata": {},
   "outputs": [
    {
     "data": {
      "text/plain": [
       "array([[1, 1, 1],\n",
       "       [1, 1, 1]], dtype=int32)"
      ]
     },
     "execution_count": 113,
     "metadata": {},
     "output_type": "execute_result"
    }
   ],
   "source": [
    "trajectories.step_type.numpy()"
   ]
  },
  {
   "cell_type": "code",
   "execution_count": 114,
   "metadata": {},
   "outputs": [
    {
     "name": "stdout",
     "output_type": "stream",
     "text": [
      "Saving figure sub_episodes_plot\n"
     ]
    },
    {
     "data": {
      "image/png": "[encoded data removed]",
      "text/plain": [
       "<Figure size 720x489.6 with 6 Axes>"
      ]
     },
     "metadata": {
      "needs_background": "light"
     },
     "output_type": "display_data"
    }
   ],
   "source": [
    "plt.figure(figsize=(10, 6.8))\n",
    "for row in range(2):\n",
    "    for col in range(3):\n",
    "        plt.subplot(2, 3, row * 3 + col + 1)\n",
    "        plot_observation(trajectories.observation[row, col].numpy())\n",
    "plt.subplots_adjust(left=0, right=1, bottom=0, top=1, hspace=0, wspace=0.02)\n",
    "save_fig(\"sub_episodes_plot\")\n",
    "plt.show()"
   ]
  },
  {
   "cell_type": "markdown",
   "metadata": {},
   "source": [
    "Now let's create the dataset:"
   ]
  },
  {
   "cell_type": "code",
   "execution_count": 115,
   "metadata": {},
   "outputs": [],
   "source": [
    "dataset = replay_buffer.as_dataset(\n",
    "    sample_batch_size=64,\n",
    "    num_steps=2,\n",
    "    num_parallel_calls=3).prefetch(3)"
   ]
  },
  {
   "cell_type": "markdown",
   "metadata": {},
   "source": [
    "Convert the main functions to TF Functions for better performance:"
   ]
  },
  {
   "cell_type": "code",
   "execution_count": 116,
   "metadata": {},
   "outputs": [],
   "source": [
    "from tf_agents.utils.common import function\n",
    "\n",
    "collect_driver.run = function(collect_driver.run)\n",
    "agent.train = function(agent.train)"
   ]
  },
  {
   "cell_type": "markdown",
   "metadata": {},
   "source": [
    "And now we are ready to run the main loop!"
   ]
  },
  {
   "cell_type": "code",
   "execution_count": 117,
   "metadata": {},
   "outputs": [],
   "source": [
    "def train_agent(n_iterations):\n",
    "    time_step = None\n",
    "    policy_state = agent.collect_policy.get_initial_state(tf_env.batch_size)\n",
    "    iterator = iter(dataset)\n",
    "    for iteration in range(n_iterations):\n",
    "        time_step, policy_state = collect_driver.run(time_step, policy_state)\n",
    "        trajectories, buffer_info = next(iterator)\n",
    "        train_loss = agent.train(trajectories)\n",
    "        print(\"\\r{} loss:{:.5f}\".format(\n",
    "            iteration, train_loss.loss.numpy()), end=\"\")\n",
    "        if iteration % 1000 == 0:\n",
    "            log_metrics(train_metrics)"
   ]
  },
  {
   "cell_type": "markdown",
   "metadata": {},
   "source": [
    "Run the next cell to train the agent for 10,000 steps. Then look at its behavior by running the following cell. You can run these two cells as many times as you wish. The agent will keep improving!"
   ]
  },
  {
   "cell_type": "code",
   "execution_count": 118,
   "metadata": {},
   "outputs": [
    {
     "name": "stderr",
     "output_type": "stream",
     "text": [
      "W0528 08:49:00.697262 140735810999168 deprecation.py:323] From /Users/ageron/miniconda3/envs/tf2/lib/python3.6/site-packages/tensorflow/python/keras/optimizer_v2/learning_rate_schedule.py:409: div (from tensorflow.python.ops.math_ops) is deprecated and will be removed in a future version.\n",
      "Instructions for updating:\n",
      "Deprecated in favor of operator or tf.math.divide.\n",
      "W0528 08:49:01.475340 140735810999168 deprecation.py:323] From /Users/ageron/miniconda3/envs/tf2/lib/python3.6/site-packages/tensorflow/python/ops/math_grad.py:1220: add_dispatch_support.<locals>.wrapper (from tensorflow.python.ops.array_ops) is deprecated and will be removed in a future version.\n",
      "Instructions for updating:\n",
      "Use tf.where in 2.0, which has the same broadcast rule as np.where\n",
      "I0528 08:49:02.463025 140735810999168 metric_utils.py:47]  \n",
      "\t\t NumberOfEpisodes = 0\n",
      "\t\t EnvironmentSteps = 4\n",
      "\t\t AverageReturn = 0.0\n",
      "\t\t AverageEpisodeLength = 0.0\n"
     ]
    },
    {
     "name": "stdout",
     "output_type": "stream",
     "text": [
      "997 loss:0.01551"
     ]
    },
    {
     "name": "stderr",
     "output_type": "stream",
     "text": [
      "I0528 08:50:16.405580 140735810999168 metric_utils.py:47]  \n",
      "\t\t NumberOfEpisodes = 24\n",
      "\t\t EnvironmentSteps = 4004\n",
      "\t\t AverageReturn = 1.399999976158142\n",
      "\t\t AverageEpisodeLength = 180.5\n"
     ]
    },
    {
     "name": "stdout",
     "output_type": "stream",
     "text": [
      "2000 loss:0.00024"
     ]
    },
    {
     "name": "stderr",
     "output_type": "stream",
     "text": [
      "I0528 08:51:28.353239 140735810999168 metric_utils.py:47]  \n",
      "\t\t NumberOfEpisodes = 47\n",
      "\t\t EnvironmentSteps = 8004\n",
      "\t\t AverageReturn = 0.8999999761581421\n",
      "\t\t AverageEpisodeLength = 165.89999389648438\n"
     ]
    },
    {
     "name": "stdout",
     "output_type": "stream",
     "text": [
      "2997 loss:0.00010"
     ]
    },
    {
     "name": "stderr",
     "output_type": "stream",
     "text": [
      "I0528 08:52:36.316717 140735810999168 metric_utils.py:47]  \n",
      "\t\t NumberOfEpisodes = 69\n",
      "\t\t EnvironmentSteps = 12004\n",
      "\t\t AverageReturn = 0.800000011920929\n",
      "\t\t AverageEpisodeLength = 162.3000030517578\n"
     ]
    },
    {
     "name": "stdout",
     "output_type": "stream",
     "text": [
      "3999 loss:0.00751"
     ]
    },
    {
     "name": "stderr",
     "output_type": "stream",
     "text": [
      "I0528 08:53:47.764101 140735810999168 metric_utils.py:47]  \n",
      "\t\t NumberOfEpisodes = 92\n",
      "\t\t EnvironmentSteps = 16004\n",
      "\t\t AverageReturn = 0.699999988079071\n",
      "\t\t AverageEpisodeLength = 161.89999389648438\n"
     ]
    },
    {
     "name": "stdout",
     "output_type": "stream",
     "text": [
      "4997 loss:0.00032"
     ]
    },
    {
     "name": "stderr",
     "output_type": "stream",
     "text": [
      "I0528 08:54:57.040647 140735810999168 metric_utils.py:47]  \n",
      "\t\t NumberOfEpisodes = 111\n",
      "\t\t EnvironmentSteps = 20004\n",
      "\t\t AverageReturn = 1.0\n",
      "\t\t AverageEpisodeLength = 181.60000610351562\n"
     ]
    },
    {
     "name": "stdout",
     "output_type": "stream",
     "text": [
      "6000 loss:0.00006"
     ]
    },
    {
     "name": "stderr",
     "output_type": "stream",
     "text": [
      "I0528 08:56:07.210252 140735810999168 metric_utils.py:47]  \n",
      "\t\t NumberOfEpisodes = 131\n",
      "\t\t EnvironmentSteps = 24004\n",
      "\t\t AverageReturn = 1.7000000476837158\n",
      "\t\t AverageEpisodeLength = 206.39999389648438\n"
     ]
    },
    {
     "name": "stdout",
     "output_type": "stream",
     "text": [
      "6999 loss:0.00784"
     ]
    },
    {
     "name": "stderr",
     "output_type": "stream",
     "text": [
      "I0528 08:57:18.494511 140735810999168 metric_utils.py:47]  \n",
      "\t\t NumberOfEpisodes = 154\n",
      "\t\t EnvironmentSteps = 28004\n",
      "\t\t AverageReturn = 1.100000023841858\n",
      "\t\t AverageEpisodeLength = 182.6999969482422\n"
     ]
    },
    {
     "name": "stdout",
     "output_type": "stream",
     "text": [
      "7997 loss:0.00002"
     ]
    },
    {
     "name": "stderr",
     "output_type": "stream",
     "text": [
      "I0528 08:58:35.320452 140735810999168 metric_utils.py:47]  \n",
      "\t\t NumberOfEpisodes = 175\n",
      "\t\t EnvironmentSteps = 32004\n",
      "\t\t AverageReturn = 1.7999999523162842\n",
      "\t\t AverageEpisodeLength = 196.60000610351562\n"
     ]
    },
    {
     "name": "stdout",
     "output_type": "stream",
     "text": [
      "8997 loss:0.00749"
     ]
    },
    {
     "name": "stderr",
     "output_type": "stream",
     "text": [
      "I0528 08:59:51.332596 140735810999168 metric_utils.py:47]  \n",
      "\t\t NumberOfEpisodes = 195\n",
      "\t\t EnvironmentSteps = 36004\n",
      "\t\t AverageReturn = 1.100000023841858\n",
      "\t\t AverageEpisodeLength = 185.8000030517578\n"
     ]
    },
    {
     "name": "stdout",
     "output_type": "stream",
     "text": [
      "9999 loss:0.00001"
     ]
    }
   ],
   "source": [
    "train_agent(n_iterations=10000)"
   ]
  },
  {
   "cell_type": "code",
   "execution_count": 119,
   "metadata": {},
   "outputs": [],
   "source": [
    "frames = []\n",
    "def save_frames(trajectory):\n",
    "    global frames\n",
    "    frames.append(tf_env.pyenv.envs[0].render(mode=\"rgb_array\"))\n",
    "\n",
    "prev_lives = tf_env.pyenv.envs[0].ale.lives()\n",
    "def reset_and_fire_on_life_lost(trajectory):\n",
    "    global prev_lives\n",
    "    lives = tf_env.pyenv.envs[0].ale.lives()\n",
    "    if prev_lives != lives:\n",
    "        tf_env.reset()\n",
    "        tf_env.pyenv.envs[0].step(1)\n",
    "        prev_lives = lives\n",
    "\n",
    "watch_driver = DynamicStepDriver(\n",
    "    tf_env,\n",
    "    agent.policy,\n",
    "    observers=[save_frames, reset_and_fire_on_life_lost, ShowProgress(1000)],\n",
    "    num_steps=1000)\n",
    "final_time_step, final_policy_state = watch_driver.run()\n",
    "\n",
    "plot_animation(frames)"
   ]
  },
  {
   "cell_type": "markdown",
   "metadata": {},
   "source": [
    "If you want to save an animated GIF to show off your agent to your friends, here's one way to do it:"
   ]
  },
  {
   "cell_type": "code",
   "execution_count": 120,
   "metadata": {},
   "outputs": [],
   "source": [
    "import PIL\n",
    "\n",
    "image_path = os.path.join(\"images\", \"rl\", \"breakout.gif\")\n",
    "frame_images = [PIL.Image.fromarray(frame) for frame in frames[:150]]\n",
    "frame_images[0].save(image_path, format='GIF',\n",
    "                     append_images=frame_images[1:],\n",
    "                     save_all=True,\n",
    "                     duration=30,\n",
    "                     loop=0)"
   ]
  },
  {
   "cell_type": "code",
   "execution_count": 121,
   "metadata": {},
   "outputs": [
    {
     "data": {
      "text/html": [
       "<img src=\"images/rl/breakout.gif\" />\n"
      ],
      "text/plain": [
       "<IPython.core.display.HTML object>"
      ]
     },
     "metadata": {},
     "output_type": "display_data"
    }
   ],
   "source": [
    "%%html\n",
    "<img src=\"images/rl/breakout.gif\" />"
   ]
  },
  {
   "cell_type": "markdown",
   "metadata": {},
   "source": [
    "# Extra material"
   ]
  },
  {
   "cell_type": "markdown",
   "metadata": {},
   "source": [
    "## Deque vs Rotating List"
   ]
  },
  {
   "cell_type": "markdown",
   "metadata": {},
   "source": [
    "The `deque` class offers fast append, but fairly slow random access (for large replay memories):"
   ]
  },
  {
   "cell_type": "code",
   "execution_count": 122,
   "metadata": {},
   "outputs": [
    {
     "data": {
      "text/plain": [
       "[121958, 671155, 131932, 365838, 259178]"
      ]
     },
     "execution_count": 122,
     "metadata": {},
     "output_type": "execute_result"
    }
   ],
   "source": [
    "from collections import deque\n",
    "np.random.seed(42)\n",
    "\n",
    "mem = deque(maxlen=1000000)\n",
    "for i in range(1000000):\n",
    "    mem.append(i)\n",
    "[mem[i] for i in np.random.randint(1000000, size=5)]"
   ]
  },
  {
   "cell_type": "code",
   "execution_count": 123,
   "metadata": {},
   "outputs": [
    {
     "name": "stdout",
     "output_type": "stream",
     "text": [
      "76.8 ns ± 0.31 ns per loop (mean ± std. dev. of 7 runs, 10000000 loops each)\n"
     ]
    }
   ],
   "source": [
    "%timeit mem.append(1)"
   ]
  },
  {
   "cell_type": "code",
   "execution_count": 124,
   "metadata": {},
   "outputs": [
    {
     "name": "stdout",
     "output_type": "stream",
     "text": [
      "320 µs ± 23 µs per loop (mean ± std. dev. of 7 runs, 1000 loops each)\n"
     ]
    }
   ],
   "source": [
    "%timeit [mem[i] for i in np.random.randint(1000000, size=5)]"
   ]
  },
  {
   "cell_type": "markdown",
   "metadata": {},
   "source": [
    "Alternatively, you could use a rotating list like this `ReplayMemory` class. This would make random access faster for large replay memories:"
   ]
  },
  {
   "cell_type": "code",
   "execution_count": 125,
   "metadata": {},
   "outputs": [],
   "source": [
    "class ReplayMemory:\n",
    "    def __init__(self, max_size):\n",
    "        self.buffer = np.empty(max_size, dtype=np.object)\n",
    "        self.max_size = max_size\n",
    "        self.index = 0\n",
    "        self.size = 0\n",
    "\n",
    "    def append(self, obj):\n",
    "        self.buffer[self.index] = obj\n",
    "        self.size = min(self.size + 1, self.max_size)\n",
    "        self.index = (self.index + 1) % self.max_size\n",
    "\n",
    "    def sample(self, batch_size):\n",
    "        indices = np.random.randint(self.size, size=batch_size)\n",
    "        return self.buffer[indices]"
   ]
  },
  {
   "cell_type": "code",
   "execution_count": 126,
   "metadata": {},
   "outputs": [
    {
     "data": {
      "text/plain": [
       "array([757386, 904203, 190588, 595754, 865356], dtype=object)"
      ]
     },
     "execution_count": 126,
     "metadata": {},
     "output_type": "execute_result"
    }
   ],
   "source": [
    "mem = ReplayMemory(max_size=1000000)\n",
    "for i in range(1000000):\n",
    "    mem.append(i)\n",
    "mem.sample(5)"
   ]
  },
  {
   "cell_type": "code",
   "execution_count": 127,
   "metadata": {},
   "outputs": [
    {
     "name": "stdout",
     "output_type": "stream",
     "text": [
      "761 ns ± 17.6 ns per loop (mean ± std. dev. of 7 runs, 1000000 loops each)\n"
     ]
    }
   ],
   "source": [
    "%timeit mem.append(1)"
   ]
  },
  {
   "cell_type": "code",
   "execution_count": 128,
   "metadata": {},
   "outputs": [
    {
     "name": "stdout",
     "output_type": "stream",
     "text": [
      "2.97 µs ± 16.4 ns per loop (mean ± std. dev. of 7 runs, 100000 loops each)\n"
     ]
    }
   ],
   "source": [
    "%timeit mem.sample(5)"
   ]
  },
  {
   "cell_type": "markdown",
   "metadata": {},
   "source": [
    "## Creating a Custom TF-Agents Environment"
   ]
  },
  {
   "cell_type": "markdown",
   "metadata": {},
   "source": [
    "To create a custom TF-Agent environment, you just need to write a class that inherits from the `PyEnvironment` class and implements a few methods. For example, the following minimal environment represents a simple 4x4 grid. The agent starts in one corner (0,0) and must move to the opposite corner (3,3). The episode is done if the agent reaches the goal (it gets a +10 reward) or if the agent goes out of bounds (-1 reward). The actions are up (0), down (1), left (2) and right (3)."
   ]
  },
  {
   "cell_type": "code",
   "execution_count": 129,
   "metadata": {},
   "outputs": [],
   "source": [
    "class MyEnvironment(tf_agents.environments.py_environment.PyEnvironment):\n",
    "    def __init__(self, discount=1.0):\n",
    "        super().__init__()\n",
    "        self._action_spec = tf_agents.specs.BoundedArraySpec(\n",
    "            shape=(), dtype=np.int32, name=\"action\", minimum=0, maximum=3)\n",
    "        self._observation_spec = tf_agents.specs.BoundedArraySpec(\n",
    "            shape=(4, 4), dtype=np.int32, name=\"observation\", minimum=0, maximum=1)\n",
    "        self.discount = discount\n",
    "\n",
    "    def action_spec(self):\n",
    "        return self._action_spec\n",
    "\n",
    "    def observation_spec(self):\n",
    "        return self._observation_spec\n",
    "\n",
    "    def _reset(self):\n",
    "        self._state = np.zeros(2, dtype=np.int32)\n",
    "        obs = np.zeros((4, 4), dtype=np.int32)\n",
    "        obs[self._state[0], self._state[1]] = 1\n",
    "        return tf_agents.trajectories.time_step.restart(obs)\n",
    "\n",
    "    def _step(self, action):\n",
    "        self._state += [(-1, 0), (+1, 0), (0, -1), (0, +1)][action]\n",
    "        reward = 0\n",
    "        obs = np.zeros((4, 4), dtype=np.int32)\n",
    "        done = (self._state.min() < 0 or self._state.max() > 3)\n",
    "        if not done:\n",
    "            obs[self._state[0], self._state[1]] = 1\n",
    "        if done or np.all(self._state == np.array([3, 3])):\n",
    "            reward = -1 if done else +10\n",
    "            return tf_agents.trajectories.time_step.termination(obs, reward)\n",
    "        else:\n",
    "            return tf_agents.trajectories.time_step.transition(obs, reward,\n",
    "                                                               self.discount)"
   ]
  },
  {
   "cell_type": "markdown",
   "metadata": {},
   "source": [
    "The action and observation specs will generally be instances of the `ArraySpec` or `BoundedArraySpec` classes from the `tf_agents.specs` package (check out the other specs in this package as well). Optionally, you can also define a `render()` method, a `close()` method to free resources, as well as a `time_step_spec()` method if you don't want the `reward` and `discount` to be 32-bit float scalars. Note that the base class takes care of keeping track of the current time step, which is why we must implement `_reset()` and `_step()` rather than `reset()` and `step()`.\n"
   ]
  },
  {
   "cell_type": "code",
   "execution_count": 130,
   "metadata": {},
   "outputs": [
    {
     "data": {
      "text/plain": [
       "TimeStep(step_type=array(0, dtype=int32), reward=array(0., dtype=float32), discount=array(1., dtype=float32), observation=array([[1, 0, 0, 0],\n",
       "       [0, 0, 0, 0],\n",
       "       [0, 0, 0, 0],\n",
       "       [0, 0, 0, 0]], dtype=int32))"
      ]
     },
     "execution_count": 130,
     "metadata": {},
     "output_type": "execute_result"
    }
   ],
   "source": [
    "my_env = MyEnvironment()\n",
    "time_step = my_env.reset()\n",
    "time_step"
   ]
  },
  {
   "cell_type": "code",
   "execution_count": 131,
   "metadata": {},
   "outputs": [
    {
     "data": {
      "text/plain": [
       "TimeStep(step_type=array(1, dtype=int32), reward=array(0., dtype=float32), discount=array(1., dtype=float32), observation=array([[0, 0, 0, 0],\n",
       "       [1, 0, 0, 0],\n",
       "       [0, 0, 0, 0],\n",
       "       [0, 0, 0, 0]], dtype=int32))"
      ]
     },
     "execution_count": 131,
     "metadata": {},
     "output_type": "execute_result"
    }
   ],
   "source": [
    "time_step = my_env.step(1)\n",
    "time_step"
   ]
  },
  {
   "cell_type": "code",
   "execution_count": null,
   "metadata": {},
   "outputs": [],
   "source": []
  }
 ],
 "metadata": {
  "kernelspec": {
   "display_name": "Python 3 (ipykernel)",
   "language": "python",
   "name": "python3"
  },
  "language_info": {
   "codemirror_mode": {
    "name": "ipython",
    "version": 3
   },
   "file_extension": ".py",
   "mimetype": "text/x-python",
   "name": "python",
   "nbconvert_exporter": "python",
   "pygments_lexer": "ipython3",
   "version": "3.7.5"
  }
 },
 "nbformat": 4,
 "nbformat_minor": 2
}
